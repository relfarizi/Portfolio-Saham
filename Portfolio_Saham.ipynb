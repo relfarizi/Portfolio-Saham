{
  "nbformat": 4,
  "nbformat_minor": 0,
  "metadata": {
    "colab": {
      "name": "Portfolio Saham.ipynb",
      "provenance": [],
      "collapsed_sections": [],
      "include_colab_link": true
    },
    "kernelspec": {
      "name": "python3",
      "display_name": "Python 3"
    }
  },
  "cells": [
    {
      "cell_type": "markdown",
      "metadata": {
        "id": "view-in-github",
        "colab_type": "text"
      },
      "source": [
        "<a href=\"https://colab.research.google.com/github/relfarizi/Portfolio-Saham/blob/master/Portfolio_Saham.ipynb\" target=\"_parent\"><img src=\"https://colab.research.google.com/assets/colab-badge.svg\" alt=\"Open In Colab\"/></a>"
      ]
    },
    {
      "cell_type": "markdown",
      "metadata": {
        "id": "WHvsDaqQBWz2",
        "colab_type": "text"
      },
      "source": [
        "# Portofolio Saham\n",
        "Buat portofolio minimal terdiri dari 5 buah saham. Portofolio dibangun berdasarjan data historis saham mingguan (weekly). Minimal data yang digunakan adalah 2 tahun (2017 sampai 2018)"
      ]
    },
    {
      "cell_type": "markdown",
      "metadata": {
        "id": "K6xKTlFLx3Ca",
        "colab_type": "text"
      },
      "source": [
        "## Library"
      ]
    },
    {
      "cell_type": "code",
      "metadata": {
        "id": "SXPhlmwFx2JB",
        "colab_type": "code",
        "colab": {}
      },
      "source": [
        "import pandas as pd\n",
        "import regex as re"
      ],
      "execution_count": 0,
      "outputs": []
    },
    {
      "cell_type": "markdown",
      "metadata": {
        "id": "IyP4QRhtch0F",
        "colab_type": "text"
      },
      "source": [
        "## Load Data"
      ]
    },
    {
      "cell_type": "code",
      "metadata": {
        "id": "eqwbk0q7w2nF",
        "colab_type": "code",
        "colab": {}
      },
      "source": [
        "kode_saham =[\"SGRO.JK\",\"TLKM.JK\",\"INDR.JK\",\"PRDA.JK\",\"AKPI.JK\"]\n",
        "\n",
        "def load_data(tahun,kode_saham = kode_saham) :\n",
        "  kode_tmp = []\n",
        "  sama = False\n",
        "  for i in kode_saham :\n",
        "    if i in kode_tmp :\n",
        "      sama =  True\n",
        "      kodenya = i\n",
        "      break\n",
        "    else :\n",
        "        kode_tmp.append(i)\n",
        "\n",
        "  if sama :\n",
        "    dataset = []\n",
        "    print(\"ada yang sama\", kodenya)\n",
        "  else :\n",
        "    n = len(kode_saham)\n",
        "    github = \"https://raw.githubusercontent.com/relfarizi/Portfolio-Saham/master/Data/\"+str(tahun)+\"/\"\n",
        "\n",
        "    df = []\n",
        "    for i in range(n) :\n",
        "      datas = pd.read_csv(github+kode_saham[i]+\".csv\")\n",
        "\n",
        "      if re.findall(\"adsad\",kode_saham[i]):\n",
        "        tmp = datas[\"Close\"].tolist()\n",
        "        data_tmp = convert_to_dollar(tmp)\n",
        "      else :\n",
        "        data_tmp =datas[\"Close\"]\n",
        "      df.append(pd.DataFrame(data_tmp))\n",
        "      #print(data_tmp.shape)\n",
        "    dataset = pd.concat(df, axis=1, sort=False)\n",
        "    dataset = dataset.dropna()\n",
        "    dataset.columns = kode_saham\n",
        "  return dataset\n"
      ],
      "execution_count": 0,
      "outputs": []
    },
    {
      "cell_type": "markdown",
      "metadata": {
        "id": "FlHyIcX-B8QB",
        "colab_type": "text"
      },
      "source": [
        "### Data Saham"
      ]
    },
    {
      "cell_type": "code",
      "metadata": {
        "id": "UekvxCwzchSo",
        "colab_type": "code",
        "colab": {
          "base_uri": "https://localhost:8080/",
          "height": 197
        },
        "outputId": "bcdfcff0-8792-4996-8985-5fbfb9986cd9"
      },
      "source": [
        "\"\"\"\n",
        "kode_saham = [\"AAPL\",\"BA\",\"BATA.JK\",\"BKRKF\",\"CSCO\",\"IBM\",\n",
        "              \"TLKMF\",\"AKPI.JK\",\"INTC\",\"MSFT\",\"NVDA\",\n",
        "              \"ORCL\",\"PBCRF\",\"PHJMF\",\"PTAIF\",\"SPR\"]\n",
        "\"\"\"\n",
        "\n",
        "dataset = load_data(\"2017-2018\")\n",
        "dataset.sample(5)"
      ],
      "execution_count": 36,
      "outputs": [
        {
          "output_type": "execute_result",
          "data": {
            "text/html": [
              "<div>\n",
              "<style scoped>\n",
              "    .dataframe tbody tr th:only-of-type {\n",
              "        vertical-align: middle;\n",
              "    }\n",
              "\n",
              "    .dataframe tbody tr th {\n",
              "        vertical-align: top;\n",
              "    }\n",
              "\n",
              "    .dataframe thead th {\n",
              "        text-align: right;\n",
              "    }\n",
              "</style>\n",
              "<table border=\"1\" class=\"dataframe\">\n",
              "  <thead>\n",
              "    <tr style=\"text-align: right;\">\n",
              "      <th></th>\n",
              "      <th>SGRO.JK</th>\n",
              "      <th>TLKM.JK</th>\n",
              "      <th>INDR.JK</th>\n",
              "      <th>PRDA.JK</th>\n",
              "      <th>AKPI.JK</th>\n",
              "    </tr>\n",
              "  </thead>\n",
              "  <tbody>\n",
              "    <tr>\n",
              "      <th>52</th>\n",
              "      <td>2560.0</td>\n",
              "      <td>4280.0</td>\n",
              "      <td>1290.0</td>\n",
              "      <td>3600.0</td>\n",
              "      <td>725.0</td>\n",
              "    </tr>\n",
              "    <tr>\n",
              "      <th>26</th>\n",
              "      <td>2020.0</td>\n",
              "      <td>4630.0</td>\n",
              "      <td>1200.0</td>\n",
              "      <td>3900.0</td>\n",
              "      <td>880.0</td>\n",
              "    </tr>\n",
              "    <tr>\n",
              "      <th>33</th>\n",
              "      <td>2020.0</td>\n",
              "      <td>4770.0</td>\n",
              "      <td>1050.0</td>\n",
              "      <td>3700.0</td>\n",
              "      <td>945.0</td>\n",
              "    </tr>\n",
              "    <tr>\n",
              "      <th>29</th>\n",
              "      <td>2000.0</td>\n",
              "      <td>4700.0</td>\n",
              "      <td>1075.0</td>\n",
              "      <td>3730.0</td>\n",
              "      <td>780.0</td>\n",
              "    </tr>\n",
              "    <tr>\n",
              "      <th>76</th>\n",
              "      <td>2380.0</td>\n",
              "      <td>3580.0</td>\n",
              "      <td>9600.0</td>\n",
              "      <td>3000.0</td>\n",
              "      <td>840.0</td>\n",
              "    </tr>\n",
              "  </tbody>\n",
              "</table>\n",
              "</div>"
            ],
            "text/plain": [
              "    SGRO.JK  TLKM.JK  INDR.JK  PRDA.JK  AKPI.JK\n",
              "52   2560.0   4280.0   1290.0   3600.0    725.0\n",
              "26   2020.0   4630.0   1200.0   3900.0    880.0\n",
              "33   2020.0   4770.0   1050.0   3700.0    945.0\n",
              "29   2000.0   4700.0   1075.0   3730.0    780.0\n",
              "76   2380.0   3580.0   9600.0   3000.0    840.0"
            ]
          },
          "metadata": {
            "tags": []
          },
          "execution_count": 36
        }
      ]
    },
    {
      "cell_type": "markdown",
      "metadata": {
        "id": "-juBDgfnCMl2",
        "colab_type": "text"
      },
      "source": [
        "### Korelasi Saham"
      ]
    },
    {
      "cell_type": "code",
      "metadata": {
        "id": "HhgvIYlivXjL",
        "colab_type": "code",
        "outputId": "8b29e995-c0b2-4723-b32d-1e5d49f4ab47",
        "colab": {
          "base_uri": "https://localhost:8080/",
          "height": 197
        }
      },
      "source": [
        "rho = dataset.corr().values\n",
        "dataset.corr()"
      ],
      "execution_count": 4,
      "outputs": [
        {
          "output_type": "execute_result",
          "data": {
            "text/html": [
              "<div>\n",
              "<style scoped>\n",
              "    .dataframe tbody tr th:only-of-type {\n",
              "        vertical-align: middle;\n",
              "    }\n",
              "\n",
              "    .dataframe tbody tr th {\n",
              "        vertical-align: top;\n",
              "    }\n",
              "\n",
              "    .dataframe thead th {\n",
              "        text-align: right;\n",
              "    }\n",
              "</style>\n",
              "<table border=\"1\" class=\"dataframe\">\n",
              "  <thead>\n",
              "    <tr style=\"text-align: right;\">\n",
              "      <th></th>\n",
              "      <th>SGRO.JK</th>\n",
              "      <th>TLKM.JK</th>\n",
              "      <th>INDR.JK</th>\n",
              "      <th>PRDA.JK</th>\n",
              "      <th>AKPI.JK</th>\n",
              "    </tr>\n",
              "  </thead>\n",
              "  <tbody>\n",
              "    <tr>\n",
              "      <th>SGRO.JK</th>\n",
              "      <td>1.000000</td>\n",
              "      <td>-0.336531</td>\n",
              "      <td>0.282667</td>\n",
              "      <td>-0.599204</td>\n",
              "      <td>-0.559313</td>\n",
              "    </tr>\n",
              "    <tr>\n",
              "      <th>TLKM.JK</th>\n",
              "      <td>-0.336531</td>\n",
              "      <td>1.000000</td>\n",
              "      <td>-0.647548</td>\n",
              "      <td>0.348964</td>\n",
              "      <td>0.244041</td>\n",
              "    </tr>\n",
              "    <tr>\n",
              "      <th>INDR.JK</th>\n",
              "      <td>0.282667</td>\n",
              "      <td>-0.647548</td>\n",
              "      <td>1.000000</td>\n",
              "      <td>-0.715454</td>\n",
              "      <td>-0.019710</td>\n",
              "    </tr>\n",
              "    <tr>\n",
              "      <th>PRDA.JK</th>\n",
              "      <td>-0.599204</td>\n",
              "      <td>0.348964</td>\n",
              "      <td>-0.715454</td>\n",
              "      <td>1.000000</td>\n",
              "      <td>0.189698</td>\n",
              "    </tr>\n",
              "    <tr>\n",
              "      <th>AKPI.JK</th>\n",
              "      <td>-0.559313</td>\n",
              "      <td>0.244041</td>\n",
              "      <td>-0.019710</td>\n",
              "      <td>0.189698</td>\n",
              "      <td>1.000000</td>\n",
              "    </tr>\n",
              "  </tbody>\n",
              "</table>\n",
              "</div>"
            ],
            "text/plain": [
              "          SGRO.JK   TLKM.JK   INDR.JK   PRDA.JK   AKPI.JK\n",
              "SGRO.JK  1.000000 -0.336531  0.282667 -0.599204 -0.559313\n",
              "TLKM.JK -0.336531  1.000000 -0.647548  0.348964  0.244041\n",
              "INDR.JK  0.282667 -0.647548  1.000000 -0.715454 -0.019710\n",
              "PRDA.JK -0.599204  0.348964 -0.715454  1.000000  0.189698\n",
              "AKPI.JK -0.559313  0.244041 -0.019710  0.189698  1.000000"
            ]
          },
          "metadata": {
            "tags": []
          },
          "execution_count": 4
        }
      ]
    },
    {
      "cell_type": "markdown",
      "metadata": {
        "id": "7WLn91rfy2HH",
        "colab_type": "text"
      },
      "source": [
        "### Mencari K per step ( minggu) tiap saham"
      ]
    },
    {
      "cell_type": "code",
      "metadata": {
        "id": "OqeydGzikxR4",
        "colab_type": "code",
        "colab": {}
      },
      "source": [
        "def find_k(saham) :\n",
        "  K = []\n",
        "  for i in range(len(saham)-1) :\n",
        "    x = (saham[i+1]-saham[i])/saham[i]\n",
        "    K.append(x)\n",
        "  return K"
      ],
      "execution_count": 0,
      "outputs": []
    },
    {
      "cell_type": "markdown",
      "metadata": {
        "id": "9b7BkVqBCSSp",
        "colab_type": "text"
      },
      "source": [
        "### Return Saham ( Binomial Tree )"
      ]
    },
    {
      "cell_type": "code",
      "metadata": {
        "id": "oNcz2cigzlnm",
        "colab_type": "code",
        "colab": {}
      },
      "source": [
        "import math\n",
        "def find_ud(saham) :\n",
        "  K = find_k(saham)\n",
        "  up = []\n",
        "  down = []\n",
        "\n",
        "  for i in K :\n",
        "    if i > 0 :\n",
        "      x = 1\n",
        "      y = 0\n",
        "    else :\n",
        "      x = 0\n",
        "      y = 1\n",
        "    up.append(x)\n",
        "    down.append(y)\n",
        "  \n",
        "  x_up = 1\n",
        "  x_down = 1\n",
        "\n",
        "  sum_u = 0\n",
        "  sum_d = 0\n",
        "\n",
        "  for i in range(len(K)) :\n",
        "    x_up += K[i]*up[i]\n",
        "    sum_u += up[i]\n",
        "    x_down += K[i]*down[i]\n",
        "    sum_d += down[i]\n",
        "  \n",
        "  u = x_up/sum_u\n",
        "  d = x_up/sum_d\n",
        "\n",
        "  p = sum_u/(sum_u+sum_d)\n",
        "  q = 1-p\n",
        "\n",
        "  result = {\"u\" : u, \"d\" : d,\"p\":p,\"q\":q}\n",
        "  \n",
        "  return result"
      ],
      "execution_count": 0,
      "outputs": []
    },
    {
      "cell_type": "markdown",
      "metadata": {
        "id": "Oe3TNhJPCbQ9",
        "colab_type": "text"
      },
      "source": [
        "#### Ekspektasi Return Saham"
      ]
    },
    {
      "cell_type": "code",
      "metadata": {
        "id": "X3FpZ9MCFsy0",
        "colab_type": "code",
        "colab": {}
      },
      "source": [
        "def function_EK(df_saham) :\n",
        "  result = {}\n",
        "  for saham in df_saham :\n",
        "    x = find_ud(df_saham[saham])\n",
        "    x[\"u\"] = 0.1\n",
        "    x['p'] = 0.5\n",
        "    x[\"d\"] = -0.1\n",
        "    x['q'] = 0.5\n",
        "    \n",
        "    exp = (x[\"u\"]*x[\"p\"])+(x[\"d\"]*x[\"q\"])\n",
        "    #exp = 0.8\n",
        "    result[saham] = exp\n",
        "  return result"
      ],
      "execution_count": 0,
      "outputs": []
    },
    {
      "cell_type": "code",
      "metadata": {
        "id": "Z0TzJmy5KOcF",
        "colab_type": "code",
        "colab": {}
      },
      "source": [
        "def function_EK2(df_saham):\n",
        "  result = {}\n",
        "  for saham in df_saham :\n",
        "    x = find_ud(df_saham[saham])\n",
        "    x[\"u\"] = 0.1\n",
        "    x['p'] = 0.5\n",
        "    x[\"d\"] = -0.1\n",
        "    x['q'] = 0.5\n",
        "    exp = (pow(x[\"u\"],2)*x[\"p\"])+(pow(x[\"d\"],2)*x[\"q\"])\n",
        "    #exp = pow(((x[\"u\"]*x[\"p\"])+(x[\"d\"]*x[\"q\"])),2)\n",
        "    #xp = pow(0.8,2)\n",
        "    result[saham] = exp\n",
        "  return result"
      ],
      "execution_count": 0,
      "outputs": []
    },
    {
      "cell_type": "code",
      "metadata": {
        "id": "tL_NXG_aIZSq",
        "colab_type": "code",
        "outputId": "173d8515-10e2-47a3-8c9e-1a635fbfa799",
        "colab": {
          "base_uri": "https://localhost:8080/",
          "height": 78
        }
      },
      "source": [
        "def return_saham(df_saham) :\n",
        "  return_ = function_EK(df_saham)\n",
        "  m = []\n",
        "  for saham in return_ :\n",
        "    m.append(return_[saham])\n",
        "  df_ret = pd.DataFrame([m])\n",
        "  df_ret.columns = df_saham.columns\n",
        "  return df_ret\n",
        "\n",
        "m = return_saham(dataset).iloc[0,:].values.tolist()\n",
        "#print((m))\n",
        "return_saham(dataset)"
      ],
      "execution_count": 34,
      "outputs": [
        {
          "output_type": "execute_result",
          "data": {
            "text/html": [
              "<div>\n",
              "<style scoped>\n",
              "    .dataframe tbody tr th:only-of-type {\n",
              "        vertical-align: middle;\n",
              "    }\n",
              "\n",
              "    .dataframe tbody tr th {\n",
              "        vertical-align: top;\n",
              "    }\n",
              "\n",
              "    .dataframe thead th {\n",
              "        text-align: right;\n",
              "    }\n",
              "</style>\n",
              "<table border=\"1\" class=\"dataframe\">\n",
              "  <thead>\n",
              "    <tr style=\"text-align: right;\">\n",
              "      <th></th>\n",
              "      <th>SGRO.JK</th>\n",
              "      <th>TLKM.JK</th>\n",
              "      <th>INDR.JK</th>\n",
              "      <th>PRDA.JK</th>\n",
              "      <th>AKPI.JK</th>\n",
              "    </tr>\n",
              "  </thead>\n",
              "  <tbody>\n",
              "    <tr>\n",
              "      <th>0</th>\n",
              "      <td>0.0</td>\n",
              "      <td>0.0</td>\n",
              "      <td>0.0</td>\n",
              "      <td>0.0</td>\n",
              "      <td>0.0</td>\n",
              "    </tr>\n",
              "  </tbody>\n",
              "</table>\n",
              "</div>"
            ],
            "text/plain": [
              "   SGRO.JK  TLKM.JK  INDR.JK  PRDA.JK  AKPI.JK\n",
              "0      0.0      0.0      0.0      0.0      0.0"
            ]
          },
          "metadata": {
            "tags": []
          },
          "execution_count": 34
        }
      ]
    },
    {
      "cell_type": "markdown",
      "metadata": {
        "id": "toe5rQetCoWI",
        "colab_type": "text"
      },
      "source": [
        "### Variansi Return Saham"
      ]
    },
    {
      "cell_type": "code",
      "metadata": {
        "id": "4hKxTuqTJayI",
        "colab_type": "code",
        "colab": {
          "base_uri": "https://localhost:8080/",
          "height": 78
        },
        "outputId": "ee835d4e-9b22-40e1-c783-063a7141ede8"
      },
      "source": [
        "def function_var(df_saham):\n",
        "  var = []\n",
        "  x = function_EK2(df_saham)\n",
        "  y = function_EK(df_saham)\n",
        "  result = []\n",
        "  for saham in df_saham :\n",
        "    tmp = x[saham] - pow(y[saham],2)\n",
        "    result.append(tmp) \n",
        "  df_var = pd.DataFrame([result])\n",
        "  df_var.columns = df_saham.columns\n",
        "  df_var\n",
        "  return df_var\n",
        "\n",
        "var = function_var(dataset).iloc[0,:].values\n",
        "function_var(dataset)\n"
      ],
      "execution_count": 35,
      "outputs": [
        {
          "output_type": "execute_result",
          "data": {
            "text/html": [
              "<div>\n",
              "<style scoped>\n",
              "    .dataframe tbody tr th:only-of-type {\n",
              "        vertical-align: middle;\n",
              "    }\n",
              "\n",
              "    .dataframe tbody tr th {\n",
              "        vertical-align: top;\n",
              "    }\n",
              "\n",
              "    .dataframe thead th {\n",
              "        text-align: right;\n",
              "    }\n",
              "</style>\n",
              "<table border=\"1\" class=\"dataframe\">\n",
              "  <thead>\n",
              "    <tr style=\"text-align: right;\">\n",
              "      <th></th>\n",
              "      <th>SGRO.JK</th>\n",
              "      <th>TLKM.JK</th>\n",
              "      <th>INDR.JK</th>\n",
              "      <th>PRDA.JK</th>\n",
              "      <th>AKPI.JK</th>\n",
              "    </tr>\n",
              "  </thead>\n",
              "  <tbody>\n",
              "    <tr>\n",
              "      <th>0</th>\n",
              "      <td>0.01</td>\n",
              "      <td>0.01</td>\n",
              "      <td>0.01</td>\n",
              "      <td>0.01</td>\n",
              "      <td>0.01</td>\n",
              "    </tr>\n",
              "  </tbody>\n",
              "</table>\n",
              "</div>"
            ],
            "text/plain": [
              "   SGRO.JK  TLKM.JK  INDR.JK  PRDA.JK  AKPI.JK\n",
              "0     0.01     0.01     0.01     0.01     0.01"
            ]
          },
          "metadata": {
            "tags": []
          },
          "execution_count": 35
        }
      ]
    },
    {
      "cell_type": "code",
      "metadata": {
        "id": "trGFgzuwwDp7",
        "colab_type": "code",
        "colab": {
          "base_uri": "https://localhost:8080/",
          "height": 606
        },
        "outputId": "237920e0-6fbc-435d-df81-592afd7e6d95"
      },
      "source": [
        "import matplotlib.pyplot as plt\n",
        "\n",
        "y = m\n",
        "x = var\n",
        "\n",
        "plt.figure(figsize=(20,10))\n",
        "#plt.plot(x,y)\n",
        "plt.scatter(x,y)\n",
        "plt.xlabel(\"Expected Return\")\n",
        "plt.ylabel(\"Risiko\")\n",
        "plt.show()"
      ],
      "execution_count": 22,
      "outputs": [
        {
          "output_type": "display_data",
          "data": {
            "image/png": "[encoded data removed]",
            "text/plain": [
              "<Figure size 1440x720 with 1 Axes>"
            ]
          },
          "metadata": {
            "tags": [],
            "needs_background": "light"
          }
        }
      ]
    },
    {
      "cell_type": "markdown",
      "metadata": {
        "id": "0OKx_5ia6Ij4",
        "colab_type": "text"
      },
      "source": [
        "\n",
        "#### Standard Deviasi\n"
      ]
    },
    {
      "cell_type": "code",
      "metadata": {
        "id": "_IjEA--Wo34f",
        "colab_type": "code",
        "outputId": "2bb952b6-4894-49f6-e146-f95d60660678",
        "colab": {
          "base_uri": "https://localhost:8080/",
          "height": 78
        }
      },
      "source": [
        "import numpy as np\n",
        "\n",
        "def function_std_dev(var):\n",
        "  std_dev = []\n",
        "  for i in var :\n",
        "    std_dev.append(np.sqrt(i))\n",
        "  n = len(std_dev)\n",
        "  u = np.ones(n)\n",
        "  return std_dev\n",
        "\n",
        "std_dev = function_std_dev(var)\n",
        "df_std_dev=pd.DataFrame([std_dev])\n",
        "df_std_dev.columns = kode_saham\n",
        "df_std_dev"
      ],
      "execution_count": 57,
      "outputs": [
        {
          "output_type": "execute_result",
          "data": {
            "text/html": [
              "<div>\n",
              "<style scoped>\n",
              "    .dataframe tbody tr th:only-of-type {\n",
              "        vertical-align: middle;\n",
              "    }\n",
              "\n",
              "    .dataframe tbody tr th {\n",
              "        vertical-align: top;\n",
              "    }\n",
              "\n",
              "    .dataframe thead th {\n",
              "        text-align: right;\n",
              "    }\n",
              "</style>\n",
              "<table border=\"1\" class=\"dataframe\">\n",
              "  <thead>\n",
              "    <tr style=\"text-align: right;\">\n",
              "      <th></th>\n",
              "      <th>SGRO.JK</th>\n",
              "      <th>TLKM.JK</th>\n",
              "      <th>INDR.JK</th>\n",
              "      <th>PRDA.JK</th>\n",
              "      <th>AKPI.JK</th>\n",
              "    </tr>\n",
              "  </thead>\n",
              "  <tbody>\n",
              "    <tr>\n",
              "      <th>0</th>\n",
              "      <td>0.006906</td>\n",
              "      <td>0.0013</td>\n",
              "      <td>0.022353</td>\n",
              "      <td>0.012435</td>\n",
              "      <td>0.024017</td>\n",
              "    </tr>\n",
              "  </tbody>\n",
              "</table>\n",
              "</div>"
            ],
            "text/plain": [
              "    SGRO.JK  TLKM.JK   INDR.JK   PRDA.JK   AKPI.JK\n",
              "0  0.006906   0.0013  0.022353  0.012435  0.024017"
            ]
          },
          "metadata": {
            "tags": []
          },
          "execution_count": 57
        }
      ]
    },
    {
      "cell_type": "markdown",
      "metadata": {
        "id": "LW08CEuwC9ME",
        "colab_type": "text"
      },
      "source": [
        "#### Matrix C"
      ]
    },
    {
      "cell_type": "code",
      "metadata": {
        "id": "0vEXEjumtGQF",
        "colab_type": "code",
        "colab": {
          "base_uri": "https://localhost:8080/",
          "height": 108
        },
        "outputId": "cbfbe30d-a810-4781-c76a-d4566ddde678"
      },
      "source": [
        "def Matrix_C(std_dev=std_dev,rho=rho) :\n",
        "  n = len(std_dev)\n",
        "  C = (np.zeros((n,n)))\n",
        "  for i in range(n):\n",
        "    for j in range(n) :\n",
        "      C[i][j] = round(std_dev[i]*rho[i][j]*std_dev[j],6)\n",
        "  return C\n",
        "\n",
        "C = (Matrix_C())\n",
        "for x in C :\n",
        "  print(x)"
      ],
      "execution_count": 37,
      "outputs": [
        {
          "output_type": "stream",
          "text": [
            "[ 1.0e-05 -3.0e-06  2.4e-05 -2.8e-05 -7.0e-05]\n",
            "[-3.0e-06  1.0e-05 -5.4e-05  1.6e-05  3.0e-05]\n",
            "[ 2.40e-05 -5.40e-05  7.00e-04 -2.77e-04 -2.00e-05]\n",
            "[-2.80e-05  1.60e-05 -2.77e-04  2.13e-04  1.08e-04]\n",
            "[-7.000e-05  3.000e-05 -2.000e-05  1.080e-04  1.529e-03]\n"
          ],
          "name": "stdout"
        }
      ]
    },
    {
      "cell_type": "markdown",
      "metadata": {
        "id": "nBmBs7AKDA4i",
        "colab_type": "text"
      },
      "source": [
        "#### Mencari nilai Bobot (w)"
      ]
    },
    {
      "cell_type": "code",
      "metadata": {
        "id": "3hwGZW6iwQNH",
        "colab_type": "code",
        "outputId": "36fbcae5-902c-442b-f42f-662059be88e5",
        "colab": {
          "base_uri": "https://localhost:8080/",
          "height": 96
        }
      },
      "source": [
        "from numpy.linalg import inv\n",
        "from numpy.linalg import det\n",
        "\n",
        "n = len(kode_saham)\n",
        "u = np.ones(n)\n",
        "uT = np.transpose(u)\n",
        "\n",
        "CInv = inv(C)\n",
        "\n",
        "w = np.dot(u,CInv)/(u.dot(CInv).dot(uT))\n",
        "#print(w)\n",
        "\n",
        "wT = np.transpose(w)\n",
        "x = np.dot(u,wT)\n",
        "print(\"jumlah w = \",x)\n",
        "\n",
        "df_w = pd.DataFrame([w])\n",
        "df_w.columns = kode_saham\n",
        "df_w"
      ],
      "execution_count": 40,
      "outputs": [
        {
          "output_type": "stream",
          "text": [
            "jumlah w =  1.0000000000000002\n"
          ],
          "name": "stdout"
        },
        {
          "output_type": "execute_result",
          "data": {
            "text/html": [
              "<div>\n",
              "<style scoped>\n",
              "    .dataframe tbody tr th:only-of-type {\n",
              "        vertical-align: middle;\n",
              "    }\n",
              "\n",
              "    .dataframe tbody tr th {\n",
              "        vertical-align: top;\n",
              "    }\n",
              "\n",
              "    .dataframe thead th {\n",
              "        text-align: right;\n",
              "    }\n",
              "</style>\n",
              "<table border=\"1\" class=\"dataframe\">\n",
              "  <thead>\n",
              "    <tr style=\"text-align: right;\">\n",
              "      <th></th>\n",
              "      <th>SGRO.JK</th>\n",
              "      <th>TLKM.JK</th>\n",
              "      <th>INDR.JK</th>\n",
              "      <th>PRDA.JK</th>\n",
              "      <th>AKPI.JK</th>\n",
              "    </tr>\n",
              "  </thead>\n",
              "  <tbody>\n",
              "    <tr>\n",
              "      <th>0</th>\n",
              "      <td>0.446765</td>\n",
              "      <td>0.378102</td>\n",
              "      <td>0.059005</td>\n",
              "      <td>0.109248</td>\n",
              "      <td>0.006881</td>\n",
              "    </tr>\n",
              "  </tbody>\n",
              "</table>\n",
              "</div>"
            ],
            "text/plain": [
              "    SGRO.JK   TLKM.JK   INDR.JK   PRDA.JK   AKPI.JK\n",
              "0  0.446765  0.378102  0.059005  0.109248  0.006881"
            ]
          },
          "metadata": {
            "tags": []
          },
          "execution_count": 40
        }
      ]
    },
    {
      "cell_type": "markdown",
      "metadata": {
        "id": "-CIJQcABDM5C",
        "colab_type": "text"
      },
      "source": [
        "#### Risiko Minimum Portfolio"
      ]
    },
    {
      "cell_type": "code",
      "metadata": {
        "id": "uF0PiR3x5IyE",
        "colab_type": "code",
        "outputId": "b01478c0-d722-46b4-ff1e-da581f72717b",
        "colab": {
          "base_uri": "https://localhost:8080/",
          "height": 35
        }
      },
      "source": [
        "risk = w.dot(C).dot(wT)\n",
        "print(round(risk,6))"
      ],
      "execution_count": 41,
      "outputs": [
        {
          "output_type": "stream",
          "text": [
            "1e-06\n"
          ],
          "name": "stdout"
        }
      ]
    },
    {
      "cell_type": "markdown",
      "metadata": {
        "id": "2lPrbuwozieS",
        "colab_type": "text"
      },
      "source": [
        "Expected return saham\n"
      ]
    },
    {
      "cell_type": "code",
      "metadata": {
        "id": "UIsKSW8z4Gac",
        "colab_type": "code",
        "outputId": "4b79ae34-413b-4bdc-f54d-cc3145b0cd7a",
        "colab": {
          "base_uri": "https://localhost:8080/",
          "height": 114
        }
      },
      "source": [
        "\n",
        "import pandas as pd\n",
        "\n",
        "m = np.array(m)\n",
        "#print(m)\n",
        "EK = m.dot(wT)\n",
        "print(\"ekspektasi return = \", EK)\n",
        "\n",
        "portfolio=[round(x,4) for x in w]\n",
        "portfolio.append(EK)\n",
        "portfolio.append(risk)\n",
        "#print(portfolio)\n",
        "\n",
        "df_port = pd.DataFrame([portfolio])\n",
        "column = kode_saham\n",
        "print(kode_saham)\n",
        "column.append(\"Expected Return\")\n",
        "column.append(\"Risiko\")\n",
        "df_port.columns = column\n",
        "kode_saham = kode_saham[:n]\n",
        "df_port"
      ],
      "execution_count": 42,
      "outputs": [
        {
          "output_type": "stream",
          "text": [
            "ekspektasi return =  0.042284577250093276\n",
            "['SGRO.JK', 'TLKM.JK', 'INDR.JK', 'PRDA.JK', 'AKPI.JK']\n"
          ],
          "name": "stdout"
        },
        {
          "output_type": "execute_result",
          "data": {
            "text/html": [
              "<div>\n",
              "<style scoped>\n",
              "    .dataframe tbody tr th:only-of-type {\n",
              "        vertical-align: middle;\n",
              "    }\n",
              "\n",
              "    .dataframe tbody tr th {\n",
              "        vertical-align: top;\n",
              "    }\n",
              "\n",
              "    .dataframe thead th {\n",
              "        text-align: right;\n",
              "    }\n",
              "</style>\n",
              "<table border=\"1\" class=\"dataframe\">\n",
              "  <thead>\n",
              "    <tr style=\"text-align: right;\">\n",
              "      <th></th>\n",
              "      <th>SGRO.JK</th>\n",
              "      <th>TLKM.JK</th>\n",
              "      <th>INDR.JK</th>\n",
              "      <th>PRDA.JK</th>\n",
              "      <th>AKPI.JK</th>\n",
              "      <th>Expected Return</th>\n",
              "      <th>Risiko</th>\n",
              "    </tr>\n",
              "  </thead>\n",
              "  <tbody>\n",
              "    <tr>\n",
              "      <th>0</th>\n",
              "      <td>0.4468</td>\n",
              "      <td>0.3781</td>\n",
              "      <td>0.059</td>\n",
              "      <td>0.1092</td>\n",
              "      <td>0.0069</td>\n",
              "      <td>0.042285</td>\n",
              "      <td>0.000001</td>\n",
              "    </tr>\n",
              "  </tbody>\n",
              "</table>\n",
              "</div>"
            ],
            "text/plain": [
              "   SGRO.JK  TLKM.JK  INDR.JK  PRDA.JK  AKPI.JK  Expected Return    Risiko\n",
              "0   0.4468   0.3781    0.059   0.1092   0.0069         0.042285  0.000001"
            ]
          },
          "metadata": {
            "tags": []
          },
          "execution_count": 42
        }
      ]
    },
    {
      "cell_type": "code",
      "metadata": {
        "id": "e8I_ITY4ELlb",
        "colab_type": "code",
        "outputId": "b65206a7-50c1-4c89-c541-e6d7f8897777",
        "colab": {
          "base_uri": "https://localhost:8080/",
          "height": 35
        }
      },
      "source": [
        "print(kode_saham)"
      ],
      "execution_count": 43,
      "outputs": [
        {
          "output_type": "stream",
          "text": [
            "['SGRO.JK', 'TLKM.JK', 'INDR.JK', 'PRDA.JK', 'AKPI.JK']\n"
          ],
          "name": "stdout"
        }
      ]
    },
    {
      "cell_type": "code",
      "metadata": {
        "id": "To2paLsJ5Eny",
        "colab_type": "code",
        "outputId": "738898d2-b473-4f32-8ac3-013ece2fe29c",
        "colab": {
          "base_uri": "https://localhost:8080/",
          "height": 55
        }
      },
      "source": [
        "mT = np.transpose(m)\n",
        "e_r = EK\n",
        "w_new = []\n",
        "list_EK = []\n",
        "for i in range(4) :\n",
        "  e_r *= 1.5\n",
        "  list_EK.append(e_r)\n",
        "  \n",
        "  matA = np.dot(u,(CInv))\n",
        "  matB = np.dot(m,(CInv))\n",
        "  mat1 = u.dot(CInv).dot(mT)\n",
        "  mat2 = m.dot(CInv).dot(mT)\n",
        "  mat3 = u.dot(CInv).dot(uT)\n",
        "  mat4 = m.dot(CInv).dot(uT)\n",
        "\n",
        "  A1 = np.array([[1,mat1],[e_r,mat2]]) \n",
        "  A2 = np.array([[mat3,1],[mat4,e_r]])\n",
        "  A3 = np.array([[mat3,mat1],[mat4,mat2]])\n",
        "\n",
        "  det1 = det([[1,mat1],[e_r,mat2]])\n",
        "  det2 = det([[mat3,1],[mat4,e_r]])\n",
        "  det3 = det([[mat3,mat1],[mat4,mat2]])\n",
        "  w = ((det1*matA)+(det2*matB))/det3\n",
        "  w_new.append(w)\n",
        "print(w_new)\n",
        "#print(list_EK)"
      ],
      "execution_count": 45,
      "outputs": [
        {
          "output_type": "stream",
          "text": [
            "[array([-0.45733183,  1.03503377,  0.25231562,  0.20587972, -0.03589728]), array([-1.81347646,  2.02043167,  0.54228189,  0.35082718, -0.10006429]), array([-3.8476934 ,  3.49852851,  0.9772313 ,  0.56824838, -0.1963148 ]), array([-6.89901881,  5.71567377,  1.62965542,  0.89438018, -0.34069056])]\n"
          ],
          "name": "stdout"
        }
      ]
    },
    {
      "cell_type": "code",
      "metadata": {
        "id": "jxCVYqtkwC-K",
        "colab_type": "code",
        "outputId": "49bed8b8-998c-4ab2-f761-bfeda0776b87",
        "colab": {
          "base_uri": "https://localhost:8080/",
          "height": 197
        }
      },
      "source": [
        "list_bobot = []\n",
        "i = 0\n",
        "for bobot in w_new :\n",
        "  tmp = []\n",
        "  wT = np.transpose(bobot)\n",
        "  risk = bobot.dot(C).dot(wT)\n",
        "  for x in bobot :\n",
        "    tmp.append(x)\n",
        "  tmp.append(list_EK[i])\n",
        "  tmp.append(risk)\n",
        "  list_bobot.append(tmp)\n",
        "  i+=1\n",
        "#print(list_bobot)\n",
        "\n",
        "df = pd.DataFrame(list_bobot)\n",
        "df.columns = column\n",
        "df_tmp =df_port\n",
        "new_df = df_tmp.append(df,ignore_index=True)\n",
        "new_df"
      ],
      "execution_count": 47,
      "outputs": [
        {
          "output_type": "execute_result",
          "data": {
            "text/html": [
              "<div>\n",
              "<style scoped>\n",
              "    .dataframe tbody tr th:only-of-type {\n",
              "        vertical-align: middle;\n",
              "    }\n",
              "\n",
              "    .dataframe tbody tr th {\n",
              "        vertical-align: top;\n",
              "    }\n",
              "\n",
              "    .dataframe thead th {\n",
              "        text-align: right;\n",
              "    }\n",
              "</style>\n",
              "<table border=\"1\" class=\"dataframe\">\n",
              "  <thead>\n",
              "    <tr style=\"text-align: right;\">\n",
              "      <th></th>\n",
              "      <th>SGRO.JK</th>\n",
              "      <th>TLKM.JK</th>\n",
              "      <th>INDR.JK</th>\n",
              "      <th>PRDA.JK</th>\n",
              "      <th>AKPI.JK</th>\n",
              "      <th>Expected Return</th>\n",
              "      <th>Risiko</th>\n",
              "    </tr>\n",
              "  </thead>\n",
              "  <tbody>\n",
              "    <tr>\n",
              "      <th>0</th>\n",
              "      <td>0.446800</td>\n",
              "      <td>0.378100</td>\n",
              "      <td>0.059000</td>\n",
              "      <td>0.109200</td>\n",
              "      <td>0.006900</td>\n",
              "      <td>0.042285</td>\n",
              "      <td>0.000001</td>\n",
              "    </tr>\n",
              "    <tr>\n",
              "      <th>1</th>\n",
              "      <td>-0.457332</td>\n",
              "      <td>1.035034</td>\n",
              "      <td>0.252316</td>\n",
              "      <td>0.205880</td>\n",
              "      <td>-0.035897</td>\n",
              "      <td>0.063427</td>\n",
              "      <td>0.000015</td>\n",
              "    </tr>\n",
              "    <tr>\n",
              "      <th>2</th>\n",
              "      <td>-1.813476</td>\n",
              "      <td>2.020432</td>\n",
              "      <td>0.542282</td>\n",
              "      <td>0.350827</td>\n",
              "      <td>-0.100064</td>\n",
              "      <td>0.095140</td>\n",
              "      <td>0.000087</td>\n",
              "    </tr>\n",
              "    <tr>\n",
              "      <th>3</th>\n",
              "      <td>-3.847693</td>\n",
              "      <td>3.498529</td>\n",
              "      <td>0.977231</td>\n",
              "      <td>0.568248</td>\n",
              "      <td>-0.196315</td>\n",
              "      <td>0.142710</td>\n",
              "      <td>0.000313</td>\n",
              "    </tr>\n",
              "    <tr>\n",
              "      <th>4</th>\n",
              "      <td>-6.899019</td>\n",
              "      <td>5.715674</td>\n",
              "      <td>1.629655</td>\n",
              "      <td>0.894380</td>\n",
              "      <td>-0.340691</td>\n",
              "      <td>0.214066</td>\n",
              "      <td>0.000913</td>\n",
              "    </tr>\n",
              "  </tbody>\n",
              "</table>\n",
              "</div>"
            ],
            "text/plain": [
              "    SGRO.JK   TLKM.JK   INDR.JK   PRDA.JK   AKPI.JK  Expected Return    Risiko\n",
              "0  0.446800  0.378100  0.059000  0.109200  0.006900         0.042285  0.000001\n",
              "1 -0.457332  1.035034  0.252316  0.205880 -0.035897         0.063427  0.000015\n",
              "2 -1.813476  2.020432  0.542282  0.350827 -0.100064         0.095140  0.000087\n",
              "3 -3.847693  3.498529  0.977231  0.568248 -0.196315         0.142710  0.000313\n",
              "4 -6.899019  5.715674  1.629655  0.894380 -0.340691         0.214066  0.000913"
            ]
          },
          "metadata": {
            "tags": []
          },
          "execution_count": 47
        }
      ]
    },
    {
      "cell_type": "code",
      "metadata": {
        "id": "YnqVeJBFzjft",
        "colab_type": "code",
        "outputId": "d3332425-f607-4be3-c42b-4bd7fd430d95",
        "colab": {
          "base_uri": "https://localhost:8080/",
          "height": 606
        }
      },
      "source": [
        "import matplotlib.pyplot as plt\n",
        "\n",
        "y = new_df[\"Expected Return\"]\n",
        "x = new_df[\"Risiko\"]\n",
        "\n",
        "plt.figure(figsize=(20,10))\n",
        "plt.plot(x,y)\n",
        "plt.scatter(x,y)\n",
        "plt.xlabel(\"Expected Return\")\n",
        "plt.ylabel(\"Risiko\")\n",
        "plt.show()"
      ],
      "execution_count": 50,
      "outputs": [
        {
          "output_type": "display_data",
          "data": {
            "image/png": "[encoded data removed]",
            "text/plain": [
              "<Figure size 1440x720 with 1 Axes>"
            ]
          },
          "metadata": {
            "tags": [],
            "needs_background": "light"
          }
        }
      ]
    },
    {
      "cell_type": "markdown",
      "metadata": {
        "id": "XzSSRlhuCfNQ",
        "colab_type": "text"
      },
      "source": [
        "# No 3a"
      ]
    },
    {
      "cell_type": "markdown",
      "metadata": {
        "id": "GZOfXrtPCkEy",
        "colab_type": "text"
      },
      "source": [
        "## Load Data"
      ]
    },
    {
      "cell_type": "code",
      "metadata": {
        "id": "0drhm_uOCg84",
        "colab_type": "code",
        "outputId": "b2458b7a-ebba-48ad-a153-888fd90784c0",
        "colab": {
          "base_uri": "https://localhost:8080/",
          "height": 197
        }
      },
      "source": [
        "dataset_2019 = load_data(2019,kode_saham)\n",
        "dataset_2019.sample(5)"
      ],
      "execution_count": 52,
      "outputs": [
        {
          "output_type": "execute_result",
          "data": {
            "text/html": [
              "<div>\n",
              "<style scoped>\n",
              "    .dataframe tbody tr th:only-of-type {\n",
              "        vertical-align: middle;\n",
              "    }\n",
              "\n",
              "    .dataframe tbody tr th {\n",
              "        vertical-align: top;\n",
              "    }\n",
              "\n",
              "    .dataframe thead th {\n",
              "        text-align: right;\n",
              "    }\n",
              "</style>\n",
              "<table border=\"1\" class=\"dataframe\">\n",
              "  <thead>\n",
              "    <tr style=\"text-align: right;\">\n",
              "      <th></th>\n",
              "      <th>SGRO.JK</th>\n",
              "      <th>TLKM.JK</th>\n",
              "      <th>INDR.JK</th>\n",
              "      <th>PRDA.JK</th>\n",
              "      <th>AKPI.JK</th>\n",
              "    </tr>\n",
              "  </thead>\n",
              "  <tbody>\n",
              "    <tr>\n",
              "      <th>23</th>\n",
              "      <td>2260.0</td>\n",
              "      <td>3900.0</td>\n",
              "      <td>4850.0</td>\n",
              "      <td>3440.0</td>\n",
              "      <td>442.0</td>\n",
              "    </tr>\n",
              "    <tr>\n",
              "      <th>49</th>\n",
              "      <td>2380.0</td>\n",
              "      <td>3950.0</td>\n",
              "      <td>2730.0</td>\n",
              "      <td>3630.0</td>\n",
              "      <td>394.0</td>\n",
              "    </tr>\n",
              "    <tr>\n",
              "      <th>42</th>\n",
              "      <td>2280.0</td>\n",
              "      <td>4260.0</td>\n",
              "      <td>3600.0</td>\n",
              "      <td>4700.0</td>\n",
              "      <td>374.0</td>\n",
              "    </tr>\n",
              "    <tr>\n",
              "      <th>26</th>\n",
              "      <td>2320.0</td>\n",
              "      <td>4270.0</td>\n",
              "      <td>4900.0</td>\n",
              "      <td>4370.0</td>\n",
              "      <td>428.0</td>\n",
              "    </tr>\n",
              "    <tr>\n",
              "      <th>39</th>\n",
              "      <td>2200.0</td>\n",
              "      <td>4110.0</td>\n",
              "      <td>3500.0</td>\n",
              "      <td>4760.0</td>\n",
              "      <td>402.0</td>\n",
              "    </tr>\n",
              "  </tbody>\n",
              "</table>\n",
              "</div>"
            ],
            "text/plain": [
              "    SGRO.JK  TLKM.JK  INDR.JK  PRDA.JK  AKPI.JK\n",
              "23   2260.0   3900.0   4850.0   3440.0    442.0\n",
              "49   2380.0   3950.0   2730.0   3630.0    394.0\n",
              "42   2280.0   4260.0   3600.0   4700.0    374.0\n",
              "26   2320.0   4270.0   4900.0   4370.0    428.0\n",
              "39   2200.0   4110.0   3500.0   4760.0    402.0"
            ]
          },
          "metadata": {
            "tags": []
          },
          "execution_count": 52
        }
      ]
    },
    {
      "cell_type": "code",
      "metadata": {
        "id": "JUhaF8bTKUN7",
        "colab_type": "code",
        "outputId": "f7ac8937-eaad-4cd1-d644-a629ab864eb8",
        "colab": {
          "base_uri": "https://localhost:8080/",
          "height": 78
        }
      },
      "source": [
        "K_2019 = return_saham(dataset_2019)\n",
        "K_2019"
      ],
      "execution_count": 53,
      "outputs": [
        {
          "output_type": "execute_result",
          "data": {
            "text/html": [
              "<div>\n",
              "<style scoped>\n",
              "    .dataframe tbody tr th:only-of-type {\n",
              "        vertical-align: middle;\n",
              "    }\n",
              "\n",
              "    .dataframe tbody tr th {\n",
              "        vertical-align: top;\n",
              "    }\n",
              "\n",
              "    .dataframe thead th {\n",
              "        text-align: right;\n",
              "    }\n",
              "</style>\n",
              "<table border=\"1\" class=\"dataframe\">\n",
              "  <thead>\n",
              "    <tr style=\"text-align: right;\">\n",
              "      <th></th>\n",
              "      <th>SGRO.JK</th>\n",
              "      <th>TLKM.JK</th>\n",
              "      <th>INDR.JK</th>\n",
              "      <th>PRDA.JK</th>\n",
              "      <th>AKPI.JK</th>\n",
              "    </tr>\n",
              "  </thead>\n",
              "  <tbody>\n",
              "    <tr>\n",
              "      <th>0</th>\n",
              "      <td>0.067327</td>\n",
              "      <td>0.063704</td>\n",
              "      <td>0.069513</td>\n",
              "      <td>0.086151</td>\n",
              "      <td>0.064925</td>\n",
              "    </tr>\n",
              "  </tbody>\n",
              "</table>\n",
              "</div>"
            ],
            "text/plain": [
              "    SGRO.JK   TLKM.JK   INDR.JK   PRDA.JK   AKPI.JK\n",
              "0  0.067327  0.063704  0.069513  0.086151  0.064925"
            ]
          },
          "metadata": {
            "tags": []
          },
          "execution_count": 53
        }
      ]
    },
    {
      "cell_type": "code",
      "metadata": {
        "id": "3pqOwDttE8Aj",
        "colab_type": "code",
        "outputId": "03b2b304-6f60-4ca4-aa19-f3fc27eb836e",
        "colab": {
          "base_uri": "https://localhost:8080/",
          "height": 78
        }
      },
      "source": [
        "var = function_var(dataset_2019).iloc[0,:].values\n",
        "function_var(dataset_2019)"
      ],
      "execution_count": 54,
      "outputs": [
        {
          "output_type": "execute_result",
          "data": {
            "text/html": [
              "<div>\n",
              "<style scoped>\n",
              "    .dataframe tbody tr th:only-of-type {\n",
              "        vertical-align: middle;\n",
              "    }\n",
              "\n",
              "    .dataframe tbody tr th {\n",
              "        vertical-align: top;\n",
              "    }\n",
              "\n",
              "    .dataframe thead th {\n",
              "        text-align: right;\n",
              "    }\n",
              "</style>\n",
              "<table border=\"1\" class=\"dataframe\">\n",
              "  <thead>\n",
              "    <tr style=\"text-align: right;\">\n",
              "      <th></th>\n",
              "      <th>SGRO.JK</th>\n",
              "      <th>TLKM.JK</th>\n",
              "      <th>INDR.JK</th>\n",
              "      <th>PRDA.JK</th>\n",
              "      <th>AKPI.JK</th>\n",
              "    </tr>\n",
              "  </thead>\n",
              "  <tbody>\n",
              "    <tr>\n",
              "      <th>0</th>\n",
              "      <td>0.000048</td>\n",
              "      <td>0.000002</td>\n",
              "      <td>0.0005</td>\n",
              "      <td>0.000155</td>\n",
              "      <td>0.000577</td>\n",
              "    </tr>\n",
              "  </tbody>\n",
              "</table>\n",
              "</div>"
            ],
            "text/plain": [
              "    SGRO.JK   TLKM.JK  INDR.JK   PRDA.JK   AKPI.JK\n",
              "0  0.000048  0.000002   0.0005  0.000155  0.000577"
            ]
          },
          "metadata": {
            "tags": []
          },
          "execution_count": 54
        }
      ]
    },
    {
      "cell_type": "code",
      "metadata": {
        "id": "EMPjkiqLLDQk",
        "colab_type": "code",
        "outputId": "7f823233-a05d-4cf3-a985-fa792bca1897",
        "colab": {
          "base_uri": "https://localhost:8080/",
          "height": 78
        }
      },
      "source": [
        "std_dev = function_std_dev(var)\n",
        "df_std_new = pd.DataFrame([function_std_dev(var)])\n",
        "df_std_new.columns = kode_saham\n",
        "df_std_new"
      ],
      "execution_count": 58,
      "outputs": [
        {
          "output_type": "execute_result",
          "data": {
            "text/html": [
              "<div>\n",
              "<style scoped>\n",
              "    .dataframe tbody tr th:only-of-type {\n",
              "        vertical-align: middle;\n",
              "    }\n",
              "\n",
              "    .dataframe tbody tr th {\n",
              "        vertical-align: top;\n",
              "    }\n",
              "\n",
              "    .dataframe thead th {\n",
              "        text-align: right;\n",
              "    }\n",
              "</style>\n",
              "<table border=\"1\" class=\"dataframe\">\n",
              "  <thead>\n",
              "    <tr style=\"text-align: right;\">\n",
              "      <th></th>\n",
              "      <th>SGRO.JK</th>\n",
              "      <th>TLKM.JK</th>\n",
              "      <th>INDR.JK</th>\n",
              "      <th>PRDA.JK</th>\n",
              "      <th>AKPI.JK</th>\n",
              "    </tr>\n",
              "  </thead>\n",
              "  <tbody>\n",
              "    <tr>\n",
              "      <th>0</th>\n",
              "      <td>0.006906</td>\n",
              "      <td>0.0013</td>\n",
              "      <td>0.022353</td>\n",
              "      <td>0.012435</td>\n",
              "      <td>0.024017</td>\n",
              "    </tr>\n",
              "  </tbody>\n",
              "</table>\n",
              "</div>"
            ],
            "text/plain": [
              "    SGRO.JK  TLKM.JK   INDR.JK   PRDA.JK   AKPI.JK\n",
              "0  0.006906   0.0013  0.022353  0.012435  0.024017"
            ]
          },
          "metadata": {
            "tags": []
          },
          "execution_count": 58
        }
      ]
    },
    {
      "cell_type": "code",
      "metadata": {
        "id": "etSLFkbrNPGW",
        "colab_type": "code",
        "outputId": "c923376c-6499-4625-d11d-18875a488593",
        "colab": {
          "base_uri": "https://localhost:8080/",
          "height": 197
        }
      },
      "source": [
        "rho = dataset_2019.corr().values\n",
        "dataset.corr()"
      ],
      "execution_count": 59,
      "outputs": [
        {
          "output_type": "execute_result",
          "data": {
            "text/html": [
              "<div>\n",
              "<style scoped>\n",
              "    .dataframe tbody tr th:only-of-type {\n",
              "        vertical-align: middle;\n",
              "    }\n",
              "\n",
              "    .dataframe tbody tr th {\n",
              "        vertical-align: top;\n",
              "    }\n",
              "\n",
              "    .dataframe thead th {\n",
              "        text-align: right;\n",
              "    }\n",
              "</style>\n",
              "<table border=\"1\" class=\"dataframe\">\n",
              "  <thead>\n",
              "    <tr style=\"text-align: right;\">\n",
              "      <th></th>\n",
              "      <th>SGRO.JK</th>\n",
              "      <th>TLKM.JK</th>\n",
              "      <th>INDR.JK</th>\n",
              "      <th>PRDA.JK</th>\n",
              "      <th>AKPI.JK</th>\n",
              "    </tr>\n",
              "  </thead>\n",
              "  <tbody>\n",
              "    <tr>\n",
              "      <th>SGRO.JK</th>\n",
              "      <td>1.000000</td>\n",
              "      <td>-0.336531</td>\n",
              "      <td>0.282667</td>\n",
              "      <td>-0.599204</td>\n",
              "      <td>-0.559313</td>\n",
              "    </tr>\n",
              "    <tr>\n",
              "      <th>TLKM.JK</th>\n",
              "      <td>-0.336531</td>\n",
              "      <td>1.000000</td>\n",
              "      <td>-0.647548</td>\n",
              "      <td>0.348964</td>\n",
              "      <td>0.244041</td>\n",
              "    </tr>\n",
              "    <tr>\n",
              "      <th>INDR.JK</th>\n",
              "      <td>0.282667</td>\n",
              "      <td>-0.647548</td>\n",
              "      <td>1.000000</td>\n",
              "      <td>-0.715454</td>\n",
              "      <td>-0.019710</td>\n",
              "    </tr>\n",
              "    <tr>\n",
              "      <th>PRDA.JK</th>\n",
              "      <td>-0.599204</td>\n",
              "      <td>0.348964</td>\n",
              "      <td>-0.715454</td>\n",
              "      <td>1.000000</td>\n",
              "      <td>0.189698</td>\n",
              "    </tr>\n",
              "    <tr>\n",
              "      <th>AKPI.JK</th>\n",
              "      <td>-0.559313</td>\n",
              "      <td>0.244041</td>\n",
              "      <td>-0.019710</td>\n",
              "      <td>0.189698</td>\n",
              "      <td>1.000000</td>\n",
              "    </tr>\n",
              "  </tbody>\n",
              "</table>\n",
              "</div>"
            ],
            "text/plain": [
              "          SGRO.JK   TLKM.JK   INDR.JK   PRDA.JK   AKPI.JK\n",
              "SGRO.JK  1.000000 -0.336531  0.282667 -0.599204 -0.559313\n",
              "TLKM.JK -0.336531  1.000000 -0.647548  0.348964  0.244041\n",
              "INDR.JK  0.282667 -0.647548  1.000000 -0.715454 -0.019710\n",
              "PRDA.JK -0.599204  0.348964 -0.715454  1.000000  0.189698\n",
              "AKPI.JK -0.559313  0.244041 -0.019710  0.189698  1.000000"
            ]
          },
          "metadata": {
            "tags": []
          },
          "execution_count": 59
        }
      ]
    },
    {
      "cell_type": "code",
      "metadata": {
        "id": "-2OuusU4M9mp",
        "colab_type": "code",
        "colab": {}
      },
      "source": [
        "C = Matrix_C()"
      ],
      "execution_count": 0,
      "outputs": []
    },
    {
      "cell_type": "code",
      "metadata": {
        "id": "51N5qEBKiLvH",
        "colab_type": "code",
        "outputId": "ace973ec-a1ae-4524-f5cc-0e0f39d80c21",
        "colab": {
          "base_uri": "https://localhost:8080/",
          "height": 78
        }
      },
      "source": [
        "def Expected_Return(df_K,df_saham) :\n",
        "  return_saham = []\n",
        "  n = df_saham.shape[0]\n",
        "\n",
        "  for i in range(n):\n",
        "    sum_ret = 0\n",
        "    for saham in df_saham :\n",
        "      K = float(df_K[saham])\n",
        "      w = float(df_saham[saham][i])\n",
        "      sum_ret += K*w\n",
        "    return_saham.append(sum_ret)\n",
        "  result = pd.DataFrame([return_saham])\n",
        "  result.columns = [\"ER\"+str(x+1) for x in range(n)]\n",
        "  return result\n",
        "\n",
        "Expected_Return(K_2019,new_df.iloc[:2,:n])"
      ],
      "execution_count": 61,
      "outputs": [
        {
          "output_type": "execute_result",
          "data": {
            "text/html": [
              "<div>\n",
              "<style scoped>\n",
              "    .dataframe tbody tr th:only-of-type {\n",
              "        vertical-align: middle;\n",
              "    }\n",
              "\n",
              "    .dataframe tbody tr th {\n",
              "        vertical-align: top;\n",
              "    }\n",
              "\n",
              "    .dataframe thead th {\n",
              "        text-align: right;\n",
              "    }\n",
              "</style>\n",
              "<table border=\"1\" class=\"dataframe\">\n",
              "  <thead>\n",
              "    <tr style=\"text-align: right;\">\n",
              "      <th></th>\n",
              "      <th>ER1</th>\n",
              "      <th>ER2</th>\n",
              "    </tr>\n",
              "  </thead>\n",
              "  <tbody>\n",
              "    <tr>\n",
              "      <th>0</th>\n",
              "      <td>0.068125</td>\n",
              "      <td>0.06809</td>\n",
              "    </tr>\n",
              "  </tbody>\n",
              "</table>\n",
              "</div>"
            ],
            "text/plain": [
              "        ER1      ER2\n",
              "0  0.068125  0.06809"
            ]
          },
          "metadata": {
            "tags": []
          },
          "execution_count": 61
        }
      ]
    },
    {
      "cell_type": "code",
      "metadata": {
        "id": "u6fW8yQcLPV8",
        "colab_type": "code",
        "outputId": "ffa680c3-add4-4365-b855-f7af838e9947",
        "colab": {
          "base_uri": "https://localhost:8080/",
          "height": 164
        }
      },
      "source": [
        "list_bobot = []\n",
        "i = 0\n",
        "print(kode_saham)\n",
        "\n",
        "w_use = new_df.iloc[:2,:n]\n",
        "\n",
        "ER = Expected_Return(K_2019,w_use)\n",
        "\n",
        "for bobot in w_use.values :\n",
        "  #print(bobot)\n",
        "  tmp = []\n",
        "  wT = np.transpose(bobot)\n",
        "  risk = bobot.dot(C).dot(wT)\n",
        "  for x in bobot :\n",
        "    tmp.append(x)\n",
        "  tmp.append(ER.iloc[0,i])\n",
        "  tmp.append(risk)\n",
        "  list_bobot.append(tmp)\n",
        "  i+=1\n",
        "print(list_bobot)\n",
        "\n",
        "new_df_port = pd.DataFrame(list_bobot)\n",
        "new_df_port.columns = column\n",
        "new_df_port\n",
        "#df_tmp =df_port\n",
        "new_df_port"
      ],
      "execution_count": 0,
      "outputs": [
        {
          "output_type": "stream",
          "text": [
            "['SGRO.JK', 'TLKM.JK', 'INDR.JK', 'PRDA.JK', 'AKPI.JK']\n",
            "[[0.4368, 0.3916, 0.0592, 0.1063, 0.0062, 0.06803052788203699, 1.1210526430245724e-06], [-0.4405408962812911, 1.0103516837733697, 0.25450042263910677, 0.2099116347242398, -0.03422284485539286, 0.06825633685598663, 1.5590775207607807e-05]]\n"
          ],
          "name": "stdout"
        },
        {
          "output_type": "execute_result",
          "data": {
            "text/html": [
              "<div>\n",
              "<style scoped>\n",
              "    .dataframe tbody tr th:only-of-type {\n",
              "        vertical-align: middle;\n",
              "    }\n",
              "\n",
              "    .dataframe tbody tr th {\n",
              "        vertical-align: top;\n",
              "    }\n",
              "\n",
              "    .dataframe thead th {\n",
              "        text-align: right;\n",
              "    }\n",
              "</style>\n",
              "<table border=\"1\" class=\"dataframe\">\n",
              "  <thead>\n",
              "    <tr style=\"text-align: right;\">\n",
              "      <th></th>\n",
              "      <th>SGRO.JK</th>\n",
              "      <th>TLKM.JK</th>\n",
              "      <th>INDR.JK</th>\n",
              "      <th>PRDA.JK</th>\n",
              "      <th>AKPI.JK</th>\n",
              "      <th>Expected Return</th>\n",
              "      <th>Risiko</th>\n",
              "    </tr>\n",
              "  </thead>\n",
              "  <tbody>\n",
              "    <tr>\n",
              "      <th>0</th>\n",
              "      <td>0.436800</td>\n",
              "      <td>0.391600</td>\n",
              "      <td>0.0592</td>\n",
              "      <td>0.106300</td>\n",
              "      <td>0.006200</td>\n",
              "      <td>0.068031</td>\n",
              "      <td>0.000001</td>\n",
              "    </tr>\n",
              "    <tr>\n",
              "      <th>1</th>\n",
              "      <td>-0.440541</td>\n",
              "      <td>1.010352</td>\n",
              "      <td>0.2545</td>\n",
              "      <td>0.209912</td>\n",
              "      <td>-0.034223</td>\n",
              "      <td>0.068256</td>\n",
              "      <td>0.000016</td>\n",
              "    </tr>\n",
              "  </tbody>\n",
              "</table>\n",
              "</div>"
            ],
            "text/plain": [
              "    SGRO.JK   TLKM.JK  INDR.JK   PRDA.JK   AKPI.JK  Expected Return    Risiko\n",
              "0  0.436800  0.391600   0.0592  0.106300  0.006200         0.068031  0.000001\n",
              "1 -0.440541  1.010352   0.2545  0.209912 -0.034223         0.068256  0.000016"
            ]
          },
          "metadata": {
            "tags": []
          },
          "execution_count": 228
        }
      ]
    },
    {
      "cell_type": "code",
      "metadata": {
        "id": "1_nSI_i0tpqw",
        "colab_type": "code",
        "outputId": "b2fbc2fb-c629-4127-943f-4150d0af3e17",
        "colab": {
          "base_uri": "https://localhost:8080/",
          "height": 108
        }
      },
      "source": [
        "new_df.iloc[:2,:]"
      ],
      "execution_count": 0,
      "outputs": [
        {
          "output_type": "execute_result",
          "data": {
            "text/html": [
              "<div>\n",
              "<style scoped>\n",
              "    .dataframe tbody tr th:only-of-type {\n",
              "        vertical-align: middle;\n",
              "    }\n",
              "\n",
              "    .dataframe tbody tr th {\n",
              "        vertical-align: top;\n",
              "    }\n",
              "\n",
              "    .dataframe thead th {\n",
              "        text-align: right;\n",
              "    }\n",
              "</style>\n",
              "<table border=\"1\" class=\"dataframe\">\n",
              "  <thead>\n",
              "    <tr style=\"text-align: right;\">\n",
              "      <th></th>\n",
              "      <th>SGRO.JK</th>\n",
              "      <th>TLKM.JK</th>\n",
              "      <th>INDR.JK</th>\n",
              "      <th>PRDA.JK</th>\n",
              "      <th>AKPI.JK</th>\n",
              "      <th>Expected Return</th>\n",
              "      <th>Risiko</th>\n",
              "    </tr>\n",
              "  </thead>\n",
              "  <tbody>\n",
              "    <tr>\n",
              "      <th>0</th>\n",
              "      <td>0.436800</td>\n",
              "      <td>0.391600</td>\n",
              "      <td>0.0592</td>\n",
              "      <td>0.106300</td>\n",
              "      <td>0.006200</td>\n",
              "      <td>0.042353</td>\n",
              "      <td>0.000001</td>\n",
              "    </tr>\n",
              "    <tr>\n",
              "      <th>1</th>\n",
              "      <td>-0.440541</td>\n",
              "      <td>1.010352</td>\n",
              "      <td>0.2545</td>\n",
              "      <td>0.209912</td>\n",
              "      <td>-0.034223</td>\n",
              "      <td>0.063530</td>\n",
              "      <td>0.000016</td>\n",
              "    </tr>\n",
              "  </tbody>\n",
              "</table>\n",
              "</div>"
            ],
            "text/plain": [
              "    SGRO.JK   TLKM.JK  INDR.JK   PRDA.JK   AKPI.JK  Expected Return    Risiko\n",
              "0  0.436800  0.391600   0.0592  0.106300  0.006200         0.042353  0.000001\n",
              "1 -0.440541  1.010352   0.2545  0.209912 -0.034223         0.063530  0.000016"
            ]
          },
          "metadata": {
            "tags": []
          },
          "execution_count": 229
        }
      ]
    },
    {
      "cell_type": "markdown",
      "metadata": {
        "id": "c577uJxlu_yf",
        "colab_type": "text"
      },
      "source": [
        "## No 3b"
      ]
    },
    {
      "cell_type": "code",
      "metadata": {
        "id": "tHXFtPosvBYw",
        "colab_type": "code",
        "outputId": "3cdefcb4-ace2-4e85-ad38-b2bb8ddcd1e5",
        "colab": {
          "base_uri": "https://localhost:8080/",
          "height": 216
        }
      },
      "source": [
        "kode_saham = kode_saham[:n]\n",
        "print(kode_saham)\n",
        "dataset_2020 = load_data(\"2019\",kode_saham)\n",
        "dataset_2020.sample(5)"
      ],
      "execution_count": 0,
      "outputs": [
        {
          "output_type": "stream",
          "text": [
            "['SGRO.JK', 'TLKM.JK', 'INDR.JK', 'PRDA.JK', 'AKPI.JK']\n"
          ],
          "name": "stdout"
        },
        {
          "output_type": "execute_result",
          "data": {
            "text/html": [
              "<div>\n",
              "<style scoped>\n",
              "    .dataframe tbody tr th:only-of-type {\n",
              "        vertical-align: middle;\n",
              "    }\n",
              "\n",
              "    .dataframe tbody tr th {\n",
              "        vertical-align: top;\n",
              "    }\n",
              "\n",
              "    .dataframe thead th {\n",
              "        text-align: right;\n",
              "    }\n",
              "</style>\n",
              "<table border=\"1\" class=\"dataframe\">\n",
              "  <thead>\n",
              "    <tr style=\"text-align: right;\">\n",
              "      <th></th>\n",
              "      <th>SGRO.JK</th>\n",
              "      <th>TLKM.JK</th>\n",
              "      <th>INDR.JK</th>\n",
              "      <th>PRDA.JK</th>\n",
              "      <th>AKPI.JK</th>\n",
              "    </tr>\n",
              "  </thead>\n",
              "  <tbody>\n",
              "    <tr>\n",
              "      <th>24</th>\n",
              "      <td>2260.0</td>\n",
              "      <td>3980.0</td>\n",
              "      <td>4950.0</td>\n",
              "      <td>3670.0</td>\n",
              "      <td>440.0</td>\n",
              "    </tr>\n",
              "    <tr>\n",
              "      <th>14</th>\n",
              "      <td>2300.0</td>\n",
              "      <td>3830.0</td>\n",
              "      <td>4660.0</td>\n",
              "      <td>2860.0</td>\n",
              "      <td>600.0</td>\n",
              "    </tr>\n",
              "    <tr>\n",
              "      <th>0</th>\n",
              "      <td>2350.0</td>\n",
              "      <td>3770.0</td>\n",
              "      <td>6050.0</td>\n",
              "      <td>2290.0</td>\n",
              "      <td>700.0</td>\n",
              "    </tr>\n",
              "    <tr>\n",
              "      <th>17</th>\n",
              "      <td>2360.0</td>\n",
              "      <td>3840.0</td>\n",
              "      <td>4840.0</td>\n",
              "      <td>3310.0</td>\n",
              "      <td>570.0</td>\n",
              "    </tr>\n",
              "    <tr>\n",
              "      <th>49</th>\n",
              "      <td>2380.0</td>\n",
              "      <td>3950.0</td>\n",
              "      <td>2730.0</td>\n",
              "      <td>3630.0</td>\n",
              "      <td>394.0</td>\n",
              "    </tr>\n",
              "  </tbody>\n",
              "</table>\n",
              "</div>"
            ],
            "text/plain": [
              "    SGRO.JK  TLKM.JK  INDR.JK  PRDA.JK  AKPI.JK\n",
              "24   2260.0   3980.0   4950.0   3670.0    440.0\n",
              "14   2300.0   3830.0   4660.0   2860.0    600.0\n",
              "0    2350.0   3770.0   6050.0   2290.0    700.0\n",
              "17   2360.0   3840.0   4840.0   3310.0    570.0\n",
              "49   2380.0   3950.0   2730.0   3630.0    394.0"
            ]
          },
          "metadata": {
            "tags": []
          },
          "execution_count": 231
        }
      ]
    },
    {
      "cell_type": "code",
      "metadata": {
        "id": "jUb_qMOwnD9z",
        "colab_type": "code",
        "outputId": "6c05ebcf-84b6-4c6a-955c-4c4dfc03ef08",
        "colab": {
          "base_uri": "https://localhost:8080/",
          "height": 1000
        }
      },
      "source": [
        "VP = {}\n",
        "V0 = 1\n",
        "n_port = w_use.shape[0]\n",
        "for i in range(n_port):\n",
        "  VP[i] = [V0]\n",
        "\n",
        "print(n_port)\n",
        "\n",
        "for i in range(n_port):\n",
        "  for j in range(dataset_2020.shape[0]-1):\n",
        "    v = 0\n",
        "    for saham in dataset_2020 :\n",
        "      Sn = dataset_2020[saham][j+1]\n",
        "      Sm = dataset_2020[saham][j]\n",
        "\n",
        "      K = (Sn-Sm)/Sm\n",
        "\n",
        "      w = w_use[saham][i]\n",
        "      V += K*w\n",
        "    VP[i].append((1+V0)*V)\n",
        "\n",
        "print(VP)\n",
        "\n",
        "df_sim = pd.DataFrame(VP)\n",
        "df_sim.columns = [\"P\"+str(i+1) for i in range(n_port)]\n",
        "df_sim\n"
      ],
      "execution_count": 0,
      "outputs": [
        {
          "output_type": "stream",
          "text": [
            "2\n",
            "{0: [1, 1.4739058020318834, 1.4972224697781609, 1.4553245477452963, 1.4675876743992067, 1.5369210058839469, 1.5115385442171183, 1.4978450470392932, 1.4884121642498507, 1.5339007439465788, 1.5445212567261302, 1.5064825323944, 1.542451828486913, 1.4944395034434441, 1.4565751010151746, 1.4550763823735262, 1.4826154466600368, 1.5187583158602387, 1.4875071673829492, 1.4593226097033838, 1.5234632990542458, 1.5219191550880222, 1.5063296121863932, 1.5049133472852152, 1.5375786517106942, 1.6003702396716235, 1.6551591261637735, 1.596864325775245, 1.6127203470315992, 1.5843422603796717, 1.5684344338698801, 1.629287154181349, 1.6434140254487302, 1.6538195877761128, 1.6215117074405045, 1.637639576548289, 1.6018043652668204, 1.5851458782035857, 1.5839163643659453, 1.569674383177891, 1.5349605053897921, 1.6058375617769052, 1.6339214240857882, 1.6117530033733396, 1.633282385336645, 1.623345121404174, 1.589597665387774, 1.5670757289361676, 1.6039549610408343, 1.5367785604529873], 1: [1, 1.5852697091134893, 1.755850487325466, 1.6639945607944773, 1.7688113421862004, 1.8193150650332046, 1.7869980932074223, 1.8157297565072172, 1.7694461253242602, 1.6624852032965078, 1.612128076133401, 1.6660642008550535, 1.6673505628154028, 1.6670338356703005, 1.586847459134676, 1.5552198701203317, 1.5878994850405064, 1.6588925160697539, 1.622551442636494, 1.5291142935653725, 1.7020402006978486, 1.7934945249084797, 1.8913375702182782, 1.773284731169217, 1.8536092075117754, 2.0030013994977867, 2.051148485070781, 2.0688835088501234, 2.0838095682382676, 1.9951759872571846, 1.88310056122431, 1.9292111572752904, 1.9565134290007478, 1.9268604078418547, 2.073654086605219, 1.9864287271162273, 2.0078312288504283, 1.966171682438144, 1.9967693346569533, 1.9047541610653445, 2.000359489089928, 1.9138459007354423, 1.9560732099717109, 1.8114002774045581, 1.725535485100586, 1.6339344051975537, 1.501307779641565, 1.5568660230892062, 1.565016945667219, 1.5338294639813708]}\n"
          ],
          "name": "stdout"
        },
        {
          "output_type": "execute_result",
          "data": {
            "text/html": [
              "<div>\n",
              "<style scoped>\n",
              "    .dataframe tbody tr th:only-of-type {\n",
              "        vertical-align: middle;\n",
              "    }\n",
              "\n",
              "    .dataframe tbody tr th {\n",
              "        vertical-align: top;\n",
              "    }\n",
              "\n",
              "    .dataframe thead th {\n",
              "        text-align: right;\n",
              "    }\n",
              "</style>\n",
              "<table border=\"1\" class=\"dataframe\">\n",
              "  <thead>\n",
              "    <tr style=\"text-align: right;\">\n",
              "      <th></th>\n",
              "      <th>P1</th>\n",
              "      <th>P2</th>\n",
              "    </tr>\n",
              "  </thead>\n",
              "  <tbody>\n",
              "    <tr>\n",
              "      <th>0</th>\n",
              "      <td>1.000000</td>\n",
              "      <td>1.000000</td>\n",
              "    </tr>\n",
              "    <tr>\n",
              "      <th>1</th>\n",
              "      <td>1.473906</td>\n",
              "      <td>1.585270</td>\n",
              "    </tr>\n",
              "    <tr>\n",
              "      <th>2</th>\n",
              "      <td>1.497222</td>\n",
              "      <td>1.755850</td>\n",
              "    </tr>\n",
              "    <tr>\n",
              "      <th>3</th>\n",
              "      <td>1.455325</td>\n",
              "      <td>1.663995</td>\n",
              "    </tr>\n",
              "    <tr>\n",
              "      <th>4</th>\n",
              "      <td>1.467588</td>\n",
              "      <td>1.768811</td>\n",
              "    </tr>\n",
              "    <tr>\n",
              "      <th>5</th>\n",
              "      <td>1.536921</td>\n",
              "      <td>1.819315</td>\n",
              "    </tr>\n",
              "    <tr>\n",
              "      <th>6</th>\n",
              "      <td>1.511539</td>\n",
              "      <td>1.786998</td>\n",
              "    </tr>\n",
              "    <tr>\n",
              "      <th>7</th>\n",
              "      <td>1.497845</td>\n",
              "      <td>1.815730</td>\n",
              "    </tr>\n",
              "    <tr>\n",
              "      <th>8</th>\n",
              "      <td>1.488412</td>\n",
              "      <td>1.769446</td>\n",
              "    </tr>\n",
              "    <tr>\n",
              "      <th>9</th>\n",
              "      <td>1.533901</td>\n",
              "      <td>1.662485</td>\n",
              "    </tr>\n",
              "    <tr>\n",
              "      <th>10</th>\n",
              "      <td>1.544521</td>\n",
              "      <td>1.612128</td>\n",
              "    </tr>\n",
              "    <tr>\n",
              "      <th>11</th>\n",
              "      <td>1.506483</td>\n",
              "      <td>1.666064</td>\n",
              "    </tr>\n",
              "    <tr>\n",
              "      <th>12</th>\n",
              "      <td>1.542452</td>\n",
              "      <td>1.667351</td>\n",
              "    </tr>\n",
              "    <tr>\n",
              "      <th>13</th>\n",
              "      <td>1.494440</td>\n",
              "      <td>1.667034</td>\n",
              "    </tr>\n",
              "    <tr>\n",
              "      <th>14</th>\n",
              "      <td>1.456575</td>\n",
              "      <td>1.586847</td>\n",
              "    </tr>\n",
              "    <tr>\n",
              "      <th>15</th>\n",
              "      <td>1.455076</td>\n",
              "      <td>1.555220</td>\n",
              "    </tr>\n",
              "    <tr>\n",
              "      <th>16</th>\n",
              "      <td>1.482615</td>\n",
              "      <td>1.587899</td>\n",
              "    </tr>\n",
              "    <tr>\n",
              "      <th>17</th>\n",
              "      <td>1.518758</td>\n",
              "      <td>1.658893</td>\n",
              "    </tr>\n",
              "    <tr>\n",
              "      <th>18</th>\n",
              "      <td>1.487507</td>\n",
              "      <td>1.622551</td>\n",
              "    </tr>\n",
              "    <tr>\n",
              "      <th>19</th>\n",
              "      <td>1.459323</td>\n",
              "      <td>1.529114</td>\n",
              "    </tr>\n",
              "    <tr>\n",
              "      <th>20</th>\n",
              "      <td>1.523463</td>\n",
              "      <td>1.702040</td>\n",
              "    </tr>\n",
              "    <tr>\n",
              "      <th>21</th>\n",
              "      <td>1.521919</td>\n",
              "      <td>1.793495</td>\n",
              "    </tr>\n",
              "    <tr>\n",
              "      <th>22</th>\n",
              "      <td>1.506330</td>\n",
              "      <td>1.891338</td>\n",
              "    </tr>\n",
              "    <tr>\n",
              "      <th>23</th>\n",
              "      <td>1.504913</td>\n",
              "      <td>1.773285</td>\n",
              "    </tr>\n",
              "    <tr>\n",
              "      <th>24</th>\n",
              "      <td>1.537579</td>\n",
              "      <td>1.853609</td>\n",
              "    </tr>\n",
              "    <tr>\n",
              "      <th>25</th>\n",
              "      <td>1.600370</td>\n",
              "      <td>2.003001</td>\n",
              "    </tr>\n",
              "    <tr>\n",
              "      <th>26</th>\n",
              "      <td>1.655159</td>\n",
              "      <td>2.051148</td>\n",
              "    </tr>\n",
              "    <tr>\n",
              "      <th>27</th>\n",
              "      <td>1.596864</td>\n",
              "      <td>2.068884</td>\n",
              "    </tr>\n",
              "    <tr>\n",
              "      <th>28</th>\n",
              "      <td>1.612720</td>\n",
              "      <td>2.083810</td>\n",
              "    </tr>\n",
              "    <tr>\n",
              "      <th>29</th>\n",
              "      <td>1.584342</td>\n",
              "      <td>1.995176</td>\n",
              "    </tr>\n",
              "    <tr>\n",
              "      <th>30</th>\n",
              "      <td>1.568434</td>\n",
              "      <td>1.883101</td>\n",
              "    </tr>\n",
              "    <tr>\n",
              "      <th>31</th>\n",
              "      <td>1.629287</td>\n",
              "      <td>1.929211</td>\n",
              "    </tr>\n",
              "    <tr>\n",
              "      <th>32</th>\n",
              "      <td>1.643414</td>\n",
              "      <td>1.956513</td>\n",
              "    </tr>\n",
              "    <tr>\n",
              "      <th>33</th>\n",
              "      <td>1.653820</td>\n",
              "      <td>1.926860</td>\n",
              "    </tr>\n",
              "    <tr>\n",
              "      <th>34</th>\n",
              "      <td>1.621512</td>\n",
              "      <td>2.073654</td>\n",
              "    </tr>\n",
              "    <tr>\n",
              "      <th>35</th>\n",
              "      <td>1.637640</td>\n",
              "      <td>1.986429</td>\n",
              "    </tr>\n",
              "    <tr>\n",
              "      <th>36</th>\n",
              "      <td>1.601804</td>\n",
              "      <td>2.007831</td>\n",
              "    </tr>\n",
              "    <tr>\n",
              "      <th>37</th>\n",
              "      <td>1.585146</td>\n",
              "      <td>1.966172</td>\n",
              "    </tr>\n",
              "    <tr>\n",
              "      <th>38</th>\n",
              "      <td>1.583916</td>\n",
              "      <td>1.996769</td>\n",
              "    </tr>\n",
              "    <tr>\n",
              "      <th>39</th>\n",
              "      <td>1.569674</td>\n",
              "      <td>1.904754</td>\n",
              "    </tr>\n",
              "    <tr>\n",
              "      <th>40</th>\n",
              "      <td>1.534961</td>\n",
              "      <td>2.000359</td>\n",
              "    </tr>\n",
              "    <tr>\n",
              "      <th>41</th>\n",
              "      <td>1.605838</td>\n",
              "      <td>1.913846</td>\n",
              "    </tr>\n",
              "    <tr>\n",
              "      <th>42</th>\n",
              "      <td>1.633921</td>\n",
              "      <td>1.956073</td>\n",
              "    </tr>\n",
              "    <tr>\n",
              "      <th>43</th>\n",
              "      <td>1.611753</td>\n",
              "      <td>1.811400</td>\n",
              "    </tr>\n",
              "    <tr>\n",
              "      <th>44</th>\n",
              "      <td>1.633282</td>\n",
              "      <td>1.725535</td>\n",
              "    </tr>\n",
              "    <tr>\n",
              "      <th>45</th>\n",
              "      <td>1.623345</td>\n",
              "      <td>1.633934</td>\n",
              "    </tr>\n",
              "    <tr>\n",
              "      <th>46</th>\n",
              "      <td>1.589598</td>\n",
              "      <td>1.501308</td>\n",
              "    </tr>\n",
              "    <tr>\n",
              "      <th>47</th>\n",
              "      <td>1.567076</td>\n",
              "      <td>1.556866</td>\n",
              "    </tr>\n",
              "    <tr>\n",
              "      <th>48</th>\n",
              "      <td>1.603955</td>\n",
              "      <td>1.565017</td>\n",
              "    </tr>\n",
              "    <tr>\n",
              "      <th>49</th>\n",
              "      <td>1.536779</td>\n",
              "      <td>1.533829</td>\n",
              "    </tr>\n",
              "  </tbody>\n",
              "</table>\n",
              "</div>"
            ],
            "text/plain": [
              "          P1        P2\n",
              "0   1.000000  1.000000\n",
              "1   1.473906  1.585270\n",
              "2   1.497222  1.755850\n",
              "3   1.455325  1.663995\n",
              "4   1.467588  1.768811\n",
              "5   1.536921  1.819315\n",
              "6   1.511539  1.786998\n",
              "7   1.497845  1.815730\n",
              "8   1.488412  1.769446\n",
              "9   1.533901  1.662485\n",
              "10  1.544521  1.612128\n",
              "11  1.506483  1.666064\n",
              "12  1.542452  1.667351\n",
              "13  1.494440  1.667034\n",
              "14  1.456575  1.586847\n",
              "15  1.455076  1.555220\n",
              "16  1.482615  1.587899\n",
              "17  1.518758  1.658893\n",
              "18  1.487507  1.622551\n",
              "19  1.459323  1.529114\n",
              "20  1.523463  1.702040\n",
              "21  1.521919  1.793495\n",
              "22  1.506330  1.891338\n",
              "23  1.504913  1.773285\n",
              "24  1.537579  1.853609\n",
              "25  1.600370  2.003001\n",
              "26  1.655159  2.051148\n",
              "27  1.596864  2.068884\n",
              "28  1.612720  2.083810\n",
              "29  1.584342  1.995176\n",
              "30  1.568434  1.883101\n",
              "31  1.629287  1.929211\n",
              "32  1.643414  1.956513\n",
              "33  1.653820  1.926860\n",
              "34  1.621512  2.073654\n",
              "35  1.637640  1.986429\n",
              "36  1.601804  2.007831\n",
              "37  1.585146  1.966172\n",
              "38  1.583916  1.996769\n",
              "39  1.569674  1.904754\n",
              "40  1.534961  2.000359\n",
              "41  1.605838  1.913846\n",
              "42  1.633921  1.956073\n",
              "43  1.611753  1.811400\n",
              "44  1.633282  1.725535\n",
              "45  1.623345  1.633934\n",
              "46  1.589598  1.501308\n",
              "47  1.567076  1.556866\n",
              "48  1.603955  1.565017\n",
              "49  1.536779  1.533829"
            ]
          },
          "metadata": {
            "tags": []
          },
          "execution_count": 232
        }
      ]
    },
    {
      "cell_type": "code",
      "metadata": {
        "id": "W8K_RdSF1ubV",
        "colab_type": "code",
        "outputId": "2e978271-0a59-4332-8522-3b1b55c4f784",
        "colab": {
          "base_uri": "https://localhost:8080/",
          "height": 606
        }
      },
      "source": [
        "import matplotlib.pyplot as plt\n",
        "\n",
        "\n",
        "plot_list = []\n",
        "plt.figure(figsize=(25,10))\n",
        "for i in range(n_port):\n",
        "  x = [x for x in range(df_sim.shape[0])]\n",
        "  y = df_sim[\"P\"+str(i+1)]\n",
        "  plt.plot(x,y,label=\"Portofolio ke -\"+str(i+1))\n",
        "  plt.scatter(x,y)\n",
        "\n",
        "plt.legend(bbox_to_anchor=(0.9, 0.98), loc='upper left', borderaxespad=0.)\n",
        "plt.xlabel(\"Week\")\n",
        "plt.ylabel(\"V(week)\")\n",
        "plt.show()"
      ],
      "execution_count": 0,
      "outputs": [
        {
          "output_type": "display_data",
          "data": {
            "image/png": "[encoded data removed]",
            "text/plain": [
              "<Figure size 1800x720 with 1 Axes>"
            ]
          },
          "metadata": {
            "tags": [],
            "needs_background": "light"
          }
        }
      ]
    },
    {
      "cell_type": "markdown",
      "metadata": {
        "id": "dGqP74gF_zAh",
        "colab_type": "text"
      },
      "source": [
        "## Salah\n"
      ]
    },
    {
      "cell_type": "code",
      "metadata": {
        "id": "BfnZHz8vxkW6",
        "colab_type": "code",
        "outputId": "06e0a66d-4f00-4821-80b2-b7b579516dcd",
        "colab": {
          "base_uri": "https://localhost:8080/",
          "height": 55
        }
      },
      "source": [
        "\"\"\"import numpy as np\n",
        "#print(type(dataset.corr()))\n",
        "list_corr = []\n",
        "for x in dataset:\n",
        "  print(type(dataset.corr()[x]))\n",
        "  #print(dataset[x].corr())\n",
        "  #list_corr.append(dataset[x].corr().tolist())\n",
        "  #print(dataset.corr()[x].tolist())\n",
        "#rho = np.array(list_corr)\n",
        "#print(rho)\"\"\""
      ],
      "execution_count": 0,
      "outputs": [
        {
          "output_type": "execute_result",
          "data": {
            "text/plain": [
              "'import numpy as np\\n#print(type(dataset.corr()))\\nlist_corr = []\\nfor x in dataset:\\n  print(type(dataset.corr()[x]))\\n  #print(dataset[x].corr())\\n  #list_corr.append(dataset[x].corr().tolist())\\n  #print(dataset.corr()[x].tolist())\\n#rho = np.array(list_corr)\\n#print(rho)'"
            ]
          },
          "metadata": {
            "tags": []
          },
          "execution_count": 73
        }
      ]
    },
    {
      "cell_type": "code",
      "metadata": {
        "id": "X0zv2wL_14cF",
        "colab_type": "code",
        "outputId": "eb3250d4-9e98-4ae3-a112-ac9eda403849",
        "colab": {
          "base_uri": "https://localhost:8080/",
          "height": 55
        }
      },
      "source": [
        "\"\"\"import statistics as st\n",
        "var = []\n",
        "for x in kode_saham :\n",
        "  tmp = dataset[x].tolist()\n",
        "  #print(tmp)\n",
        "  var.append(st.variance(tmp))\n",
        "#print(var)\n",
        "df_var = pd.DataFrame([var])\n",
        "df_var.columns = kode_saham\n",
        "df_var\"\"\""
      ],
      "execution_count": 0,
      "outputs": [
        {
          "output_type": "execute_result",
          "data": {
            "text/plain": [
              "'import statistics as st\\nvar = []\\nfor x in kode_saham :\\n  tmp = dataset[x].tolist()\\n  #print(tmp)\\n  var.append(st.variance(tmp))\\n#print(var)\\ndf_var = pd.DataFrame([var])\\ndf_var.columns = kode_saham\\ndf_var'"
            ]
          },
          "metadata": {
            "tags": []
          },
          "execution_count": 74
        }
      ]
    },
    {
      "cell_type": "code",
      "metadata": {
        "id": "C2fA6gq9nhkp",
        "colab_type": "code",
        "colab": {}
      },
      "source": [
        "def convert_to_dollar(saham) :\n",
        "  usd = 15589\n",
        "  dollar = []\n",
        "  for x in saham :\n",
        "    dollar.append(x/usd)\n",
        "  return dollar\n"
      ],
      "execution_count": 0,
      "outputs": []
    },
    {
      "cell_type": "code",
      "metadata": {
        "id": "tjfy_FW2FPW8",
        "colab_type": "code",
        "outputId": "16bb80f4-d74f-4ce0-a45f-5e40c1784e62",
        "colab": {
          "base_uri": "https://localhost:8080/",
          "height": 90
        }
      },
      "source": [
        "\n",
        "\n",
        "def is_short_selling(rho,std_dev):\n",
        "  n = len(rho)\n",
        "  print(n)\n",
        "  check = False\n",
        "  #rho = rho.sort()\n",
        "  #std_Dev =std_dev.sort()\n",
        "  sahamnya = []\n",
        "  for i in range(n):\n",
        "    for j in range(n):\n",
        "      if i < j :\n",
        "        x = std_dev[i]/std_dev[j]\n",
        "        #print(rho[i][j])\n",
        "        if rho[i][j] > x :\n",
        "          check =True\n",
        "          sahamnya.append([kode_saham[i],kode_saham[j]])\n",
        "    \n",
        "  return [check,sahamnya]\n",
        "\n",
        "if(is_short_selling(rho,std_dev)[0]) :\n",
        "  short = {}\n",
        "  list_short = is_short_selling(rho,std_dev)[1]\n",
        "  print(list_short)\n",
        "  for i in list_short :\n",
        "    x = i[0]\n",
        "    y = i[1]\n",
        "    if x not in short.keys():\n",
        "      short[x] =1\n",
        "    else :\n",
        "      short[x] += 1\n",
        "    \n",
        "    if y not in short.keys():\n",
        "      short[y] = 1\n",
        "    else :\n",
        "      short[y] += 1\n",
        "  print(short)\n",
        "else :\n",
        "  print(\"aman\")\n",
        "  print(kode_saham)"
      ],
      "execution_count": 0,
      "outputs": [
        {
          "output_type": "stream",
          "text": [
            "5\n",
            "5\n",
            "[['SGRO.JK', 'INDR.JK'], ['TLKM.JK', 'PRDA.JK'], ['TLKM.JK', 'AKPI.JK']]\n",
            "{'SGRO.JK': 1, 'INDR.JK': 1, 'TLKM.JK': 2, 'PRDA.JK': 1, 'AKPI.JK': 1}\n"
          ],
          "name": "stdout"
        }
      ]
    },
    {
      "cell_type": "code",
      "metadata": {
        "id": "5cF4uoPLEKB1",
        "colab_type": "code",
        "colab": {}
      },
      "source": [
        ""
      ],
      "execution_count": 0,
      "outputs": []
    }
  ]
}