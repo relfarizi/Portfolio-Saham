{
  "nbformat": 4,
  "nbformat_minor": 0,
  "metadata": {
    "colab": {
      "name": "Portfolio Saham.ipynb",
      "provenance": [],
      "collapsed_sections": []
    },
    "kernelspec": {
      "name": "python3",
      "display_name": "Python 3"
    }
  },
  "cells": [
    {
      "cell_type": "markdown",
      "metadata": {
        "id": "IyP4QRhtch0F",
        "colab_type": "text"
      },
      "source": [
        "Load Data"
      ]
    },
    {
      "cell_type": "code",
      "metadata": {
        "id": "UekvxCwzchSo",
        "colab_type": "code",
        "outputId": "360a9ff7-04ce-4b09-d0be-83c40dab49ea",
        "colab": {
          "base_uri": "https://localhost:8080/",
          "height": 406
        }
      },
      "source": [
        "import pandas as pd\n",
        "\n",
        "kode_saham = [\"PBCRF\",\"IBM\",\"PHJMF\",\"PTAIF\",\"TLKMF\"]#\n",
        "#kode_saham = [\"BA\",\"INTC\",\"AAPL\",\"NVDA\",\"IBM\"]\n",
        "n = len(kode_saham)\n",
        "github = \"https://raw.githubusercontent.com/relfarizi/Portfolio-Saham/master/Data/\"\n",
        "#data[0] = \"https://raw.githubusercontent.com/relfarizi/Portfolio-Saham/master/\"+data[0]+\".csv\"\n",
        "#data[1] = \"https://raw.githubusercontent.com/relfarizi/Portfolio-Saham/master/BKRKF.csv\"\n",
        "#data[2] = \"https://raw.githubusercontent.com/relfarizi/Portfolio-Saham/master/PHJMF.csv\"\n",
        "#data[3] = \"https://raw.githubusercontent.com/relfarizi/Portfolio-Saham/master/PTAIF.csv\"\n",
        "#data[4] = \"https://raw.githubusercontent.com/relfarizi/Portfolio-Saham/master/TLKMF.csv\"\n",
        "\n",
        "df = []\n",
        "for i in range(n) :\n",
        "  datas = pd.read_csv(github+kode_saham[i]+\".csv\")\n",
        "  data_tmp = datas[\"Close\"]\n",
        "  df.append(data_tmp)\n",
        "  #print(data_tmp.shape)\n",
        "\n",
        "dataset = pd.concat(df, axis=1, sort=False)\n",
        "dataset.columns = kode_saham\n",
        "dataset"
      ],
      "execution_count": 305,
      "outputs": [
        {
          "output_type": "execute_result",
          "data": {
            "text/html": [
              "<div>\n",
              "<style scoped>\n",
              "    .dataframe tbody tr th:only-of-type {\n",
              "        vertical-align: middle;\n",
              "    }\n",
              "\n",
              "    .dataframe tbody tr th {\n",
              "        vertical-align: top;\n",
              "    }\n",
              "\n",
              "    .dataframe thead th {\n",
              "        text-align: right;\n",
              "    }\n",
              "</style>\n",
              "<table border=\"1\" class=\"dataframe\">\n",
              "  <thead>\n",
              "    <tr style=\"text-align: right;\">\n",
              "      <th></th>\n",
              "      <th>PBCRF</th>\n",
              "      <th>IBM</th>\n",
              "      <th>PHJMF</th>\n",
              "      <th>PTAIF</th>\n",
              "      <th>TLKMF</th>\n",
              "    </tr>\n",
              "  </thead>\n",
              "  <tbody>\n",
              "    <tr>\n",
              "      <th>0</th>\n",
              "      <td>1.13</td>\n",
              "      <td>169.529999</td>\n",
              "      <td>0.31</td>\n",
              "      <td>0.593</td>\n",
              "      <td>0.27</td>\n",
              "    </tr>\n",
              "    <tr>\n",
              "      <th>1</th>\n",
              "      <td>1.13</td>\n",
              "      <td>167.339996</td>\n",
              "      <td>0.31</td>\n",
              "      <td>0.593</td>\n",
              "      <td>0.29</td>\n",
              "    </tr>\n",
              "    <tr>\n",
              "      <th>2</th>\n",
              "      <td>1.13</td>\n",
              "      <td>170.550003</td>\n",
              "      <td>0.31</td>\n",
              "      <td>0.593</td>\n",
              "      <td>0.28</td>\n",
              "    </tr>\n",
              "    <tr>\n",
              "      <th>3</th>\n",
              "      <td>1.05</td>\n",
              "      <td>177.300003</td>\n",
              "      <td>0.29</td>\n",
              "      <td>0.593</td>\n",
              "      <td>0.26</td>\n",
              "    </tr>\n",
              "    <tr>\n",
              "      <th>4</th>\n",
              "      <td>1.12</td>\n",
              "      <td>175.820007</td>\n",
              "      <td>0.29</td>\n",
              "      <td>0.593</td>\n",
              "      <td>0.28</td>\n",
              "    </tr>\n",
              "    <tr>\n",
              "      <th>...</th>\n",
              "      <td>...</td>\n",
              "      <td>...</td>\n",
              "      <td>...</td>\n",
              "      <td>...</td>\n",
              "      <td>...</td>\n",
              "    </tr>\n",
              "    <tr>\n",
              "      <th>100</th>\n",
              "      <td>1.70</td>\n",
              "      <td>119.339996</td>\n",
              "      <td>0.24</td>\n",
              "      <td>0.480</td>\n",
              "      <td>0.25</td>\n",
              "    </tr>\n",
              "    <tr>\n",
              "      <th>101</th>\n",
              "      <td>1.73</td>\n",
              "      <td>119.900002</td>\n",
              "      <td>0.25</td>\n",
              "      <td>0.480</td>\n",
              "      <td>0.27</td>\n",
              "    </tr>\n",
              "    <tr>\n",
              "      <th>102</th>\n",
              "      <td>1.70</td>\n",
              "      <td>110.940002</td>\n",
              "      <td>0.25</td>\n",
              "      <td>0.480</td>\n",
              "      <td>0.26</td>\n",
              "    </tr>\n",
              "    <tr>\n",
              "      <th>103</th>\n",
              "      <td>1.73</td>\n",
              "      <td>113.029999</td>\n",
              "      <td>0.25</td>\n",
              "      <td>0.480</td>\n",
              "      <td>0.26</td>\n",
              "    </tr>\n",
              "    <tr>\n",
              "      <th>104</th>\n",
              "      <td>NaN</td>\n",
              "      <td>NaN</td>\n",
              "      <td>NaN</td>\n",
              "      <td>NaN</td>\n",
              "      <td>NaN</td>\n",
              "    </tr>\n",
              "  </tbody>\n",
              "</table>\n",
              "<p>105 rows × 5 columns</p>\n",
              "</div>"
            ],
            "text/plain": [
              "     PBCRF         IBM  PHJMF  PTAIF  TLKMF\n",
              "0     1.13  169.529999   0.31  0.593   0.27\n",
              "1     1.13  167.339996   0.31  0.593   0.29\n",
              "2     1.13  170.550003   0.31  0.593   0.28\n",
              "3     1.05  177.300003   0.29  0.593   0.26\n",
              "4     1.12  175.820007   0.29  0.593   0.28\n",
              "..     ...         ...    ...    ...    ...\n",
              "100   1.70  119.339996   0.24  0.480   0.25\n",
              "101   1.73  119.900002   0.25  0.480   0.27\n",
              "102   1.70  110.940002   0.25  0.480   0.26\n",
              "103   1.73  113.029999   0.25  0.480   0.26\n",
              "104    NaN         NaN    NaN    NaN    NaN\n",
              "\n",
              "[105 rows x 5 columns]"
            ]
          },
          "metadata": {
            "tags": []
          },
          "execution_count": 305
        }
      ]
    },
    {
      "cell_type": "code",
      "metadata": {
        "id": "BfnZHz8vxkW6",
        "colab_type": "code",
        "outputId": "205b3a29-d75a-4be8-c8f5-8cdcc96e949c",
        "colab": {
          "base_uri": "https://localhost:8080/",
          "height": 108
        }
      },
      "source": [
        "dataset = dataset.dropna()\n",
        "#print(type(dataset.corr()))\n",
        "list_corr = []\n",
        "for x in dataset.corr():\n",
        "  list_corr.append(dataset.corr()[x].tolist())\n",
        "  #print(dataset.corr()[x].tolist())\n",
        "rho = np.array(list_corr)\n",
        "print(rho)"
      ],
      "execution_count": 265,
      "outputs": [
        {
          "output_type": "stream",
          "text": [
            "[[ 1.         -0.56066585  0.17827889 -0.50894279 -0.38534622]\n",
            " [-0.56066585  1.          0.48841189  0.55194188  0.12149805]\n",
            " [ 0.17827889  0.48841189  1.          0.31961642 -0.0947149 ]\n",
            " [-0.50894279  0.55194188  0.31961642  1.          0.57773262]\n",
            " [-0.38534622  0.12149805 -0.0947149   0.57773262  1.        ]]\n"
          ],
          "name": "stdout"
        }
      ]
    },
    {
      "cell_type": "code",
      "metadata": {
        "id": "X0zv2wL_14cF",
        "colab_type": "code",
        "outputId": "9961909f-2b23-4bb8-fe4d-d4fba52e9ad3",
        "colab": {
          "base_uri": "https://localhost:8080/",
          "height": 35
        }
      },
      "source": [
        "import statistics as st\n",
        "var = []\n",
        "for x in dataset :\n",
        "  tmp = dataset[x].tolist()\n",
        "  var.append(st.variance(tmp))\n",
        "print(var)"
      ],
      "execution_count": 266,
      "outputs": [
        {
          "output_type": "stream",
          "text": [
            "[0.034232571228528755, 221.96610417552904, 0.0010388256161314412, 0.0034914524635922335, 0.0019262135922330098]\n"
          ],
          "name": "stdout"
        }
      ]
    },
    {
      "cell_type": "markdown",
      "metadata": {
        "id": "0OKx_5ia6Ij4",
        "colab_type": "text"
      },
      "source": [
        "# Multi sekuritas\n"
      ]
    },
    {
      "cell_type": "code",
      "metadata": {
        "id": "_IjEA--Wo34f",
        "colab_type": "code",
        "outputId": "4757c93b-2e92-4aa8-c9fe-6e14a4d4e17b",
        "colab": {
          "base_uri": "https://localhost:8080/",
          "height": 108
        }
      },
      "source": [
        "import numpy as np\n",
        "\n",
        "std_dev = []\n",
        "for i in var :\n",
        "  std_dev.append(np.sqrt(i))\n",
        "n = len(std_dev)\n",
        "\n",
        "u = np.ones(n)\n",
        "#print(u)\n",
        "#rho = np.zeros((n,n))\n",
        "#rho[0][1] = 0.1\n",
        "\n",
        "#rho[0][2] = 0.2\n",
        "#rho[0][3] = 0.2\n",
        "#rho[0][4] = 0.2\n",
        "#rho[1][2] = 0.2\n",
        "#rho[1][3] = 0.2\n",
        "#rho[1][4] = 0.2\n",
        "#rho[2][3] = 0.2\n",
        "#rho[2][4] = 0.2\n",
        "#rho[3][4] = 0.2\n",
        "\n",
        "for i in range(n) :\n",
        "  for j in range(n) :\n",
        "    if j == i :\n",
        "      rho[i][j] = 1\n",
        "    elif j < i :\n",
        "      rho[i][j] = rho[j][i]\n",
        "print(rho)"
      ],
      "execution_count": 267,
      "outputs": [
        {
          "output_type": "stream",
          "text": [
            "[[ 1.         -0.56066585  0.17827889 -0.50894279 -0.38534622]\n",
            " [-0.56066585  1.          0.48841189  0.55194188  0.12149805]\n",
            " [ 0.17827889  0.48841189  1.          0.31961642 -0.0947149 ]\n",
            " [-0.50894279  0.55194188  0.31961642  1.          0.57773262]\n",
            " [-0.38534622  0.12149805 -0.0947149   0.57773262  1.        ]]\n"
          ],
          "name": "stdout"
        }
      ]
    },
    {
      "cell_type": "code",
      "metadata": {
        "id": "XUdFWwwMHELt",
        "colab_type": "code",
        "outputId": "b7a0ad60-b0c1-421c-f003-75cf90216ebd",
        "colab": {
          "base_uri": "https://localhost:8080/",
          "height": 35
        }
      },
      "source": [
        "print(rho[0][1])"
      ],
      "execution_count": 268,
      "outputs": [
        {
          "output_type": "stream",
          "text": [
            "-0.5606658474727311\n"
          ],
          "name": "stdout"
        }
      ]
    },
    {
      "cell_type": "code",
      "metadata": {
        "id": "tjfy_FW2FPW8",
        "colab_type": "code",
        "colab": {}
      },
      "source": [
        "def is_short_selling(rho,std_dev):\n",
        "  n = len(rho)\n",
        "  print(n)\n",
        "  check = False\n",
        "  #rho = rho.sort()\n",
        "  std_Dev =std_dev.sort()\n",
        "\n",
        "  for i in range(n):\n",
        "    for j in range(n):\n",
        "      if i < j :\n",
        "        x = std_dev[i]/std_dev[j]\n",
        "        #print(rho[i][j])\n",
        "        if rho[i][j] > x :\n",
        "          check =True\n",
        "          break\n",
        "  return check"
      ],
      "execution_count": 0,
      "outputs": []
    },
    {
      "cell_type": "code",
      "metadata": {
        "id": "4j99HxrP3_Wm",
        "colab_type": "code",
        "outputId": "bf18b35e-d044-4a74-bafd-c7076d5a7ec1",
        "colab": {
          "base_uri": "https://localhost:8080/",
          "height": 108
        }
      },
      "source": [
        "print(rho)"
      ],
      "execution_count": 270,
      "outputs": [
        {
          "output_type": "stream",
          "text": [
            "[[ 1.         -0.56066585  0.17827889 -0.50894279 -0.38534622]\n",
            " [-0.56066585  1.          0.48841189  0.55194188  0.12149805]\n",
            " [ 0.17827889  0.48841189  1.          0.31961642 -0.0947149 ]\n",
            " [-0.50894279  0.55194188  0.31961642  1.          0.57773262]\n",
            " [-0.38534622  0.12149805 -0.0947149   0.57773262  1.        ]]\n"
          ],
          "name": "stdout"
        }
      ]
    },
    {
      "cell_type": "code",
      "metadata": {
        "id": "6xxB2i8_GwK3",
        "colab_type": "code",
        "outputId": "6f93008b-9baa-4fc2-8fdf-811235cc1453",
        "colab": {
          "base_uri": "https://localhost:8080/",
          "height": 53
        }
      },
      "source": [
        "is_short_selling(rho,std_dev)"
      ],
      "execution_count": 271,
      "outputs": [
        {
          "output_type": "stream",
          "text": [
            "5\n"
          ],
          "name": "stdout"
        },
        {
          "output_type": "execute_result",
          "data": {
            "text/plain": [
              "True"
            ]
          },
          "metadata": {
            "tags": []
          },
          "execution_count": 271
        }
      ]
    },
    {
      "cell_type": "code",
      "metadata": {
        "id": "0vEXEjumtGQF",
        "colab_type": "code",
        "outputId": "773089b9-1457-453c-ac9d-34949256f70a",
        "colab": {
          "base_uri": "https://localhost:8080/",
          "height": 198
        }
      },
      "source": [
        "C = (np.zeros((n,n)))\n",
        "\n",
        "for i in range(n):\n",
        "  for j in range(n) :\n",
        "    C[i][j] = std_dev[i]*rho[i][j]*std_dev[j]\n",
        "print(C)"
      ],
      "execution_count": 272,
      "outputs": [
        {
          "output_type": "stream",
          "text": [
            "[[ 1.03882562e-03 -7.93099450e-04  3.39526996e-04 -3.03500946e-03\n",
            "  -1.85040057e-01]\n",
            " [-7.93099450e-04  1.92621359e-03  1.26660593e-03  4.48193266e-03\n",
            "   7.94446866e-02]\n",
            " [ 3.39526996e-04  1.26660593e-03  3.49145246e-03  3.49423340e-03\n",
            "  -8.33805416e-02]\n",
            " [-3.03500946e-03  4.48193266e-03  3.49423340e-03  3.42325712e-02\n",
            "   1.59253864e+00]\n",
            " [-1.85040057e-01  7.94446866e-02 -8.33805416e-02  1.59253864e+00\n",
            "   2.21966104e+02]]\n"
          ],
          "name": "stdout"
        }
      ]
    },
    {
      "cell_type": "code",
      "metadata": {
        "id": "3hwGZW6iwQNH",
        "colab_type": "code",
        "outputId": "56db1c3c-c5b9-497b-9124-fac985a33a7d",
        "colab": {
          "base_uri": "https://localhost:8080/",
          "height": 53
        }
      },
      "source": [
        "from numpy.linalg import inv\n",
        "from numpy.linalg import det\n",
        "u = np.ones(n)\n",
        "uT = np.transpose(u)\n",
        "\n",
        "CInv = inv(C)\n",
        "\n",
        "w = np.dot(u,CInv)/(u.dot(CInv).dot(uT))\n",
        "print(w)"
      ],
      "execution_count": 273,
      "outputs": [
        {
          "output_type": "stream",
          "text": [
            "[ 7.01980022e-01  4.75962932e-01 -1.92255130e-01  1.40695991e-02\n",
            "  2.42576973e-04]\n"
          ],
          "name": "stdout"
        }
      ]
    },
    {
      "cell_type": "code",
      "metadata": {
        "id": "DdcSSGjLwYzR",
        "colab_type": "code",
        "outputId": "7251d52f-53e4-451c-9ac9-5ea4eb2e20ae",
        "colab": {
          "base_uri": "https://localhost:8080/",
          "height": 35
        }
      },
      "source": [
        "#w = np.array([0.3,0.4])\n",
        "wT = np.transpose(w)\n",
        "x = np.dot(u,wT)\n",
        "print(\"jumlah w = \",x)"
      ],
      "execution_count": 274,
      "outputs": [
        {
          "output_type": "stream",
          "text": [
            "jumlah w =  1.0\n"
          ],
          "name": "stdout"
        }
      ]
    },
    {
      "cell_type": "code",
      "metadata": {
        "id": "uF0PiR3x5IyE",
        "colab_type": "code",
        "outputId": "be98fe79-e118-45e3-e662-19bfbfb7dfdd",
        "colab": {
          "base_uri": "https://localhost:8080/",
          "height": 35
        }
      },
      "source": [
        "risk = w.dot(C).dot(wT)\n",
        "print(risk)"
      ],
      "execution_count": 275,
      "outputs": [
        {
          "output_type": "stream",
          "text": [
            "0.00019888525890988078\n"
          ],
          "name": "stdout"
        }
      ]
    },
    {
      "cell_type": "markdown",
      "metadata": {
        "id": "2lPrbuwozieS",
        "colab_type": "text"
      },
      "source": [
        "Expected return saham\n"
      ]
    },
    {
      "cell_type": "code",
      "metadata": {
        "id": "oNcz2cigzlnm",
        "colab_type": "code",
        "colab": {}
      },
      "source": [
        "import math\n",
        "def find_ud(saham) :\n",
        "  K = []\n",
        "  \n",
        "  \n",
        "  for i in range(len(saham)-1) :\n",
        "    x = (saham[i+1]-saham[i])/saham[i]\n",
        "    K.append(x)\n",
        "  up = []\n",
        "  down = []\n",
        "\n",
        "  for i in K :\n",
        "    if i > 0 :\n",
        "      x = 1\n",
        "      y = 0\n",
        "    else :\n",
        "      x = 0\n",
        "      y = 1\n",
        "    up.append(x)\n",
        "    down.append(y)\n",
        "  \n",
        "  x_up = 1\n",
        "  x_down = 1\n",
        "\n",
        "  sum_u = 0\n",
        "  sum_d = 0\n",
        "\n",
        "  for i in range(len(K)) :\n",
        "    x_up += K[i]*up[i]\n",
        "    sum_u += up[i]\n",
        "    x_down += K[i]*down[i]\n",
        "    sum_d += down[i]\n",
        "  \n",
        "  u = x_up/sum_u\n",
        "  d = x_up/sum_d\n",
        "\n",
        "  p = sum_u/(sum_u+sum_d)\n",
        "  q = 1-p\n",
        "\n",
        "  result = {\"u\" : u, \"d\" : d,\"p\":p,\"q\":q}\n",
        "  \n",
        "  return result"
      ],
      "execution_count": 0,
      "outputs": []
    },
    {
      "cell_type": "code",
      "metadata": {
        "id": "X3FpZ9MCFsy0",
        "colab_type": "code",
        "colab": {}
      },
      "source": [
        "def return_saham(df_saham) :\n",
        "  result = {}\n",
        "  for saham in df_saham :\n",
        "    x = find_ud(df_saham[saham])\n",
        "    exp = (x[\"u\"]*x[\"p\"])+(x[\"d\"]*x[\"q\"])\n",
        "    result[saham] = exp\n",
        "  return result"
      ],
      "execution_count": 0,
      "outputs": []
    },
    {
      "cell_type": "code",
      "metadata": {
        "id": "tL_NXG_aIZSq",
        "colab_type": "code",
        "colab": {}
      },
      "source": [
        "return_ = return_saham(dataset)\n",
        "m = []\n",
        "for saham in return_ :\n",
        "  m.append(return_[saham])"
      ],
      "execution_count": 0,
      "outputs": []
    },
    {
      "cell_type": "code",
      "metadata": {
        "id": "UIsKSW8z4Gac",
        "colab_type": "code",
        "outputId": "67cf952e-6b40-4d66-cbf7-4d75f62b7313",
        "colab": {
          "base_uri": "https://localhost:8080/",
          "height": 168
        }
      },
      "source": [
        "\n",
        "import pandas as pd\n",
        "\n",
        "m = np.array(m)\n",
        "print(m)\n",
        "EK = m.dot(wT)\n",
        "print(\"ekspektasi return = \", EK)\n",
        "risk = w.dot(C).dot(wT)\n",
        "print(\"risk = \",risk)\n",
        "\n",
        "portfolio=[round(x,4) for x in w]\n",
        "portfolio.append(EK)\n",
        "portfolio.append(risk)\n",
        "print(portfolio)\n",
        "\n",
        "df_port = pd.DataFrame([portfolio])\n",
        "column = kode_saham\n",
        "print(kode_saham)\n",
        "column.append(\"Expected Return\")\n",
        "column.append(\"Risiko\")\n",
        "df_port.columns = column\n",
        "df_port"
      ],
      "execution_count": 279,
      "outputs": [
        {
          "output_type": "stream",
          "text": [
            "[0.04988471 0.03712816 0.0321097  0.03255372 0.08804206]\n",
            "ekspektasi return =  0.046995815216853684\n",
            "risk =  0.00019888525890988078\n",
            "[0.702, 0.476, -0.1923, 0.0141, 0.0002, 0.046995815216853684, 0.00019888525890988078]\n",
            "['PBCRF', 'IBM', 'PHJMF', 'PTAIF', 'TLKMF']\n"
          ],
          "name": "stdout"
        },
        {
          "output_type": "execute_result",
          "data": {
            "text/html": [
              "<div>\n",
              "<style scoped>\n",
              "    .dataframe tbody tr th:only-of-type {\n",
              "        vertical-align: middle;\n",
              "    }\n",
              "\n",
              "    .dataframe tbody tr th {\n",
              "        vertical-align: top;\n",
              "    }\n",
              "\n",
              "    .dataframe thead th {\n",
              "        text-align: right;\n",
              "    }\n",
              "</style>\n",
              "<table border=\"1\" class=\"dataframe\">\n",
              "  <thead>\n",
              "    <tr style=\"text-align: right;\">\n",
              "      <th></th>\n",
              "      <th>PBCRF</th>\n",
              "      <th>IBM</th>\n",
              "      <th>PHJMF</th>\n",
              "      <th>PTAIF</th>\n",
              "      <th>TLKMF</th>\n",
              "      <th>Expected Return</th>\n",
              "      <th>Risiko</th>\n",
              "    </tr>\n",
              "  </thead>\n",
              "  <tbody>\n",
              "    <tr>\n",
              "      <th>0</th>\n",
              "      <td>0.702</td>\n",
              "      <td>0.476</td>\n",
              "      <td>-0.1923</td>\n",
              "      <td>0.0141</td>\n",
              "      <td>0.0002</td>\n",
              "      <td>0.046996</td>\n",
              "      <td>0.000199</td>\n",
              "    </tr>\n",
              "  </tbody>\n",
              "</table>\n",
              "</div>"
            ],
            "text/plain": [
              "   PBCRF    IBM   PHJMF   PTAIF   TLKMF  Expected Return    Risiko\n",
              "0  0.702  0.476 -0.1923  0.0141  0.0002         0.046996  0.000199"
            ]
          },
          "metadata": {
            "tags": []
          },
          "execution_count": 279
        }
      ]
    },
    {
      "cell_type": "code",
      "metadata": {
        "id": "To2paLsJ5Eny",
        "colab_type": "code",
        "outputId": "87c1942b-abc4-4c7d-b7ac-f625934c0b4c",
        "colab": {
          "base_uri": "https://localhost:8080/",
          "height": 126
        }
      },
      "source": [
        "mT = np.transpose(m)\n",
        "e_r = 0.1\n",
        "w_new = []\n",
        "list_EK = []\n",
        "for i in range(4) :\n",
        "  e_r *= 1.2\n",
        "  list_EK.append(e_r)\n",
        "  \n",
        "  matA = np.dot(u,(CInv))\n",
        "  matB = np.dot(m,(CInv))\n",
        "  mat1 = u.dot(CInv).dot(mT)\n",
        "  mat2 = m.dot(CInv).dot(mT)\n",
        "  mat3 = u.dot(CInv).dot(uT)\n",
        "  mat4 = m.dot(CInv).dot(uT)\n",
        "\n",
        "  A1 = np.array([[1,mat1],[e_r,mat2]]) \n",
        "  A2 = np.array([[mat3,1],[mat4,e_r]])\n",
        "  A3 = np.array([[mat3,mat1],[mat4,mat2]])\n",
        "\n",
        "  det1 = det([[1,mat1],[e_r,mat2]])\n",
        "  det2 = det([[mat3,1],[mat4,e_r]])\n",
        "  det3 = det([[mat3,mat1],[mat4,mat2]])\n",
        "  w = ((det1*matA)+(det2*matB))/det3\n",
        "  w_new.append(w)\n",
        "print(w_new)\n",
        "print(list_EK)"
      ],
      "execution_count": 286,
      "outputs": [
        {
          "output_type": "stream",
          "text": [
            "[array([ 5.08510668e+00, -5.37086106e-01, -4.30883716e+00,  7.63339013e-01,\n",
            "       -2.52242700e-03]), array([ 6.52605202e+00, -8.70124233e-01, -5.66215641e+00,  1.00966004e+00,\n",
            "       -3.43141729e-03]), array([ 8.25518643e+00, -1.26976998e+00, -7.28613952e+00,  1.30524528e+00,\n",
            "       -4.52220564e-03]), array([ 1.03301477e+01, -1.74934489e+00, -9.23491924e+00,  1.65994756e+00,\n",
            "       -5.83115166e-03])]\n",
            "[0.12, 0.144, 0.17279999999999998, 0.20735999999999996]\n"
          ],
          "name": "stdout"
        }
      ]
    },
    {
      "cell_type": "code",
      "metadata": {
        "id": "jxCVYqtkwC-K",
        "colab_type": "code",
        "colab": {
          "base_uri": "https://localhost:8080/",
          "height": 236
        },
        "outputId": "2485f791-a07c-4a5a-f22c-055fb2eb71d1"
      },
      "source": [
        "list_bobot = []\n",
        "i = 0\n",
        "for bobot in w_new :\n",
        "  tmp = []\n",
        "  wT = np.transpose(bobot)\n",
        "  risk = bobot.dot(C).dot(wT)\n",
        "  for x in bobot :\n",
        "    tmp.append(x)\n",
        "  tmp.append(list_EK[i])\n",
        "  tmp.append(risk)\n",
        "  list_bobot.append(tmp)\n",
        "  i+=1\n",
        "print(list_bobot)\n",
        "\n",
        "df = pd.DataFrame(list_bobot)\n",
        "df.columns = column\n",
        "df_port = df_port.append(df,ignore_index=True)\n",
        "df_port"
      ],
      "execution_count": 295,
      "outputs": [
        {
          "output_type": "stream",
          "text": [
            "[[5.085106682163839, -0.5370861061937277, -4.308837162325072, 0.763339013351084, -0.0025224269963386994, 0.12, 0.05570991281421769], [6.526052021995538, -0.8701242325175776, -5.662156414889119, 1.0096600426996356, -0.003431417288672797, 0.144, 0.09820760037140475], [8.255186429793662, -1.2697699841061463, -7.2861395179660144, 1.305245277917901, -0.004522205639473684, 0.17279999999999998, 0.16504318381316518], [10.33014771915098, -1.7493448860127303, -9.234919241658135, 1.6599475601798068, -0.005831151660434879, 0.20735999999999996, 0.2680531200005913]]\n"
          ],
          "name": "stdout"
        },
        {
          "output_type": "execute_result",
          "data": {
            "text/html": [
              "<div>\n",
              "<style scoped>\n",
              "    .dataframe tbody tr th:only-of-type {\n",
              "        vertical-align: middle;\n",
              "    }\n",
              "\n",
              "    .dataframe tbody tr th {\n",
              "        vertical-align: top;\n",
              "    }\n",
              "\n",
              "    .dataframe thead th {\n",
              "        text-align: right;\n",
              "    }\n",
              "</style>\n",
              "<table border=\"1\" class=\"dataframe\">\n",
              "  <thead>\n",
              "    <tr style=\"text-align: right;\">\n",
              "      <th></th>\n",
              "      <th>PBCRF</th>\n",
              "      <th>IBM</th>\n",
              "      <th>PHJMF</th>\n",
              "      <th>PTAIF</th>\n",
              "      <th>TLKMF</th>\n",
              "      <th>Expected Return</th>\n",
              "      <th>Risiko</th>\n",
              "    </tr>\n",
              "  </thead>\n",
              "  <tbody>\n",
              "    <tr>\n",
              "      <th>0</th>\n",
              "      <td>0.702000</td>\n",
              "      <td>0.476000</td>\n",
              "      <td>-0.192300</td>\n",
              "      <td>0.014100</td>\n",
              "      <td>0.000200</td>\n",
              "      <td>0.046996</td>\n",
              "      <td>0.000199</td>\n",
              "    </tr>\n",
              "    <tr>\n",
              "      <th>1</th>\n",
              "      <td>5.085107</td>\n",
              "      <td>-0.537086</td>\n",
              "      <td>-4.308837</td>\n",
              "      <td>0.763339</td>\n",
              "      <td>-0.002522</td>\n",
              "      <td>0.120000</td>\n",
              "      <td>0.055710</td>\n",
              "    </tr>\n",
              "    <tr>\n",
              "      <th>2</th>\n",
              "      <td>6.526052</td>\n",
              "      <td>-0.870124</td>\n",
              "      <td>-5.662156</td>\n",
              "      <td>1.009660</td>\n",
              "      <td>-0.003431</td>\n",
              "      <td>0.144000</td>\n",
              "      <td>0.098208</td>\n",
              "    </tr>\n",
              "    <tr>\n",
              "      <th>3</th>\n",
              "      <td>8.255186</td>\n",
              "      <td>-1.269770</td>\n",
              "      <td>-7.286140</td>\n",
              "      <td>1.305245</td>\n",
              "      <td>-0.004522</td>\n",
              "      <td>0.172800</td>\n",
              "      <td>0.165043</td>\n",
              "    </tr>\n",
              "    <tr>\n",
              "      <th>4</th>\n",
              "      <td>10.330148</td>\n",
              "      <td>-1.749345</td>\n",
              "      <td>-9.234919</td>\n",
              "      <td>1.659948</td>\n",
              "      <td>-0.005831</td>\n",
              "      <td>0.207360</td>\n",
              "      <td>0.268053</td>\n",
              "    </tr>\n",
              "  </tbody>\n",
              "</table>\n",
              "</div>"
            ],
            "text/plain": [
              "       PBCRF       IBM     PHJMF     PTAIF     TLKMF  Expected Return    Risiko\n",
              "0   0.702000  0.476000 -0.192300  0.014100  0.000200         0.046996  0.000199\n",
              "1   5.085107 -0.537086 -4.308837  0.763339 -0.002522         0.120000  0.055710\n",
              "2   6.526052 -0.870124 -5.662156  1.009660 -0.003431         0.144000  0.098208\n",
              "3   8.255186 -1.269770 -7.286140  1.305245 -0.004522         0.172800  0.165043\n",
              "4  10.330148 -1.749345 -9.234919  1.659948 -0.005831         0.207360  0.268053"
            ]
          },
          "metadata": {
            "tags": []
          },
          "execution_count": 295
        }
      ]
    },
    {
      "cell_type": "code",
      "metadata": {
        "id": "YnqVeJBFzjft",
        "colab_type": "code",
        "colab": {
          "base_uri": "https://localhost:8080/",
          "height": 279
        },
        "outputId": "340d297d-3849-47ea-977f-7cc26a93f098"
      },
      "source": [
        "import matplotlib.pyplot as plt\n",
        "\n",
        "y = df_port[\"Expected Return\"]\n",
        "x = df_port[\"Risiko\"]\n",
        "\n",
        "plt.plot(x,y)\n",
        "plt.scatter(x,y)\n",
        "plt.xlabel(\"Expected Return\")\n",
        "plt.ylabel(\"Risiko\")\n",
        "plt.show()"
      ],
      "execution_count": 303,
      "outputs": [
        {
          "output_type": "display_data",
          "data": {
            "image/png": "[encoded data removed]",
            "text/plain": [
              "<Figure size 432x288 with 1 Axes>"
            ]
          },
          "metadata": {
            "tags": [],
            "needs_background": "light"
          }
        }
      ]
    }
  ]
}