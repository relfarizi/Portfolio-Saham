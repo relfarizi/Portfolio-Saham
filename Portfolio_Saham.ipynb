{
  "nbformat": 4,
  "nbformat_minor": 0,
  "metadata": {
    "colab": {
      "name": "Portfolio Saham.ipynb",
      "provenance": [],
      "collapsed_sections": []
    },
    "kernelspec": {
      "name": "python3",
      "display_name": "Python 3"
    }
  },
  "cells": [
    {
      "cell_type": "markdown",
      "metadata": {
        "id": "IyP4QRhtch0F",
        "colab_type": "text"
      },
      "source": [
        "Load Data"
      ]
    },
    {
      "cell_type": "code",
      "metadata": {
        "id": "UekvxCwzchSo",
        "colab_type": "code",
        "colab": {
          "base_uri": "https://localhost:8080/",
          "height": 406
        },
        "outputId": "448982f9-9c99-4aac-c719-de040a57ecaa"
      },
      "source": [
        "import pandas as pd\n",
        "\n",
        "data = [\"PBCRF\",\"BKRKF\",\"PHJMF\",\"PTAIF\",\"TLKMF\"]\n",
        "n = len(data)\n",
        "github = \"https://raw.githubusercontent.com/relfarizi/Portfolio-Saham/master/\"\n",
        "#data[0] = \"https://raw.githubusercontent.com/relfarizi/Portfolio-Saham/master/\"+data[0]+\".csv\"\n",
        "#data[1] = \"https://raw.githubusercontent.com/relfarizi/Portfolio-Saham/master/BKRKF.csv\"\n",
        "#data[2] = \"https://raw.githubusercontent.com/relfarizi/Portfolio-Saham/master/PHJMF.csv\"\n",
        "#data[3] = \"https://raw.githubusercontent.com/relfarizi/Portfolio-Saham/master/PTAIF.csv\"\n",
        "#data[4] = \"https://raw.githubusercontent.com/relfarizi/Portfolio-Saham/master/TLKMF.csv\"\n",
        "\n",
        "df = []\n",
        "for i in range(n) :\n",
        "  datas = pd.read_csv(github+data[i]+\".csv\")\n",
        "  data_tmp = datas[\"Close\"]\n",
        "  df.append(data_tmp)\n",
        "  #print(data_tmp.shape)\n",
        "\n",
        "dataset = pd.concat(df, axis=1, sort=False)\n",
        "dataset.columns = data\n",
        "dataset"
      ],
      "execution_count": 37,
      "outputs": [
        {
          "output_type": "execute_result",
          "data": {
            "text/html": [
              "<div>\n",
              "<style scoped>\n",
              "    .dataframe tbody tr th:only-of-type {\n",
              "        vertical-align: middle;\n",
              "    }\n",
              "\n",
              "    .dataframe tbody tr th {\n",
              "        vertical-align: top;\n",
              "    }\n",
              "\n",
              "    .dataframe thead th {\n",
              "        text-align: right;\n",
              "    }\n",
              "</style>\n",
              "<table border=\"1\" class=\"dataframe\">\n",
              "  <thead>\n",
              "    <tr style=\"text-align: right;\">\n",
              "      <th></th>\n",
              "      <th>PBCRF</th>\n",
              "      <th>BKRKF</th>\n",
              "      <th>PHJMF</th>\n",
              "      <th>PTAIF</th>\n",
              "      <th>TLKMF</th>\n",
              "    </tr>\n",
              "  </thead>\n",
              "  <tbody>\n",
              "    <tr>\n",
              "      <th>0</th>\n",
              "      <td>1.13</td>\n",
              "      <td>0.176</td>\n",
              "      <td>0.31</td>\n",
              "      <td>0.593</td>\n",
              "      <td>0.27</td>\n",
              "    </tr>\n",
              "    <tr>\n",
              "      <th>1</th>\n",
              "      <td>1.13</td>\n",
              "      <td>0.186</td>\n",
              "      <td>0.31</td>\n",
              "      <td>0.593</td>\n",
              "      <td>0.29</td>\n",
              "    </tr>\n",
              "    <tr>\n",
              "      <th>2</th>\n",
              "      <td>1.13</td>\n",
              "      <td>0.172</td>\n",
              "      <td>0.31</td>\n",
              "      <td>0.593</td>\n",
              "      <td>0.28</td>\n",
              "    </tr>\n",
              "    <tr>\n",
              "      <th>3</th>\n",
              "      <td>1.05</td>\n",
              "      <td>0.172</td>\n",
              "      <td>0.29</td>\n",
              "      <td>0.593</td>\n",
              "      <td>0.26</td>\n",
              "    </tr>\n",
              "    <tr>\n",
              "      <th>4</th>\n",
              "      <td>1.12</td>\n",
              "      <td>0.178</td>\n",
              "      <td>0.29</td>\n",
              "      <td>0.593</td>\n",
              "      <td>0.28</td>\n",
              "    </tr>\n",
              "    <tr>\n",
              "      <th>...</th>\n",
              "      <td>...</td>\n",
              "      <td>...</td>\n",
              "      <td>...</td>\n",
              "      <td>...</td>\n",
              "      <td>...</td>\n",
              "    </tr>\n",
              "    <tr>\n",
              "      <th>100</th>\n",
              "      <td>1.70</td>\n",
              "      <td>0.250</td>\n",
              "      <td>0.24</td>\n",
              "      <td>0.480</td>\n",
              "      <td>0.25</td>\n",
              "    </tr>\n",
              "    <tr>\n",
              "      <th>101</th>\n",
              "      <td>1.73</td>\n",
              "      <td>0.240</td>\n",
              "      <td>0.25</td>\n",
              "      <td>0.480</td>\n",
              "      <td>0.27</td>\n",
              "    </tr>\n",
              "    <tr>\n",
              "      <th>102</th>\n",
              "      <td>1.70</td>\n",
              "      <td>0.250</td>\n",
              "      <td>0.25</td>\n",
              "      <td>0.480</td>\n",
              "      <td>0.26</td>\n",
              "    </tr>\n",
              "    <tr>\n",
              "      <th>103</th>\n",
              "      <td>1.73</td>\n",
              "      <td>0.260</td>\n",
              "      <td>0.25</td>\n",
              "      <td>0.480</td>\n",
              "      <td>0.26</td>\n",
              "    </tr>\n",
              "    <tr>\n",
              "      <th>104</th>\n",
              "      <td>NaN</td>\n",
              "      <td>NaN</td>\n",
              "      <td>NaN</td>\n",
              "      <td>NaN</td>\n",
              "      <td>NaN</td>\n",
              "    </tr>\n",
              "  </tbody>\n",
              "</table>\n",
              "<p>105 rows × 5 columns</p>\n",
              "</div>"
            ],
            "text/plain": [
              "     PBCRF  BKRKF  PHJMF  PTAIF  TLKMF\n",
              "0     1.13  0.176   0.31  0.593   0.27\n",
              "1     1.13  0.186   0.31  0.593   0.29\n",
              "2     1.13  0.172   0.31  0.593   0.28\n",
              "3     1.05  0.172   0.29  0.593   0.26\n",
              "4     1.12  0.178   0.29  0.593   0.28\n",
              "..     ...    ...    ...    ...    ...\n",
              "100   1.70  0.250   0.24  0.480   0.25\n",
              "101   1.73  0.240   0.25  0.480   0.27\n",
              "102   1.70  0.250   0.25  0.480   0.26\n",
              "103   1.73  0.260   0.25  0.480   0.26\n",
              "104    NaN    NaN    NaN    NaN    NaN\n",
              "\n",
              "[105 rows x 5 columns]"
            ]
          },
          "metadata": {
            "tags": []
          },
          "execution_count": 37
        }
      ]
    },
    {
      "cell_type": "code",
      "metadata": {
        "id": "BfnZHz8vxkW6",
        "colab_type": "code",
        "colab": {
          "base_uri": "https://localhost:8080/",
          "height": 197
        },
        "outputId": "1b02b766-c3bf-4db5-f77a-a0c6420e3d2c"
      },
      "source": [
        "dataset.corr()"
      ],
      "execution_count": 39,
      "outputs": [
        {
          "output_type": "execute_result",
          "data": {
            "text/html": [
              "<div>\n",
              "<style scoped>\n",
              "    .dataframe tbody tr th:only-of-type {\n",
              "        vertical-align: middle;\n",
              "    }\n",
              "\n",
              "    .dataframe tbody tr th {\n",
              "        vertical-align: top;\n",
              "    }\n",
              "\n",
              "    .dataframe thead th {\n",
              "        text-align: right;\n",
              "    }\n",
              "</style>\n",
              "<table border=\"1\" class=\"dataframe\">\n",
              "  <thead>\n",
              "    <tr style=\"text-align: right;\">\n",
              "      <th></th>\n",
              "      <th>PBCRF</th>\n",
              "      <th>BKRKF</th>\n",
              "      <th>PHJMF</th>\n",
              "      <th>PTAIF</th>\n",
              "      <th>TLKMF</th>\n",
              "    </tr>\n",
              "  </thead>\n",
              "  <tbody>\n",
              "    <tr>\n",
              "      <th>PBCRF</th>\n",
              "      <td>1.000000</td>\n",
              "      <td>0.761590</td>\n",
              "      <td>0.178279</td>\n",
              "      <td>-0.508943</td>\n",
              "      <td>-0.385346</td>\n",
              "    </tr>\n",
              "    <tr>\n",
              "      <th>BKRKF</th>\n",
              "      <td>0.761590</td>\n",
              "      <td>1.000000</td>\n",
              "      <td>0.516992</td>\n",
              "      <td>-0.054325</td>\n",
              "      <td>-0.102884</td>\n",
              "    </tr>\n",
              "    <tr>\n",
              "      <th>PHJMF</th>\n",
              "      <td>0.178279</td>\n",
              "      <td>0.516992</td>\n",
              "      <td>1.000000</td>\n",
              "      <td>0.319616</td>\n",
              "      <td>-0.094715</td>\n",
              "    </tr>\n",
              "    <tr>\n",
              "      <th>PTAIF</th>\n",
              "      <td>-0.508943</td>\n",
              "      <td>-0.054325</td>\n",
              "      <td>0.319616</td>\n",
              "      <td>1.000000</td>\n",
              "      <td>0.577733</td>\n",
              "    </tr>\n",
              "    <tr>\n",
              "      <th>TLKMF</th>\n",
              "      <td>-0.385346</td>\n",
              "      <td>-0.102884</td>\n",
              "      <td>-0.094715</td>\n",
              "      <td>0.577733</td>\n",
              "      <td>1.000000</td>\n",
              "    </tr>\n",
              "  </tbody>\n",
              "</table>\n",
              "</div>"
            ],
            "text/plain": [
              "          PBCRF     BKRKF     PHJMF     PTAIF     TLKMF\n",
              "PBCRF  1.000000  0.761590  0.178279 -0.508943 -0.385346\n",
              "BKRKF  0.761590  1.000000  0.516992 -0.054325 -0.102884\n",
              "PHJMF  0.178279  0.516992  1.000000  0.319616 -0.094715\n",
              "PTAIF -0.508943 -0.054325  0.319616  1.000000  0.577733\n",
              "TLKMF -0.385346 -0.102884 -0.094715  0.577733  1.000000"
            ]
          },
          "metadata": {
            "tags": []
          },
          "execution_count": 39
        }
      ]
    },
    {
      "cell_type": "code",
      "metadata": {
        "id": "QB6Zzo4Cc3is",
        "colab_type": "code",
        "colab": {
          "base_uri": "https://localhost:8080/",
          "height": 35
        },
        "outputId": "710b1fa2-5cf5-4e1e-9c0b-450f2fb8689a"
      },
      "source": [
        "import statistics as st\n",
        "\n",
        "var = st.variance(data_1[\"Close\"])\n",
        "print(var)"
      ],
      "execution_count": 16,
      "outputs": [
        {
          "output_type": "stream",
          "text": [
            "22162287.64909875\n"
          ],
          "name": "stdout"
        }
      ]
    },
    {
      "cell_type": "markdown",
      "metadata": {
        "id": "0OKx_5ia6Ij4",
        "colab_type": "text"
      },
      "source": [
        "# Multi sekuritas\n"
      ]
    },
    {
      "cell_type": "code",
      "metadata": {
        "id": "_IjEA--Wo34f",
        "colab_type": "code",
        "outputId": "3fdf5b66-4c24-4c62-fdc3-ab4f78d3b7b7",
        "colab": {
          "base_uri": "https://localhost:8080/",
          "height": 53
        }
      },
      "source": [
        "import numpy as np\n",
        "\n",
        "std_dev = [0.2,0.3]\n",
        "n = len(std_dev)\n",
        "\n",
        "u = np.ones(n)\n",
        "#print(u)\n",
        "rho = np.zeros((n,n))\n",
        "\n",
        "rho[0][1] = 0.1\n",
        "\n",
        "#rho[0][2] = 0.2\n",
        "#rho[0][3] = 0.2\n",
        "#rho[0][4] = 0.2\n",
        "#rho[1][2] = 0.2\n",
        "#rho[1][3] = 0.2\n",
        "#rho[1][4] = 0.2\n",
        "#rho[2][3] = 0.2\n",
        "#rho[2][4] = 0.2\n",
        "#rho[3][4] = 0.2\n",
        "\n",
        "for i in range(n) :\n",
        "  for j in range(n) :\n",
        "    if j == i :\n",
        "      rho[i][j] = 1\n",
        "    elif j < i :\n",
        "      rho[i][j] = rho[j][i]\n",
        "print(rho)"
      ],
      "execution_count": 0,
      "outputs": [
        {
          "output_type": "stream",
          "text": [
            "[[1.  0.1]\n",
            " [0.1 1. ]]\n"
          ],
          "name": "stdout"
        }
      ]
    },
    {
      "cell_type": "code",
      "metadata": {
        "id": "XUdFWwwMHELt",
        "colab_type": "code",
        "outputId": "816e1797-5b74-4a5f-c18c-af64b316b652",
        "colab": {
          "base_uri": "https://localhost:8080/",
          "height": 35
        }
      },
      "source": [
        "print(rho[0][1])"
      ],
      "execution_count": 0,
      "outputs": [
        {
          "output_type": "stream",
          "text": [
            "0.1\n"
          ],
          "name": "stdout"
        }
      ]
    },
    {
      "cell_type": "code",
      "metadata": {
        "id": "tjfy_FW2FPW8",
        "colab_type": "code",
        "colab": {}
      },
      "source": [
        "def is_short_selling(rho,std_dev):\n",
        "  n = len(rho)\n",
        "  print(n)\n",
        "  check = False\n",
        "  #rho = rho.sort()\n",
        "  std_Dev =std_dev.sort()\n",
        "\n",
        "  for i in range(n):\n",
        "    for j in range(n):\n",
        "      if i < j :\n",
        "        x = std_dev[i]/std_dev[j]\n",
        "        print(rho[i][j])\n",
        "        if rho[i][j] > x :\n",
        "          check =True\n",
        "          break\n",
        "  return check"
      ],
      "execution_count": 0,
      "outputs": []
    },
    {
      "cell_type": "code",
      "metadata": {
        "id": "6oGZHYqgxm12",
        "colab_type": "code",
        "outputId": "0f1674ae-c6ea-47aa-f65f-07f7f6d78003",
        "colab": {
          "base_uri": "https://localhost:8080/",
          "height": 53
        }
      },
      "source": [
        "import math\n",
        "\n",
        "\n",
        "\n",
        "sigma1_2 = 0.04\n",
        "sigma1 = math.sqrt(sigma1_2) \n",
        "\n",
        "#sigma1 = \n",
        "#sigma1_2 = pow(sigma1,2)\n",
        "\n",
        "sigma2_2 = 0.09 \n",
        "sigma2 = math.sqrt(sigma2_2)\n",
        "\n",
        "#sigma2 =\n",
        "#sigma2_2 = pow(sigma2,2)\n",
        "rho = 0.1\n",
        "\n",
        "x = (2*rho*sigma1*sigma2)\n",
        "w2 = (sigma1_2 - x)/(sigma1_2+sigma2_2-x)\n",
        "w1 = 1-w2\n",
        "\n",
        "w2 = round(w2,4) \n",
        "w1 = round(w1,4)\n",
        "\n",
        "sigmav_2 = (pow(w1,2)*sigma1_2) + (pow(w2,2)*sigma2_2) + (2*w1*w1*rho*sigma1*sigma2)\n",
        "sigmav_2 = round(sigmav_2,4)\n",
        "\n",
        "\n",
        "#short selling\n",
        "# asumsi diberikan sigma1 > sigma2\n",
        "\n",
        "if rho >= (sigma1/sigma2) :\n",
        "  print(\"short selling\")\n",
        "else :\n",
        "  print(\"tidak shoort selling\")\n",
        "print(w1,w2,sigmav_2)"
      ],
      "execution_count": 0,
      "outputs": [
        {
          "output_type": "stream",
          "text": [
            "tidak shoort selling\n",
            "0.7627 0.2373 0.0353\n"
          ],
          "name": "stdout"
        }
      ]
    },
    {
      "cell_type": "code",
      "metadata": {
        "id": "6xxB2i8_GwK3",
        "colab_type": "code",
        "outputId": "7bb47e72-5630-4711-e1be-3d0d821999b7",
        "colab": {
          "base_uri": "https://localhost:8080/",
          "height": 72
        }
      },
      "source": [
        "is_short_selling(rho,std_dev)"
      ],
      "execution_count": 0,
      "outputs": [
        {
          "output_type": "stream",
          "text": [
            "2\n",
            "0.1\n"
          ],
          "name": "stdout"
        },
        {
          "output_type": "execute_result",
          "data": {
            "text/plain": [
              "False"
            ]
          },
          "metadata": {
            "tags": []
          },
          "execution_count": 50
        }
      ]
    },
    {
      "cell_type": "code",
      "metadata": {
        "id": "0vEXEjumtGQF",
        "colab_type": "code",
        "outputId": "9586413d-4e82-4751-8387-2020eb4c6e02",
        "colab": {
          "base_uri": "https://localhost:8080/",
          "height": 53
        }
      },
      "source": [
        "C = (np.zeros((n,n)))\n",
        "\n",
        "for i in range(n):\n",
        "  for j in range(n) :\n",
        "    C[i][j] = std_dev[i]*rho[i][j]*std_dev[j]\n",
        "print(C)"
      ],
      "execution_count": 0,
      "outputs": [
        {
          "output_type": "stream",
          "text": [
            "[[0.04  0.006]\n",
            " [0.006 0.09 ]]\n"
          ],
          "name": "stdout"
        }
      ]
    },
    {
      "cell_type": "code",
      "metadata": {
        "id": "3hwGZW6iwQNH",
        "colab_type": "code",
        "outputId": "a1fae4c1-e6f2-4f01-e3c4-894f820a32ab",
        "colab": {
          "base_uri": "https://localhost:8080/",
          "height": 35
        }
      },
      "source": [
        "from numpy.linalg import inv\n",
        "from numpy.linalg import det\n",
        "u = np.ones(n)\n",
        "uT = np.transpose(u)\n",
        "\n",
        "CInv = inv(C)\n",
        "\n",
        "w = np.dot(u,CInv)/(u.dot(CInv).dot(uT))\n",
        "print(w)"
      ],
      "execution_count": 0,
      "outputs": [
        {
          "output_type": "stream",
          "text": [
            "[0.71186441 0.28813559]\n"
          ],
          "name": "stdout"
        }
      ]
    },
    {
      "cell_type": "code",
      "metadata": {
        "id": "DdcSSGjLwYzR",
        "colab_type": "code",
        "outputId": "8e8a6c39-f314-4d34-c992-a9f710c33f1a",
        "colab": {
          "base_uri": "https://localhost:8080/",
          "height": 35
        }
      },
      "source": [
        "#w = np.array([0.3,0.4])\n",
        "wT = np.transpose(w)\n",
        "x = np.dot(u,wT)\n",
        "print(\"jumlah w = \",x)"
      ],
      "execution_count": 0,
      "outputs": [
        {
          "output_type": "stream",
          "text": [
            "jumlah w =  1.0\n"
          ],
          "name": "stdout"
        }
      ]
    },
    {
      "cell_type": "code",
      "metadata": {
        "id": "uF0PiR3x5IyE",
        "colab_type": "code",
        "outputId": "fe46a76b-9bf6-4afd-caac-d5b859e2c013",
        "colab": {
          "base_uri": "https://localhost:8080/",
          "height": 35
        }
      },
      "source": [
        "risk = w.dot(C).dot(wT)\n",
        "print(risk)"
      ],
      "execution_count": 0,
      "outputs": [
        {
          "output_type": "stream",
          "text": [
            "0.030203389830508482\n"
          ],
          "name": "stdout"
        }
      ]
    },
    {
      "cell_type": "code",
      "metadata": {
        "id": "UIsKSW8z4Gac",
        "colab_type": "code",
        "outputId": "5c6a0abe-0e38-48eb-92ed-71467b30e831",
        "colab": {
          "base_uri": "https://localhost:8080/",
          "height": 35
        }
      },
      "source": [
        "m = [0.02,0.04]\n",
        "m = np.array(m)\n",
        "EK = m.dot(wT)\n",
        "print(\"ekspektasi return = \", EK)"
      ],
      "execution_count": 0,
      "outputs": [
        {
          "output_type": "stream",
          "text": [
            "ekspektasi return =  0.025762711864406783\n"
          ],
          "name": "stdout"
        }
      ]
    },
    {
      "cell_type": "code",
      "metadata": {
        "id": "NCqE067ABbxc",
        "colab_type": "code",
        "outputId": "2f1b0328-c3cc-4b91-9f8d-6e715bd870fb",
        "colab": {
          "base_uri": "https://localhost:8080/",
          "height": 53
        }
      },
      "source": [
        "# risiko portfolio\n",
        "risk = w.dot(C).dot(wT)\n",
        "print(\"risk = \",risk)\n",
        "\n",
        "#Expetasi return\n",
        "ex_return = np.dot(m,wT)\n",
        "print(\"expektasi return = \", ex_return)"
      ],
      "execution_count": 0,
      "outputs": [
        {
          "output_type": "stream",
          "text": [
            "risk =  0.030203389830508482\n",
            "expektasi return =  0.025762711864406783\n"
          ],
          "name": "stdout"
        }
      ]
    },
    {
      "cell_type": "code",
      "metadata": {
        "id": "To2paLsJ5Eny",
        "colab_type": "code",
        "outputId": "07a1890c-4e69-4dca-b2e5-a4139368d0bb",
        "colab": {
          "base_uri": "https://localhost:8080/",
          "height": 35
        }
      },
      "source": [
        "#mT = np.transpose(m)\n",
        "e_r = 0.03\n",
        "matA = np.dot(u,(CInv))\n",
        "matB = np.dot(m,(CInv))\n",
        "mat1 = u.dot(CInv).dot(mT)\n",
        "mat2 = m.dot(CInv).dot(mT)\n",
        "mat3 = u.dot(CInv).dot(uT)\n",
        "mat4 = m.dot(CInv).dot(uT)\n",
        "\n",
        "A1 = np.array([[1,mat1],[e_r,mat2]]) \n",
        "A2 = np.array([[mat3,1],[mat4,e_r]])\n",
        "A3 = np.array([[mat3,mat1],[mat4,mat2]])\n",
        "\n",
        "det1 = det([[1,mat1],[e_r,mat2]])\n",
        "det2 = det([[mat3,1],[mat4,e_r]])\n",
        "det3 = det([[mat3,mat1],[mat4,mat2]])\n",
        "w_new = ((det1*matA)+(det2*matB))/det3\n",
        "print(w_new)"
      ],
      "execution_count": 0,
      "outputs": [
        {
          "output_type": "stream",
          "text": [
            "[0.5 0.5]\n"
          ],
          "name": "stdout"
        }
      ]
    },
    {
      "cell_type": "code",
      "metadata": {
        "id": "ekOPwZASCN68",
        "colab_type": "code",
        "outputId": "a78b3718-2525-43c7-e2b4-458552845b4e",
        "colab": {
          "base_uri": "https://localhost:8080/",
          "height": 243
        }
      },
      "source": [
        "std_dev = [1.5,0.5,1.2]\n",
        "m = np.array([0.08,0.1,0.06])\n",
        "n = len(std_deviasi)\n",
        "rho12 = 0.3\n",
        "rho23 = 0\n",
        "rho13 = -0.2"
      ],
      "execution_count": 0,
      "outputs": [
        {
          "output_type": "error",
          "ename": "NameError",
          "evalue": "ignored",
          "traceback": [
            "\u001b[0;31m---------------------------------------------------------------------------\u001b[0m",
            "\u001b[0;31mNameError\u001b[0m                                 Traceback (most recent call last)",
            "\u001b[0;32m<ipython-input-5-5ad2b1f5009f>\u001b[0m in \u001b[0;36m<module>\u001b[0;34m()\u001b[0m\n\u001b[1;32m      1\u001b[0m \u001b[0mstd_dev\u001b[0m \u001b[0;34m=\u001b[0m \u001b[0;34m[\u001b[0m\u001b[0;36m1.5\u001b[0m\u001b[0;34m,\u001b[0m\u001b[0;36m0.5\u001b[0m\u001b[0;34m,\u001b[0m\u001b[0;36m1.2\u001b[0m\u001b[0;34m]\u001b[0m\u001b[0;34m\u001b[0m\u001b[0;34m\u001b[0m\u001b[0m\n\u001b[1;32m      2\u001b[0m \u001b[0mm\u001b[0m \u001b[0;34m=\u001b[0m \u001b[0mnp\u001b[0m\u001b[0;34m.\u001b[0m\u001b[0marray\u001b[0m\u001b[0;34m(\u001b[0m\u001b[0;34m[\u001b[0m\u001b[0;36m0.08\u001b[0m\u001b[0;34m,\u001b[0m\u001b[0;36m0.1\u001b[0m\u001b[0;34m,\u001b[0m\u001b[0;36m0.06\u001b[0m\u001b[0;34m]\u001b[0m\u001b[0;34m)\u001b[0m\u001b[0;34m\u001b[0m\u001b[0;34m\u001b[0m\u001b[0m\n\u001b[0;32m----> 3\u001b[0;31m \u001b[0mn\u001b[0m \u001b[0;34m=\u001b[0m \u001b[0mlen\u001b[0m\u001b[0;34m(\u001b[0m\u001b[0mstd_deviasi\u001b[0m\u001b[0;34m)\u001b[0m\u001b[0;34m\u001b[0m\u001b[0;34m\u001b[0m\u001b[0m\n\u001b[0m\u001b[1;32m      4\u001b[0m \u001b[0mrho12\u001b[0m \u001b[0;34m=\u001b[0m \u001b[0;36m0.3\u001b[0m\u001b[0;34m\u001b[0m\u001b[0;34m\u001b[0m\u001b[0m\n\u001b[1;32m      5\u001b[0m \u001b[0mrho23\u001b[0m \u001b[0;34m=\u001b[0m \u001b[0;36m0\u001b[0m\u001b[0;34m\u001b[0m\u001b[0;34m\u001b[0m\u001b[0m\n",
            "\u001b[0;31mNameError\u001b[0m: name 'std_deviasi' is not defined"
          ]
        }
      ]
    },
    {
      "cell_type": "code",
      "metadata": {
        "id": "KXmvc8eIyp0O",
        "colab_type": "code",
        "colab": {}
      },
      "source": [
        "c11 = std_deviasi[0]**2\n",
        "c22 = std_deviasi[1]**2\n",
        "c33 = std_deviasi[2]**2\n",
        "\n",
        "c12 = rho12*std_dev[0]*std_dev[1]\n",
        "c21 = c12\n",
        "\n",
        "c23 = rho23*std_dev[1]*std_dev[2]\n",
        "c32 = c23\n",
        "\n",
        "c13 = rho13*std_dev[0]*std_dev[2]\n",
        "c31 = c13\n",
        "\n",
        "C_matrix = np.array([[c11,c12,c13],[c21,c22,c23],[c31,c32,c33]])\n",
        "print(C_matrix)"
      ],
      "execution_count": 0,
      "outputs": []
    },
    {
      "cell_type": "code",
      "metadata": {
        "id": "SRLaFi-vyw40",
        "colab_type": "code",
        "colab": {}
      },
      "source": [
        "from numpy.linalg import inv\n",
        "from numpy.linalg import det\n",
        "u = np.ones(n)\n",
        "uT = np.transpose(u)\n",
        "\n",
        "CInv = inv(C_matrix)\n",
        "\n",
        "w = np.dot(u,CInv)/(u.dot(CInv).dot(uT))\n",
        "#print(w)\n",
        "\n",
        "for i in range(len(w)) :\n",
        "  print(\"w\",i+1,\"=\",w[i])"
      ],
      "execution_count": 0,
      "outputs": []
    },
    {
      "cell_type": "code",
      "metadata": {
        "id": "pvxVxiYQ4xNL",
        "colab_type": "code",
        "colab": {}
      },
      "source": [
        "wT = np.transpose(w)\n",
        "eksp_return = m.dot(wT)\n",
        "min_risk = w.dot(C_matrix).dot(wT)\n",
        "print(\"ekspektasi return = \",eksp_return)\n",
        "print(\"risiko minimum = \", min_risk)"
      ],
      "execution_count": 0,
      "outputs": []
    },
    {
      "cell_type": "code",
      "metadata": {
        "id": "-SsTcx0BFf-N",
        "colab_type": "code",
        "colab": {}
      },
      "source": [
        "print(A1)\n",
        "print(A2)\n",
        "print(A3)"
      ],
      "execution_count": 0,
      "outputs": []
    },
    {
      "cell_type": "code",
      "metadata": {
        "id": "7gV1be93CVlY",
        "colab_type": "code",
        "colab": {}
      },
      "source": [
        "print(w_new)"
      ],
      "execution_count": 0,
      "outputs": []
    },
    {
      "cell_type": "code",
      "metadata": {
        "id": "J8f73DshEvaC",
        "colab_type": "code",
        "colab": {}
      },
      "source": [
        "for i in range(len(w_new)) :\n",
        "  print(\"w\",i+1,\"=\",w_new[i])"
      ],
      "execution_count": 0,
      "outputs": []
    },
    {
      "cell_type": "code",
      "metadata": {
        "id": "YZ_8hRS8Ez-e",
        "colab_type": "code",
        "colab": {}
      },
      "source": [
        ""
      ],
      "execution_count": 0,
      "outputs": []
    }
  ]
}