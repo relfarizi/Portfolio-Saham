{
  "nbformat": 4,
  "nbformat_minor": 0,
  "metadata": {
    "colab": {
      "name": "Portfolio Saham.ipynb",
      "provenance": [],
      "collapsed_sections": []
    },
    "kernelspec": {
      "name": "python3",
      "display_name": "Python 3"
    }
  },
  "cells": [
    {
      "cell_type": "markdown",
      "metadata": {
        "id": "WHvsDaqQBWz2",
        "colab_type": "text"
      },
      "source": [
        "# Portofolio Saham\n",
        "Buat portofolio minimal terdiri dari 5 buah saham. Portofolio dibangun berdasarjan data historis saham mingguan (weekly). Minimal data yang digunakan adalah 2 tahun (2017 sampai 2018)"
      ]
    },
    {
      "cell_type": "markdown",
      "metadata": {
        "id": "K6xKTlFLx3Ca",
        "colab_type": "text"
      },
      "source": [
        "## Library"
      ]
    },
    {
      "cell_type": "code",
      "metadata": {
        "id": "SXPhlmwFx2JB",
        "colab_type": "code",
        "colab": {}
      },
      "source": [
        "import pandas as pd\n",
        "import regex as re\n",
        "import numpy as np\n",
        "import math"
      ],
      "execution_count": 0,
      "outputs": []
    },
    {
      "cell_type": "markdown",
      "metadata": {
        "id": "ZNZ4lMFcgJmE",
        "colab_type": "text"
      },
      "source": [
        "## Kode Saham"
      ]
    },
    {
      "cell_type": "code",
      "metadata": {
        "id": "79mqI_PggLgR",
        "colab_type": "code",
        "colab": {
          "base_uri": "https://localhost:8080/",
          "height": 35
        },
        "outputId": "01622e99-bf97-46bc-b867-be49b74a98f7"
      },
      "source": [
        "\"\"\"\n",
        "kode_saham = [\"AAPL\",\"BA\",\"BATA.JK\",\"BKRKF\",\"CSCO\",\"IBM\",\n",
        "              \"TLKMF\",\"AKPI.JK\",\"INTC\",\"MSFT\",\"NVDA\",\n",
        "              \"ORCL\",\"PBCRF\",\"PHJMF\",\"PTAIF\",\"SPR\"]\n",
        "\"\"\"\n",
        "\n",
        "kode_saham =[\"SGRO.JK\",\"TLKM.JK\",\"INDR.JK\",\"PRDA.JK\",\"AKPI.JK\"]\n",
        "\n",
        "print(kode_saham)"
      ],
      "execution_count": 211,
      "outputs": [
        {
          "output_type": "stream",
          "text": [
            "['SGRO.JK', 'TLKM.JK', 'INDR.JK', 'PRDA.JK', 'AKPI.JK']\n"
          ],
          "name": "stdout"
        }
      ]
    },
    {
      "cell_type": "markdown",
      "metadata": {
        "id": "MiN3v_2nhE5k",
        "colab_type": "text"
      },
      "source": [
        "## Fungsi yang dipakai"
      ]
    },
    {
      "cell_type": "markdown",
      "metadata": {
        "id": "IyP4QRhtch0F",
        "colab_type": "text"
      },
      "source": [
        "### Load Data"
      ]
    },
    {
      "cell_type": "code",
      "metadata": {
        "id": "eqwbk0q7w2nF",
        "colab_type": "code",
        "colab": {}
      },
      "source": [
        "def load_data(tahun,kode_saham = kode_saham) :\n",
        "  kode_tmp = []\n",
        "  sama = False\n",
        "  for i in kode_saham :\n",
        "    if i in kode_tmp :\n",
        "      sama =  True\n",
        "      kodenya = i\n",
        "      break\n",
        "    else :\n",
        "        kode_tmp.append(i)\n",
        "\n",
        "  if sama :\n",
        "    dataset = []\n",
        "    print(\"ada yang sama\", kodenya)\n",
        "  else :\n",
        "    n = len(kode_saham)\n",
        "    github = \"https://raw.githubusercontent.com/relfarizi/Portfolio-Saham/master/Data/\"+str(tahun)+\"/\"\n",
        "\n",
        "    df = []\n",
        "    for i in range(n) :\n",
        "      datas = pd.read_csv(github+kode_saham[i]+\".csv\")\n",
        "      df.append(pd.DataFrame(datas[\"Close\"]))\n",
        "      #print(data_tmp.shape)\n",
        "    dataset = pd.concat(df, axis=1, sort=False)\n",
        "    dataset = dataset.dropna()\n",
        "    dataset.columns = kode_saham\n",
        "  return dataset\n"
      ],
      "execution_count": 0,
      "outputs": []
    },
    {
      "cell_type": "markdown",
      "metadata": {
        "id": "7WLn91rfy2HH",
        "colab_type": "text"
      },
      "source": [
        "### Mencari K per step ( minggu) tiap saham"
      ]
    },
    {
      "cell_type": "code",
      "metadata": {
        "id": "OqeydGzikxR4",
        "colab_type": "code",
        "colab": {}
      },
      "source": [
        "def find_k(saham) :\n",
        "  K = []\n",
        "  for i in range(len(saham)-1) :\n",
        "    x = (saham[i+1]-saham[i])/saham[i]\n",
        "    K.append(x)\n",
        "  return K"
      ],
      "execution_count": 0,
      "outputs": []
    },
    {
      "cell_type": "markdown",
      "metadata": {
        "id": "9b7BkVqBCSSp",
        "colab_type": "text"
      },
      "source": [
        "### Return Saham ( Binomial Tree )"
      ]
    },
    {
      "cell_type": "code",
      "metadata": {
        "id": "oNcz2cigzlnm",
        "colab_type": "code",
        "colab": {}
      },
      "source": [
        "def find_ud(saham) :\n",
        "  K = find_k(saham)\n",
        "  up = []\n",
        "  down = []\n",
        "\n",
        "  for i in K :\n",
        "    if i > 0 :\n",
        "      x = 1\n",
        "      y = 0\n",
        "    else :\n",
        "      x = 0\n",
        "      y = 1\n",
        "    up.append(x)\n",
        "    down.append(y)\n",
        "  \n",
        "  x_up = 1\n",
        "  x_down = 1\n",
        "\n",
        "  sum_u = 0\n",
        "  sum_d = 0\n",
        "\n",
        "  for i in range(len(K)) :\n",
        "    x_up += K[i]*up[i]\n",
        "    sum_u += up[i]\n",
        "    x_down += K[i]*down[i]\n",
        "    sum_d += down[i]\n",
        "  \n",
        "  u = x_up/sum_u\n",
        "  d = x_up/sum_d\n",
        "\n",
        "  p = sum_u/(sum_u+sum_d)\n",
        "  q = 1-p\n",
        "\n",
        "  result = {\"u\" : u, \"d\" : d,\"p\":p,\"q\":q}\n",
        "  \n",
        "  return result"
      ],
      "execution_count": 0,
      "outputs": []
    },
    {
      "cell_type": "markdown",
      "metadata": {
        "id": "Oe3TNhJPCbQ9",
        "colab_type": "text"
      },
      "source": [
        "### Ekspektasi Return Saham"
      ]
    },
    {
      "cell_type": "markdown",
      "metadata": {
        "id": "MJ3m1Mc4h1la",
        "colab_type": "text"
      },
      "source": [
        "#### Fungsi Return Saham"
      ]
    },
    {
      "cell_type": "markdown",
      "metadata": {
        "id": "JPS3NfvMjGFd",
        "colab_type": "text"
      },
      "source": [
        "##### Fungsi menghitung E[K]"
      ]
    },
    {
      "cell_type": "code",
      "metadata": {
        "id": "X3FpZ9MCFsy0",
        "colab_type": "code",
        "colab": {}
      },
      "source": [
        "def function_EK(df_saham) :\n",
        "  result = {}\n",
        "  for saham in df_saham :\n",
        "    x = find_ud(df_saham[saham])\n",
        "    \"\"\"x[\"u\"] = 0.1\n",
        "    x['p'] = 0.5\n",
        "    x[\"d\"] = -0.1\n",
        "    x['q'] = 0.5\"\"\"\n",
        "    \n",
        "    exp = (x[\"u\"]*x[\"p\"])+(x[\"d\"]*x[\"q\"])\n",
        "    #exp = 0.8\n",
        "    result[saham] = exp\n",
        "  return result"
      ],
      "execution_count": 0,
      "outputs": []
    },
    {
      "cell_type": "markdown",
      "metadata": {
        "id": "uRGyPiAHiChz",
        "colab_type": "text"
      },
      "source": [
        "##### Fungsi assign nilai dari fungsi E[K] ke variabel m"
      ]
    },
    {
      "cell_type": "code",
      "metadata": {
        "id": "tL_NXG_aIZSq",
        "colab_type": "code",
        "colab": {}
      },
      "source": [
        "def return_saham(df_saham) :\n",
        "  return_ = function_EK(df_saham)\n",
        "  m = []\n",
        "  for saham in return_ :\n",
        "    m.append(return_[saham])\n",
        "  df_ret = pd.DataFrame([m])\n",
        "  df_ret.columns = df_saham.columns\n",
        "  return df_ret\n"
      ],
      "execution_count": 0,
      "outputs": []
    },
    {
      "cell_type": "markdown",
      "metadata": {
        "id": "W6gaRPS-h9Wy",
        "colab_type": "text"
      },
      "source": [
        "#### Fungsi E[K^2]\n"
      ]
    },
    {
      "cell_type": "code",
      "metadata": {
        "id": "Z0TzJmy5KOcF",
        "colab_type": "code",
        "colab": {}
      },
      "source": [
        "def function_EK2(df_saham):\n",
        "  result = {}\n",
        "  for saham in df_saham :\n",
        "    x = find_ud(df_saham[saham])\n",
        "    \"\"\"x[\"u\"] = 0.1\n",
        "    x['p'] = 0.5\n",
        "    x[\"d\"] = -0.1\n",
        "    x['q'] = 0.5\"\"\"\n",
        "    exp = (pow(x[\"u\"],2)*x[\"p\"])+(pow(x[\"d\"],2)*x[\"q\"])\n",
        "    #exp = pow(((x[\"u\"]*x[\"p\"])+(x[\"d\"]*x[\"q\"])),2)\n",
        "    #xp = pow(0.8,2)\n",
        "    result[saham] = exp\n",
        "  return result"
      ],
      "execution_count": 0,
      "outputs": []
    },
    {
      "cell_type": "markdown",
      "metadata": {
        "id": "toe5rQetCoWI",
        "colab_type": "text"
      },
      "source": [
        "#### Fungsi Variansi Return Saham"
      ]
    },
    {
      "cell_type": "code",
      "metadata": {
        "id": "4hKxTuqTJayI",
        "colab_type": "code",
        "colab": {}
      },
      "source": [
        "def function_var(df_saham):\n",
        "  var = []\n",
        "  x = function_EK2(df_saham)\n",
        "  y = function_EK(df_saham)\n",
        "  result = []\n",
        "  for saham in df_saham :\n",
        "    tmp = x[saham] - pow(y[saham],2)\n",
        "    result.append(tmp) \n",
        "  df_var = pd.DataFrame([result])\n",
        "  df_var.columns = df_saham.columns\n",
        "  df_var\n",
        "  return df_var\n",
        "  \n",
        "\n"
      ],
      "execution_count": 0,
      "outputs": []
    },
    {
      "cell_type": "markdown",
      "metadata": {
        "id": "0OKx_5ia6Ij4",
        "colab_type": "text"
      },
      "source": [
        "#### Fungsi Standard Deviasi\n"
      ]
    },
    {
      "cell_type": "code",
      "metadata": {
        "id": "_IjEA--Wo34f",
        "colab_type": "code",
        "colab": {}
      },
      "source": [
        "\n",
        "def function_std_dev(var):\n",
        "  std_dev = []\n",
        "  for i in var :\n",
        "    std_dev.append(np.sqrt(i))\n",
        "  n = len(std_dev)\n",
        "  u = np.ones(n)\n",
        "  return std_dev\n",
        "\n"
      ],
      "execution_count": 0,
      "outputs": []
    },
    {
      "cell_type": "markdown",
      "metadata": {
        "id": "LW08CEuwC9ME",
        "colab_type": "text"
      },
      "source": [
        "#### Fungsi Matrix C"
      ]
    },
    {
      "cell_type": "code",
      "metadata": {
        "id": "0vEXEjumtGQF",
        "colab_type": "code",
        "colab": {}
      },
      "source": [
        "def Matrix_C(std_dev=std_dev,rho=rho) :\n",
        "  n = len(std_dev)\n",
        "  C = (np.zeros((n,n)))\n",
        "  for i in range(n):\n",
        "    for j in range(n) :\n",
        "      C[i][j] = round(std_dev[i]*rho[i][j]*std_dev[j],6)\n",
        "  return C\n",
        "\n"
      ],
      "execution_count": 0,
      "outputs": []
    },
    {
      "cell_type": "markdown",
      "metadata": {
        "id": "XJC51hBfpRUc",
        "colab_type": "text"
      },
      "source": [
        "#### Fungsi Ekspected Return Portofolio"
      ]
    },
    {
      "cell_type": "code",
      "metadata": {
        "id": "BJdmxY7rpXTG",
        "colab_type": "code",
        "colab": {}
      },
      "source": [
        "def Expected_Return(df_K,df_saham) :\n",
        "  return_saham = []\n",
        "  n = df_saham.shape[0]\n",
        "\n",
        "  for i in range(n):\n",
        "    sum_ret = 0\n",
        "    for saham in df_saham :\n",
        "      K = float(df_K[saham])\n",
        "      w = float(df_saham[saham][i])\n",
        "      sum_ret += K*w\n",
        "    return_saham.append(sum_ret)\n",
        "  result = pd.DataFrame([return_saham])\n",
        "  result.columns = [\"ER\"+str(x+1) for x in range(n)]\n",
        "  return result"
      ],
      "execution_count": 0,
      "outputs": []
    },
    {
      "cell_type": "markdown",
      "metadata": {
        "id": "weJ_C1fukSmt",
        "colab_type": "text"
      },
      "source": [
        "## Soal"
      ]
    },
    {
      "cell_type": "markdown",
      "metadata": {
        "id": "9oSZA-b9kYqs",
        "colab_type": "text"
      },
      "source": [
        "### No 1"
      ]
    },
    {
      "cell_type": "markdown",
      "metadata": {
        "id": "FlHyIcX-B8QB",
        "colab_type": "text"
      },
      "source": [
        "#### Data Saham"
      ]
    },
    {
      "cell_type": "code",
      "metadata": {
        "id": "UekvxCwzchSo",
        "colab_type": "code",
        "outputId": "086be8e3-43a0-49cc-c5e2-0ac5f7f7e573",
        "colab": {
          "base_uri": "https://localhost:8080/",
          "height": 197
        }
      },
      "source": [
        "dataset = load_data(\"2017-2018\")\n",
        "dataset.sample(5)"
      ],
      "execution_count": 222,
      "outputs": [
        {
          "output_type": "execute_result",
          "data": {
            "text/html": [
              "<div>\n",
              "<style scoped>\n",
              "    .dataframe tbody tr th:only-of-type {\n",
              "        vertical-align: middle;\n",
              "    }\n",
              "\n",
              "    .dataframe tbody tr th {\n",
              "        vertical-align: top;\n",
              "    }\n",
              "\n",
              "    .dataframe thead th {\n",
              "        text-align: right;\n",
              "    }\n",
              "</style>\n",
              "<table border=\"1\" class=\"dataframe\">\n",
              "  <thead>\n",
              "    <tr style=\"text-align: right;\">\n",
              "      <th></th>\n",
              "      <th>SGRO.JK</th>\n",
              "      <th>TLKM.JK</th>\n",
              "      <th>INDR.JK</th>\n",
              "      <th>PRDA.JK</th>\n",
              "      <th>AKPI.JK</th>\n",
              "    </tr>\n",
              "  </thead>\n",
              "  <tbody>\n",
              "    <tr>\n",
              "      <th>88</th>\n",
              "      <td>2330.0</td>\n",
              "      <td>3590.0</td>\n",
              "      <td>5700.0</td>\n",
              "      <td>2850.0</td>\n",
              "      <td>880.0</td>\n",
              "    </tr>\n",
              "    <tr>\n",
              "      <th>77</th>\n",
              "      <td>2350.0</td>\n",
              "      <td>3750.0</td>\n",
              "      <td>6450.0</td>\n",
              "      <td>3150.0</td>\n",
              "      <td>840.0</td>\n",
              "    </tr>\n",
              "    <tr>\n",
              "      <th>22</th>\n",
              "      <td>2020.0</td>\n",
              "      <td>4330.0</td>\n",
              "      <td>1300.0</td>\n",
              "      <td>4000.0</td>\n",
              "      <td>900.0</td>\n",
              "    </tr>\n",
              "    <tr>\n",
              "      <th>4</th>\n",
              "      <td>2000.0</td>\n",
              "      <td>3950.0</td>\n",
              "      <td>810.0</td>\n",
              "      <td>5525.0</td>\n",
              "      <td>800.0</td>\n",
              "    </tr>\n",
              "    <tr>\n",
              "      <th>94</th>\n",
              "      <td>2400.0</td>\n",
              "      <td>3630.0</td>\n",
              "      <td>4260.0</td>\n",
              "      <td>2390.0</td>\n",
              "      <td>890.0</td>\n",
              "    </tr>\n",
              "  </tbody>\n",
              "</table>\n",
              "</div>"
            ],
            "text/plain": [
              "    SGRO.JK  TLKM.JK  INDR.JK  PRDA.JK  AKPI.JK\n",
              "88   2330.0   3590.0   5700.0   2850.0    880.0\n",
              "77   2350.0   3750.0   6450.0   3150.0    840.0\n",
              "22   2020.0   4330.0   1300.0   4000.0    900.0\n",
              "4    2000.0   3950.0    810.0   5525.0    800.0\n",
              "94   2400.0   3630.0   4260.0   2390.0    890.0"
            ]
          },
          "metadata": {
            "tags": []
          },
          "execution_count": 222
        }
      ]
    },
    {
      "cell_type": "markdown",
      "metadata": {
        "id": "-juBDgfnCMl2",
        "colab_type": "text"
      },
      "source": [
        "#### Korelasi Saham"
      ]
    },
    {
      "cell_type": "code",
      "metadata": {
        "id": "HhgvIYlivXjL",
        "colab_type": "code",
        "outputId": "cc160140-a655-48a1-9b29-f41e4fc6a6c8",
        "colab": {
          "base_uri": "https://localhost:8080/",
          "height": 197
        }
      },
      "source": [
        "rho = dataset.corr().values\n",
        "dataset.corr()"
      ],
      "execution_count": 223,
      "outputs": [
        {
          "output_type": "execute_result",
          "data": {
            "text/html": [
              "<div>\n",
              "<style scoped>\n",
              "    .dataframe tbody tr th:only-of-type {\n",
              "        vertical-align: middle;\n",
              "    }\n",
              "\n",
              "    .dataframe tbody tr th {\n",
              "        vertical-align: top;\n",
              "    }\n",
              "\n",
              "    .dataframe thead th {\n",
              "        text-align: right;\n",
              "    }\n",
              "</style>\n",
              "<table border=\"1\" class=\"dataframe\">\n",
              "  <thead>\n",
              "    <tr style=\"text-align: right;\">\n",
              "      <th></th>\n",
              "      <th>SGRO.JK</th>\n",
              "      <th>TLKM.JK</th>\n",
              "      <th>INDR.JK</th>\n",
              "      <th>PRDA.JK</th>\n",
              "      <th>AKPI.JK</th>\n",
              "    </tr>\n",
              "  </thead>\n",
              "  <tbody>\n",
              "    <tr>\n",
              "      <th>SGRO.JK</th>\n",
              "      <td>1.000000</td>\n",
              "      <td>-0.336531</td>\n",
              "      <td>0.282667</td>\n",
              "      <td>-0.599204</td>\n",
              "      <td>-0.559313</td>\n",
              "    </tr>\n",
              "    <tr>\n",
              "      <th>TLKM.JK</th>\n",
              "      <td>-0.336531</td>\n",
              "      <td>1.000000</td>\n",
              "      <td>-0.647548</td>\n",
              "      <td>0.348964</td>\n",
              "      <td>0.244041</td>\n",
              "    </tr>\n",
              "    <tr>\n",
              "      <th>INDR.JK</th>\n",
              "      <td>0.282667</td>\n",
              "      <td>-0.647548</td>\n",
              "      <td>1.000000</td>\n",
              "      <td>-0.715454</td>\n",
              "      <td>-0.019710</td>\n",
              "    </tr>\n",
              "    <tr>\n",
              "      <th>PRDA.JK</th>\n",
              "      <td>-0.599204</td>\n",
              "      <td>0.348964</td>\n",
              "      <td>-0.715454</td>\n",
              "      <td>1.000000</td>\n",
              "      <td>0.189698</td>\n",
              "    </tr>\n",
              "    <tr>\n",
              "      <th>AKPI.JK</th>\n",
              "      <td>-0.559313</td>\n",
              "      <td>0.244041</td>\n",
              "      <td>-0.019710</td>\n",
              "      <td>0.189698</td>\n",
              "      <td>1.000000</td>\n",
              "    </tr>\n",
              "  </tbody>\n",
              "</table>\n",
              "</div>"
            ],
            "text/plain": [
              "          SGRO.JK   TLKM.JK   INDR.JK   PRDA.JK   AKPI.JK\n",
              "SGRO.JK  1.000000 -0.336531  0.282667 -0.599204 -0.559313\n",
              "TLKM.JK -0.336531  1.000000 -0.647548  0.348964  0.244041\n",
              "INDR.JK  0.282667 -0.647548  1.000000 -0.715454 -0.019710\n",
              "PRDA.JK -0.599204  0.348964 -0.715454  1.000000  0.189698\n",
              "AKPI.JK -0.559313  0.244041 -0.019710  0.189698  1.000000"
            ]
          },
          "metadata": {
            "tags": []
          },
          "execution_count": 223
        }
      ]
    },
    {
      "cell_type": "markdown",
      "metadata": {
        "id": "ffQgtk5Ao9Zq",
        "colab_type": "text"
      },
      "source": [
        "#### Varansi return"
      ]
    },
    {
      "cell_type": "code",
      "metadata": {
        "id": "t5D9zU9bo_1E",
        "colab_type": "code",
        "colab": {
          "base_uri": "https://localhost:8080/",
          "height": 78
        },
        "outputId": "ecdfab06-f39e-4f62-f91b-1e0d028a1c66"
      },
      "source": [
        "var = function_var(dataset).iloc[0,:].values\n",
        "function_var(dataset)"
      ],
      "execution_count": 224,
      "outputs": [
        {
          "output_type": "execute_result",
          "data": {
            "text/html": [
              "<div>\n",
              "<style scoped>\n",
              "    .dataframe tbody tr th:only-of-type {\n",
              "        vertical-align: middle;\n",
              "    }\n",
              "\n",
              "    .dataframe tbody tr th {\n",
              "        vertical-align: top;\n",
              "    }\n",
              "\n",
              "    .dataframe thead th {\n",
              "        text-align: right;\n",
              "    }\n",
              "</style>\n",
              "<table border=\"1\" class=\"dataframe\">\n",
              "  <thead>\n",
              "    <tr style=\"text-align: right;\">\n",
              "      <th></th>\n",
              "      <th>SGRO.JK</th>\n",
              "      <th>TLKM.JK</th>\n",
              "      <th>INDR.JK</th>\n",
              "      <th>PRDA.JK</th>\n",
              "      <th>AKPI.JK</th>\n",
              "    </tr>\n",
              "  </thead>\n",
              "  <tbody>\n",
              "    <tr>\n",
              "      <th>0</th>\n",
              "      <td>0.00001</td>\n",
              "      <td>0.00001</td>\n",
              "      <td>0.0007</td>\n",
              "      <td>0.000213</td>\n",
              "      <td>0.001529</td>\n",
              "    </tr>\n",
              "  </tbody>\n",
              "</table>\n",
              "</div>"
            ],
            "text/plain": [
              "   SGRO.JK  TLKM.JK  INDR.JK   PRDA.JK   AKPI.JK\n",
              "0  0.00001  0.00001   0.0007  0.000213  0.001529"
            ]
          },
          "metadata": {
            "tags": []
          },
          "execution_count": 224
        }
      ]
    },
    {
      "cell_type": "markdown",
      "metadata": {
        "id": "ehDby1Yoo1Ja",
        "colab_type": "text"
      },
      "source": [
        "#### Standard Deviasi"
      ]
    },
    {
      "cell_type": "code",
      "metadata": {
        "id": "Z7MaPhUTo3u1",
        "colab_type": "code",
        "colab": {
          "base_uri": "https://localhost:8080/",
          "height": 78
        },
        "outputId": "dfabc9ed-21f1-4d21-c783-135806a92631"
      },
      "source": [
        "std_dev = function_std_dev(var)\n",
        "df_std_dev=pd.DataFrame([std_dev])\n",
        "df_std_dev.columns = kode_saham\n",
        "df_std_dev"
      ],
      "execution_count": 225,
      "outputs": [
        {
          "output_type": "execute_result",
          "data": {
            "text/html": [
              "<div>\n",
              "<style scoped>\n",
              "    .dataframe tbody tr th:only-of-type {\n",
              "        vertical-align: middle;\n",
              "    }\n",
              "\n",
              "    .dataframe tbody tr th {\n",
              "        vertical-align: top;\n",
              "    }\n",
              "\n",
              "    .dataframe thead th {\n",
              "        text-align: right;\n",
              "    }\n",
              "</style>\n",
              "<table border=\"1\" class=\"dataframe\">\n",
              "  <thead>\n",
              "    <tr style=\"text-align: right;\">\n",
              "      <th></th>\n",
              "      <th>SGRO.JK</th>\n",
              "      <th>TLKM.JK</th>\n",
              "      <th>INDR.JK</th>\n",
              "      <th>PRDA.JK</th>\n",
              "      <th>AKPI.JK</th>\n",
              "    </tr>\n",
              "  </thead>\n",
              "  <tbody>\n",
              "    <tr>\n",
              "      <th>0</th>\n",
              "      <td>0.003185</td>\n",
              "      <td>0.003157</td>\n",
              "      <td>0.026464</td>\n",
              "      <td>0.014608</td>\n",
              "      <td>0.039097</td>\n",
              "    </tr>\n",
              "  </tbody>\n",
              "</table>\n",
              "</div>"
            ],
            "text/plain": [
              "    SGRO.JK   TLKM.JK   INDR.JK   PRDA.JK   AKPI.JK\n",
              "0  0.003185  0.003157  0.026464  0.014608  0.039097"
            ]
          },
          "metadata": {
            "tags": []
          },
          "execution_count": 225
        }
      ]
    },
    {
      "cell_type": "markdown",
      "metadata": {
        "id": "Ux6E9DBUomOZ",
        "colab_type": "text"
      },
      "source": [
        "#### Matix C"
      ]
    },
    {
      "cell_type": "code",
      "metadata": {
        "id": "oCLINaPxooY0",
        "colab_type": "code",
        "colab": {
          "base_uri": "https://localhost:8080/",
          "height": 108
        },
        "outputId": "e78f3225-1d13-45b9-db85-8909f5117930"
      },
      "source": [
        "C = (Matrix_C())\n",
        "for x in C :\n",
        "  print(x)"
      ],
      "execution_count": 226,
      "outputs": [
        {
          "output_type": "stream",
          "text": [
            "[ 1.0e-05 -3.0e-06  2.4e-05 -2.8e-05 -7.0e-05]\n",
            "[-3.0e-06  1.0e-05 -5.4e-05  1.6e-05  3.0e-05]\n",
            "[ 2.40e-05 -5.40e-05  7.00e-04 -2.77e-04 -2.00e-05]\n",
            "[-2.80e-05  1.60e-05 -2.77e-04  2.13e-04  1.08e-04]\n",
            "[-7.000e-05  3.000e-05 -2.000e-05  1.080e-04  1.529e-03]\n"
          ],
          "name": "stdout"
        }
      ]
    },
    {
      "cell_type": "markdown",
      "metadata": {
        "id": "nBmBs7AKDA4i",
        "colab_type": "text"
      },
      "source": [
        "#### Mencari nilai Bobot (w)"
      ]
    },
    {
      "cell_type": "code",
      "metadata": {
        "id": "3hwGZW6iwQNH",
        "colab_type": "code",
        "outputId": "a04ba297-3b48-4a06-f06b-ac4dcf5054f1",
        "colab": {
          "base_uri": "https://localhost:8080/",
          "height": 96
        }
      },
      "source": [
        "from numpy.linalg import inv\n",
        "from numpy.linalg import det\n",
        "\n",
        "n = len(kode_saham)\n",
        "u = np.ones(n)\n",
        "uT = np.transpose(u)\n",
        "\n",
        "CInv = inv(C)\n",
        "\n",
        "w = np.dot(u,CInv)/(u.dot(CInv).dot(uT))\n",
        "#print(w)\n",
        "\n",
        "wT = np.transpose(w)\n",
        "x = np.dot(u,wT)\n",
        "print(\"jumlah w = \",x)\n",
        "\n",
        "df_w = pd.DataFrame([w])\n",
        "df_w.columns = kode_saham\n",
        "df_w"
      ],
      "execution_count": 227,
      "outputs": [
        {
          "output_type": "stream",
          "text": [
            "jumlah w =  1.0000000000000002\n"
          ],
          "name": "stdout"
        },
        {
          "output_type": "execute_result",
          "data": {
            "text/html": [
              "<div>\n",
              "<style scoped>\n",
              "    .dataframe tbody tr th:only-of-type {\n",
              "        vertical-align: middle;\n",
              "    }\n",
              "\n",
              "    .dataframe tbody tr th {\n",
              "        vertical-align: top;\n",
              "    }\n",
              "\n",
              "    .dataframe thead th {\n",
              "        text-align: right;\n",
              "    }\n",
              "</style>\n",
              "<table border=\"1\" class=\"dataframe\">\n",
              "  <thead>\n",
              "    <tr style=\"text-align: right;\">\n",
              "      <th></th>\n",
              "      <th>SGRO.JK</th>\n",
              "      <th>TLKM.JK</th>\n",
              "      <th>INDR.JK</th>\n",
              "      <th>PRDA.JK</th>\n",
              "      <th>AKPI.JK</th>\n",
              "    </tr>\n",
              "  </thead>\n",
              "  <tbody>\n",
              "    <tr>\n",
              "      <th>0</th>\n",
              "      <td>0.446765</td>\n",
              "      <td>0.378102</td>\n",
              "      <td>0.059005</td>\n",
              "      <td>0.109248</td>\n",
              "      <td>0.006881</td>\n",
              "    </tr>\n",
              "  </tbody>\n",
              "</table>\n",
              "</div>"
            ],
            "text/plain": [
              "    SGRO.JK   TLKM.JK   INDR.JK   PRDA.JK   AKPI.JK\n",
              "0  0.446765  0.378102  0.059005  0.109248  0.006881"
            ]
          },
          "metadata": {
            "tags": []
          },
          "execution_count": 227
        }
      ]
    },
    {
      "cell_type": "markdown",
      "metadata": {
        "id": "5OcE4h0Ln_yO",
        "colab_type": "text"
      },
      "source": [
        "#### Nilai m"
      ]
    },
    {
      "cell_type": "code",
      "metadata": {
        "id": "X0j2cSfWoAep",
        "colab_type": "code",
        "colab": {
          "base_uri": "https://localhost:8080/",
          "height": 78
        },
        "outputId": "337feb79-a03f-45e7-db23-a7b0c2107b79"
      },
      "source": [
        "m = return_saham(dataset).iloc[0,:].values.tolist()\n",
        "return_saham(dataset)"
      ],
      "execution_count": 228,
      "outputs": [
        {
          "output_type": "execute_result",
          "data": {
            "text/html": [
              "<div>\n",
              "<style scoped>\n",
              "    .dataframe tbody tr th:only-of-type {\n",
              "        vertical-align: middle;\n",
              "    }\n",
              "\n",
              "    .dataframe tbody tr th {\n",
              "        vertical-align: top;\n",
              "    }\n",
              "\n",
              "    .dataframe thead th {\n",
              "        text-align: right;\n",
              "    }\n",
              "</style>\n",
              "<table border=\"1\" class=\"dataframe\">\n",
              "  <thead>\n",
              "    <tr style=\"text-align: right;\">\n",
              "      <th></th>\n",
              "      <th>SGRO.JK</th>\n",
              "      <th>TLKM.JK</th>\n",
              "      <th>INDR.JK</th>\n",
              "      <th>PRDA.JK</th>\n",
              "      <th>AKPI.JK</th>\n",
              "    </tr>\n",
              "  </thead>\n",
              "  <tbody>\n",
              "    <tr>\n",
              "      <th>0</th>\n",
              "      <td>0.032969</td>\n",
              "      <td>0.040915</td>\n",
              "      <td>0.122271</td>\n",
              "      <td>0.039591</td>\n",
              "      <td>0.079277</td>\n",
              "    </tr>\n",
              "  </tbody>\n",
              "</table>\n",
              "</div>"
            ],
            "text/plain": [
              "    SGRO.JK   TLKM.JK   INDR.JK   PRDA.JK   AKPI.JK\n",
              "0  0.032969  0.040915  0.122271  0.039591  0.079277"
            ]
          },
          "metadata": {
            "tags": []
          },
          "execution_count": 228
        }
      ]
    },
    {
      "cell_type": "markdown",
      "metadata": {
        "id": "-CIJQcABDM5C",
        "colab_type": "text"
      },
      "source": [
        "#### Risiko Minimum Portfolio"
      ]
    },
    {
      "cell_type": "code",
      "metadata": {
        "id": "uF0PiR3x5IyE",
        "colab_type": "code",
        "outputId": "49c4f868-18cb-4dce-d44a-4ffd50743029",
        "colab": {
          "base_uri": "https://localhost:8080/",
          "height": 35
        }
      },
      "source": [
        "risk = w.dot(C).dot(wT)\n",
        "print(round(risk,6))"
      ],
      "execution_count": 229,
      "outputs": [
        {
          "output_type": "stream",
          "text": [
            "1e-06\n"
          ],
          "name": "stdout"
        }
      ]
    },
    {
      "cell_type": "markdown",
      "metadata": {
        "id": "2lPrbuwozieS",
        "colab_type": "text"
      },
      "source": [
        "#### Expected Return Portofolio\n"
      ]
    },
    {
      "cell_type": "code",
      "metadata": {
        "id": "UIsKSW8z4Gac",
        "colab_type": "code",
        "outputId": "1eff9545-0b40-46de-cc0c-b02745764fe9",
        "colab": {
          "base_uri": "https://localhost:8080/",
          "height": 114
        }
      },
      "source": [
        "\n",
        "import pandas as pd\n",
        "\n",
        "m = np.array(m)\n",
        "#print(m)\n",
        "EK = m.dot(wT)\n",
        "print(\"ekspektasi return = \", EK)\n",
        "\n",
        "portfolio=[round(x,4) for x in w]\n",
        "portfolio.append(EK)\n",
        "portfolio.append(risk)\n",
        "#print(portfolio)\n",
        "\n",
        "df_port = pd.DataFrame([portfolio])\n",
        "column = kode_saham\n",
        "print(kode_saham)\n",
        "column.append(\"Expected Return\")\n",
        "column.append(\"Risiko\")\n",
        "df_port.columns = column\n",
        "kode_saham = kode_saham[:n]\n",
        "df_port"
      ],
      "execution_count": 230,
      "outputs": [
        {
          "output_type": "stream",
          "text": [
            "ekspektasi return =  0.042284577250093276\n",
            "['SGRO.JK', 'TLKM.JK', 'INDR.JK', 'PRDA.JK', 'AKPI.JK']\n"
          ],
          "name": "stdout"
        },
        {
          "output_type": "execute_result",
          "data": {
            "text/html": [
              "<div>\n",
              "<style scoped>\n",
              "    .dataframe tbody tr th:only-of-type {\n",
              "        vertical-align: middle;\n",
              "    }\n",
              "\n",
              "    .dataframe tbody tr th {\n",
              "        vertical-align: top;\n",
              "    }\n",
              "\n",
              "    .dataframe thead th {\n",
              "        text-align: right;\n",
              "    }\n",
              "</style>\n",
              "<table border=\"1\" class=\"dataframe\">\n",
              "  <thead>\n",
              "    <tr style=\"text-align: right;\">\n",
              "      <th></th>\n",
              "      <th>SGRO.JK</th>\n",
              "      <th>TLKM.JK</th>\n",
              "      <th>INDR.JK</th>\n",
              "      <th>PRDA.JK</th>\n",
              "      <th>AKPI.JK</th>\n",
              "      <th>Expected Return</th>\n",
              "      <th>Risiko</th>\n",
              "    </tr>\n",
              "  </thead>\n",
              "  <tbody>\n",
              "    <tr>\n",
              "      <th>0</th>\n",
              "      <td>0.4468</td>\n",
              "      <td>0.3781</td>\n",
              "      <td>0.059</td>\n",
              "      <td>0.1092</td>\n",
              "      <td>0.0069</td>\n",
              "      <td>0.042285</td>\n",
              "      <td>0.000001</td>\n",
              "    </tr>\n",
              "  </tbody>\n",
              "</table>\n",
              "</div>"
            ],
            "text/plain": [
              "   SGRO.JK  TLKM.JK  INDR.JK  PRDA.JK  AKPI.JK  Expected Return    Risiko\n",
              "0   0.4468   0.3781    0.059   0.1092   0.0069         0.042285  0.000001"
            ]
          },
          "metadata": {
            "tags": []
          },
          "execution_count": 230
        }
      ]
    },
    {
      "cell_type": "code",
      "metadata": {
        "id": "e8I_ITY4ELlb",
        "colab_type": "code",
        "outputId": "f1ca0ff9-3aa4-4038-ccb9-7e1e4ab74e54",
        "colab": {
          "base_uri": "https://localhost:8080/",
          "height": 35
        }
      },
      "source": [
        "print(kode_saham)"
      ],
      "execution_count": 231,
      "outputs": [
        {
          "output_type": "stream",
          "text": [
            "['SGRO.JK', 'TLKM.JK', 'INDR.JK', 'PRDA.JK', 'AKPI.JK']\n"
          ],
          "name": "stdout"
        }
      ]
    },
    {
      "cell_type": "markdown",
      "metadata": {
        "id": "eyNV63rOkvQQ",
        "colab_type": "text"
      },
      "source": [
        "#### Mencari nilai w baru"
      ]
    },
    {
      "cell_type": "code",
      "metadata": {
        "id": "To2paLsJ5Eny",
        "colab_type": "code",
        "outputId": "dcca8b4a-a25f-499d-bf22-db49c534d97c",
        "colab": {
          "base_uri": "https://localhost:8080/",
          "height": 168
        }
      },
      "source": [
        "mT = np.transpose(m)\n",
        "e_r = EK\n",
        "w_new = []\n",
        "list_EK = []\n",
        "for i in range(4) :\n",
        "  e_r *= 1.5\n",
        "  list_EK.append(e_r)\n",
        "  \n",
        "  matA = np.dot(u,(CInv))\n",
        "  matB = np.dot(m,(CInv))\n",
        "  mat1 = u.dot(CInv).dot(mT)\n",
        "  mat2 = m.dot(CInv).dot(mT)\n",
        "  mat3 = u.dot(CInv).dot(uT)\n",
        "  mat4 = m.dot(CInv).dot(uT)\n",
        "\n",
        "  A1 = np.array([[1,mat1],[e_r,mat2]]) \n",
        "  A2 = np.array([[mat3,1],[mat4,e_r]])\n",
        "  A3 = np.array([[mat3,mat1],[mat4,mat2]])\n",
        "\n",
        "  det1 = det([[1,mat1],[e_r,mat2]])\n",
        "  det2 = det([[mat3,1],[mat4,e_r]])\n",
        "  det3 = det([[mat3,mat1],[mat4,mat2]])\n",
        "  w = ((det1*matA)+(det2*matB))/det3\n",
        "  w_new.append(w)\n",
        "#print(w_new)\n",
        "df_w_new = pd.DataFrame(w_new)\n",
        "df_w_new.columns = kode_saham\n",
        "df_w_new"
      ],
      "execution_count": 232,
      "outputs": [
        {
          "output_type": "execute_result",
          "data": {
            "text/html": [
              "<div>\n",
              "<style scoped>\n",
              "    .dataframe tbody tr th:only-of-type {\n",
              "        vertical-align: middle;\n",
              "    }\n",
              "\n",
              "    .dataframe tbody tr th {\n",
              "        vertical-align: top;\n",
              "    }\n",
              "\n",
              "    .dataframe thead th {\n",
              "        text-align: right;\n",
              "    }\n",
              "</style>\n",
              "<table border=\"1\" class=\"dataframe\">\n",
              "  <thead>\n",
              "    <tr style=\"text-align: right;\">\n",
              "      <th></th>\n",
              "      <th>SGRO.JK</th>\n",
              "      <th>TLKM.JK</th>\n",
              "      <th>INDR.JK</th>\n",
              "      <th>PRDA.JK</th>\n",
              "      <th>AKPI.JK</th>\n",
              "    </tr>\n",
              "  </thead>\n",
              "  <tbody>\n",
              "    <tr>\n",
              "      <th>0</th>\n",
              "      <td>-0.457332</td>\n",
              "      <td>1.035034</td>\n",
              "      <td>0.252316</td>\n",
              "      <td>0.205880</td>\n",
              "      <td>-0.035897</td>\n",
              "    </tr>\n",
              "    <tr>\n",
              "      <th>1</th>\n",
              "      <td>-1.813476</td>\n",
              "      <td>2.020432</td>\n",
              "      <td>0.542282</td>\n",
              "      <td>0.350827</td>\n",
              "      <td>-0.100064</td>\n",
              "    </tr>\n",
              "    <tr>\n",
              "      <th>2</th>\n",
              "      <td>-3.847693</td>\n",
              "      <td>3.498529</td>\n",
              "      <td>0.977231</td>\n",
              "      <td>0.568248</td>\n",
              "      <td>-0.196315</td>\n",
              "    </tr>\n",
              "    <tr>\n",
              "      <th>3</th>\n",
              "      <td>-6.899019</td>\n",
              "      <td>5.715674</td>\n",
              "      <td>1.629655</td>\n",
              "      <td>0.894380</td>\n",
              "      <td>-0.340691</td>\n",
              "    </tr>\n",
              "  </tbody>\n",
              "</table>\n",
              "</div>"
            ],
            "text/plain": [
              "    SGRO.JK   TLKM.JK   INDR.JK   PRDA.JK   AKPI.JK\n",
              "0 -0.457332  1.035034  0.252316  0.205880 -0.035897\n",
              "1 -1.813476  2.020432  0.542282  0.350827 -0.100064\n",
              "2 -3.847693  3.498529  0.977231  0.568248 -0.196315\n",
              "3 -6.899019  5.715674  1.629655  0.894380 -0.340691"
            ]
          },
          "metadata": {
            "tags": []
          },
          "execution_count": 232
        }
      ]
    },
    {
      "cell_type": "markdown",
      "metadata": {
        "id": "dndX-vNek13m",
        "colab_type": "text"
      },
      "source": [
        "#### Potofolio yang dibentuk"
      ]
    },
    {
      "cell_type": "code",
      "metadata": {
        "id": "KM6tgal5rJhR",
        "colab_type": "code",
        "colab": {
          "base_uri": "https://localhost:8080/",
          "height": 78
        },
        "outputId": "30070346-e2be-4464-8776-244fc20a1835"
      },
      "source": [
        "df_port"
      ],
      "execution_count": 233,
      "outputs": [
        {
          "output_type": "execute_result",
          "data": {
            "text/html": [
              "<div>\n",
              "<style scoped>\n",
              "    .dataframe tbody tr th:only-of-type {\n",
              "        vertical-align: middle;\n",
              "    }\n",
              "\n",
              "    .dataframe tbody tr th {\n",
              "        vertical-align: top;\n",
              "    }\n",
              "\n",
              "    .dataframe thead th {\n",
              "        text-align: right;\n",
              "    }\n",
              "</style>\n",
              "<table border=\"1\" class=\"dataframe\">\n",
              "  <thead>\n",
              "    <tr style=\"text-align: right;\">\n",
              "      <th></th>\n",
              "      <th>SGRO.JK</th>\n",
              "      <th>TLKM.JK</th>\n",
              "      <th>INDR.JK</th>\n",
              "      <th>PRDA.JK</th>\n",
              "      <th>AKPI.JK</th>\n",
              "      <th>Expected Return</th>\n",
              "      <th>Risiko</th>\n",
              "    </tr>\n",
              "  </thead>\n",
              "  <tbody>\n",
              "    <tr>\n",
              "      <th>0</th>\n",
              "      <td>0.4468</td>\n",
              "      <td>0.3781</td>\n",
              "      <td>0.059</td>\n",
              "      <td>0.1092</td>\n",
              "      <td>0.0069</td>\n",
              "      <td>0.042285</td>\n",
              "      <td>0.000001</td>\n",
              "    </tr>\n",
              "  </tbody>\n",
              "</table>\n",
              "</div>"
            ],
            "text/plain": [
              "   SGRO.JK  TLKM.JK  INDR.JK  PRDA.JK  AKPI.JK  Expected Return    Risiko\n",
              "0   0.4468   0.3781    0.059   0.1092   0.0069         0.042285  0.000001"
            ]
          },
          "metadata": {
            "tags": []
          },
          "execution_count": 233
        }
      ]
    },
    {
      "cell_type": "code",
      "metadata": {
        "id": "jxCVYqtkwC-K",
        "colab_type": "code",
        "outputId": "16a8a1c5-4054-4428-b26a-310de2550b64",
        "colab": {
          "base_uri": "https://localhost:8080/",
          "height": 197
        }
      },
      "source": [
        "\n",
        "list_bobot = []\n",
        "i = 0\n",
        "for bobot in w_new :\n",
        "  tmp = []\n",
        "  wT = np.transpose(bobot)\n",
        "  risk = bobot.dot(C).dot(wT)\n",
        "  for x in bobot :\n",
        "    tmp.append(x)\n",
        "  tmp.append(list_EK[i])\n",
        "  tmp.append(risk)\n",
        "  list_bobot.append(tmp)\n",
        "  i+=1\n",
        "#print(list_bobot)\n",
        "\n",
        "df = pd.DataFrame(list_bobot)\n",
        "df.columns = column\n",
        "df_tmp =df_port\n",
        "new_df = df_tmp.append(df,ignore_index=True)\n",
        "new_df"
      ],
      "execution_count": 234,
      "outputs": [
        {
          "output_type": "execute_result",
          "data": {
            "text/html": [
              "<div>\n",
              "<style scoped>\n",
              "    .dataframe tbody tr th:only-of-type {\n",
              "        vertical-align: middle;\n",
              "    }\n",
              "\n",
              "    .dataframe tbody tr th {\n",
              "        vertical-align: top;\n",
              "    }\n",
              "\n",
              "    .dataframe thead th {\n",
              "        text-align: right;\n",
              "    }\n",
              "</style>\n",
              "<table border=\"1\" class=\"dataframe\">\n",
              "  <thead>\n",
              "    <tr style=\"text-align: right;\">\n",
              "      <th></th>\n",
              "      <th>SGRO.JK</th>\n",
              "      <th>TLKM.JK</th>\n",
              "      <th>INDR.JK</th>\n",
              "      <th>PRDA.JK</th>\n",
              "      <th>AKPI.JK</th>\n",
              "      <th>Expected Return</th>\n",
              "      <th>Risiko</th>\n",
              "    </tr>\n",
              "  </thead>\n",
              "  <tbody>\n",
              "    <tr>\n",
              "      <th>0</th>\n",
              "      <td>0.446800</td>\n",
              "      <td>0.378100</td>\n",
              "      <td>0.059000</td>\n",
              "      <td>0.109200</td>\n",
              "      <td>0.006900</td>\n",
              "      <td>0.042285</td>\n",
              "      <td>0.000001</td>\n",
              "    </tr>\n",
              "    <tr>\n",
              "      <th>1</th>\n",
              "      <td>-0.457332</td>\n",
              "      <td>1.035034</td>\n",
              "      <td>0.252316</td>\n",
              "      <td>0.205880</td>\n",
              "      <td>-0.035897</td>\n",
              "      <td>0.063427</td>\n",
              "      <td>0.000015</td>\n",
              "    </tr>\n",
              "    <tr>\n",
              "      <th>2</th>\n",
              "      <td>-1.813476</td>\n",
              "      <td>2.020432</td>\n",
              "      <td>0.542282</td>\n",
              "      <td>0.350827</td>\n",
              "      <td>-0.100064</td>\n",
              "      <td>0.095140</td>\n",
              "      <td>0.000087</td>\n",
              "    </tr>\n",
              "    <tr>\n",
              "      <th>3</th>\n",
              "      <td>-3.847693</td>\n",
              "      <td>3.498529</td>\n",
              "      <td>0.977231</td>\n",
              "      <td>0.568248</td>\n",
              "      <td>-0.196315</td>\n",
              "      <td>0.142710</td>\n",
              "      <td>0.000313</td>\n",
              "    </tr>\n",
              "    <tr>\n",
              "      <th>4</th>\n",
              "      <td>-6.899019</td>\n",
              "      <td>5.715674</td>\n",
              "      <td>1.629655</td>\n",
              "      <td>0.894380</td>\n",
              "      <td>-0.340691</td>\n",
              "      <td>0.214066</td>\n",
              "      <td>0.000913</td>\n",
              "    </tr>\n",
              "  </tbody>\n",
              "</table>\n",
              "</div>"
            ],
            "text/plain": [
              "    SGRO.JK   TLKM.JK   INDR.JK   PRDA.JK   AKPI.JK  Expected Return    Risiko\n",
              "0  0.446800  0.378100  0.059000  0.109200  0.006900         0.042285  0.000001\n",
              "1 -0.457332  1.035034  0.252316  0.205880 -0.035897         0.063427  0.000015\n",
              "2 -1.813476  2.020432  0.542282  0.350827 -0.100064         0.095140  0.000087\n",
              "3 -3.847693  3.498529  0.977231  0.568248 -0.196315         0.142710  0.000313\n",
              "4 -6.899019  5.715674  1.629655  0.894380 -0.340691         0.214066  0.000913"
            ]
          },
          "metadata": {
            "tags": []
          },
          "execution_count": 234
        }
      ]
    },
    {
      "cell_type": "markdown",
      "metadata": {
        "id": "96PtNrcXmk0q",
        "colab_type": "text"
      },
      "source": [
        "### No 2"
      ]
    },
    {
      "cell_type": "markdown",
      "metadata": {
        "id": "BRUqxI0vlB6E",
        "colab_type": "text"
      },
      "source": [
        "#### Eefficient Drontier"
      ]
    },
    {
      "cell_type": "code",
      "metadata": {
        "id": "YnqVeJBFzjft",
        "colab_type": "code",
        "outputId": "1366a651-1bb6-4610-c5e4-620eb14229c3",
        "colab": {
          "base_uri": "https://localhost:8080/",
          "height": 606
        }
      },
      "source": [
        "import matplotlib.pyplot as plt\n",
        "\n",
        "y = new_df[\"Expected Return\"]\n",
        "x = new_df[\"Risiko\"]\n",
        "\n",
        "plt.figure(figsize=(20,10))\n",
        "plt.plot(x,y)\n",
        "plt.scatter(x,y)\n",
        "plt.xlabel(\"Expected Return\")\n",
        "plt.ylabel(\"Risiko\")\n",
        "plt.show()"
      ],
      "execution_count": 235,
      "outputs": [
        {
          "output_type": "display_data",
          "data": {
            "image/png": "[encoded data removed]",
            "text/plain": [
              "<Figure size 1440x720 with 1 Axes>"
            ]
          },
          "metadata": {
            "tags": [],
            "needs_background": "light"
          }
        }
      ]
    },
    {
      "cell_type": "markdown",
      "metadata": {
        "id": "XzSSRlhuCfNQ",
        "colab_type": "text"
      },
      "source": [
        "### No 3a"
      ]
    },
    {
      "cell_type": "markdown",
      "metadata": {
        "id": "GZOfXrtPCkEy",
        "colab_type": "text"
      },
      "source": [
        "#### Load Data"
      ]
    },
    {
      "cell_type": "code",
      "metadata": {
        "id": "0drhm_uOCg84",
        "colab_type": "code",
        "outputId": "04e1faa8-e589-4a42-e3ec-fb8c7bef80f9",
        "colab": {
          "base_uri": "https://localhost:8080/",
          "height": 197
        }
      },
      "source": [
        "dataset_2019 = load_data(2019,kode_saham)\n",
        "dataset_2019.sample(5)"
      ],
      "execution_count": 236,
      "outputs": [
        {
          "output_type": "execute_result",
          "data": {
            "text/html": [
              "<div>\n",
              "<style scoped>\n",
              "    .dataframe tbody tr th:only-of-type {\n",
              "        vertical-align: middle;\n",
              "    }\n",
              "\n",
              "    .dataframe tbody tr th {\n",
              "        vertical-align: top;\n",
              "    }\n",
              "\n",
              "    .dataframe thead th {\n",
              "        text-align: right;\n",
              "    }\n",
              "</style>\n",
              "<table border=\"1\" class=\"dataframe\">\n",
              "  <thead>\n",
              "    <tr style=\"text-align: right;\">\n",
              "      <th></th>\n",
              "      <th>SGRO.JK</th>\n",
              "      <th>TLKM.JK</th>\n",
              "      <th>INDR.JK</th>\n",
              "      <th>PRDA.JK</th>\n",
              "      <th>AKPI.JK</th>\n",
              "    </tr>\n",
              "  </thead>\n",
              "  <tbody>\n",
              "    <tr>\n",
              "      <th>46</th>\n",
              "      <td>2500.0</td>\n",
              "      <td>3950.0</td>\n",
              "      <td>2570.0</td>\n",
              "      <td>4000.0</td>\n",
              "      <td>382.0</td>\n",
              "    </tr>\n",
              "    <tr>\n",
              "      <th>10</th>\n",
              "      <td>2500.0</td>\n",
              "      <td>3820.0</td>\n",
              "      <td>5975.0</td>\n",
              "      <td>2760.0</td>\n",
              "      <td>605.0</td>\n",
              "    </tr>\n",
              "    <tr>\n",
              "      <th>12</th>\n",
              "      <td>2430.0</td>\n",
              "      <td>3930.0</td>\n",
              "      <td>5375.0</td>\n",
              "      <td>2900.0</td>\n",
              "      <td>590.0</td>\n",
              "    </tr>\n",
              "    <tr>\n",
              "      <th>40</th>\n",
              "      <td>2070.0</td>\n",
              "      <td>4190.0</td>\n",
              "      <td>3500.0</td>\n",
              "      <td>4800.0</td>\n",
              "      <td>398.0</td>\n",
              "    </tr>\n",
              "    <tr>\n",
              "      <th>16</th>\n",
              "      <td>2350.0</td>\n",
              "      <td>3860.0</td>\n",
              "      <td>4670.0</td>\n",
              "      <td>2870.0</td>\n",
              "      <td>590.0</td>\n",
              "    </tr>\n",
              "  </tbody>\n",
              "</table>\n",
              "</div>"
            ],
            "text/plain": [
              "    SGRO.JK  TLKM.JK  INDR.JK  PRDA.JK  AKPI.JK\n",
              "46   2500.0   3950.0   2570.0   4000.0    382.0\n",
              "10   2500.0   3820.0   5975.0   2760.0    605.0\n",
              "12   2430.0   3930.0   5375.0   2900.0    590.0\n",
              "40   2070.0   4190.0   3500.0   4800.0    398.0\n",
              "16   2350.0   3860.0   4670.0   2870.0    590.0"
            ]
          },
          "metadata": {
            "tags": []
          },
          "execution_count": 236
        }
      ]
    },
    {
      "cell_type": "markdown",
      "metadata": {
        "id": "hv2t99ZunUrD",
        "colab_type": "text"
      },
      "source": [
        "Korelasi Saham"
      ]
    },
    {
      "cell_type": "code",
      "metadata": {
        "id": "etSLFkbrNPGW",
        "colab_type": "code",
        "outputId": "8f58c932-67c3-49b4-b25e-66f5e4518cd3",
        "colab": {
          "base_uri": "https://localhost:8080/",
          "height": 197
        }
      },
      "source": [
        "rho = dataset_2019.corr().values\n",
        "dataset.corr()"
      ],
      "execution_count": 237,
      "outputs": [
        {
          "output_type": "execute_result",
          "data": {
            "text/html": [
              "<div>\n",
              "<style scoped>\n",
              "    .dataframe tbody tr th:only-of-type {\n",
              "        vertical-align: middle;\n",
              "    }\n",
              "\n",
              "    .dataframe tbody tr th {\n",
              "        vertical-align: top;\n",
              "    }\n",
              "\n",
              "    .dataframe thead th {\n",
              "        text-align: right;\n",
              "    }\n",
              "</style>\n",
              "<table border=\"1\" class=\"dataframe\">\n",
              "  <thead>\n",
              "    <tr style=\"text-align: right;\">\n",
              "      <th></th>\n",
              "      <th>SGRO.JK</th>\n",
              "      <th>TLKM.JK</th>\n",
              "      <th>INDR.JK</th>\n",
              "      <th>PRDA.JK</th>\n",
              "      <th>AKPI.JK</th>\n",
              "    </tr>\n",
              "  </thead>\n",
              "  <tbody>\n",
              "    <tr>\n",
              "      <th>SGRO.JK</th>\n",
              "      <td>1.000000</td>\n",
              "      <td>-0.336531</td>\n",
              "      <td>0.282667</td>\n",
              "      <td>-0.599204</td>\n",
              "      <td>-0.559313</td>\n",
              "    </tr>\n",
              "    <tr>\n",
              "      <th>TLKM.JK</th>\n",
              "      <td>-0.336531</td>\n",
              "      <td>1.000000</td>\n",
              "      <td>-0.647548</td>\n",
              "      <td>0.348964</td>\n",
              "      <td>0.244041</td>\n",
              "    </tr>\n",
              "    <tr>\n",
              "      <th>INDR.JK</th>\n",
              "      <td>0.282667</td>\n",
              "      <td>-0.647548</td>\n",
              "      <td>1.000000</td>\n",
              "      <td>-0.715454</td>\n",
              "      <td>-0.019710</td>\n",
              "    </tr>\n",
              "    <tr>\n",
              "      <th>PRDA.JK</th>\n",
              "      <td>-0.599204</td>\n",
              "      <td>0.348964</td>\n",
              "      <td>-0.715454</td>\n",
              "      <td>1.000000</td>\n",
              "      <td>0.189698</td>\n",
              "    </tr>\n",
              "    <tr>\n",
              "      <th>AKPI.JK</th>\n",
              "      <td>-0.559313</td>\n",
              "      <td>0.244041</td>\n",
              "      <td>-0.019710</td>\n",
              "      <td>0.189698</td>\n",
              "      <td>1.000000</td>\n",
              "    </tr>\n",
              "  </tbody>\n",
              "</table>\n",
              "</div>"
            ],
            "text/plain": [
              "          SGRO.JK   TLKM.JK   INDR.JK   PRDA.JK   AKPI.JK\n",
              "SGRO.JK  1.000000 -0.336531  0.282667 -0.599204 -0.559313\n",
              "TLKM.JK -0.336531  1.000000 -0.647548  0.348964  0.244041\n",
              "INDR.JK  0.282667 -0.647548  1.000000 -0.715454 -0.019710\n",
              "PRDA.JK -0.599204  0.348964 -0.715454  1.000000  0.189698\n",
              "AKPI.JK -0.559313  0.244041 -0.019710  0.189698  1.000000"
            ]
          },
          "metadata": {
            "tags": []
          },
          "execution_count": 237
        }
      ]
    },
    {
      "cell_type": "markdown",
      "metadata": {
        "id": "zGSfDfvGmwDr",
        "colab_type": "text"
      },
      "source": [
        "#### nilai K tiap saham"
      ]
    },
    {
      "cell_type": "code",
      "metadata": {
        "id": "JUhaF8bTKUN7",
        "colab_type": "code",
        "outputId": "1ca99f4f-31c9-46cc-e873-57145074b114",
        "colab": {
          "base_uri": "https://localhost:8080/",
          "height": 78
        }
      },
      "source": [
        "K_2019 = return_saham(dataset_2019)\n",
        "K_2019"
      ],
      "execution_count": 238,
      "outputs": [
        {
          "output_type": "execute_result",
          "data": {
            "text/html": [
              "<div>\n",
              "<style scoped>\n",
              "    .dataframe tbody tr th:only-of-type {\n",
              "        vertical-align: middle;\n",
              "    }\n",
              "\n",
              "    .dataframe tbody tr th {\n",
              "        vertical-align: top;\n",
              "    }\n",
              "\n",
              "    .dataframe thead th {\n",
              "        text-align: right;\n",
              "    }\n",
              "</style>\n",
              "<table border=\"1\" class=\"dataframe\">\n",
              "  <thead>\n",
              "    <tr style=\"text-align: right;\">\n",
              "      <th></th>\n",
              "      <th>SGRO.JK</th>\n",
              "      <th>TLKM.JK</th>\n",
              "      <th>INDR.JK</th>\n",
              "      <th>PRDA.JK</th>\n",
              "      <th>AKPI.JK</th>\n",
              "    </tr>\n",
              "  </thead>\n",
              "  <tbody>\n",
              "    <tr>\n",
              "      <th>0</th>\n",
              "      <td>0.067327</td>\n",
              "      <td>0.063704</td>\n",
              "      <td>0.069513</td>\n",
              "      <td>0.086151</td>\n",
              "      <td>0.064925</td>\n",
              "    </tr>\n",
              "  </tbody>\n",
              "</table>\n",
              "</div>"
            ],
            "text/plain": [
              "    SGRO.JK   TLKM.JK   INDR.JK   PRDA.JK   AKPI.JK\n",
              "0  0.067327  0.063704  0.069513  0.086151  0.064925"
            ]
          },
          "metadata": {
            "tags": []
          },
          "execution_count": 238
        }
      ]
    },
    {
      "cell_type": "markdown",
      "metadata": {
        "id": "WZi0Rutjm0A7",
        "colab_type": "text"
      },
      "source": [
        "#### Variansi Return Saham"
      ]
    },
    {
      "cell_type": "code",
      "metadata": {
        "id": "3pqOwDttE8Aj",
        "colab_type": "code",
        "outputId": "5a9b47f4-a3bb-463e-cb0c-fb721c11b010",
        "colab": {
          "base_uri": "https://localhost:8080/",
          "height": 78
        }
      },
      "source": [
        "var = function_var(dataset_2019).iloc[0,:].values\n",
        "function_var(dataset_2019)"
      ],
      "execution_count": 239,
      "outputs": [
        {
          "output_type": "execute_result",
          "data": {
            "text/html": [
              "<div>\n",
              "<style scoped>\n",
              "    .dataframe tbody tr th:only-of-type {\n",
              "        vertical-align: middle;\n",
              "    }\n",
              "\n",
              "    .dataframe tbody tr th {\n",
              "        vertical-align: top;\n",
              "    }\n",
              "\n",
              "    .dataframe thead th {\n",
              "        text-align: right;\n",
              "    }\n",
              "</style>\n",
              "<table border=\"1\" class=\"dataframe\">\n",
              "  <thead>\n",
              "    <tr style=\"text-align: right;\">\n",
              "      <th></th>\n",
              "      <th>SGRO.JK</th>\n",
              "      <th>TLKM.JK</th>\n",
              "      <th>INDR.JK</th>\n",
              "      <th>PRDA.JK</th>\n",
              "      <th>AKPI.JK</th>\n",
              "    </tr>\n",
              "  </thead>\n",
              "  <tbody>\n",
              "    <tr>\n",
              "      <th>0</th>\n",
              "      <td>0.000048</td>\n",
              "      <td>0.000002</td>\n",
              "      <td>0.0005</td>\n",
              "      <td>0.000155</td>\n",
              "      <td>0.000577</td>\n",
              "    </tr>\n",
              "  </tbody>\n",
              "</table>\n",
              "</div>"
            ],
            "text/plain": [
              "    SGRO.JK   TLKM.JK  INDR.JK   PRDA.JK   AKPI.JK\n",
              "0  0.000048  0.000002   0.0005  0.000155  0.000577"
            ]
          },
          "metadata": {
            "tags": []
          },
          "execution_count": 239
        }
      ]
    },
    {
      "cell_type": "markdown",
      "metadata": {
        "id": "0ZCcsxdEnRvb",
        "colab_type": "text"
      },
      "source": [
        "#### Standar deviasi tiap saham"
      ]
    },
    {
      "cell_type": "code",
      "metadata": {
        "id": "EMPjkiqLLDQk",
        "colab_type": "code",
        "outputId": "d1baaf5d-ce89-441c-c7d0-3a7560616e9c",
        "colab": {
          "base_uri": "https://localhost:8080/",
          "height": 78
        }
      },
      "source": [
        "std_dev = function_std_dev(var)\n",
        "df_std_new = pd.DataFrame([function_std_dev(var)])\n",
        "df_std_new.columns = kode_saham\n",
        "df_std_new"
      ],
      "execution_count": 240,
      "outputs": [
        {
          "output_type": "execute_result",
          "data": {
            "text/html": [
              "<div>\n",
              "<style scoped>\n",
              "    .dataframe tbody tr th:only-of-type {\n",
              "        vertical-align: middle;\n",
              "    }\n",
              "\n",
              "    .dataframe tbody tr th {\n",
              "        vertical-align: top;\n",
              "    }\n",
              "\n",
              "    .dataframe thead th {\n",
              "        text-align: right;\n",
              "    }\n",
              "</style>\n",
              "<table border=\"1\" class=\"dataframe\">\n",
              "  <thead>\n",
              "    <tr style=\"text-align: right;\">\n",
              "      <th></th>\n",
              "      <th>SGRO.JK</th>\n",
              "      <th>TLKM.JK</th>\n",
              "      <th>INDR.JK</th>\n",
              "      <th>PRDA.JK</th>\n",
              "      <th>AKPI.JK</th>\n",
              "    </tr>\n",
              "  </thead>\n",
              "  <tbody>\n",
              "    <tr>\n",
              "      <th>0</th>\n",
              "      <td>0.006906</td>\n",
              "      <td>0.0013</td>\n",
              "      <td>0.022353</td>\n",
              "      <td>0.012435</td>\n",
              "      <td>0.024017</td>\n",
              "    </tr>\n",
              "  </tbody>\n",
              "</table>\n",
              "</div>"
            ],
            "text/plain": [
              "    SGRO.JK  TLKM.JK   INDR.JK   PRDA.JK   AKPI.JK\n",
              "0  0.006906   0.0013  0.022353  0.012435  0.024017"
            ]
          },
          "metadata": {
            "tags": []
          },
          "execution_count": 240
        }
      ]
    },
    {
      "cell_type": "markdown",
      "metadata": {
        "id": "RnjDGIA5nc6A",
        "colab_type": "text"
      },
      "source": [
        "#### Matrix C"
      ]
    },
    {
      "cell_type": "code",
      "metadata": {
        "id": "-2OuusU4M9mp",
        "colab_type": "code",
        "colab": {}
      },
      "source": [
        "C = Matrix_C()"
      ],
      "execution_count": 0,
      "outputs": []
    },
    {
      "cell_type": "markdown",
      "metadata": {
        "id": "Pxr1_MSRphWA",
        "colab_type": "text"
      },
      "source": [
        "#### Ekpected Return Portofolio"
      ]
    },
    {
      "cell_type": "code",
      "metadata": {
        "id": "51N5qEBKiLvH",
        "colab_type": "code",
        "outputId": "4546031e-c8fc-454b-a80d-613353ca925d",
        "colab": {
          "base_uri": "https://localhost:8080/",
          "height": 78
        }
      },
      "source": [
        "Expected_Return(K_2019,new_df.iloc[:2,:n])"
      ],
      "execution_count": 242,
      "outputs": [
        {
          "output_type": "execute_result",
          "data": {
            "text/html": [
              "<div>\n",
              "<style scoped>\n",
              "    .dataframe tbody tr th:only-of-type {\n",
              "        vertical-align: middle;\n",
              "    }\n",
              "\n",
              "    .dataframe tbody tr th {\n",
              "        vertical-align: top;\n",
              "    }\n",
              "\n",
              "    .dataframe thead th {\n",
              "        text-align: right;\n",
              "    }\n",
              "</style>\n",
              "<table border=\"1\" class=\"dataframe\">\n",
              "  <thead>\n",
              "    <tr style=\"text-align: right;\">\n",
              "      <th></th>\n",
              "      <th>ER1</th>\n",
              "      <th>ER2</th>\n",
              "    </tr>\n",
              "  </thead>\n",
              "  <tbody>\n",
              "    <tr>\n",
              "      <th>0</th>\n",
              "      <td>0.068125</td>\n",
              "      <td>0.06809</td>\n",
              "    </tr>\n",
              "  </tbody>\n",
              "</table>\n",
              "</div>"
            ],
            "text/plain": [
              "        ER1      ER2\n",
              "0  0.068125  0.06809"
            ]
          },
          "metadata": {
            "tags": []
          },
          "execution_count": 242
        }
      ]
    },
    {
      "cell_type": "code",
      "metadata": {
        "id": "NCMzrmyPDc3i",
        "colab_type": "code",
        "colab": {
          "base_uri": "https://localhost:8080/",
          "height": 108
        },
        "outputId": "0f91d156-4e96-41f5-9470-bb63627c71e5"
      },
      "source": [
        "new_df.iloc[[1,3],:n]"
      ],
      "execution_count": 250,
      "outputs": [
        {
          "output_type": "execute_result",
          "data": {
            "text/html": [
              "<div>\n",
              "<style scoped>\n",
              "    .dataframe tbody tr th:only-of-type {\n",
              "        vertical-align: middle;\n",
              "    }\n",
              "\n",
              "    .dataframe tbody tr th {\n",
              "        vertical-align: top;\n",
              "    }\n",
              "\n",
              "    .dataframe thead th {\n",
              "        text-align: right;\n",
              "    }\n",
              "</style>\n",
              "<table border=\"1\" class=\"dataframe\">\n",
              "  <thead>\n",
              "    <tr style=\"text-align: right;\">\n",
              "      <th></th>\n",
              "      <th>SGRO.JK</th>\n",
              "      <th>TLKM.JK</th>\n",
              "      <th>INDR.JK</th>\n",
              "      <th>PRDA.JK</th>\n",
              "      <th>AKPI.JK</th>\n",
              "    </tr>\n",
              "  </thead>\n",
              "  <tbody>\n",
              "    <tr>\n",
              "      <th>1</th>\n",
              "      <td>-0.457332</td>\n",
              "      <td>1.035034</td>\n",
              "      <td>0.252316</td>\n",
              "      <td>0.205880</td>\n",
              "      <td>-0.035897</td>\n",
              "    </tr>\n",
              "    <tr>\n",
              "      <th>3</th>\n",
              "      <td>-3.847693</td>\n",
              "      <td>3.498529</td>\n",
              "      <td>0.977231</td>\n",
              "      <td>0.568248</td>\n",
              "      <td>-0.196315</td>\n",
              "    </tr>\n",
              "  </tbody>\n",
              "</table>\n",
              "</div>"
            ],
            "text/plain": [
              "    SGRO.JK   TLKM.JK   INDR.JK   PRDA.JK   AKPI.JK\n",
              "1 -0.457332  1.035034  0.252316  0.205880 -0.035897\n",
              "3 -3.847693  3.498529  0.977231  0.568248 -0.196315"
            ]
          },
          "metadata": {
            "tags": []
          },
          "execution_count": 250
        }
      ]
    },
    {
      "cell_type": "markdown",
      "metadata": {
        "id": "lJGG6qCsprjw",
        "colab_type": "text"
      },
      "source": [
        "#### Portfolio yang dibandingkan"
      ]
    },
    {
      "cell_type": "code",
      "metadata": {
        "id": "u6fW8yQcLPV8",
        "colab_type": "code",
        "outputId": "3577a13c-6124-4569-f84c-c83ee4f356a1",
        "colab": {
          "base_uri": "https://localhost:8080/",
          "height": 164
        }
      },
      "source": [
        "list_bobot = []\n",
        "i = 0\n",
        "print(kode_saham)\n",
        "\n",
        "w_use = new_df.iloc[:2,:n]\n",
        "\n",
        "ER = Expected_Return(K_2019,w_use)\n",
        "\n",
        "for bobot in w_use.values :\n",
        "  #print(bobot)\n",
        "  tmp = []\n",
        "  wT = np.transpose(bobot)\n",
        "  risk = bobot.dot(C).dot(wT)\n",
        "  for x in bobot :\n",
        "    tmp.append(x)\n",
        "  tmp.append(ER.iloc[0,i])\n",
        "  tmp.append(risk)\n",
        "  list_bobot.append(tmp)\n",
        "  i+=1\n",
        "print(list_bobot)\n",
        "\n",
        "new_df_port = pd.DataFrame(list_bobot)\n",
        "new_df_port.columns = column\n",
        "new_df_port\n",
        "#df_tmp =df_port\n",
        "new_df_port"
      ],
      "execution_count": 251,
      "outputs": [
        {
          "output_type": "stream",
          "text": [
            "['SGRO.JK', 'TLKM.JK', 'INDR.JK', 'PRDA.JK', 'AKPI.JK']\n",
            "[[0.4468, 0.3781, 0.059, 0.1092, 0.0069, 0.06812517780855028, 1.20885879e-06], [-0.4573318300195054, 1.0350337725194672, 0.25231561905811795, 0.2058797189784037, -0.03589728053651261, 0.06809025937682903, 1.5015329120578709e-05]]\n"
          ],
          "name": "stdout"
        },
        {
          "output_type": "execute_result",
          "data": {
            "text/html": [
              "<div>\n",
              "<style scoped>\n",
              "    .dataframe tbody tr th:only-of-type {\n",
              "        vertical-align: middle;\n",
              "    }\n",
              "\n",
              "    .dataframe tbody tr th {\n",
              "        vertical-align: top;\n",
              "    }\n",
              "\n",
              "    .dataframe thead th {\n",
              "        text-align: right;\n",
              "    }\n",
              "</style>\n",
              "<table border=\"1\" class=\"dataframe\">\n",
              "  <thead>\n",
              "    <tr style=\"text-align: right;\">\n",
              "      <th></th>\n",
              "      <th>SGRO.JK</th>\n",
              "      <th>TLKM.JK</th>\n",
              "      <th>INDR.JK</th>\n",
              "      <th>PRDA.JK</th>\n",
              "      <th>AKPI.JK</th>\n",
              "      <th>Expected Return</th>\n",
              "      <th>Risiko</th>\n",
              "    </tr>\n",
              "  </thead>\n",
              "  <tbody>\n",
              "    <tr>\n",
              "      <th>0</th>\n",
              "      <td>0.446800</td>\n",
              "      <td>0.378100</td>\n",
              "      <td>0.059000</td>\n",
              "      <td>0.10920</td>\n",
              "      <td>0.006900</td>\n",
              "      <td>0.068125</td>\n",
              "      <td>0.000001</td>\n",
              "    </tr>\n",
              "    <tr>\n",
              "      <th>1</th>\n",
              "      <td>-0.457332</td>\n",
              "      <td>1.035034</td>\n",
              "      <td>0.252316</td>\n",
              "      <td>0.20588</td>\n",
              "      <td>-0.035897</td>\n",
              "      <td>0.068090</td>\n",
              "      <td>0.000015</td>\n",
              "    </tr>\n",
              "  </tbody>\n",
              "</table>\n",
              "</div>"
            ],
            "text/plain": [
              "    SGRO.JK   TLKM.JK   INDR.JK  PRDA.JK   AKPI.JK  Expected Return    Risiko\n",
              "0  0.446800  0.378100  0.059000  0.10920  0.006900         0.068125  0.000001\n",
              "1 -0.457332  1.035034  0.252316  0.20588 -0.035897         0.068090  0.000015"
            ]
          },
          "metadata": {
            "tags": []
          },
          "execution_count": 251
        }
      ]
    },
    {
      "cell_type": "code",
      "metadata": {
        "id": "1_nSI_i0tpqw",
        "colab_type": "code",
        "outputId": "b63abe5d-54f8-4339-9eb3-c00c8dfe42c6",
        "colab": {
          "base_uri": "https://localhost:8080/",
          "height": 108
        }
      },
      "source": [
        "new_df.iloc[[2,3],:]"
      ],
      "execution_count": 252,
      "outputs": [
        {
          "output_type": "execute_result",
          "data": {
            "text/html": [
              "<div>\n",
              "<style scoped>\n",
              "    .dataframe tbody tr th:only-of-type {\n",
              "        vertical-align: middle;\n",
              "    }\n",
              "\n",
              "    .dataframe tbody tr th {\n",
              "        vertical-align: top;\n",
              "    }\n",
              "\n",
              "    .dataframe thead th {\n",
              "        text-align: right;\n",
              "    }\n",
              "</style>\n",
              "<table border=\"1\" class=\"dataframe\">\n",
              "  <thead>\n",
              "    <tr style=\"text-align: right;\">\n",
              "      <th></th>\n",
              "      <th>SGRO.JK</th>\n",
              "      <th>TLKM.JK</th>\n",
              "      <th>INDR.JK</th>\n",
              "      <th>PRDA.JK</th>\n",
              "      <th>AKPI.JK</th>\n",
              "      <th>Expected Return</th>\n",
              "      <th>Risiko</th>\n",
              "    </tr>\n",
              "  </thead>\n",
              "  <tbody>\n",
              "    <tr>\n",
              "      <th>2</th>\n",
              "      <td>-1.813476</td>\n",
              "      <td>2.020432</td>\n",
              "      <td>0.542282</td>\n",
              "      <td>0.350827</td>\n",
              "      <td>-0.100064</td>\n",
              "      <td>0.09514</td>\n",
              "      <td>0.000087</td>\n",
              "    </tr>\n",
              "    <tr>\n",
              "      <th>3</th>\n",
              "      <td>-3.847693</td>\n",
              "      <td>3.498529</td>\n",
              "      <td>0.977231</td>\n",
              "      <td>0.568248</td>\n",
              "      <td>-0.196315</td>\n",
              "      <td>0.14271</td>\n",
              "      <td>0.000313</td>\n",
              "    </tr>\n",
              "  </tbody>\n",
              "</table>\n",
              "</div>"
            ],
            "text/plain": [
              "    SGRO.JK   TLKM.JK   INDR.JK   PRDA.JK   AKPI.JK  Expected Return    Risiko\n",
              "2 -1.813476  2.020432  0.542282  0.350827 -0.100064          0.09514  0.000087\n",
              "3 -3.847693  3.498529  0.977231  0.568248 -0.196315          0.14271  0.000313"
            ]
          },
          "metadata": {
            "tags": []
          },
          "execution_count": 252
        }
      ]
    },
    {
      "cell_type": "markdown",
      "metadata": {
        "id": "c577uJxlu_yf",
        "colab_type": "text"
      },
      "source": [
        "### No 3b"
      ]
    },
    {
      "cell_type": "markdown",
      "metadata": {
        "id": "gm4mlcLWp5v_",
        "colab_type": "text"
      },
      "source": [
        "#### Load Data"
      ]
    },
    {
      "cell_type": "code",
      "metadata": {
        "id": "tHXFtPosvBYw",
        "colab_type": "code",
        "outputId": "e8069916-ae5c-4042-c6e5-ca272e097941",
        "colab": {
          "base_uri": "https://localhost:8080/",
          "height": 216
        }
      },
      "source": [
        "kode_saham = kode_saham[:n]\n",
        "print(kode_saham)\n",
        "dataset_2020 = load_data(\"2019\",kode_saham)\n",
        "dataset_2020.sample(5)"
      ],
      "execution_count": 253,
      "outputs": [
        {
          "output_type": "stream",
          "text": [
            "['SGRO.JK', 'TLKM.JK', 'INDR.JK', 'PRDA.JK', 'AKPI.JK']\n"
          ],
          "name": "stdout"
        },
        {
          "output_type": "execute_result",
          "data": {
            "text/html": [
              "<div>\n",
              "<style scoped>\n",
              "    .dataframe tbody tr th:only-of-type {\n",
              "        vertical-align: middle;\n",
              "    }\n",
              "\n",
              "    .dataframe tbody tr th {\n",
              "        vertical-align: top;\n",
              "    }\n",
              "\n",
              "    .dataframe thead th {\n",
              "        text-align: right;\n",
              "    }\n",
              "</style>\n",
              "<table border=\"1\" class=\"dataframe\">\n",
              "  <thead>\n",
              "    <tr style=\"text-align: right;\">\n",
              "      <th></th>\n",
              "      <th>SGRO.JK</th>\n",
              "      <th>TLKM.JK</th>\n",
              "      <th>INDR.JK</th>\n",
              "      <th>PRDA.JK</th>\n",
              "      <th>AKPI.JK</th>\n",
              "    </tr>\n",
              "  </thead>\n",
              "  <tbody>\n",
              "    <tr>\n",
              "      <th>1</th>\n",
              "      <td>2420.0</td>\n",
              "      <td>3850.0</td>\n",
              "      <td>6725.0</td>\n",
              "      <td>2170.0</td>\n",
              "      <td>730.0</td>\n",
              "    </tr>\n",
              "    <tr>\n",
              "      <th>9</th>\n",
              "      <td>2450.0</td>\n",
              "      <td>3800.0</td>\n",
              "      <td>6400.0</td>\n",
              "      <td>2810.0</td>\n",
              "      <td>590.0</td>\n",
              "    </tr>\n",
              "    <tr>\n",
              "      <th>21</th>\n",
              "      <td>2280.0</td>\n",
              "      <td>3900.0</td>\n",
              "      <td>5100.0</td>\n",
              "      <td>3520.0</td>\n",
              "      <td>482.0</td>\n",
              "    </tr>\n",
              "    <tr>\n",
              "      <th>35</th>\n",
              "      <td>2300.0</td>\n",
              "      <td>4270.0</td>\n",
              "      <td>4190.0</td>\n",
              "      <td>4350.0</td>\n",
              "      <td>416.0</td>\n",
              "    </tr>\n",
              "    <tr>\n",
              "      <th>33</th>\n",
              "      <td>2370.0</td>\n",
              "      <td>4330.0</td>\n",
              "      <td>3790.0</td>\n",
              "      <td>4250.0</td>\n",
              "      <td>422.0</td>\n",
              "    </tr>\n",
              "  </tbody>\n",
              "</table>\n",
              "</div>"
            ],
            "text/plain": [
              "    SGRO.JK  TLKM.JK  INDR.JK  PRDA.JK  AKPI.JK\n",
              "1    2420.0   3850.0   6725.0   2170.0    730.0\n",
              "9    2450.0   3800.0   6400.0   2810.0    590.0\n",
              "21   2280.0   3900.0   5100.0   3520.0    482.0\n",
              "35   2300.0   4270.0   4190.0   4350.0    416.0\n",
              "33   2370.0   4330.0   3790.0   4250.0    422.0"
            ]
          },
          "metadata": {
            "tags": []
          },
          "execution_count": 253
        }
      ]
    },
    {
      "cell_type": "markdown",
      "metadata": {
        "id": "Ie_2e9tYp-OA",
        "colab_type": "text"
      },
      "source": [
        "#### Pergerakan Kekayaan tiap minggu"
      ]
    },
    {
      "cell_type": "code",
      "metadata": {
        "id": "jUb_qMOwnD9z",
        "colab_type": "code",
        "outputId": "96f7a891-b9ed-4659-cc37-8c0560286c05",
        "colab": {
          "base_uri": "https://localhost:8080/",
          "height": 254
        }
      },
      "source": [
        "VP = {}\n",
        "V0 = 1\n",
        "n_port = w_use.shape[0]\n",
        "for i in range(n_port):\n",
        "  VP[i] = [V0]\n",
        "\n",
        "print(n_port)\n",
        "\n",
        "for i in range(n_port):\n",
        "  for j in range(dataset_2020.shape[0]-1):\n",
        "    V = 0\n",
        "    for saham in dataset_2020 :\n",
        "      Sn = dataset_2020[saham][j+1]\n",
        "      Sm = dataset_2020[saham][j]\n",
        "\n",
        "      K = (Sn-Sm)/Sm\n",
        "\n",
        "      w = w_use[saham][i]\n",
        "      V += K*w\n",
        "    VP[i].append((1+V)*V0)\n",
        "\n",
        "print(VP)\n",
        "\n",
        "df_sim = pd.DataFrame(VP)\n",
        "df_sim.columns = [\"P\"+str(i+1) for i in range(n_port)]\n",
        "df_sim.sample(5)"
      ],
      "execution_count": 261,
      "outputs": [
        {
          "output_type": "stream",
          "text": [
            "2\n",
            "{0: [1, 1.0224883665167344, 1.0107226290147282, 0.9800914748707434, 1.006343699873794, 1.0345825378694964, 0.9873284333402105, 0.9928850505047309, 0.9954955600692393, 1.0235186155593727, 1.0054227618275318, 0.9806957507104859, 1.0177553931034065, 0.9754719991164541, 0.9813914098603426, 0.999528712981288, 1.0135963161899293, 1.018597525953777, 0.9844870296934037, 0.9866438337077554, 1.031272829836871, 0.9986412982342467, 0.9912263070031104, 1.000068085517324, 1.016242333352499, 1.0307305375132532, 1.0278697539039447, 0.9701208813867763, 1.0082623660335772, 0.9858501002124376, 0.9926161540906783, 1.03022639206715, 1.00686231778099, 1.005399342807527, 0.9829923620418345, 1.0088754980800447, 0.9818995595768136, 0.9915237589854344, 0.9991143243372673, 0.9938186854940914, 0.9818067828661835, 1.0361907450417864, 1.0139584453334725, 0.9892263403305899, 1.0113434211619863, 0.9955037512556919, 0.9833639132429356, 0.9883138852486402, 1.0181791823533033, 0.9663538243966285], 1: [1, 1.0241649355298947, 1.0866992837672211, 0.9524430053608433, 1.0521829931754345, 1.0254966842065556, 0.9839508438268649, 1.0148737559670384, 0.9765020384289784, 0.9452485589129201, 0.9747829265187679, 1.027438283988096, 1.0013974597352118, 1.0009337333145727, 0.9594227848280487, 0.983708423729023, 1.0166637291563934, 1.0346562729052822, 0.9816780942327198, 0.952104465248573, 1.0876936977598968, 1.0467464363431713, 1.0506455906013032, 0.9397392504185496, 1.0403614908010592, 1.0758901547672202, 1.0235348677028426, 1.0100897838593603, 1.0069492824561852, 0.9556801420412272, 0.9430859648796642, 1.0236742595557646, 1.0140836113112086, 0.9849320877090451, 1.0746651551967148, 0.9549265992254408, 1.0109749872838532, 0.9797613739502457, 1.01588836444948, 0.9524164519101561, 1.0492580649092607, 0.9555307977787852, 1.0211758247140523, 0.9268874120789025, 0.9561301497177326, 0.9535824697522209, 0.9338118104595785, 1.0283373113629946, 1.0045698130729526, 0.9843448136263236]}\n"
          ],
          "name": "stdout"
        },
        {
          "output_type": "execute_result",
          "data": {
            "text/html": [
              "<div>\n",
              "<style scoped>\n",
              "    .dataframe tbody tr th:only-of-type {\n",
              "        vertical-align: middle;\n",
              "    }\n",
              "\n",
              "    .dataframe tbody tr th {\n",
              "        vertical-align: top;\n",
              "    }\n",
              "\n",
              "    .dataframe thead th {\n",
              "        text-align: right;\n",
              "    }\n",
              "</style>\n",
              "<table border=\"1\" class=\"dataframe\">\n",
              "  <thead>\n",
              "    <tr style=\"text-align: right;\">\n",
              "      <th></th>\n",
              "      <th>P1</th>\n",
              "      <th>P2</th>\n",
              "    </tr>\n",
              "  </thead>\n",
              "  <tbody>\n",
              "    <tr>\n",
              "      <th>15</th>\n",
              "      <td>0.999529</td>\n",
              "      <td>0.983708</td>\n",
              "    </tr>\n",
              "    <tr>\n",
              "      <th>7</th>\n",
              "      <td>0.992885</td>\n",
              "      <td>1.014874</td>\n",
              "    </tr>\n",
              "    <tr>\n",
              "      <th>8</th>\n",
              "      <td>0.995496</td>\n",
              "      <td>0.976502</td>\n",
              "    </tr>\n",
              "    <tr>\n",
              "      <th>14</th>\n",
              "      <td>0.981391</td>\n",
              "      <td>0.959423</td>\n",
              "    </tr>\n",
              "    <tr>\n",
              "      <th>17</th>\n",
              "      <td>1.018598</td>\n",
              "      <td>1.034656</td>\n",
              "    </tr>\n",
              "  </tbody>\n",
              "</table>\n",
              "</div>"
            ],
            "text/plain": [
              "          P1        P2\n",
              "15  0.999529  0.983708\n",
              "7   0.992885  1.014874\n",
              "8   0.995496  0.976502\n",
              "14  0.981391  0.959423\n",
              "17  1.018598  1.034656"
            ]
          },
          "metadata": {
            "tags": []
          },
          "execution_count": 261
        }
      ]
    },
    {
      "cell_type": "markdown",
      "metadata": {
        "id": "yBcPBxhsqCj9",
        "colab_type": "text"
      },
      "source": [
        "#### Visualisasi"
      ]
    },
    {
      "cell_type": "code",
      "metadata": {
        "id": "W8K_RdSF1ubV",
        "colab_type": "code",
        "outputId": "0c350066-2277-4ff5-c414-d827135b06bc",
        "colab": {
          "base_uri": "https://localhost:8080/",
          "height": 606
        }
      },
      "source": [
        "import matplotlib.pyplot as plt\n",
        "\n",
        "\n",
        "plot_list = []\n",
        "plt.figure(figsize=(25,10))\n",
        "for i in range(n_port):\n",
        "  x = [x for x in range(df_sim.shape[0])]\n",
        "  y = df_sim[\"P\"+str(i+1)]\n",
        "  plt.plot(x,y,label=\"Portofolio ke -\"+str(i+1))\n",
        "  plt.scatter(x,y)\n",
        "\n",
        "plt.legend(bbox_to_anchor=(0.9, 0.98), loc='upper left', borderaxespad=0.)\n",
        "plt.xlabel(\"Week\")\n",
        "plt.ylabel(\"V(week)\")\n",
        "plt.show()"
      ],
      "execution_count": 255,
      "outputs": [
        {
          "output_type": "display_data",
          "data": {
            "image/png": "[encoded data removed]",
            "text/plain": [
              "<Figure size 1800x720 with 1 Axes>"
            ]
          },
          "metadata": {
            "tags": [],
            "needs_background": "light"
          }
        }
      ]
    },
    {
      "cell_type": "code",
      "metadata": {
        "id": "-sOG3gGfELR1",
        "colab_type": "code",
        "colab": {
          "base_uri": "https://localhost:8080/",
          "height": 108
        },
        "outputId": "69b9e59b-4515-4ec7-dcbf-5694da2a2aa2"
      },
      "source": [
        "dicta = {\"a\" : {\"b\" : 1, \"c\" : 3},\n",
        "         \"b\" : {\"b\" : 2, \"c\" : 4}\n",
        "         }\n",
        "\n",
        "dict_ = {}\n",
        "for data in df_sim :\n",
        "  dict_tmp = {\"naik\": 0 , \"turun\" : 0}\n",
        "  for x in df_sim[data] :\n",
        "    if x > 1 :\n",
        "      dict_tmp[\"naik\"] += 1\n",
        "    else :\n",
        "      dict_tmp['turun'] += 1\n",
        "  dict_[data] = dict_tmp\n",
        "  #print(df_sim[data])\n",
        "  #list_df = df_sim[data]\n",
        "  #print(list(df))\n",
        "d= pd.DataFrame(dict_)\n",
        "d"
      ],
      "execution_count": 266,
      "outputs": [
        {
          "output_type": "execute_result",
          "data": {
            "text/html": [
              "<div>\n",
              "<style scoped>\n",
              "    .dataframe tbody tr th:only-of-type {\n",
              "        vertical-align: middle;\n",
              "    }\n",
              "\n",
              "    .dataframe tbody tr th {\n",
              "        vertical-align: top;\n",
              "    }\n",
              "\n",
              "    .dataframe thead th {\n",
              "        text-align: right;\n",
              "    }\n",
              "</style>\n",
              "<table border=\"1\" class=\"dataframe\">\n",
              "  <thead>\n",
              "    <tr style=\"text-align: right;\">\n",
              "      <th></th>\n",
              "      <th>P1</th>\n",
              "      <th>P2</th>\n",
              "    </tr>\n",
              "  </thead>\n",
              "  <tbody>\n",
              "    <tr>\n",
              "      <th>naik</th>\n",
              "      <td>23</td>\n",
              "      <td>27</td>\n",
              "    </tr>\n",
              "    <tr>\n",
              "      <th>turun</th>\n",
              "      <td>27</td>\n",
              "      <td>23</td>\n",
              "    </tr>\n",
              "  </tbody>\n",
              "</table>\n",
              "</div>"
            ],
            "text/plain": [
              "       P1  P2\n",
              "naik   23  27\n",
              "turun  27  23"
            ]
          },
          "metadata": {
            "tags": []
          },
          "execution_count": 266
        }
      ]
    },
    {
      "cell_type": "markdown",
      "metadata": {
        "id": "dGqP74gF_zAh",
        "colab_type": "text"
      },
      "source": [
        "## Salah\n"
      ]
    },
    {
      "cell_type": "code",
      "metadata": {
        "id": "BfnZHz8vxkW6",
        "colab_type": "code",
        "outputId": "a615c752-60d2-4212-9fee-a65875fb9171",
        "colab": {
          "base_uri": "https://localhost:8080/",
          "height": 55
        }
      },
      "source": [
        "\"\"\"import numpy as np\n",
        "#print(type(dataset.corr()))\n",
        "list_corr = []\n",
        "for x in dataset:\n",
        "  print(type(dataset.corr()[x]))\n",
        "  #print(dataset[x].corr())\n",
        "  #list_corr.append(dataset[x].corr().tolist())\n",
        "  #print(dataset.corr()[x].tolist())\n",
        "#rho = np.array(list_corr)\n",
        "#print(rho)\"\"\""
      ],
      "execution_count": 167,
      "outputs": [
        {
          "output_type": "execute_result",
          "data": {
            "text/plain": [
              "'import numpy as np\\n#print(type(dataset.corr()))\\nlist_corr = []\\nfor x in dataset:\\n  print(type(dataset.corr()[x]))\\n  #print(dataset[x].corr())\\n  #list_corr.append(dataset[x].corr().tolist())\\n  #print(dataset.corr()[x].tolist())\\n#rho = np.array(list_corr)\\n#print(rho)'"
            ]
          },
          "metadata": {
            "tags": []
          },
          "execution_count": 167
        }
      ]
    },
    {
      "cell_type": "code",
      "metadata": {
        "id": "X0zv2wL_14cF",
        "colab_type": "code",
        "outputId": "6185f77b-33c7-4f01-939d-314c98ef9491",
        "colab": {
          "base_uri": "https://localhost:8080/",
          "height": 55
        }
      },
      "source": [
        "\"\"\"import statistics as st\n",
        "var = []\n",
        "for x in kode_saham :\n",
        "  tmp = dataset[x].tolist()\n",
        "  #print(tmp)\n",
        "  var.append(st.variance(tmp))\n",
        "#print(var)\n",
        "df_var = pd.DataFrame([var])\n",
        "df_var.columns = kode_saham\n",
        "df_var\"\"\""
      ],
      "execution_count": 168,
      "outputs": [
        {
          "output_type": "execute_result",
          "data": {
            "text/plain": [
              "'import statistics as st\\nvar = []\\nfor x in kode_saham :\\n  tmp = dataset[x].tolist()\\n  #print(tmp)\\n  var.append(st.variance(tmp))\\n#print(var)\\ndf_var = pd.DataFrame([var])\\ndf_var.columns = kode_saham\\ndf_var'"
            ]
          },
          "metadata": {
            "tags": []
          },
          "execution_count": 168
        }
      ]
    },
    {
      "cell_type": "code",
      "metadata": {
        "id": "C2fA6gq9nhkp",
        "colab_type": "code",
        "colab": {}
      },
      "source": [
        "def convert_to_dollar(saham) :\n",
        "  usd = 15589\n",
        "  dollar = []\n",
        "  for x in saham :\n",
        "    dollar.append(x/usd)\n",
        "  return dollar\n"
      ],
      "execution_count": 0,
      "outputs": []
    },
    {
      "cell_type": "code",
      "metadata": {
        "id": "tjfy_FW2FPW8",
        "colab_type": "code",
        "outputId": "4b97d04b-71fb-4bcb-c892-e392e30701de",
        "colab": {
          "base_uri": "https://localhost:8080/",
          "height": 90
        }
      },
      "source": [
        "\n",
        "\n",
        "def is_short_selling(rho,std_dev):\n",
        "  n = len(rho)\n",
        "  print(n)\n",
        "  check = False\n",
        "  #rho = rho.sort()\n",
        "  #std_Dev =std_dev.sort()\n",
        "  sahamnya = []\n",
        "  for i in range(n):\n",
        "    for j in range(n):\n",
        "      if i < j :\n",
        "        x = std_dev[i]/std_dev[j]\n",
        "        #print(rho[i][j])\n",
        "        if rho[i][j] > x :\n",
        "          check =True\n",
        "          sahamnya.append([kode_saham[i],kode_saham[j]])\n",
        "    \n",
        "  return [check,sahamnya]\n",
        "\n",
        "if(is_short_selling(rho,std_dev)[0]) :\n",
        "  short = {}\n",
        "  list_short = is_short_selling(rho,std_dev)[1]\n",
        "  print(list_short)\n",
        "  for i in list_short :\n",
        "    x = i[0]\n",
        "    y = i[1]\n",
        "    if x not in short.keys():\n",
        "      short[x] =1\n",
        "    else :\n",
        "      short[x] += 1\n",
        "    \n",
        "    if y not in short.keys():\n",
        "      short[y] = 1\n",
        "    else :\n",
        "      short[y] += 1\n",
        "  print(short)\n",
        "else :\n",
        "  print(\"aman\")\n",
        "  print(kode_saham)"
      ],
      "execution_count": 170,
      "outputs": [
        {
          "output_type": "stream",
          "text": [
            "5\n",
            "5\n",
            "[['TLKM.JK', 'PRDA.JK']]\n",
            "{'TLKM.JK': 1, 'PRDA.JK': 1}\n"
          ],
          "name": "stdout"
        }
      ]
    },
    {
      "cell_type": "code",
      "metadata": {
        "id": "5cF4uoPLEKB1",
        "colab_type": "code",
        "colab": {}
      },
      "source": [
        ""
      ],
      "execution_count": 0,
      "outputs": []
    }
  ]
}