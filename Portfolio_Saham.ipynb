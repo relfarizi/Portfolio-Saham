{
  "nbformat": 4,
  "nbformat_minor": 0,
  "metadata": {
    "colab": {
      "name": "Portfolio Saham.ipynb",
      "provenance": [],
      "collapsed_sections": [],
      "include_colab_link": true
    },
    "kernelspec": {
      "name": "python3",
      "display_name": "Python 3"
    }
  },
  "cells": [
    {
      "cell_type": "markdown",
      "metadata": {
        "id": "view-in-github",
        "colab_type": "text"
      },
      "source": [
        "<a href=\"https://colab.research.google.com/github/relfarizi/Portfolio-Saham/blob/master/Portfolio_Saham.ipynb\" target=\"_parent\"><img src=\"https://colab.research.google.com/assets/colab-badge.svg\" alt=\"Open In Colab\"/></a>"
      ]
    },
    {
      "cell_type": "markdown",
      "metadata": {
        "id": "WHvsDaqQBWz2",
        "colab_type": "text"
      },
      "source": [
        "# Portofolio Saham\n",
        "Buat portofolio minimal terdiri dari 5 buah saham. Portofolio dibangun berdasarjan data historis saham mingguan (weekly). Minimal data yang digunakan adalah 2 tahun (2017 sampai 2018)"
      ]
    },
    {
      "cell_type": "markdown",
      "metadata": {
        "id": "K6xKTlFLx3Ca",
        "colab_type": "text"
      },
      "source": [
        "## Library"
      ]
    },
    {
      "cell_type": "code",
      "metadata": {
        "id": "SXPhlmwFx2JB",
        "colab_type": "code",
        "colab": {}
      },
      "source": [
        "import pandas as pd\n",
        "import regex as re"
      ],
      "execution_count": 0,
      "outputs": []
    },
    {
      "cell_type": "markdown",
      "metadata": {
        "id": "IyP4QRhtch0F",
        "colab_type": "text"
      },
      "source": [
        "## Load Data"
      ]
    },
    {
      "cell_type": "code",
      "metadata": {
        "id": "eqwbk0q7w2nF",
        "colab_type": "code",
        "colab": {}
      },
      "source": [
        "kode_saham =[\"SGRO.JK\",\"TLKM.JK\",\"INDR.JK\",\"PRDA.JK\",\"AKPI.JK\"]\n",
        "\n",
        "def load_data(tahun,kode_saham = kode_saham) :\n",
        "  kode_tmp = []\n",
        "  sama = False\n",
        "  for i in kode_saham :\n",
        "    if i in kode_tmp :\n",
        "      sama =  True\n",
        "      kodenya = i\n",
        "      break\n",
        "    else :\n",
        "        kode_tmp.append(i)\n",
        "\n",
        "  if sama :\n",
        "    dataset = []\n",
        "    print(\"ada yang sama\", kodenya)\n",
        "  else :\n",
        "    n = len(kode_saham)\n",
        "    github = \"https://raw.githubusercontent.com/relfarizi/Portfolio-Saham/master/Data/\"+str(tahun)+\"/\"\n",
        "\n",
        "    df = []\n",
        "    for i in range(n) :\n",
        "      datas = pd.read_csv(github+kode_saham[i]+\".csv\")\n",
        "\n",
        "      if re.findall(\"adsad\",kode_saham[i]):\n",
        "        tmp = datas[\"Close\"].tolist()\n",
        "        data_tmp = convert_to_dollar(tmp)\n",
        "      else :\n",
        "        data_tmp =datas[\"Close\"]\n",
        "      df.append(pd.DataFrame(data_tmp))\n",
        "      #print(data_tmp.shape)\n",
        "    dataset = pd.concat(df, axis=1, sort=False)\n",
        "    dataset = dataset.dropna()\n",
        "    dataset.columns = kode_saham\n",
        "  return dataset\n"
      ],
      "execution_count": 0,
      "outputs": []
    },
    {
      "cell_type": "markdown",
      "metadata": {
        "id": "FlHyIcX-B8QB",
        "colab_type": "text"
      },
      "source": [
        "### Data Saham"
      ]
    },
    {
      "cell_type": "code",
      "metadata": {
        "id": "UekvxCwzchSo",
        "colab_type": "code",
        "outputId": "2f9a9ef2-423b-4552-ce8e-53bc65dee49a",
        "colab": {
          "base_uri": "https://localhost:8080/",
          "height": 197
        }
      },
      "source": [
        "\"\"\"\n",
        "kode_saham = [\"AAPL\",\"BA\",\"BATA.JK\",\"BKRKF\",\"CSCO\",\"IBM\",\n",
        "              \"TLKMF\",\"AKPI.JK\",\"INTC\",\"MSFT\",\"NVDA\",\n",
        "              \"ORCL\",\"PBCRF\",\"PHJMF\",\"PTAIF\",\"SPR\"]\n",
        "\"\"\"\n",
        "\n",
        "dataset = load_data(\"2017-2018\")\n",
        "dataset.sample(5)"
      ],
      "execution_count": 244,
      "outputs": [
        {
          "output_type": "execute_result",
          "data": {
            "text/html": [
              "<div>\n",
              "<style scoped>\n",
              "    .dataframe tbody tr th:only-of-type {\n",
              "        vertical-align: middle;\n",
              "    }\n",
              "\n",
              "    .dataframe tbody tr th {\n",
              "        vertical-align: top;\n",
              "    }\n",
              "\n",
              "    .dataframe thead th {\n",
              "        text-align: right;\n",
              "    }\n",
              "</style>\n",
              "<table border=\"1\" class=\"dataframe\">\n",
              "  <thead>\n",
              "    <tr style=\"text-align: right;\">\n",
              "      <th></th>\n",
              "      <th>SGRO.JK</th>\n",
              "      <th>TLKM.JK</th>\n",
              "      <th>INDR.JK</th>\n",
              "      <th>PRDA.JK</th>\n",
              "      <th>AKPI.JK</th>\n",
              "    </tr>\n",
              "  </thead>\n",
              "  <tbody>\n",
              "    <tr>\n",
              "      <th>101</th>\n",
              "      <td>2390.0</td>\n",
              "      <td>3730.0</td>\n",
              "      <td>6500.0</td>\n",
              "      <td>2240.0</td>\n",
              "      <td>750.0</td>\n",
              "    </tr>\n",
              "    <tr>\n",
              "      <th>12</th>\n",
              "      <td>2040.0</td>\n",
              "      <td>4130.0</td>\n",
              "      <td>835.0</td>\n",
              "      <td>5050.0</td>\n",
              "      <td>870.0</td>\n",
              "    </tr>\n",
              "    <tr>\n",
              "      <th>84</th>\n",
              "      <td>2380.0</td>\n",
              "      <td>3350.0</td>\n",
              "      <td>6100.0</td>\n",
              "      <td>2990.0</td>\n",
              "      <td>870.0</td>\n",
              "    </tr>\n",
              "    <tr>\n",
              "      <th>99</th>\n",
              "      <td>2330.0</td>\n",
              "      <td>3680.0</td>\n",
              "      <td>5700.0</td>\n",
              "      <td>2100.0</td>\n",
              "      <td>900.0</td>\n",
              "    </tr>\n",
              "    <tr>\n",
              "      <th>50</th>\n",
              "      <td>2570.0</td>\n",
              "      <td>4300.0</td>\n",
              "      <td>1250.0</td>\n",
              "      <td>3620.0</td>\n",
              "      <td>725.0</td>\n",
              "    </tr>\n",
              "  </tbody>\n",
              "</table>\n",
              "</div>"
            ],
            "text/plain": [
              "     SGRO.JK  TLKM.JK  INDR.JK  PRDA.JK  AKPI.JK\n",
              "101   2390.0   3730.0   6500.0   2240.0    750.0\n",
              "12    2040.0   4130.0    835.0   5050.0    870.0\n",
              "84    2380.0   3350.0   6100.0   2990.0    870.0\n",
              "99    2330.0   3680.0   5700.0   2100.0    900.0\n",
              "50    2570.0   4300.0   1250.0   3620.0    725.0"
            ]
          },
          "metadata": {
            "tags": []
          },
          "execution_count": 244
        }
      ]
    },
    {
      "cell_type": "markdown",
      "metadata": {
        "id": "-juBDgfnCMl2",
        "colab_type": "text"
      },
      "source": [
        "### Korelasi Saham"
      ]
    },
    {
      "cell_type": "code",
      "metadata": {
        "id": "HhgvIYlivXjL",
        "colab_type": "code",
        "outputId": "0b84a50a-ca80-4f56-eccd-099c9d2a6587",
        "colab": {
          "base_uri": "https://localhost:8080/",
          "height": 197
        }
      },
      "source": [
        "rho = dataset.corr().values\n",
        "dataset.corr()"
      ],
      "execution_count": 245,
      "outputs": [
        {
          "output_type": "execute_result",
          "data": {
            "text/html": [
              "<div>\n",
              "<style scoped>\n",
              "    .dataframe tbody tr th:only-of-type {\n",
              "        vertical-align: middle;\n",
              "    }\n",
              "\n",
              "    .dataframe tbody tr th {\n",
              "        vertical-align: top;\n",
              "    }\n",
              "\n",
              "    .dataframe thead th {\n",
              "        text-align: right;\n",
              "    }\n",
              "</style>\n",
              "<table border=\"1\" class=\"dataframe\">\n",
              "  <thead>\n",
              "    <tr style=\"text-align: right;\">\n",
              "      <th></th>\n",
              "      <th>SGRO.JK</th>\n",
              "      <th>TLKM.JK</th>\n",
              "      <th>INDR.JK</th>\n",
              "      <th>PRDA.JK</th>\n",
              "      <th>AKPI.JK</th>\n",
              "    </tr>\n",
              "  </thead>\n",
              "  <tbody>\n",
              "    <tr>\n",
              "      <th>SGRO.JK</th>\n",
              "      <td>1.000000</td>\n",
              "      <td>-0.336531</td>\n",
              "      <td>0.282667</td>\n",
              "      <td>-0.599204</td>\n",
              "      <td>-0.559313</td>\n",
              "    </tr>\n",
              "    <tr>\n",
              "      <th>TLKM.JK</th>\n",
              "      <td>-0.336531</td>\n",
              "      <td>1.000000</td>\n",
              "      <td>-0.647548</td>\n",
              "      <td>0.348964</td>\n",
              "      <td>0.244041</td>\n",
              "    </tr>\n",
              "    <tr>\n",
              "      <th>INDR.JK</th>\n",
              "      <td>0.282667</td>\n",
              "      <td>-0.647548</td>\n",
              "      <td>1.000000</td>\n",
              "      <td>-0.715454</td>\n",
              "      <td>-0.019710</td>\n",
              "    </tr>\n",
              "    <tr>\n",
              "      <th>PRDA.JK</th>\n",
              "      <td>-0.599204</td>\n",
              "      <td>0.348964</td>\n",
              "      <td>-0.715454</td>\n",
              "      <td>1.000000</td>\n",
              "      <td>0.189698</td>\n",
              "    </tr>\n",
              "    <tr>\n",
              "      <th>AKPI.JK</th>\n",
              "      <td>-0.559313</td>\n",
              "      <td>0.244041</td>\n",
              "      <td>-0.019710</td>\n",
              "      <td>0.189698</td>\n",
              "      <td>1.000000</td>\n",
              "    </tr>\n",
              "  </tbody>\n",
              "</table>\n",
              "</div>"
            ],
            "text/plain": [
              "          SGRO.JK   TLKM.JK   INDR.JK   PRDA.JK   AKPI.JK\n",
              "SGRO.JK  1.000000 -0.336531  0.282667 -0.599204 -0.559313\n",
              "TLKM.JK -0.336531  1.000000 -0.647548  0.348964  0.244041\n",
              "INDR.JK  0.282667 -0.647548  1.000000 -0.715454 -0.019710\n",
              "PRDA.JK -0.599204  0.348964 -0.715454  1.000000  0.189698\n",
              "AKPI.JK -0.559313  0.244041 -0.019710  0.189698  1.000000"
            ]
          },
          "metadata": {
            "tags": []
          },
          "execution_count": 245
        }
      ]
    },
    {
      "cell_type": "markdown",
      "metadata": {
        "id": "7WLn91rfy2HH",
        "colab_type": "text"
      },
      "source": [
        "### Mencari K per step ( minggu) tiap saham"
      ]
    },
    {
      "cell_type": "code",
      "metadata": {
        "id": "OqeydGzikxR4",
        "colab_type": "code",
        "colab": {}
      },
      "source": [
        "def find_k(saham) :\n",
        "  K = []\n",
        "  for i in range(len(saham)-1) :\n",
        "    x = (saham[i+1]-saham[i])/saham[i]\n",
        "    K.append(x)\n",
        "  return K"
      ],
      "execution_count": 0,
      "outputs": []
    },
    {
      "cell_type": "markdown",
      "metadata": {
        "id": "9b7BkVqBCSSp",
        "colab_type": "text"
      },
      "source": [
        "### Return Saham ( Binomial Tree )"
      ]
    },
    {
      "cell_type": "code",
      "metadata": {
        "id": "oNcz2cigzlnm",
        "colab_type": "code",
        "colab": {}
      },
      "source": [
        "import math\n",
        "def find_ud(saham) :\n",
        "  K = find_k(saham)\n",
        "  up = []\n",
        "  down = []\n",
        "\n",
        "  for i in K :\n",
        "    if i > 0 :\n",
        "      x = 1\n",
        "      y = 0\n",
        "    else :\n",
        "      x = 0\n",
        "      y = 1\n",
        "    up.append(x)\n",
        "    down.append(y)\n",
        "  \n",
        "  x_up = 1\n",
        "  x_down = 1\n",
        "\n",
        "  sum_u = 0\n",
        "  sum_d = 0\n",
        "\n",
        "  for i in range(len(K)) :\n",
        "    x_up += K[i]*up[i]\n",
        "    sum_u += up[i]\n",
        "    x_down += K[i]*down[i]\n",
        "    sum_d += down[i]\n",
        "  \n",
        "  u = x_up/sum_u\n",
        "  d = x_up/sum_d\n",
        "\n",
        "  p = sum_u/(sum_u+sum_d)\n",
        "  q = 1-p\n",
        "\n",
        "  result = {\"u\" : u, \"d\" : d,\"p\":p,\"q\":q}\n",
        "  \n",
        "  return result"
      ],
      "execution_count": 0,
      "outputs": []
    },
    {
      "cell_type": "markdown",
      "metadata": {
        "id": "Oe3TNhJPCbQ9",
        "colab_type": "text"
      },
      "source": [
        "#### Ekspektasi Return Saham"
      ]
    },
    {
      "cell_type": "code",
      "metadata": {
        "id": "X3FpZ9MCFsy0",
        "colab_type": "code",
        "colab": {}
      },
      "source": [
        "def function_EK(df_saham) :\n",
        "  result = {}\n",
        "  for saham in df_saham :\n",
        "    x = find_ud(df_saham[saham])\n",
        "    \"\"\"x[\"u\"] = 0.1\n",
        "    x['p'] = 0.5\n",
        "    x[\"d\"] = -0.1\n",
        "    x['q'] = 0.5\"\"\"\n",
        "    \n",
        "    exp = (x[\"u\"]*x[\"p\"])+(x[\"d\"]*x[\"q\"])\n",
        "    #exp = 0.8\n",
        "    result[saham] = exp\n",
        "  return result"
      ],
      "execution_count": 0,
      "outputs": []
    },
    {
      "cell_type": "code",
      "metadata": {
        "id": "Z0TzJmy5KOcF",
        "colab_type": "code",
        "colab": {}
      },
      "source": [
        "def function_EK2(df_saham):\n",
        "  result = {}\n",
        "  for saham in df_saham :\n",
        "    x = find_ud(df_saham[saham])\n",
        "    \"\"\"x[\"u\"] = 0.1\n",
        "    x['p'] = 0.5\n",
        "    x[\"d\"] = -0.1\n",
        "    x['q'] = 0.5\"\"\"\n",
        "    exp = (pow(x[\"u\"],2)*x[\"p\"])+(pow(x[\"d\"],2)*x[\"q\"])\n",
        "    #exp = pow(((x[\"u\"]*x[\"p\"])+(x[\"d\"]*x[\"q\"])),2)\n",
        "    #xp = pow(0.8,2)\n",
        "    result[saham] = exp\n",
        "  return result"
      ],
      "execution_count": 0,
      "outputs": []
    },
    {
      "cell_type": "code",
      "metadata": {
        "id": "tL_NXG_aIZSq",
        "colab_type": "code",
        "outputId": "5f37cc9b-04ab-4f2c-e5a0-0540c1e7cd77",
        "colab": {
          "base_uri": "https://localhost:8080/",
          "height": 78
        }
      },
      "source": [
        "def return_saham(df_saham) :\n",
        "  return_ = function_EK(df_saham)\n",
        "  m = []\n",
        "  for saham in return_ :\n",
        "    m.append(return_[saham])\n",
        "  df_ret = pd.DataFrame([m])\n",
        "  df_ret.columns = df_saham.columns\n",
        "  return df_ret\n",
        "\n",
        "m = return_saham(dataset).iloc[0,:].values.tolist()\n",
        "#print((m))\n",
        "return_saham(dataset)"
      ],
      "execution_count": 250,
      "outputs": [
        {
          "output_type": "execute_result",
          "data": {
            "text/html": [
              "<div>\n",
              "<style scoped>\n",
              "    .dataframe tbody tr th:only-of-type {\n",
              "        vertical-align: middle;\n",
              "    }\n",
              "\n",
              "    .dataframe tbody tr th {\n",
              "        vertical-align: top;\n",
              "    }\n",
              "\n",
              "    .dataframe thead th {\n",
              "        text-align: right;\n",
              "    }\n",
              "</style>\n",
              "<table border=\"1\" class=\"dataframe\">\n",
              "  <thead>\n",
              "    <tr style=\"text-align: right;\">\n",
              "      <th></th>\n",
              "      <th>SGRO.JK</th>\n",
              "      <th>TLKM.JK</th>\n",
              "      <th>INDR.JK</th>\n",
              "      <th>PRDA.JK</th>\n",
              "      <th>AKPI.JK</th>\n",
              "    </tr>\n",
              "  </thead>\n",
              "  <tbody>\n",
              "    <tr>\n",
              "      <th>0</th>\n",
              "      <td>0.032969</td>\n",
              "      <td>0.040915</td>\n",
              "      <td>0.122271</td>\n",
              "      <td>0.039591</td>\n",
              "      <td>0.079277</td>\n",
              "    </tr>\n",
              "  </tbody>\n",
              "</table>\n",
              "</div>"
            ],
            "text/plain": [
              "    SGRO.JK   TLKM.JK   INDR.JK   PRDA.JK   AKPI.JK\n",
              "0  0.032969  0.040915  0.122271  0.039591  0.079277"
            ]
          },
          "metadata": {
            "tags": []
          },
          "execution_count": 250
        }
      ]
    },
    {
      "cell_type": "markdown",
      "metadata": {
        "id": "toe5rQetCoWI",
        "colab_type": "text"
      },
      "source": [
        "### Variansi Return Saham"
      ]
    },
    {
      "cell_type": "code",
      "metadata": {
        "id": "4hKxTuqTJayI",
        "colab_type": "code",
        "outputId": "0b4ab3f3-b586-43c4-8e3b-00c1be6611d6",
        "colab": {
          "base_uri": "https://localhost:8080/",
          "height": 78
        }
      },
      "source": [
        "def function_var(df_saham):\n",
        "  var = []\n",
        "  x = function_EK2(df_saham)\n",
        "  y = function_EK(df_saham)\n",
        "  result = []\n",
        "  for saham in df_saham :\n",
        "    tmp = x[saham] - pow(y[saham],2)\n",
        "    result.append(tmp) \n",
        "  df_var = pd.DataFrame([result])\n",
        "  df_var.columns = df_saham.columns\n",
        "  df_var\n",
        "  return df_var\n",
        "\n",
        "var = function_var(dataset).iloc[0,:].values\n",
        "function_var(dataset)\n"
      ],
      "execution_count": 251,
      "outputs": [
        {
          "output_type": "execute_result",
          "data": {
            "text/html": [
              "<div>\n",
              "<style scoped>\n",
              "    .dataframe tbody tr th:only-of-type {\n",
              "        vertical-align: middle;\n",
              "    }\n",
              "\n",
              "    .dataframe tbody tr th {\n",
              "        vertical-align: top;\n",
              "    }\n",
              "\n",
              "    .dataframe thead th {\n",
              "        text-align: right;\n",
              "    }\n",
              "</style>\n",
              "<table border=\"1\" class=\"dataframe\">\n",
              "  <thead>\n",
              "    <tr style=\"text-align: right;\">\n",
              "      <th></th>\n",
              "      <th>SGRO.JK</th>\n",
              "      <th>TLKM.JK</th>\n",
              "      <th>INDR.JK</th>\n",
              "      <th>PRDA.JK</th>\n",
              "      <th>AKPI.JK</th>\n",
              "    </tr>\n",
              "  </thead>\n",
              "  <tbody>\n",
              "    <tr>\n",
              "      <th>0</th>\n",
              "      <td>0.00001</td>\n",
              "      <td>0.00001</td>\n",
              "      <td>0.0007</td>\n",
              "      <td>0.000213</td>\n",
              "      <td>0.001529</td>\n",
              "    </tr>\n",
              "  </tbody>\n",
              "</table>\n",
              "</div>"
            ],
            "text/plain": [
              "   SGRO.JK  TLKM.JK  INDR.JK   PRDA.JK   AKPI.JK\n",
              "0  0.00001  0.00001   0.0007  0.000213  0.001529"
            ]
          },
          "metadata": {
            "tags": []
          },
          "execution_count": 251
        }
      ]
    },
    {
      "cell_type": "code",
      "metadata": {
        "id": "trGFgzuwwDp7",
        "colab_type": "code",
        "outputId": "1ceec283-f272-4c76-d4ae-0f0f631dc0cf",
        "colab": {
          "base_uri": "https://localhost:8080/",
          "height": 606
        }
      },
      "source": [
        "import matplotlib.pyplot as plt\n",
        "\n",
        "y = m\n",
        "x = var\n",
        "\n",
        "plt.figure(figsize=(20,10))\n",
        "#plt.plot(x,y)\n",
        "plt.scatter(x,y)\n",
        "plt.xlabel(\"Expected Return\")\n",
        "plt.ylabel(\"Risiko\")\n",
        "plt.show()"
      ],
      "execution_count": 252,
      "outputs": [
        {
          "output_type": "display_data",
          "data": {
            "image/png": "[encoded data removed]",
            "text/plain": [
              "<Figure size 1440x720 with 1 Axes>"
            ]
          },
          "metadata": {
            "tags": [],
            "needs_background": "light"
          }
        }
      ]
    },
    {
      "cell_type": "markdown",
      "metadata": {
        "id": "0OKx_5ia6Ij4",
        "colab_type": "text"
      },
      "source": [
        "\n",
        "#### Standard Deviasi\n"
      ]
    },
    {
      "cell_type": "code",
      "metadata": {
        "id": "_IjEA--Wo34f",
        "colab_type": "code",
        "outputId": "2efd4bbf-3419-4d88-9c9d-350a79fbdfc7",
        "colab": {
          "base_uri": "https://localhost:8080/",
          "height": 78
        }
      },
      "source": [
        "import numpy as np\n",
        "\n",
        "def function_std_dev(var):\n",
        "  std_dev = []\n",
        "  for i in var :\n",
        "    std_dev.append(np.sqrt(i))\n",
        "  n = len(std_dev)\n",
        "  u = np.ones(n)\n",
        "  return std_dev\n",
        "\n",
        "std_dev = function_std_dev(var)\n",
        "df_std_dev=pd.DataFrame([std_dev])\n",
        "df_std_dev.columns = kode_saham\n",
        "df_std_dev"
      ],
      "execution_count": 253,
      "outputs": [
        {
          "output_type": "execute_result",
          "data": {
            "text/html": [
              "<div>\n",
              "<style scoped>\n",
              "    .dataframe tbody tr th:only-of-type {\n",
              "        vertical-align: middle;\n",
              "    }\n",
              "\n",
              "    .dataframe tbody tr th {\n",
              "        vertical-align: top;\n",
              "    }\n",
              "\n",
              "    .dataframe thead th {\n",
              "        text-align: right;\n",
              "    }\n",
              "</style>\n",
              "<table border=\"1\" class=\"dataframe\">\n",
              "  <thead>\n",
              "    <tr style=\"text-align: right;\">\n",
              "      <th></th>\n",
              "      <th>SGRO.JK</th>\n",
              "      <th>TLKM.JK</th>\n",
              "      <th>INDR.JK</th>\n",
              "      <th>PRDA.JK</th>\n",
              "      <th>AKPI.JK</th>\n",
              "    </tr>\n",
              "  </thead>\n",
              "  <tbody>\n",
              "    <tr>\n",
              "      <th>0</th>\n",
              "      <td>0.003185</td>\n",
              "      <td>0.003157</td>\n",
              "      <td>0.026464</td>\n",
              "      <td>0.014608</td>\n",
              "      <td>0.039097</td>\n",
              "    </tr>\n",
              "  </tbody>\n",
              "</table>\n",
              "</div>"
            ],
            "text/plain": [
              "    SGRO.JK   TLKM.JK   INDR.JK   PRDA.JK   AKPI.JK\n",
              "0  0.003185  0.003157  0.026464  0.014608  0.039097"
            ]
          },
          "metadata": {
            "tags": []
          },
          "execution_count": 253
        }
      ]
    },
    {
      "cell_type": "markdown",
      "metadata": {
        "id": "LW08CEuwC9ME",
        "colab_type": "text"
      },
      "source": [
        "#### Matrix C"
      ]
    },
    {
      "cell_type": "code",
      "metadata": {
        "id": "0vEXEjumtGQF",
        "colab_type": "code",
        "outputId": "b8bcb32c-19c1-48c3-8677-94cb17617a23",
        "colab": {
          "base_uri": "https://localhost:8080/",
          "height": 108
        }
      },
      "source": [
        "def Matrix_C(std_dev=std_dev,rho=rho) :\n",
        "  n = len(std_dev)\n",
        "  C = (np.zeros((n,n)))\n",
        "  for i in range(n):\n",
        "    for j in range(n) :\n",
        "      C[i][j] = round(std_dev[i]*rho[i][j]*std_dev[j],6)\n",
        "  return C\n",
        "\n",
        "C = (Matrix_C())\n",
        "for x in C :\n",
        "  print(x)"
      ],
      "execution_count": 254,
      "outputs": [
        {
          "output_type": "stream",
          "text": [
            "[ 1.0e-05 -3.0e-06  2.4e-05 -2.8e-05 -7.0e-05]\n",
            "[-3.0e-06  1.0e-05 -5.4e-05  1.6e-05  3.0e-05]\n",
            "[ 2.40e-05 -5.40e-05  7.00e-04 -2.77e-04 -2.00e-05]\n",
            "[-2.80e-05  1.60e-05 -2.77e-04  2.13e-04  1.08e-04]\n",
            "[-7.000e-05  3.000e-05 -2.000e-05  1.080e-04  1.529e-03]\n"
          ],
          "name": "stdout"
        }
      ]
    },
    {
      "cell_type": "markdown",
      "metadata": {
        "id": "nBmBs7AKDA4i",
        "colab_type": "text"
      },
      "source": [
        "#### Mencari nilai Bobot (w)"
      ]
    },
    {
      "cell_type": "code",
      "metadata": {
        "id": "3hwGZW6iwQNH",
        "colab_type": "code",
        "outputId": "4127dc8a-25e7-40b7-ac70-c7d9e5af2b08",
        "colab": {
          "base_uri": "https://localhost:8080/",
          "height": 96
        }
      },
      "source": [
        "from numpy.linalg import inv\n",
        "from numpy.linalg import det\n",
        "\n",
        "n = len(kode_saham)\n",
        "u = np.ones(n)\n",
        "uT = np.transpose(u)\n",
        "\n",
        "CInv = inv(C)\n",
        "\n",
        "w = np.dot(u,CInv)/(u.dot(CInv).dot(uT))\n",
        "#print(w)\n",
        "\n",
        "wT = np.transpose(w)\n",
        "x = np.dot(u,wT)\n",
        "print(\"jumlah w = \",x)\n",
        "\n",
        "df_w = pd.DataFrame([w])\n",
        "df_w.columns = kode_saham\n",
        "df_w"
      ],
      "execution_count": 255,
      "outputs": [
        {
          "output_type": "stream",
          "text": [
            "jumlah w =  1.0000000000000002\n"
          ],
          "name": "stdout"
        },
        {
          "output_type": "execute_result",
          "data": {
            "text/html": [
              "<div>\n",
              "<style scoped>\n",
              "    .dataframe tbody tr th:only-of-type {\n",
              "        vertical-align: middle;\n",
              "    }\n",
              "\n",
              "    .dataframe tbody tr th {\n",
              "        vertical-align: top;\n",
              "    }\n",
              "\n",
              "    .dataframe thead th {\n",
              "        text-align: right;\n",
              "    }\n",
              "</style>\n",
              "<table border=\"1\" class=\"dataframe\">\n",
              "  <thead>\n",
              "    <tr style=\"text-align: right;\">\n",
              "      <th></th>\n",
              "      <th>SGRO.JK</th>\n",
              "      <th>TLKM.JK</th>\n",
              "      <th>INDR.JK</th>\n",
              "      <th>PRDA.JK</th>\n",
              "      <th>AKPI.JK</th>\n",
              "    </tr>\n",
              "  </thead>\n",
              "  <tbody>\n",
              "    <tr>\n",
              "      <th>0</th>\n",
              "      <td>0.446765</td>\n",
              "      <td>0.378102</td>\n",
              "      <td>0.059005</td>\n",
              "      <td>0.109248</td>\n",
              "      <td>0.006881</td>\n",
              "    </tr>\n",
              "  </tbody>\n",
              "</table>\n",
              "</div>"
            ],
            "text/plain": [
              "    SGRO.JK   TLKM.JK   INDR.JK   PRDA.JK   AKPI.JK\n",
              "0  0.446765  0.378102  0.059005  0.109248  0.006881"
            ]
          },
          "metadata": {
            "tags": []
          },
          "execution_count": 255
        }
      ]
    },
    {
      "cell_type": "markdown",
      "metadata": {
        "id": "-CIJQcABDM5C",
        "colab_type": "text"
      },
      "source": [
        "#### Risiko Minimum Portfolio"
      ]
    },
    {
      "cell_type": "code",
      "metadata": {
        "id": "uF0PiR3x5IyE",
        "colab_type": "code",
        "outputId": "737c0cb6-0453-4128-a4a0-a7fac4ac9270",
        "colab": {
          "base_uri": "https://localhost:8080/",
          "height": 35
        }
      },
      "source": [
        "risk = w.dot(C).dot(wT)\n",
        "print(round(risk,6))"
      ],
      "execution_count": 256,
      "outputs": [
        {
          "output_type": "stream",
          "text": [
            "1e-06\n"
          ],
          "name": "stdout"
        }
      ]
    },
    {
      "cell_type": "markdown",
      "metadata": {
        "id": "2lPrbuwozieS",
        "colab_type": "text"
      },
      "source": [
        "Expected return saham\n"
      ]
    },
    {
      "cell_type": "code",
      "metadata": {
        "id": "UIsKSW8z4Gac",
        "colab_type": "code",
        "outputId": "da901de2-8cf4-4317-f440-7f18ae0452b8",
        "colab": {
          "base_uri": "https://localhost:8080/",
          "height": 114
        }
      },
      "source": [
        "\n",
        "import pandas as pd\n",
        "\n",
        "m = np.array(m)\n",
        "#print(m)\n",
        "EK = m.dot(wT)\n",
        "print(\"ekspektasi return = \", EK)\n",
        "\n",
        "portfolio=[round(x,4) for x in w]\n",
        "portfolio.append(EK)\n",
        "portfolio.append(risk)\n",
        "#print(portfolio)\n",
        "\n",
        "df_port = pd.DataFrame([portfolio])\n",
        "column = kode_saham\n",
        "print(kode_saham)\n",
        "column.append(\"Expected Return\")\n",
        "column.append(\"Risiko\")\n",
        "df_port.columns = column\n",
        "kode_saham = kode_saham[:n]\n",
        "df_port"
      ],
      "execution_count": 257,
      "outputs": [
        {
          "output_type": "stream",
          "text": [
            "ekspektasi return =  0.042284577250093276\n",
            "['SGRO.JK', 'TLKM.JK', 'INDR.JK', 'PRDA.JK', 'AKPI.JK']\n"
          ],
          "name": "stdout"
        },
        {
          "output_type": "execute_result",
          "data": {
            "text/html": [
              "<div>\n",
              "<style scoped>\n",
              "    .dataframe tbody tr th:only-of-type {\n",
              "        vertical-align: middle;\n",
              "    }\n",
              "\n",
              "    .dataframe tbody tr th {\n",
              "        vertical-align: top;\n",
              "    }\n",
              "\n",
              "    .dataframe thead th {\n",
              "        text-align: right;\n",
              "    }\n",
              "</style>\n",
              "<table border=\"1\" class=\"dataframe\">\n",
              "  <thead>\n",
              "    <tr style=\"text-align: right;\">\n",
              "      <th></th>\n",
              "      <th>SGRO.JK</th>\n",
              "      <th>TLKM.JK</th>\n",
              "      <th>INDR.JK</th>\n",
              "      <th>PRDA.JK</th>\n",
              "      <th>AKPI.JK</th>\n",
              "      <th>Expected Return</th>\n",
              "      <th>Risiko</th>\n",
              "    </tr>\n",
              "  </thead>\n",
              "  <tbody>\n",
              "    <tr>\n",
              "      <th>0</th>\n",
              "      <td>0.4468</td>\n",
              "      <td>0.3781</td>\n",
              "      <td>0.059</td>\n",
              "      <td>0.1092</td>\n",
              "      <td>0.0069</td>\n",
              "      <td>0.042285</td>\n",
              "      <td>0.000001</td>\n",
              "    </tr>\n",
              "  </tbody>\n",
              "</table>\n",
              "</div>"
            ],
            "text/plain": [
              "   SGRO.JK  TLKM.JK  INDR.JK  PRDA.JK  AKPI.JK  Expected Return    Risiko\n",
              "0   0.4468   0.3781    0.059   0.1092   0.0069         0.042285  0.000001"
            ]
          },
          "metadata": {
            "tags": []
          },
          "execution_count": 257
        }
      ]
    },
    {
      "cell_type": "code",
      "metadata": {
        "id": "e8I_ITY4ELlb",
        "colab_type": "code",
        "outputId": "c36c7fbc-1218-4dd2-e3ba-56555a86e0c0",
        "colab": {
          "base_uri": "https://localhost:8080/",
          "height": 35
        }
      },
      "source": [
        "print(kode_saham)"
      ],
      "execution_count": 258,
      "outputs": [
        {
          "output_type": "stream",
          "text": [
            "['SGRO.JK', 'TLKM.JK', 'INDR.JK', 'PRDA.JK', 'AKPI.JK']\n"
          ],
          "name": "stdout"
        }
      ]
    },
    {
      "cell_type": "code",
      "metadata": {
        "id": "To2paLsJ5Eny",
        "colab_type": "code",
        "outputId": "c90b1262-35d7-4a70-89c2-8208e0a10cd5",
        "colab": {
          "base_uri": "https://localhost:8080/",
          "height": 55
        }
      },
      "source": [
        "mT = np.transpose(m)\n",
        "e_r = EK\n",
        "w_new = []\n",
        "list_EK = []\n",
        "for i in range(4) :\n",
        "  e_r *= 1.5\n",
        "  list_EK.append(e_r)\n",
        "  \n",
        "  matA = np.dot(u,(CInv))\n",
        "  matB = np.dot(m,(CInv))\n",
        "  mat1 = u.dot(CInv).dot(mT)\n",
        "  mat2 = m.dot(CInv).dot(mT)\n",
        "  mat3 = u.dot(CInv).dot(uT)\n",
        "  mat4 = m.dot(CInv).dot(uT)\n",
        "\n",
        "  A1 = np.array([[1,mat1],[e_r,mat2]]) \n",
        "  A2 = np.array([[mat3,1],[mat4,e_r]])\n",
        "  A3 = np.array([[mat3,mat1],[mat4,mat2]])\n",
        "\n",
        "  det1 = det([[1,mat1],[e_r,mat2]])\n",
        "  det2 = det([[mat3,1],[mat4,e_r]])\n",
        "  det3 = det([[mat3,mat1],[mat4,mat2]])\n",
        "  w = ((det1*matA)+(det2*matB))/det3\n",
        "  w_new.append(w)\n",
        "print(w_new)\n",
        "#print(list_EK)"
      ],
      "execution_count": 259,
      "outputs": [
        {
          "output_type": "stream",
          "text": [
            "[array([-0.45733183,  1.03503377,  0.25231562,  0.20587972, -0.03589728]), array([-1.81347646,  2.02043167,  0.54228189,  0.35082718, -0.10006429]), array([-3.8476934 ,  3.49852851,  0.9772313 ,  0.56824838, -0.1963148 ]), array([-6.89901881,  5.71567377,  1.62965542,  0.89438018, -0.34069056])]\n"
          ],
          "name": "stdout"
        }
      ]
    },
    {
      "cell_type": "code",
      "metadata": {
        "id": "jxCVYqtkwC-K",
        "colab_type": "code",
        "outputId": "c8e21191-aa0c-41fa-9cb3-a9fdc1156811",
        "colab": {
          "base_uri": "https://localhost:8080/",
          "height": 197
        }
      },
      "source": [
        "\n",
        "list_bobot = []\n",
        "i = 0\n",
        "for bobot in w_new :\n",
        "  tmp = []\n",
        "  wT = np.transpose(bobot)\n",
        "  risk = bobot.dot(C).dot(wT)\n",
        "  for x in bobot :\n",
        "    tmp.append(x)\n",
        "  tmp.append(list_EK[i])\n",
        "  tmp.append(risk)\n",
        "  list_bobot.append(tmp)\n",
        "  i+=1\n",
        "#print(list_bobot)\n",
        "\n",
        "df = pd.DataFrame(list_bobot)\n",
        "df.columns = column\n",
        "df_tmp =df_port\n",
        "new_df = df_tmp.append(df,ignore_index=True)\n",
        "new_df"
      ],
      "execution_count": 260,
      "outputs": [
        {
          "output_type": "execute_result",
          "data": {
            "text/html": [
              "<div>\n",
              "<style scoped>\n",
              "    .dataframe tbody tr th:only-of-type {\n",
              "        vertical-align: middle;\n",
              "    }\n",
              "\n",
              "    .dataframe tbody tr th {\n",
              "        vertical-align: top;\n",
              "    }\n",
              "\n",
              "    .dataframe thead th {\n",
              "        text-align: right;\n",
              "    }\n",
              "</style>\n",
              "<table border=\"1\" class=\"dataframe\">\n",
              "  <thead>\n",
              "    <tr style=\"text-align: right;\">\n",
              "      <th></th>\n",
              "      <th>SGRO.JK</th>\n",
              "      <th>TLKM.JK</th>\n",
              "      <th>INDR.JK</th>\n",
              "      <th>PRDA.JK</th>\n",
              "      <th>AKPI.JK</th>\n",
              "      <th>Expected Return</th>\n",
              "      <th>Risiko</th>\n",
              "    </tr>\n",
              "  </thead>\n",
              "  <tbody>\n",
              "    <tr>\n",
              "      <th>0</th>\n",
              "      <td>0.446800</td>\n",
              "      <td>0.378100</td>\n",
              "      <td>0.059000</td>\n",
              "      <td>0.109200</td>\n",
              "      <td>0.006900</td>\n",
              "      <td>0.042285</td>\n",
              "      <td>0.000001</td>\n",
              "    </tr>\n",
              "    <tr>\n",
              "      <th>1</th>\n",
              "      <td>-0.457332</td>\n",
              "      <td>1.035034</td>\n",
              "      <td>0.252316</td>\n",
              "      <td>0.205880</td>\n",
              "      <td>-0.035897</td>\n",
              "      <td>0.063427</td>\n",
              "      <td>0.000015</td>\n",
              "    </tr>\n",
              "    <tr>\n",
              "      <th>2</th>\n",
              "      <td>-1.813476</td>\n",
              "      <td>2.020432</td>\n",
              "      <td>0.542282</td>\n",
              "      <td>0.350827</td>\n",
              "      <td>-0.100064</td>\n",
              "      <td>0.095140</td>\n",
              "      <td>0.000087</td>\n",
              "    </tr>\n",
              "    <tr>\n",
              "      <th>3</th>\n",
              "      <td>-3.847693</td>\n",
              "      <td>3.498529</td>\n",
              "      <td>0.977231</td>\n",
              "      <td>0.568248</td>\n",
              "      <td>-0.196315</td>\n",
              "      <td>0.142710</td>\n",
              "      <td>0.000313</td>\n",
              "    </tr>\n",
              "    <tr>\n",
              "      <th>4</th>\n",
              "      <td>-6.899019</td>\n",
              "      <td>5.715674</td>\n",
              "      <td>1.629655</td>\n",
              "      <td>0.894380</td>\n",
              "      <td>-0.340691</td>\n",
              "      <td>0.214066</td>\n",
              "      <td>0.000913</td>\n",
              "    </tr>\n",
              "  </tbody>\n",
              "</table>\n",
              "</div>"
            ],
            "text/plain": [
              "    SGRO.JK   TLKM.JK   INDR.JK   PRDA.JK   AKPI.JK  Expected Return    Risiko\n",
              "0  0.446800  0.378100  0.059000  0.109200  0.006900         0.042285  0.000001\n",
              "1 -0.457332  1.035034  0.252316  0.205880 -0.035897         0.063427  0.000015\n",
              "2 -1.813476  2.020432  0.542282  0.350827 -0.100064         0.095140  0.000087\n",
              "3 -3.847693  3.498529  0.977231  0.568248 -0.196315         0.142710  0.000313\n",
              "4 -6.899019  5.715674  1.629655  0.894380 -0.340691         0.214066  0.000913"
            ]
          },
          "metadata": {
            "tags": []
          },
          "execution_count": 260
        }
      ]
    },
    {
      "cell_type": "code",
      "metadata": {
        "id": "YnqVeJBFzjft",
        "colab_type": "code",
        "outputId": "78c3eb5e-03b9-45d2-f80e-cf38cedba290",
        "colab": {
          "base_uri": "https://localhost:8080/",
          "height": 606
        }
      },
      "source": [
        "import matplotlib.pyplot as plt\n",
        "\n",
        "y = new_df[\"Expected Return\"]\n",
        "x = new_df[\"Risiko\"]\n",
        "\n",
        "plt.figure(figsize=(20,10))\n",
        "plt.plot(x,y)\n",
        "plt.scatter(x,y)\n",
        "plt.xlabel(\"Expected Return\")\n",
        "plt.ylabel(\"Risiko\")\n",
        "plt.show()"
      ],
      "execution_count": 261,
      "outputs": [
        {
          "output_type": "display_data",
          "data": {
            "image/png": "[encoded data removed]",
            "text/plain": [
              "<Figure size 1440x720 with 1 Axes>"
            ]
          },
          "metadata": {
            "tags": [],
            "needs_background": "light"
          }
        }
      ]
    },
    {
      "cell_type": "markdown",
      "metadata": {
        "id": "XzSSRlhuCfNQ",
        "colab_type": "text"
      },
      "source": [
        "# No 3a"
      ]
    },
    {
      "cell_type": "markdown",
      "metadata": {
        "id": "GZOfXrtPCkEy",
        "colab_type": "text"
      },
      "source": [
        "## Load Data"
      ]
    },
    {
      "cell_type": "code",
      "metadata": {
        "id": "0drhm_uOCg84",
        "colab_type": "code",
        "outputId": "6a9e1ad7-2db0-46ff-fd04-36f11826917e",
        "colab": {
          "base_uri": "https://localhost:8080/",
          "height": 197
        }
      },
      "source": [
        "dataset_2019 = load_data(2019,kode_saham)\n",
        "dataset_2019.sample(5)"
      ],
      "execution_count": 262,
      "outputs": [
        {
          "output_type": "execute_result",
          "data": {
            "text/html": [
              "<div>\n",
              "<style scoped>\n",
              "    .dataframe tbody tr th:only-of-type {\n",
              "        vertical-align: middle;\n",
              "    }\n",
              "\n",
              "    .dataframe tbody tr th {\n",
              "        vertical-align: top;\n",
              "    }\n",
              "\n",
              "    .dataframe thead th {\n",
              "        text-align: right;\n",
              "    }\n",
              "</style>\n",
              "<table border=\"1\" class=\"dataframe\">\n",
              "  <thead>\n",
              "    <tr style=\"text-align: right;\">\n",
              "      <th></th>\n",
              "      <th>SGRO.JK</th>\n",
              "      <th>TLKM.JK</th>\n",
              "      <th>INDR.JK</th>\n",
              "      <th>PRDA.JK</th>\n",
              "      <th>AKPI.JK</th>\n",
              "    </tr>\n",
              "  </thead>\n",
              "  <tbody>\n",
              "    <tr>\n",
              "      <th>29</th>\n",
              "      <td>2220.0</td>\n",
              "      <td>4200.0</td>\n",
              "      <td>4550.0</td>\n",
              "      <td>4100.0</td>\n",
              "      <td>426.0</td>\n",
              "    </tr>\n",
              "    <tr>\n",
              "      <th>1</th>\n",
              "      <td>2420.0</td>\n",
              "      <td>3850.0</td>\n",
              "      <td>6725.0</td>\n",
              "      <td>2170.0</td>\n",
              "      <td>730.0</td>\n",
              "    </tr>\n",
              "    <tr>\n",
              "      <th>13</th>\n",
              "      <td>2320.0</td>\n",
              "      <td>3950.0</td>\n",
              "      <td>4900.0</td>\n",
              "      <td>2870.0</td>\n",
              "      <td>600.0</td>\n",
              "    </tr>\n",
              "    <tr>\n",
              "      <th>9</th>\n",
              "      <td>2450.0</td>\n",
              "      <td>3800.0</td>\n",
              "      <td>6400.0</td>\n",
              "      <td>2810.0</td>\n",
              "      <td>590.0</td>\n",
              "    </tr>\n",
              "    <tr>\n",
              "      <th>0</th>\n",
              "      <td>2350.0</td>\n",
              "      <td>3770.0</td>\n",
              "      <td>6050.0</td>\n",
              "      <td>2290.0</td>\n",
              "      <td>700.0</td>\n",
              "    </tr>\n",
              "  </tbody>\n",
              "</table>\n",
              "</div>"
            ],
            "text/plain": [
              "    SGRO.JK  TLKM.JK  INDR.JK  PRDA.JK  AKPI.JK\n",
              "29   2220.0   4200.0   4550.0   4100.0    426.0\n",
              "1    2420.0   3850.0   6725.0   2170.0    730.0\n",
              "13   2320.0   3950.0   4900.0   2870.0    600.0\n",
              "9    2450.0   3800.0   6400.0   2810.0    590.0\n",
              "0    2350.0   3770.0   6050.0   2290.0    700.0"
            ]
          },
          "metadata": {
            "tags": []
          },
          "execution_count": 262
        }
      ]
    },
    {
      "cell_type": "code",
      "metadata": {
        "id": "JUhaF8bTKUN7",
        "colab_type": "code",
        "outputId": "03ce419e-fc7c-4c3a-bc76-b4d38585fa65",
        "colab": {
          "base_uri": "https://localhost:8080/",
          "height": 78
        }
      },
      "source": [
        "K_2019 = return_saham(dataset_2019)\n",
        "K_2019"
      ],
      "execution_count": 263,
      "outputs": [
        {
          "output_type": "execute_result",
          "data": {
            "text/html": [
              "<div>\n",
              "<style scoped>\n",
              "    .dataframe tbody tr th:only-of-type {\n",
              "        vertical-align: middle;\n",
              "    }\n",
              "\n",
              "    .dataframe tbody tr th {\n",
              "        vertical-align: top;\n",
              "    }\n",
              "\n",
              "    .dataframe thead th {\n",
              "        text-align: right;\n",
              "    }\n",
              "</style>\n",
              "<table border=\"1\" class=\"dataframe\">\n",
              "  <thead>\n",
              "    <tr style=\"text-align: right;\">\n",
              "      <th></th>\n",
              "      <th>SGRO.JK</th>\n",
              "      <th>TLKM.JK</th>\n",
              "      <th>INDR.JK</th>\n",
              "      <th>PRDA.JK</th>\n",
              "      <th>AKPI.JK</th>\n",
              "    </tr>\n",
              "  </thead>\n",
              "  <tbody>\n",
              "    <tr>\n",
              "      <th>0</th>\n",
              "      <td>0.067327</td>\n",
              "      <td>0.063704</td>\n",
              "      <td>0.069513</td>\n",
              "      <td>0.086151</td>\n",
              "      <td>0.064925</td>\n",
              "    </tr>\n",
              "  </tbody>\n",
              "</table>\n",
              "</div>"
            ],
            "text/plain": [
              "    SGRO.JK   TLKM.JK   INDR.JK   PRDA.JK   AKPI.JK\n",
              "0  0.067327  0.063704  0.069513  0.086151  0.064925"
            ]
          },
          "metadata": {
            "tags": []
          },
          "execution_count": 263
        }
      ]
    },
    {
      "cell_type": "code",
      "metadata": {
        "id": "3pqOwDttE8Aj",
        "colab_type": "code",
        "outputId": "bee9fbbd-d383-4b26-be32-1f008850042a",
        "colab": {
          "base_uri": "https://localhost:8080/",
          "height": 78
        }
      },
      "source": [
        "var = function_var(dataset_2019).iloc[0,:].values\n",
        "function_var(dataset_2019)"
      ],
      "execution_count": 264,
      "outputs": [
        {
          "output_type": "execute_result",
          "data": {
            "text/html": [
              "<div>\n",
              "<style scoped>\n",
              "    .dataframe tbody tr th:only-of-type {\n",
              "        vertical-align: middle;\n",
              "    }\n",
              "\n",
              "    .dataframe tbody tr th {\n",
              "        vertical-align: top;\n",
              "    }\n",
              "\n",
              "    .dataframe thead th {\n",
              "        text-align: right;\n",
              "    }\n",
              "</style>\n",
              "<table border=\"1\" class=\"dataframe\">\n",
              "  <thead>\n",
              "    <tr style=\"text-align: right;\">\n",
              "      <th></th>\n",
              "      <th>SGRO.JK</th>\n",
              "      <th>TLKM.JK</th>\n",
              "      <th>INDR.JK</th>\n",
              "      <th>PRDA.JK</th>\n",
              "      <th>AKPI.JK</th>\n",
              "    </tr>\n",
              "  </thead>\n",
              "  <tbody>\n",
              "    <tr>\n",
              "      <th>0</th>\n",
              "      <td>0.000048</td>\n",
              "      <td>0.000002</td>\n",
              "      <td>0.0005</td>\n",
              "      <td>0.000155</td>\n",
              "      <td>0.000577</td>\n",
              "    </tr>\n",
              "  </tbody>\n",
              "</table>\n",
              "</div>"
            ],
            "text/plain": [
              "    SGRO.JK   TLKM.JK  INDR.JK   PRDA.JK   AKPI.JK\n",
              "0  0.000048  0.000002   0.0005  0.000155  0.000577"
            ]
          },
          "metadata": {
            "tags": []
          },
          "execution_count": 264
        }
      ]
    },
    {
      "cell_type": "code",
      "metadata": {
        "id": "EMPjkiqLLDQk",
        "colab_type": "code",
        "outputId": "5cecf9c6-316d-4ff8-9cbe-a9ffc09e12fd",
        "colab": {
          "base_uri": "https://localhost:8080/",
          "height": 78
        }
      },
      "source": [
        "std_dev = function_std_dev(var)\n",
        "df_std_new = pd.DataFrame([function_std_dev(var)])\n",
        "df_std_new.columns = kode_saham\n",
        "df_std_new"
      ],
      "execution_count": 265,
      "outputs": [
        {
          "output_type": "execute_result",
          "data": {
            "text/html": [
              "<div>\n",
              "<style scoped>\n",
              "    .dataframe tbody tr th:only-of-type {\n",
              "        vertical-align: middle;\n",
              "    }\n",
              "\n",
              "    .dataframe tbody tr th {\n",
              "        vertical-align: top;\n",
              "    }\n",
              "\n",
              "    .dataframe thead th {\n",
              "        text-align: right;\n",
              "    }\n",
              "</style>\n",
              "<table border=\"1\" class=\"dataframe\">\n",
              "  <thead>\n",
              "    <tr style=\"text-align: right;\">\n",
              "      <th></th>\n",
              "      <th>SGRO.JK</th>\n",
              "      <th>TLKM.JK</th>\n",
              "      <th>INDR.JK</th>\n",
              "      <th>PRDA.JK</th>\n",
              "      <th>AKPI.JK</th>\n",
              "    </tr>\n",
              "  </thead>\n",
              "  <tbody>\n",
              "    <tr>\n",
              "      <th>0</th>\n",
              "      <td>0.006906</td>\n",
              "      <td>0.0013</td>\n",
              "      <td>0.022353</td>\n",
              "      <td>0.012435</td>\n",
              "      <td>0.024017</td>\n",
              "    </tr>\n",
              "  </tbody>\n",
              "</table>\n",
              "</div>"
            ],
            "text/plain": [
              "    SGRO.JK  TLKM.JK   INDR.JK   PRDA.JK   AKPI.JK\n",
              "0  0.006906   0.0013  0.022353  0.012435  0.024017"
            ]
          },
          "metadata": {
            "tags": []
          },
          "execution_count": 265
        }
      ]
    },
    {
      "cell_type": "code",
      "metadata": {
        "id": "etSLFkbrNPGW",
        "colab_type": "code",
        "outputId": "32794332-4090-4a87-bd24-add0c0e1b5c0",
        "colab": {
          "base_uri": "https://localhost:8080/",
          "height": 197
        }
      },
      "source": [
        "rho = dataset_2019.corr().values\n",
        "dataset.corr()"
      ],
      "execution_count": 266,
      "outputs": [
        {
          "output_type": "execute_result",
          "data": {
            "text/html": [
              "<div>\n",
              "<style scoped>\n",
              "    .dataframe tbody tr th:only-of-type {\n",
              "        vertical-align: middle;\n",
              "    }\n",
              "\n",
              "    .dataframe tbody tr th {\n",
              "        vertical-align: top;\n",
              "    }\n",
              "\n",
              "    .dataframe thead th {\n",
              "        text-align: right;\n",
              "    }\n",
              "</style>\n",
              "<table border=\"1\" class=\"dataframe\">\n",
              "  <thead>\n",
              "    <tr style=\"text-align: right;\">\n",
              "      <th></th>\n",
              "      <th>SGRO.JK</th>\n",
              "      <th>TLKM.JK</th>\n",
              "      <th>INDR.JK</th>\n",
              "      <th>PRDA.JK</th>\n",
              "      <th>AKPI.JK</th>\n",
              "    </tr>\n",
              "  </thead>\n",
              "  <tbody>\n",
              "    <tr>\n",
              "      <th>SGRO.JK</th>\n",
              "      <td>1.000000</td>\n",
              "      <td>-0.336531</td>\n",
              "      <td>0.282667</td>\n",
              "      <td>-0.599204</td>\n",
              "      <td>-0.559313</td>\n",
              "    </tr>\n",
              "    <tr>\n",
              "      <th>TLKM.JK</th>\n",
              "      <td>-0.336531</td>\n",
              "      <td>1.000000</td>\n",
              "      <td>-0.647548</td>\n",
              "      <td>0.348964</td>\n",
              "      <td>0.244041</td>\n",
              "    </tr>\n",
              "    <tr>\n",
              "      <th>INDR.JK</th>\n",
              "      <td>0.282667</td>\n",
              "      <td>-0.647548</td>\n",
              "      <td>1.000000</td>\n",
              "      <td>-0.715454</td>\n",
              "      <td>-0.019710</td>\n",
              "    </tr>\n",
              "    <tr>\n",
              "      <th>PRDA.JK</th>\n",
              "      <td>-0.599204</td>\n",
              "      <td>0.348964</td>\n",
              "      <td>-0.715454</td>\n",
              "      <td>1.000000</td>\n",
              "      <td>0.189698</td>\n",
              "    </tr>\n",
              "    <tr>\n",
              "      <th>AKPI.JK</th>\n",
              "      <td>-0.559313</td>\n",
              "      <td>0.244041</td>\n",
              "      <td>-0.019710</td>\n",
              "      <td>0.189698</td>\n",
              "      <td>1.000000</td>\n",
              "    </tr>\n",
              "  </tbody>\n",
              "</table>\n",
              "</div>"
            ],
            "text/plain": [
              "          SGRO.JK   TLKM.JK   INDR.JK   PRDA.JK   AKPI.JK\n",
              "SGRO.JK  1.000000 -0.336531  0.282667 -0.599204 -0.559313\n",
              "TLKM.JK -0.336531  1.000000 -0.647548  0.348964  0.244041\n",
              "INDR.JK  0.282667 -0.647548  1.000000 -0.715454 -0.019710\n",
              "PRDA.JK -0.599204  0.348964 -0.715454  1.000000  0.189698\n",
              "AKPI.JK -0.559313  0.244041 -0.019710  0.189698  1.000000"
            ]
          },
          "metadata": {
            "tags": []
          },
          "execution_count": 266
        }
      ]
    },
    {
      "cell_type": "code",
      "metadata": {
        "id": "-2OuusU4M9mp",
        "colab_type": "code",
        "colab": {}
      },
      "source": [
        "C = Matrix_C()"
      ],
      "execution_count": 0,
      "outputs": []
    },
    {
      "cell_type": "code",
      "metadata": {
        "id": "51N5qEBKiLvH",
        "colab_type": "code",
        "outputId": "8d081afb-f764-4ab4-f2a0-5ba0ccc119e8",
        "colab": {
          "base_uri": "https://localhost:8080/",
          "height": 78
        }
      },
      "source": [
        "def Expected_Return(df_K,df_saham) :\n",
        "  return_saham = []\n",
        "  n = df_saham.shape[0]\n",
        "\n",
        "  for i in range(n):\n",
        "    sum_ret = 0\n",
        "    for saham in df_saham :\n",
        "      K = float(df_K[saham])\n",
        "      w = float(df_saham[saham][i])\n",
        "      sum_ret += K*w\n",
        "    return_saham.append(sum_ret)\n",
        "  result = pd.DataFrame([return_saham])\n",
        "  result.columns = [\"ER\"+str(x+1) for x in range(n)]\n",
        "  return result\n",
        "\n",
        "Expected_Return(K_2019,new_df.iloc[:2,:n])"
      ],
      "execution_count": 268,
      "outputs": [
        {
          "output_type": "execute_result",
          "data": {
            "text/html": [
              "<div>\n",
              "<style scoped>\n",
              "    .dataframe tbody tr th:only-of-type {\n",
              "        vertical-align: middle;\n",
              "    }\n",
              "\n",
              "    .dataframe tbody tr th {\n",
              "        vertical-align: top;\n",
              "    }\n",
              "\n",
              "    .dataframe thead th {\n",
              "        text-align: right;\n",
              "    }\n",
              "</style>\n",
              "<table border=\"1\" class=\"dataframe\">\n",
              "  <thead>\n",
              "    <tr style=\"text-align: right;\">\n",
              "      <th></th>\n",
              "      <th>ER1</th>\n",
              "      <th>ER2</th>\n",
              "    </tr>\n",
              "  </thead>\n",
              "  <tbody>\n",
              "    <tr>\n",
              "      <th>0</th>\n",
              "      <td>0.068125</td>\n",
              "      <td>0.06809</td>\n",
              "    </tr>\n",
              "  </tbody>\n",
              "</table>\n",
              "</div>"
            ],
            "text/plain": [
              "        ER1      ER2\n",
              "0  0.068125  0.06809"
            ]
          },
          "metadata": {
            "tags": []
          },
          "execution_count": 268
        }
      ]
    },
    {
      "cell_type": "code",
      "metadata": {
        "id": "u6fW8yQcLPV8",
        "colab_type": "code",
        "outputId": "bb8c5e5c-e28a-4b55-8aca-7bb0c7440b0a",
        "colab": {
          "base_uri": "https://localhost:8080/",
          "height": 194
        }
      },
      "source": [
        "list_bobot = []\n",
        "i = 0\n",
        "print(kode_saham)\n",
        "\n",
        "w_use = new_df.iloc[:3,:n]\n",
        "\n",
        "ER = Expected_Return(K_2019,w_use)\n",
        "\n",
        "for bobot in w_use.values :\n",
        "  #print(bobot)\n",
        "  tmp = []\n",
        "  wT = np.transpose(bobot)\n",
        "  risk = bobot.dot(C).dot(wT)\n",
        "  for x in bobot :\n",
        "    tmp.append(x)\n",
        "  tmp.append(ER.iloc[0,i])\n",
        "  tmp.append(risk)\n",
        "  list_bobot.append(tmp)\n",
        "  i+=1\n",
        "print(list_bobot)\n",
        "\n",
        "new_df_port = pd.DataFrame(list_bobot)\n",
        "new_df_port.columns = column\n",
        "new_df_port\n",
        "#df_tmp =df_port\n",
        "new_df_port"
      ],
      "execution_count": 289,
      "outputs": [
        {
          "output_type": "stream",
          "text": [
            "['SGRO.JK', 'TLKM.JK', 'INDR.JK', 'PRDA.JK', 'AKPI.JK']\n",
            "[[0.4468, 0.3781, 0.059, 0.1092, 0.0069, 0.06812517780855028, 1.20885879e-06], [-0.4573318300195054, 1.0350337725194672, 0.25231561905811795, 0.2058797189784037, -0.03589728053651261, 0.06809025937682903, 1.5015329120578709e-05], [-1.8134764574383146, 2.0204316668038373, 0.5422818932831525, 0.3508271849018589, -0.10006428755064027, 0.06803644924948682, 8.749930233137812e-05]]\n"
          ],
          "name": "stdout"
        },
        {
          "output_type": "execute_result",
          "data": {
            "text/html": [
              "<div>\n",
              "<style scoped>\n",
              "    .dataframe tbody tr th:only-of-type {\n",
              "        vertical-align: middle;\n",
              "    }\n",
              "\n",
              "    .dataframe tbody tr th {\n",
              "        vertical-align: top;\n",
              "    }\n",
              "\n",
              "    .dataframe thead th {\n",
              "        text-align: right;\n",
              "    }\n",
              "</style>\n",
              "<table border=\"1\" class=\"dataframe\">\n",
              "  <thead>\n",
              "    <tr style=\"text-align: right;\">\n",
              "      <th></th>\n",
              "      <th>SGRO.JK</th>\n",
              "      <th>TLKM.JK</th>\n",
              "      <th>INDR.JK</th>\n",
              "      <th>PRDA.JK</th>\n",
              "      <th>AKPI.JK</th>\n",
              "      <th>Expected Return</th>\n",
              "      <th>Risiko</th>\n",
              "    </tr>\n",
              "  </thead>\n",
              "  <tbody>\n",
              "    <tr>\n",
              "      <th>0</th>\n",
              "      <td>0.446800</td>\n",
              "      <td>0.378100</td>\n",
              "      <td>0.059000</td>\n",
              "      <td>0.109200</td>\n",
              "      <td>0.006900</td>\n",
              "      <td>0.068125</td>\n",
              "      <td>0.000001</td>\n",
              "    </tr>\n",
              "    <tr>\n",
              "      <th>1</th>\n",
              "      <td>-0.457332</td>\n",
              "      <td>1.035034</td>\n",
              "      <td>0.252316</td>\n",
              "      <td>0.205880</td>\n",
              "      <td>-0.035897</td>\n",
              "      <td>0.068090</td>\n",
              "      <td>0.000015</td>\n",
              "    </tr>\n",
              "    <tr>\n",
              "      <th>2</th>\n",
              "      <td>-1.813476</td>\n",
              "      <td>2.020432</td>\n",
              "      <td>0.542282</td>\n",
              "      <td>0.350827</td>\n",
              "      <td>-0.100064</td>\n",
              "      <td>0.068036</td>\n",
              "      <td>0.000087</td>\n",
              "    </tr>\n",
              "  </tbody>\n",
              "</table>\n",
              "</div>"
            ],
            "text/plain": [
              "    SGRO.JK   TLKM.JK   INDR.JK   PRDA.JK   AKPI.JK  Expected Return    Risiko\n",
              "0  0.446800  0.378100  0.059000  0.109200  0.006900         0.068125  0.000001\n",
              "1 -0.457332  1.035034  0.252316  0.205880 -0.035897         0.068090  0.000015\n",
              "2 -1.813476  2.020432  0.542282  0.350827 -0.100064         0.068036  0.000087"
            ]
          },
          "metadata": {
            "tags": []
          },
          "execution_count": 289
        }
      ]
    },
    {
      "cell_type": "code",
      "metadata": {
        "id": "1_nSI_i0tpqw",
        "colab_type": "code",
        "outputId": "4ecff72f-bdbf-4b93-cf6d-3e7a298538d5",
        "colab": {
          "base_uri": "https://localhost:8080/",
          "height": 108
        }
      },
      "source": [
        "new_df.iloc[[2,3],:]"
      ],
      "execution_count": 290,
      "outputs": [
        {
          "output_type": "execute_result",
          "data": {
            "text/html": [
              "<div>\n",
              "<style scoped>\n",
              "    .dataframe tbody tr th:only-of-type {\n",
              "        vertical-align: middle;\n",
              "    }\n",
              "\n",
              "    .dataframe tbody tr th {\n",
              "        vertical-align: top;\n",
              "    }\n",
              "\n",
              "    .dataframe thead th {\n",
              "        text-align: right;\n",
              "    }\n",
              "</style>\n",
              "<table border=\"1\" class=\"dataframe\">\n",
              "  <thead>\n",
              "    <tr style=\"text-align: right;\">\n",
              "      <th></th>\n",
              "      <th>SGRO.JK</th>\n",
              "      <th>TLKM.JK</th>\n",
              "      <th>INDR.JK</th>\n",
              "      <th>PRDA.JK</th>\n",
              "      <th>AKPI.JK</th>\n",
              "      <th>Expected Return</th>\n",
              "      <th>Risiko</th>\n",
              "    </tr>\n",
              "  </thead>\n",
              "  <tbody>\n",
              "    <tr>\n",
              "      <th>2</th>\n",
              "      <td>-1.813476</td>\n",
              "      <td>2.020432</td>\n",
              "      <td>0.542282</td>\n",
              "      <td>0.350827</td>\n",
              "      <td>-0.100064</td>\n",
              "      <td>0.09514</td>\n",
              "      <td>0.000087</td>\n",
              "    </tr>\n",
              "    <tr>\n",
              "      <th>3</th>\n",
              "      <td>-3.847693</td>\n",
              "      <td>3.498529</td>\n",
              "      <td>0.977231</td>\n",
              "      <td>0.568248</td>\n",
              "      <td>-0.196315</td>\n",
              "      <td>0.14271</td>\n",
              "      <td>0.000313</td>\n",
              "    </tr>\n",
              "  </tbody>\n",
              "</table>\n",
              "</div>"
            ],
            "text/plain": [
              "    SGRO.JK   TLKM.JK   INDR.JK   PRDA.JK   AKPI.JK  Expected Return    Risiko\n",
              "2 -1.813476  2.020432  0.542282  0.350827 -0.100064          0.09514  0.000087\n",
              "3 -3.847693  3.498529  0.977231  0.568248 -0.196315          0.14271  0.000313"
            ]
          },
          "metadata": {
            "tags": []
          },
          "execution_count": 290
        }
      ]
    },
    {
      "cell_type": "markdown",
      "metadata": {
        "id": "c577uJxlu_yf",
        "colab_type": "text"
      },
      "source": [
        "## No 3b"
      ]
    },
    {
      "cell_type": "code",
      "metadata": {
        "id": "tHXFtPosvBYw",
        "colab_type": "code",
        "outputId": "4e72196f-01ed-4d02-caab-94fe38dfe000",
        "colab": {
          "base_uri": "https://localhost:8080/",
          "height": 216
        }
      },
      "source": [
        "kode_saham = kode_saham[:n]\n",
        "print(kode_saham)\n",
        "dataset_2020 = load_data(\"2019\",kode_saham)\n",
        "dataset_2020.sample(5)"
      ],
      "execution_count": 291,
      "outputs": [
        {
          "output_type": "stream",
          "text": [
            "['SGRO.JK', 'TLKM.JK', 'INDR.JK', 'PRDA.JK', 'AKPI.JK']\n"
          ],
          "name": "stdout"
        },
        {
          "output_type": "execute_result",
          "data": {
            "text/html": [
              "<div>\n",
              "<style scoped>\n",
              "    .dataframe tbody tr th:only-of-type {\n",
              "        vertical-align: middle;\n",
              "    }\n",
              "\n",
              "    .dataframe tbody tr th {\n",
              "        vertical-align: top;\n",
              "    }\n",
              "\n",
              "    .dataframe thead th {\n",
              "        text-align: right;\n",
              "    }\n",
              "</style>\n",
              "<table border=\"1\" class=\"dataframe\">\n",
              "  <thead>\n",
              "    <tr style=\"text-align: right;\">\n",
              "      <th></th>\n",
              "      <th>SGRO.JK</th>\n",
              "      <th>TLKM.JK</th>\n",
              "      <th>INDR.JK</th>\n",
              "      <th>PRDA.JK</th>\n",
              "      <th>AKPI.JK</th>\n",
              "    </tr>\n",
              "  </thead>\n",
              "  <tbody>\n",
              "    <tr>\n",
              "      <th>27</th>\n",
              "      <td>2200.0</td>\n",
              "      <td>4280.0</td>\n",
              "      <td>4830.0</td>\n",
              "      <td>4100.0</td>\n",
              "      <td>424.0</td>\n",
              "    </tr>\n",
              "    <tr>\n",
              "      <th>40</th>\n",
              "      <td>2070.0</td>\n",
              "      <td>4190.0</td>\n",
              "      <td>3500.0</td>\n",
              "      <td>4800.0</td>\n",
              "      <td>398.0</td>\n",
              "    </tr>\n",
              "    <tr>\n",
              "      <th>28</th>\n",
              "      <td>2210.0</td>\n",
              "      <td>4260.0</td>\n",
              "      <td>4820.0</td>\n",
              "      <td>4400.0</td>\n",
              "      <td>432.0</td>\n",
              "    </tr>\n",
              "    <tr>\n",
              "      <th>45</th>\n",
              "      <td>2500.0</td>\n",
              "      <td>4000.0</td>\n",
              "      <td>3280.0</td>\n",
              "      <td>3970.0</td>\n",
              "      <td>380.0</td>\n",
              "    </tr>\n",
              "    <tr>\n",
              "      <th>17</th>\n",
              "      <td>2360.0</td>\n",
              "      <td>3840.0</td>\n",
              "      <td>4840.0</td>\n",
              "      <td>3310.0</td>\n",
              "      <td>570.0</td>\n",
              "    </tr>\n",
              "  </tbody>\n",
              "</table>\n",
              "</div>"
            ],
            "text/plain": [
              "    SGRO.JK  TLKM.JK  INDR.JK  PRDA.JK  AKPI.JK\n",
              "27   2200.0   4280.0   4830.0   4100.0    424.0\n",
              "40   2070.0   4190.0   3500.0   4800.0    398.0\n",
              "28   2210.0   4260.0   4820.0   4400.0    432.0\n",
              "45   2500.0   4000.0   3280.0   3970.0    380.0\n",
              "17   2360.0   3840.0   4840.0   3310.0    570.0"
            ]
          },
          "metadata": {
            "tags": []
          },
          "execution_count": 291
        }
      ]
    },
    {
      "cell_type": "code",
      "metadata": {
        "id": "jUb_qMOwnD9z",
        "colab_type": "code",
        "outputId": "ba237170-8aa4-467a-b541-b1bf47d333ef",
        "colab": {
          "base_uri": "https://localhost:8080/",
          "height": 1000
        }
      },
      "source": [
        "VP = {}\n",
        "V0 = 1\n",
        "n_port = w_use.shape[0]\n",
        "for i in range(n_port):\n",
        "  VP[i] = [V0]\n",
        "\n",
        "print(n_port)\n",
        "\n",
        "for i in range(n_port):\n",
        "  for j in range(dataset_2020.shape[0]-1):\n",
        "    V = 0\n",
        "    for saham in dataset_2020 :\n",
        "      Sn = dataset_2020[saham][j+1]\n",
        "      Sm = dataset_2020[saham][j]\n",
        "\n",
        "      K = (Sn-Sm)/Sm\n",
        "\n",
        "      w = w_use[saham][i]\n",
        "      V += K*w\n",
        "    VP[i].append((1+V)*V0)\n",
        "\n",
        "print(VP)\n",
        "\n",
        "df_sim = pd.DataFrame(VP)\n",
        "df_sim.columns = [\"P\"+str(i+1) for i in range(n_port)]\n",
        "df_sim\n"
      ],
      "execution_count": 292,
      "outputs": [
        {
          "output_type": "stream",
          "text": [
            "3\n",
            "{0: [1, 1.0224883665167344, 1.0107226290147282, 0.9800914748707434, 1.006343699873794, 1.0345825378694964, 0.9873284333402105, 0.9928850505047309, 0.9954955600692393, 1.0235186155593727, 1.0054227618275318, 0.9806957507104859, 1.0177553931034065, 0.9754719991164541, 0.9813914098603426, 0.999528712981288, 1.0135963161899293, 1.018597525953777, 0.9844870296934037, 0.9866438337077554, 1.031272829836871, 0.9986412982342467, 0.9912263070031104, 1.000068085517324, 1.016242333352499, 1.0307305375132532, 1.0278697539039447, 0.9701208813867763, 1.0082623660335772, 0.9858501002124376, 0.9926161540906783, 1.03022639206715, 1.00686231778099, 1.005399342807527, 0.9829923620418345, 1.0088754980800447, 0.9818995595768136, 0.9915237589854344, 0.9991143243372673, 0.9938186854940914, 0.9818067828661835, 1.0361907450417864, 1.0139584453334725, 0.9892263403305899, 1.0113434211619863, 0.9955037512556919, 0.9833639132429356, 0.9883138852486402, 1.0181791823533033, 0.9663538243966285], 1: [1, 1.0241649355298947, 1.0866992837672211, 0.9524430053608433, 1.0521829931754345, 1.0254966842065556, 0.9839508438268649, 1.0148737559670384, 0.9765020384289784, 0.9452485589129201, 0.9747829265187679, 1.027438283988096, 1.0013974597352118, 1.0009337333145727, 0.9594227848280487, 0.983708423729023, 1.0166637291563934, 1.0346562729052822, 0.9816780942327198, 0.952104465248573, 1.0876936977598968, 1.0467464363431713, 1.0506455906013032, 0.9397392504185496, 1.0403614908010592, 1.0758901547672202, 1.0235348677028426, 1.0100897838593603, 1.0069492824561852, 0.9556801420412272, 0.9430859648796642, 1.0236742595557646, 1.0140836113112086, 0.9849320877090451, 1.0746651551967148, 0.9549265992254408, 1.0109749872838532, 0.9797613739502457, 1.01588836444948, 0.9524164519101561, 1.0492580649092607, 0.9555307977787852, 1.0211758247140523, 0.9268874120789025, 0.9561301497177326, 0.9535824697522209, 0.9338118104595785, 1.0283373113629946, 1.0045698130729526, 0.9843448136263236], 2: [1, 1.0266855323850814, 1.2006620801308783, 0.9109612832416814, 1.120927465952842, 1.0118686789521112, 0.978884467289134, 1.0478527657759014, 0.9480120571080018, 0.8278473528949442, 0.9288267363706038, 1.097545606353161, 0.9768618911882654, 1.0391257843442312, 0.9264700750347835, 0.9599777579538289, 1.0212654536102126, 1.0587323375413888, 0.9774641343978909, 0.9002917147551727, 1.1723234196925294, 1.1188985872486172, 1.139773591237641, 0.8492461357180634, 1.0765350704438172, 1.143626681292544, 1.0170225684241379, 1.070044671080346, 1.0049751952799242, 0.91043040001911, 0.8687936911250762, 1.0138449195316144, 1.0249158045979279, 0.95423092794195, 1.2121698186292285, 0.8740037056919114, 1.0545844092573076, 0.962117896281963, 1.0410474635739424, 0.8903100825099339, 1.1504309017086927, 0.8345459518365266, 1.0320016242415038, 0.8333946506268191, 0.873314501910087, 0.8906986235898775, 0.8594848467451683, 1.0883698428736623, 0.9841608225433771, 1.011333966398304]}\n"
          ],
          "name": "stdout"
        },
        {
          "output_type": "execute_result",
          "data": {
            "text/html": [
              "<div>\n",
              "<style scoped>\n",
              "    .dataframe tbody tr th:only-of-type {\n",
              "        vertical-align: middle;\n",
              "    }\n",
              "\n",
              "    .dataframe tbody tr th {\n",
              "        vertical-align: top;\n",
              "    }\n",
              "\n",
              "    .dataframe thead th {\n",
              "        text-align: right;\n",
              "    }\n",
              "</style>\n",
              "<table border=\"1\" class=\"dataframe\">\n",
              "  <thead>\n",
              "    <tr style=\"text-align: right;\">\n",
              "      <th></th>\n",
              "      <th>P1</th>\n",
              "      <th>P2</th>\n",
              "      <th>P3</th>\n",
              "    </tr>\n",
              "  </thead>\n",
              "  <tbody>\n",
              "    <tr>\n",
              "      <th>0</th>\n",
              "      <td>1.000000</td>\n",
              "      <td>1.000000</td>\n",
              "      <td>1.000000</td>\n",
              "    </tr>\n",
              "    <tr>\n",
              "      <th>1</th>\n",
              "      <td>1.022488</td>\n",
              "      <td>1.024165</td>\n",
              "      <td>1.026686</td>\n",
              "    </tr>\n",
              "    <tr>\n",
              "      <th>2</th>\n",
              "      <td>1.010723</td>\n",
              "      <td>1.086699</td>\n",
              "      <td>1.200662</td>\n",
              "    </tr>\n",
              "    <tr>\n",
              "      <th>3</th>\n",
              "      <td>0.980091</td>\n",
              "      <td>0.952443</td>\n",
              "      <td>0.910961</td>\n",
              "    </tr>\n",
              "    <tr>\n",
              "      <th>4</th>\n",
              "      <td>1.006344</td>\n",
              "      <td>1.052183</td>\n",
              "      <td>1.120927</td>\n",
              "    </tr>\n",
              "    <tr>\n",
              "      <th>5</th>\n",
              "      <td>1.034583</td>\n",
              "      <td>1.025497</td>\n",
              "      <td>1.011869</td>\n",
              "    </tr>\n",
              "    <tr>\n",
              "      <th>6</th>\n",
              "      <td>0.987328</td>\n",
              "      <td>0.983951</td>\n",
              "      <td>0.978884</td>\n",
              "    </tr>\n",
              "    <tr>\n",
              "      <th>7</th>\n",
              "      <td>0.992885</td>\n",
              "      <td>1.014874</td>\n",
              "      <td>1.047853</td>\n",
              "    </tr>\n",
              "    <tr>\n",
              "      <th>8</th>\n",
              "      <td>0.995496</td>\n",
              "      <td>0.976502</td>\n",
              "      <td>0.948012</td>\n",
              "    </tr>\n",
              "    <tr>\n",
              "      <th>9</th>\n",
              "      <td>1.023519</td>\n",
              "      <td>0.945249</td>\n",
              "      <td>0.827847</td>\n",
              "    </tr>\n",
              "    <tr>\n",
              "      <th>10</th>\n",
              "      <td>1.005423</td>\n",
              "      <td>0.974783</td>\n",
              "      <td>0.928827</td>\n",
              "    </tr>\n",
              "    <tr>\n",
              "      <th>11</th>\n",
              "      <td>0.980696</td>\n",
              "      <td>1.027438</td>\n",
              "      <td>1.097546</td>\n",
              "    </tr>\n",
              "    <tr>\n",
              "      <th>12</th>\n",
              "      <td>1.017755</td>\n",
              "      <td>1.001397</td>\n",
              "      <td>0.976862</td>\n",
              "    </tr>\n",
              "    <tr>\n",
              "      <th>13</th>\n",
              "      <td>0.975472</td>\n",
              "      <td>1.000934</td>\n",
              "      <td>1.039126</td>\n",
              "    </tr>\n",
              "    <tr>\n",
              "      <th>14</th>\n",
              "      <td>0.981391</td>\n",
              "      <td>0.959423</td>\n",
              "      <td>0.926470</td>\n",
              "    </tr>\n",
              "    <tr>\n",
              "      <th>15</th>\n",
              "      <td>0.999529</td>\n",
              "      <td>0.983708</td>\n",
              "      <td>0.959978</td>\n",
              "    </tr>\n",
              "    <tr>\n",
              "      <th>16</th>\n",
              "      <td>1.013596</td>\n",
              "      <td>1.016664</td>\n",
              "      <td>1.021265</td>\n",
              "    </tr>\n",
              "    <tr>\n",
              "      <th>17</th>\n",
              "      <td>1.018598</td>\n",
              "      <td>1.034656</td>\n",
              "      <td>1.058732</td>\n",
              "    </tr>\n",
              "    <tr>\n",
              "      <th>18</th>\n",
              "      <td>0.984487</td>\n",
              "      <td>0.981678</td>\n",
              "      <td>0.977464</td>\n",
              "    </tr>\n",
              "    <tr>\n",
              "      <th>19</th>\n",
              "      <td>0.986644</td>\n",
              "      <td>0.952104</td>\n",
              "      <td>0.900292</td>\n",
              "    </tr>\n",
              "    <tr>\n",
              "      <th>20</th>\n",
              "      <td>1.031273</td>\n",
              "      <td>1.087694</td>\n",
              "      <td>1.172323</td>\n",
              "    </tr>\n",
              "    <tr>\n",
              "      <th>21</th>\n",
              "      <td>0.998641</td>\n",
              "      <td>1.046746</td>\n",
              "      <td>1.118899</td>\n",
              "    </tr>\n",
              "    <tr>\n",
              "      <th>22</th>\n",
              "      <td>0.991226</td>\n",
              "      <td>1.050646</td>\n",
              "      <td>1.139774</td>\n",
              "    </tr>\n",
              "    <tr>\n",
              "      <th>23</th>\n",
              "      <td>1.000068</td>\n",
              "      <td>0.939739</td>\n",
              "      <td>0.849246</td>\n",
              "    </tr>\n",
              "    <tr>\n",
              "      <th>24</th>\n",
              "      <td>1.016242</td>\n",
              "      <td>1.040361</td>\n",
              "      <td>1.076535</td>\n",
              "    </tr>\n",
              "    <tr>\n",
              "      <th>25</th>\n",
              "      <td>1.030731</td>\n",
              "      <td>1.075890</td>\n",
              "      <td>1.143627</td>\n",
              "    </tr>\n",
              "    <tr>\n",
              "      <th>26</th>\n",
              "      <td>1.027870</td>\n",
              "      <td>1.023535</td>\n",
              "      <td>1.017023</td>\n",
              "    </tr>\n",
              "    <tr>\n",
              "      <th>27</th>\n",
              "      <td>0.970121</td>\n",
              "      <td>1.010090</td>\n",
              "      <td>1.070045</td>\n",
              "    </tr>\n",
              "    <tr>\n",
              "      <th>28</th>\n",
              "      <td>1.008262</td>\n",
              "      <td>1.006949</td>\n",
              "      <td>1.004975</td>\n",
              "    </tr>\n",
              "    <tr>\n",
              "      <th>29</th>\n",
              "      <td>0.985850</td>\n",
              "      <td>0.955680</td>\n",
              "      <td>0.910430</td>\n",
              "    </tr>\n",
              "    <tr>\n",
              "      <th>30</th>\n",
              "      <td>0.992616</td>\n",
              "      <td>0.943086</td>\n",
              "      <td>0.868794</td>\n",
              "    </tr>\n",
              "    <tr>\n",
              "      <th>31</th>\n",
              "      <td>1.030226</td>\n",
              "      <td>1.023674</td>\n",
              "      <td>1.013845</td>\n",
              "    </tr>\n",
              "    <tr>\n",
              "      <th>32</th>\n",
              "      <td>1.006862</td>\n",
              "      <td>1.014084</td>\n",
              "      <td>1.024916</td>\n",
              "    </tr>\n",
              "    <tr>\n",
              "      <th>33</th>\n",
              "      <td>1.005399</td>\n",
              "      <td>0.984932</td>\n",
              "      <td>0.954231</td>\n",
              "    </tr>\n",
              "    <tr>\n",
              "      <th>34</th>\n",
              "      <td>0.982992</td>\n",
              "      <td>1.074665</td>\n",
              "      <td>1.212170</td>\n",
              "    </tr>\n",
              "    <tr>\n",
              "      <th>35</th>\n",
              "      <td>1.008875</td>\n",
              "      <td>0.954927</td>\n",
              "      <td>0.874004</td>\n",
              "    </tr>\n",
              "    <tr>\n",
              "      <th>36</th>\n",
              "      <td>0.981900</td>\n",
              "      <td>1.010975</td>\n",
              "      <td>1.054584</td>\n",
              "    </tr>\n",
              "    <tr>\n",
              "      <th>37</th>\n",
              "      <td>0.991524</td>\n",
              "      <td>0.979761</td>\n",
              "      <td>0.962118</td>\n",
              "    </tr>\n",
              "    <tr>\n",
              "      <th>38</th>\n",
              "      <td>0.999114</td>\n",
              "      <td>1.015888</td>\n",
              "      <td>1.041047</td>\n",
              "    </tr>\n",
              "    <tr>\n",
              "      <th>39</th>\n",
              "      <td>0.993819</td>\n",
              "      <td>0.952416</td>\n",
              "      <td>0.890310</td>\n",
              "    </tr>\n",
              "    <tr>\n",
              "      <th>40</th>\n",
              "      <td>0.981807</td>\n",
              "      <td>1.049258</td>\n",
              "      <td>1.150431</td>\n",
              "    </tr>\n",
              "    <tr>\n",
              "      <th>41</th>\n",
              "      <td>1.036191</td>\n",
              "      <td>0.955531</td>\n",
              "      <td>0.834546</td>\n",
              "    </tr>\n",
              "    <tr>\n",
              "      <th>42</th>\n",
              "      <td>1.013958</td>\n",
              "      <td>1.021176</td>\n",
              "      <td>1.032002</td>\n",
              "    </tr>\n",
              "    <tr>\n",
              "      <th>43</th>\n",
              "      <td>0.989226</td>\n",
              "      <td>0.926887</td>\n",
              "      <td>0.833395</td>\n",
              "    </tr>\n",
              "    <tr>\n",
              "      <th>44</th>\n",
              "      <td>1.011343</td>\n",
              "      <td>0.956130</td>\n",
              "      <td>0.873315</td>\n",
              "    </tr>\n",
              "    <tr>\n",
              "      <th>45</th>\n",
              "      <td>0.995504</td>\n",
              "      <td>0.953582</td>\n",
              "      <td>0.890699</td>\n",
              "    </tr>\n",
              "    <tr>\n",
              "      <th>46</th>\n",
              "      <td>0.983364</td>\n",
              "      <td>0.933812</td>\n",
              "      <td>0.859485</td>\n",
              "    </tr>\n",
              "    <tr>\n",
              "      <th>47</th>\n",
              "      <td>0.988314</td>\n",
              "      <td>1.028337</td>\n",
              "      <td>1.088370</td>\n",
              "    </tr>\n",
              "    <tr>\n",
              "      <th>48</th>\n",
              "      <td>1.018179</td>\n",
              "      <td>1.004570</td>\n",
              "      <td>0.984161</td>\n",
              "    </tr>\n",
              "    <tr>\n",
              "      <th>49</th>\n",
              "      <td>0.966354</td>\n",
              "      <td>0.984345</td>\n",
              "      <td>1.011334</td>\n",
              "    </tr>\n",
              "  </tbody>\n",
              "</table>\n",
              "</div>"
            ],
            "text/plain": [
              "          P1        P2        P3\n",
              "0   1.000000  1.000000  1.000000\n",
              "1   1.022488  1.024165  1.026686\n",
              "2   1.010723  1.086699  1.200662\n",
              "3   0.980091  0.952443  0.910961\n",
              "4   1.006344  1.052183  1.120927\n",
              "5   1.034583  1.025497  1.011869\n",
              "6   0.987328  0.983951  0.978884\n",
              "7   0.992885  1.014874  1.047853\n",
              "8   0.995496  0.976502  0.948012\n",
              "9   1.023519  0.945249  0.827847\n",
              "10  1.005423  0.974783  0.928827\n",
              "11  0.980696  1.027438  1.097546\n",
              "12  1.017755  1.001397  0.976862\n",
              "13  0.975472  1.000934  1.039126\n",
              "14  0.981391  0.959423  0.926470\n",
              "15  0.999529  0.983708  0.959978\n",
              "16  1.013596  1.016664  1.021265\n",
              "17  1.018598  1.034656  1.058732\n",
              "18  0.984487  0.981678  0.977464\n",
              "19  0.986644  0.952104  0.900292\n",
              "20  1.031273  1.087694  1.172323\n",
              "21  0.998641  1.046746  1.118899\n",
              "22  0.991226  1.050646  1.139774\n",
              "23  1.000068  0.939739  0.849246\n",
              "24  1.016242  1.040361  1.076535\n",
              "25  1.030731  1.075890  1.143627\n",
              "26  1.027870  1.023535  1.017023\n",
              "27  0.970121  1.010090  1.070045\n",
              "28  1.008262  1.006949  1.004975\n",
              "29  0.985850  0.955680  0.910430\n",
              "30  0.992616  0.943086  0.868794\n",
              "31  1.030226  1.023674  1.013845\n",
              "32  1.006862  1.014084  1.024916\n",
              "33  1.005399  0.984932  0.954231\n",
              "34  0.982992  1.074665  1.212170\n",
              "35  1.008875  0.954927  0.874004\n",
              "36  0.981900  1.010975  1.054584\n",
              "37  0.991524  0.979761  0.962118\n",
              "38  0.999114  1.015888  1.041047\n",
              "39  0.993819  0.952416  0.890310\n",
              "40  0.981807  1.049258  1.150431\n",
              "41  1.036191  0.955531  0.834546\n",
              "42  1.013958  1.021176  1.032002\n",
              "43  0.989226  0.926887  0.833395\n",
              "44  1.011343  0.956130  0.873315\n",
              "45  0.995504  0.953582  0.890699\n",
              "46  0.983364  0.933812  0.859485\n",
              "47  0.988314  1.028337  1.088370\n",
              "48  1.018179  1.004570  0.984161\n",
              "49  0.966354  0.984345  1.011334"
            ]
          },
          "metadata": {
            "tags": []
          },
          "execution_count": 292
        }
      ]
    },
    {
      "cell_type": "code",
      "metadata": {
        "id": "W8K_RdSF1ubV",
        "colab_type": "code",
        "outputId": "0b2742a8-fdf7-4ddb-a5c5-a7a9435cb756",
        "colab": {
          "base_uri": "https://localhost:8080/",
          "height": 606
        }
      },
      "source": [
        "import matplotlib.pyplot as plt\n",
        "\n",
        "\n",
        "plot_list = []\n",
        "plt.figure(figsize=(25,10))\n",
        "for i in range(n_port):\n",
        "  x = [x for x in range(df_sim.shape[0])]\n",
        "  y = df_sim[\"P\"+str(i+1)]\n",
        "  plt.plot(x,y,label=\"Portofolio ke -\"+str(i+1))\n",
        "  plt.scatter(x,y)\n",
        "\n",
        "plt.legend(bbox_to_anchor=(0.9, 0.98), loc='upper left', borderaxespad=0.)\n",
        "plt.xlabel(\"Week\")\n",
        "plt.ylabel(\"V(week)\")\n",
        "plt.show()"
      ],
      "execution_count": 294,
      "outputs": [
        {
          "output_type": "display_data",
          "data": {
            "image/png": "[encoded data removed]",
            "text/plain": [
              "<Figure size 1800x720 with 1 Axes>"
            ]
          },
          "metadata": {
            "tags": [],
            "needs_background": "light"
          }
        }
      ]
    },
    {
      "cell_type": "markdown",
      "metadata": {
        "id": "dGqP74gF_zAh",
        "colab_type": "text"
      },
      "source": [
        "## Salah\n"
      ]
    },
    {
      "cell_type": "code",
      "metadata": {
        "id": "BfnZHz8vxkW6",
        "colab_type": "code",
        "outputId": "06e0a66d-4f00-4821-80b2-b7b579516dcd",
        "colab": {
          "base_uri": "https://localhost:8080/",
          "height": 55
        }
      },
      "source": [
        "\"\"\"import numpy as np\n",
        "#print(type(dataset.corr()))\n",
        "list_corr = []\n",
        "for x in dataset:\n",
        "  print(type(dataset.corr()[x]))\n",
        "  #print(dataset[x].corr())\n",
        "  #list_corr.append(dataset[x].corr().tolist())\n",
        "  #print(dataset.corr()[x].tolist())\n",
        "#rho = np.array(list_corr)\n",
        "#print(rho)\"\"\""
      ],
      "execution_count": 0,
      "outputs": [
        {
          "output_type": "execute_result",
          "data": {
            "text/plain": [
              "'import numpy as np\\n#print(type(dataset.corr()))\\nlist_corr = []\\nfor x in dataset:\\n  print(type(dataset.corr()[x]))\\n  #print(dataset[x].corr())\\n  #list_corr.append(dataset[x].corr().tolist())\\n  #print(dataset.corr()[x].tolist())\\n#rho = np.array(list_corr)\\n#print(rho)'"
            ]
          },
          "metadata": {
            "tags": []
          },
          "execution_count": 73
        }
      ]
    },
    {
      "cell_type": "code",
      "metadata": {
        "id": "X0zv2wL_14cF",
        "colab_type": "code",
        "outputId": "eb3250d4-9e98-4ae3-a112-ac9eda403849",
        "colab": {
          "base_uri": "https://localhost:8080/",
          "height": 55
        }
      },
      "source": [
        "\"\"\"import statistics as st\n",
        "var = []\n",
        "for x in kode_saham :\n",
        "  tmp = dataset[x].tolist()\n",
        "  #print(tmp)\n",
        "  var.append(st.variance(tmp))\n",
        "#print(var)\n",
        "df_var = pd.DataFrame([var])\n",
        "df_var.columns = kode_saham\n",
        "df_var\"\"\""
      ],
      "execution_count": 0,
      "outputs": [
        {
          "output_type": "execute_result",
          "data": {
            "text/plain": [
              "'import statistics as st\\nvar = []\\nfor x in kode_saham :\\n  tmp = dataset[x].tolist()\\n  #print(tmp)\\n  var.append(st.variance(tmp))\\n#print(var)\\ndf_var = pd.DataFrame([var])\\ndf_var.columns = kode_saham\\ndf_var'"
            ]
          },
          "metadata": {
            "tags": []
          },
          "execution_count": 74
        }
      ]
    },
    {
      "cell_type": "code",
      "metadata": {
        "id": "C2fA6gq9nhkp",
        "colab_type": "code",
        "colab": {}
      },
      "source": [
        "def convert_to_dollar(saham) :\n",
        "  usd = 15589\n",
        "  dollar = []\n",
        "  for x in saham :\n",
        "    dollar.append(x/usd)\n",
        "  return dollar\n"
      ],
      "execution_count": 0,
      "outputs": []
    },
    {
      "cell_type": "code",
      "metadata": {
        "id": "tjfy_FW2FPW8",
        "colab_type": "code",
        "outputId": "16bb80f4-d74f-4ce0-a45f-5e40c1784e62",
        "colab": {
          "base_uri": "https://localhost:8080/",
          "height": 90
        }
      },
      "source": [
        "\n",
        "\n",
        "def is_short_selling(rho,std_dev):\n",
        "  n = len(rho)\n",
        "  print(n)\n",
        "  check = False\n",
        "  #rho = rho.sort()\n",
        "  #std_Dev =std_dev.sort()\n",
        "  sahamnya = []\n",
        "  for i in range(n):\n",
        "    for j in range(n):\n",
        "      if i < j :\n",
        "        x = std_dev[i]/std_dev[j]\n",
        "        #print(rho[i][j])\n",
        "        if rho[i][j] > x :\n",
        "          check =True\n",
        "          sahamnya.append([kode_saham[i],kode_saham[j]])\n",
        "    \n",
        "  return [check,sahamnya]\n",
        "\n",
        "if(is_short_selling(rho,std_dev)[0]) :\n",
        "  short = {}\n",
        "  list_short = is_short_selling(rho,std_dev)[1]\n",
        "  print(list_short)\n",
        "  for i in list_short :\n",
        "    x = i[0]\n",
        "    y = i[1]\n",
        "    if x not in short.keys():\n",
        "      short[x] =1\n",
        "    else :\n",
        "      short[x] += 1\n",
        "    \n",
        "    if y not in short.keys():\n",
        "      short[y] = 1\n",
        "    else :\n",
        "      short[y] += 1\n",
        "  print(short)\n",
        "else :\n",
        "  print(\"aman\")\n",
        "  print(kode_saham)"
      ],
      "execution_count": 0,
      "outputs": [
        {
          "output_type": "stream",
          "text": [
            "5\n",
            "5\n",
            "[['SGRO.JK', 'INDR.JK'], ['TLKM.JK', 'PRDA.JK'], ['TLKM.JK', 'AKPI.JK']]\n",
            "{'SGRO.JK': 1, 'INDR.JK': 1, 'TLKM.JK': 2, 'PRDA.JK': 1, 'AKPI.JK': 1}\n"
          ],
          "name": "stdout"
        }
      ]
    },
    {
      "cell_type": "code",
      "metadata": {
        "id": "5cF4uoPLEKB1",
        "colab_type": "code",
        "colab": {}
      },
      "source": [
        ""
      ],
      "execution_count": 0,
      "outputs": []
    }
  ]
}