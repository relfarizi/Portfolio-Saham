{
  "nbformat": 4,
  "nbformat_minor": 0,
  "metadata": {
    "colab": {
      "name": "Portfolio Saham.ipynb",
      "provenance": [],
      "collapsed_sections": [],
      "include_colab_link": true
    },
    "kernelspec": {
      "name": "python3",
      "display_name": "Python 3"
    }
  },
  "cells": [
    {
      "cell_type": "markdown",
      "metadata": {
        "id": "view-in-github",
        "colab_type": "text"
      },
      "source": [
        "<a href=\"https://colab.research.google.com/github/relfarizi/Portfolio-Saham/blob/master/Portfolio_Saham.ipynb\" target=\"_parent\"><img src=\"https://colab.research.google.com/assets/colab-badge.svg\" alt=\"Open In Colab\"/></a>"
      ]
    },
    {
      "cell_type": "markdown",
      "metadata": {
        "id": "IyP4QRhtch0F",
        "colab_type": "text"
      },
      "source": [
        "Load Data"
      ]
    },
    {
      "cell_type": "code",
      "metadata": {
        "id": "C2fA6gq9nhkp",
        "colab_type": "code",
        "colab": {}
      },
      "source": [
        "def convert_to_dollar(saham) :\n",
        "  usd = 15589\n",
        "  dollar = []\n",
        "  for x in saham :\n",
        "    dollar.append(x/usd)\n",
        "  return dollar\n"
      ],
      "execution_count": 0,
      "outputs": []
    },
    {
      "cell_type": "code",
      "metadata": {
        "id": "UekvxCwzchSo",
        "colab_type": "code",
        "outputId": "4d2b6c54-59b5-4a36-a4e7-b97189bf8b89",
        "colab": {
          "base_uri": "https://localhost:8080/",
          "height": 697
        }
      },
      "source": [
        "import pandas as pd\n",
        "import regex as re\n",
        "\"\"\"\n",
        "kode_saham = [\"AAPL\",\"BA\",\"BATA.JK\",\"BKRKF\",\"CSCO\",\"IBM\",\n",
        "              \"TLKMF\",\"AKPI.JK\",\"INTC\",\"MSFT\",\"NVDA\",\n",
        "              \"ORCL\",\"PBCRF\",\"PHJMF\",\"PTAIF\",\"SPR\"]\n",
        "\"\"\"\n",
        "\n",
        "#fix \n",
        "\"\"\"\n",
        "kode_saham = [\"BKRKF\",\n",
        "              \"TLKMF\",\n",
        "              \"PHJMF\"]\n",
        "\n",
        "\"\"\"\n",
        "# variansi besar\n",
        "#kode_saham = [\"AAPL\",\"BA\",\"BATA.JK\",\"AKPI.JK\",\"INTC\",\"MSFT\",\"NVDA\",\"ORCL\",\"CSCO\",\"IBM\",\"SPR\"]\n",
        "\n",
        "#kode_saham = [\"BATA.JK\",\"AKPI.JK\"]\n",
        "\n",
        "kode_saham =[\"SGRO.JK\",\"TLKM.JK\",\"MYOR.JK\",\"PHJMF\"]\n",
        "#kode_saham =[\"SGRO.JK\",\"PHJMF\"]\n",
        "kode_tmp = []\n",
        "sama = False\n",
        "for i in kode_saham :\n",
        "  if i in kode_tmp :\n",
        "    sama =  True\n",
        "    kodenya = i\n",
        "    break\n",
        "  else :\n",
        "      kode_tmp.append(i)\n",
        "\n",
        "if sama :\n",
        "  dataset = []\n",
        "  print(\"ada yang sama\", kodenya)\n",
        "else :\n",
        "  n = len(kode_saham)\n",
        "  github = \"https://raw.githubusercontent.com/relfarizi/Portfolio-Saham/master/Data/\"\n",
        "\n",
        "  df = []\n",
        "  for i in range(n) :\n",
        "    datas = pd.read_csv(github+kode_saham[i]+\".csv\")\n",
        "\n",
        "    if re.findall(\".JK\",kode_saham[i]):\n",
        "      tmp = datas[\"Close\"].tolist()\n",
        "      data_tmp = convert_to_dollar(tmp)\n",
        "    else :\n",
        "      data_tmp =datas[\"Close\"]\n",
        "    print(data_tmp)\n",
        "    df.append(pd.DataFrame(data_tmp))\n",
        "    #print(data_tmp.shape)\n",
        "  dataset = pd.concat(df, axis=1, sort=False)\n",
        "  dataset = dataset.dropna()\n",
        "  dataset.columns = kode_saham\n",
        "dataset"
      ],
      "execution_count": 835,
      "outputs": [
        {
          "output_type": "stream",
          "text": [
            "[0.12188081339405991, 0.12188081339405991, 0.12348450830713965, 0.12765411508114696, 0.12829559304637886, 0.13022002694207455, 0.12957854897684265, 0.13086150490730644, 0.13086150490730644, 0.12765411508114696, 0.1279748540637629, 0.12829559304637886, 0.13086150490730644, 0.13150298287253834, 0.12957854897684265, 0.13086150490730644, 0.13599332862916158, 0.13214446083777023, 0.13150298287253834, 0.12893707101161075, 0.13150298287253834, 0.13086150490730644, 0.12957854897684265, 0.12893707101161075, 0.12893707101161075, 0.12893707101161075, 0.12957854897684265, 0.12829559304637886, 0.12893707101161075, 0.12829559304637886, 0.1279748540637629, 0.1279748540637629, 0.12829559304637886, 0.12957854897684265, 0.1340688947334659, 0.14112515235101675, 0.14176663031624864, 0.14497402014240812, 0.15267175572519084, 0.15267175572519084, 0.15331323369042274, 0.15523766758611843, 0.15908653537750977, 0.16165244723843736, 0.16485983706459684, 0.16614279299506063, 0.16550131502982873, 0.16678427096029252, 0.16614279299506063, 0.16614279299506063, 0.16485983706459684, 0.16485983706459684, 0.16421835909936494, 0.16293540316890115, 0.16229392520366925, 0.16357688113413305, 0.16357688113413305, 0.16229392520366925, 0.16229392520366925, 0.16036949130797357, 0.16036949130797357, 0.16036949130797357, 0.15652062351658222, 0.16036949130797357, 0.15908653537750977, 0.15652062351658222, 0.15587914555135032, 0.15652062351658222, 0.1571621014818141, 0.15010584386426326, 0.15074732182949516, 0.14946436589903137, 0.14882288793379947, 0.14882288793379947, 0.15010584386426326, 0.15010584386426326, 0.15267175572519084, 0.15074732182949516, 0.15074732182949516, 0.15010584386426326, 0.14946436589903137, 0.15010584386426326, 0.15138879979472705, 0.15138879979472705, 0.15267175572519084, 0.15074732182949516, 0.14689845403810378, 0.14689845403810378, 0.14946436589903137, 0.15010584386426326, 0.14946436589903137, 0.14946436589903137, 0.14946436589903137, 0.15331323369042274, 0.15395471165565464, 0.14753993200333568, 0.15587914555135032, 0.14946436589903137, 0.15138879979472705, 0.14946436589903137, 0.15010584386426326, 0.15331323369042274, 0.15587914555135032, 0.15203027775995895, 0.15203027775995895]\n",
            "[0.2565911860927577, 0.25338379626659824, 0.24568606068381552, 0.24953492847520686, 0.25338379626659824, 0.24953492847520686, 0.2482519725447431, 0.2463275386490474, 0.2469690166142793, 0.25338379626659824, 0.26364744371030857, 0.2617230098146129, 0.26493039964077236, 0.26493039964077236, 0.2623644877798448, 0.2835332606324973, 0.2803258708063378, 0.2784014369106421, 0.2822503047020335, 0.2905895182500481, 0.28674065045865677, 0.2809673487715697, 0.2777599589454102, 0.2803258708063378, 0.28994804028481624, 0.28994804028481624, 0.29700429790236704, 0.29507986400667136, 0.29251395214574377, 0.3014946436589903, 0.2995702097632946, 0.3002116877285265, 0.3066264673808455, 0.3059849894156136, 0.3008531656937584, 0.3027775995894541, 0.3008531656937584, 0.29764577586759894, 0.3002116877285265, 0.29892873179806273, 0.2841747385977292, 0.27391109115401885, 0.26621335557123615, 0.2623644877798448, 0.26428892167554047, 0.2694207453973956, 0.2771184809801783, 0.26621335557123615, 0.26557187760600426, 0.27134517929309127, 0.27583552504971454, 0.2848162165629611, 0.27455256911925074, 0.26493039964077236, 0.266854833536468, 0.26621335557123615, 0.2565911860927577, 0.25338379626659824, 0.2572326640579896, 0.2585156199884534, 0.261081531849381, 0.26621335557123615, 0.24504458271858362, 0.23478093527487331, 0.23093206748348194, 0.23413945730964142, 0.23478093527487331, 0.24183719289242414, 0.24568606068381552, 0.23927128103149656, 0.23285650137917763, 0.2238758098659311, 0.22836615562255436, 0.2258002437616268, 0.23157354544871384, 0.23157354544871384, 0.22964911155301815, 0.24055423696196035, 0.2476104945795112, 0.2578741420232215, 0.2559497081275258, 0.25274231830136634, 0.22195137597023543, 0.224517287831163, 0.21489511835268457, 0.21104625056129322, 0.2238758098659311, 0.21746103021361216, 0.23029058951825004, 0.23093206748348194, 0.23349797934440952, 0.22644172172685867, 0.2360638912053371, 0.23927128103149656, 0.23285650137917763, 0.25274231830136634, 0.25145936237090255, 0.2597985759189172, 0.2559497081275258, 0.2360638912053371, 0.2354224132401052, 0.23927128103149656, 0.24119571492719225, 0.24055423696196035, 0.24055423696196035]\n",
            "[0.11257938289819745, 0.11257938289819745, 0.11322086086342933, 0.1129001218808134, 0.12188081339405991, 0.11610751170697287, 0.12059785746359612, 0.12252229135929181, 0.13150298287253834, 0.14112515235101675, 0.13278593880300213, 0.13150298287253834, 0.13663480659439348, 0.133427416768234, 0.12637115915068317, 0.12829559304637886, 0.13022002694207455, 0.13984219642055296, 0.14240810828148054, 0.14369106421194433, 0.14048367438578485, 0.13791776252485727, 0.13599332862916158, 0.13663480659439348, 0.14176663031624864, 0.14176663031624864, 0.1279748540637629, 0.13150298287253834, 0.13086150490730644, 0.1244467252549875, 0.1129001218808134, 0.11963564051574828, 0.12701263711591507, 0.12669189813329912, 0.12829559304637886, 0.12669189813329912, 0.1244467252549875, 0.1231637693245237, 0.12572968118545128, 0.133427416768234, 0.13855924049008916, 0.13791776252485727, 0.14433254217717623, 0.13535185066392968, 0.133427416768234, 0.13599332862916158, 0.12476746423760343, 0.13150298287253834, 0.133427416768234, 0.16036949130797357, 0.15138879979472705, 0.12957854897684265, 0.13791776252485727, 0.14433254217717623, 0.14304958624671243, 0.14689845403810378, 0.15010584386426326, 0.15074732182949516, 0.15331323369042274, 0.15523766758611843, 0.15395471165565464, 0.1571621014818141, 0.16999166078645198, 0.1796138302649304, 0.18923599974340882, 0.18538713195201745, 0.18602860991724934, 0.1796138302649304, 0.18602860991724934, 0.19565077939572775, 0.18474565398678555, 0.18217974212585797, 0.18667008788248124, 0.19180191160433638, 0.19821669125665534, 0.19821669125665534, 0.19051895567387261, 0.19051895567387261, 0.18923599974340882, 0.19436782346526396, 0.18987747770864072, 0.19693373532619154, 0.19180191160433638, 0.19244338956956827, 0.17897235229969852, 0.18538713195201745, 0.18474565398678555, 0.17833087433446662, 0.18282122009108986, 0.17319905061261145, 0.17448200654307525, 0.17127461671691577, 0.16806722689075632, 0.16806722689075632, 0.16678427096029252, 0.16421835909936494, 0.16229392520366925, 0.15844505741227788, 0.15331323369042274, 0.16357688113413305, 0.16101096927320546, 0.16678427096029252, 0.16678427096029252, 0.16806722689075632, 0.16806722689075632]\n",
            "0      0.31\n",
            "1      0.31\n",
            "2      0.31\n",
            "3      0.29\n",
            "4      0.29\n",
            "       ... \n",
            "100    0.24\n",
            "101    0.25\n",
            "102    0.25\n",
            "103    0.25\n",
            "104     NaN\n",
            "Name: Close, Length: 105, dtype: float64\n"
          ],
          "name": "stdout"
        },
        {
          "output_type": "execute_result",
          "data": {
            "text/html": [
              "<div>\n",
              "<style scoped>\n",
              "    .dataframe tbody tr th:only-of-type {\n",
              "        vertical-align: middle;\n",
              "    }\n",
              "\n",
              "    .dataframe tbody tr th {\n",
              "        vertical-align: top;\n",
              "    }\n",
              "\n",
              "    .dataframe thead th {\n",
              "        text-align: right;\n",
              "    }\n",
              "</style>\n",
              "<table border=\"1\" class=\"dataframe\">\n",
              "  <thead>\n",
              "    <tr style=\"text-align: right;\">\n",
              "      <th></th>\n",
              "      <th>SGRO.JK</th>\n",
              "      <th>TLKM.JK</th>\n",
              "      <th>MYOR.JK</th>\n",
              "      <th>PHJMF</th>\n",
              "    </tr>\n",
              "  </thead>\n",
              "  <tbody>\n",
              "    <tr>\n",
              "      <th>0</th>\n",
              "      <td>0.121881</td>\n",
              "      <td>0.256591</td>\n",
              "      <td>0.112579</td>\n",
              "      <td>0.31</td>\n",
              "    </tr>\n",
              "    <tr>\n",
              "      <th>1</th>\n",
              "      <td>0.121881</td>\n",
              "      <td>0.253384</td>\n",
              "      <td>0.112579</td>\n",
              "      <td>0.31</td>\n",
              "    </tr>\n",
              "    <tr>\n",
              "      <th>2</th>\n",
              "      <td>0.123485</td>\n",
              "      <td>0.245686</td>\n",
              "      <td>0.113221</td>\n",
              "      <td>0.31</td>\n",
              "    </tr>\n",
              "    <tr>\n",
              "      <th>3</th>\n",
              "      <td>0.127654</td>\n",
              "      <td>0.249535</td>\n",
              "      <td>0.112900</td>\n",
              "      <td>0.29</td>\n",
              "    </tr>\n",
              "    <tr>\n",
              "      <th>4</th>\n",
              "      <td>0.128296</td>\n",
              "      <td>0.253384</td>\n",
              "      <td>0.121881</td>\n",
              "      <td>0.29</td>\n",
              "    </tr>\n",
              "    <tr>\n",
              "      <th>...</th>\n",
              "      <td>...</td>\n",
              "      <td>...</td>\n",
              "      <td>...</td>\n",
              "      <td>...</td>\n",
              "    </tr>\n",
              "    <tr>\n",
              "      <th>99</th>\n",
              "      <td>0.149464</td>\n",
              "      <td>0.236064</td>\n",
              "      <td>0.163577</td>\n",
              "      <td>0.24</td>\n",
              "    </tr>\n",
              "    <tr>\n",
              "      <th>100</th>\n",
              "      <td>0.150106</td>\n",
              "      <td>0.235422</td>\n",
              "      <td>0.161011</td>\n",
              "      <td>0.24</td>\n",
              "    </tr>\n",
              "    <tr>\n",
              "      <th>101</th>\n",
              "      <td>0.153313</td>\n",
              "      <td>0.239271</td>\n",
              "      <td>0.166784</td>\n",
              "      <td>0.25</td>\n",
              "    </tr>\n",
              "    <tr>\n",
              "      <th>102</th>\n",
              "      <td>0.155879</td>\n",
              "      <td>0.241196</td>\n",
              "      <td>0.166784</td>\n",
              "      <td>0.25</td>\n",
              "    </tr>\n",
              "    <tr>\n",
              "      <th>103</th>\n",
              "      <td>0.152030</td>\n",
              "      <td>0.240554</td>\n",
              "      <td>0.168067</td>\n",
              "      <td>0.25</td>\n",
              "    </tr>\n",
              "  </tbody>\n",
              "</table>\n",
              "<p>104 rows × 4 columns</p>\n",
              "</div>"
            ],
            "text/plain": [
              "      SGRO.JK   TLKM.JK   MYOR.JK  PHJMF\n",
              "0    0.121881  0.256591  0.112579   0.31\n",
              "1    0.121881  0.253384  0.112579   0.31\n",
              "2    0.123485  0.245686  0.113221   0.31\n",
              "3    0.127654  0.249535  0.112900   0.29\n",
              "4    0.128296  0.253384  0.121881   0.29\n",
              "..        ...       ...       ...    ...\n",
              "99   0.149464  0.236064  0.163577   0.24\n",
              "100  0.150106  0.235422  0.161011   0.24\n",
              "101  0.153313  0.239271  0.166784   0.25\n",
              "102  0.155879  0.241196  0.166784   0.25\n",
              "103  0.152030  0.240554  0.168067   0.25\n",
              "\n",
              "[104 rows x 4 columns]"
            ]
          },
          "metadata": {
            "tags": []
          },
          "execution_count": 835
        }
      ]
    },
    {
      "cell_type": "code",
      "metadata": {
        "id": "HhgvIYlivXjL",
        "colab_type": "code",
        "outputId": "886cd4aa-cfa0-424a-fe99-4094423fbd7e",
        "colab": {
          "base_uri": "https://localhost:8080/",
          "height": 168
        }
      },
      "source": [
        "rho = dataset.corr().values\n",
        "dataset.corr()"
      ],
      "execution_count": 836,
      "outputs": [
        {
          "output_type": "execute_result",
          "data": {
            "text/html": [
              "<div>\n",
              "<style scoped>\n",
              "    .dataframe tbody tr th:only-of-type {\n",
              "        vertical-align: middle;\n",
              "    }\n",
              "\n",
              "    .dataframe tbody tr th {\n",
              "        vertical-align: top;\n",
              "    }\n",
              "\n",
              "    .dataframe thead th {\n",
              "        text-align: right;\n",
              "    }\n",
              "</style>\n",
              "<table border=\"1\" class=\"dataframe\">\n",
              "  <thead>\n",
              "    <tr style=\"text-align: right;\">\n",
              "      <th></th>\n",
              "      <th>SGRO.JK</th>\n",
              "      <th>TLKM.JK</th>\n",
              "      <th>MYOR.JK</th>\n",
              "      <th>PHJMF</th>\n",
              "    </tr>\n",
              "  </thead>\n",
              "  <tbody>\n",
              "    <tr>\n",
              "      <th>SGRO.JK</th>\n",
              "      <td>1.000000</td>\n",
              "      <td>-0.334599</td>\n",
              "      <td>0.489636</td>\n",
              "      <td>0.333151</td>\n",
              "    </tr>\n",
              "    <tr>\n",
              "      <th>TLKM.JK</th>\n",
              "      <td>-0.334599</td>\n",
              "      <td>1.000000</td>\n",
              "      <td>-0.727860</td>\n",
              "      <td>0.163095</td>\n",
              "    </tr>\n",
              "    <tr>\n",
              "      <th>MYOR.JK</th>\n",
              "      <td>0.489636</td>\n",
              "      <td>-0.727860</td>\n",
              "      <td>1.000000</td>\n",
              "      <td>-0.229313</td>\n",
              "    </tr>\n",
              "    <tr>\n",
              "      <th>PHJMF</th>\n",
              "      <td>0.333151</td>\n",
              "      <td>0.163095</td>\n",
              "      <td>-0.229313</td>\n",
              "      <td>1.000000</td>\n",
              "    </tr>\n",
              "  </tbody>\n",
              "</table>\n",
              "</div>"
            ],
            "text/plain": [
              "          SGRO.JK   TLKM.JK   MYOR.JK     PHJMF\n",
              "SGRO.JK  1.000000 -0.334599  0.489636  0.333151\n",
              "TLKM.JK -0.334599  1.000000 -0.727860  0.163095\n",
              "MYOR.JK  0.489636 -0.727860  1.000000 -0.229313\n",
              "PHJMF    0.333151  0.163095 -0.229313  1.000000"
            ]
          },
          "metadata": {
            "tags": []
          },
          "execution_count": 836
        }
      ]
    },
    {
      "cell_type": "code",
      "metadata": {
        "id": "BfnZHz8vxkW6",
        "colab_type": "code",
        "outputId": "4e995b9d-0ad8-45a8-cace-e4ec0938acf3",
        "colab": {
          "base_uri": "https://localhost:8080/",
          "height": 55
        }
      },
      "source": [
        "\"\"\"import numpy as np\n",
        "#print(type(dataset.corr()))\n",
        "list_corr = []\n",
        "for x in dataset:\n",
        "  print(type(dataset.corr()[x]))\n",
        "  #print(dataset[x].corr())\n",
        "  #list_corr.append(dataset[x].corr().tolist())\n",
        "  #print(dataset.corr()[x].tolist())\n",
        "#rho = np.array(list_corr)\n",
        "#print(rho)\"\"\""
      ],
      "execution_count": 837,
      "outputs": [
        {
          "output_type": "execute_result",
          "data": {
            "text/plain": [
              "'import numpy as np\\n#print(type(dataset.corr()))\\nlist_corr = []\\nfor x in dataset:\\n  print(type(dataset.corr()[x]))\\n  #print(dataset[x].corr())\\n  #list_corr.append(dataset[x].corr().tolist())\\n  #print(dataset.corr()[x].tolist())\\n#rho = np.array(list_corr)\\n#print(rho)'"
            ]
          },
          "metadata": {
            "tags": []
          },
          "execution_count": 837
        }
      ]
    },
    {
      "cell_type": "code",
      "metadata": {
        "id": "X0zv2wL_14cF",
        "colab_type": "code",
        "outputId": "502bf430-e9be-4a4c-dc0d-56e6067797de",
        "colab": {
          "base_uri": "https://localhost:8080/",
          "height": 78
        }
      },
      "source": [
        "import statistics as st\n",
        "var = []\n",
        "for x in kode_saham :\n",
        "  tmp = dataset[x].tolist()\n",
        "  #print(tmp)\n",
        "  var.append(st.variance(tmp))\n",
        "#print(var)\n",
        "df_var = pd.DataFrame([var])\n",
        "df_var.columns = kode_saham\n",
        "df_var"
      ],
      "execution_count": 838,
      "outputs": [
        {
          "output_type": "execute_result",
          "data": {
            "text/html": [
              "<div>\n",
              "<style scoped>\n",
              "    .dataframe tbody tr th:only-of-type {\n",
              "        vertical-align: middle;\n",
              "    }\n",
              "\n",
              "    .dataframe tbody tr th {\n",
              "        vertical-align: top;\n",
              "    }\n",
              "\n",
              "    .dataframe thead th {\n",
              "        text-align: right;\n",
              "    }\n",
              "</style>\n",
              "<table border=\"1\" class=\"dataframe\">\n",
              "  <thead>\n",
              "    <tr style=\"text-align: right;\">\n",
              "      <th></th>\n",
              "      <th>SGRO.JK</th>\n",
              "      <th>TLKM.JK</th>\n",
              "      <th>MYOR.JK</th>\n",
              "      <th>PHJMF</th>\n",
              "    </tr>\n",
              "  </thead>\n",
              "  <tbody>\n",
              "    <tr>\n",
              "      <th>0</th>\n",
              "      <td>0.000179</td>\n",
              "      <td>0.000603</td>\n",
              "      <td>0.000651</td>\n",
              "      <td>0.001039</td>\n",
              "    </tr>\n",
              "  </tbody>\n",
              "</table>\n",
              "</div>"
            ],
            "text/plain": [
              "    SGRO.JK   TLKM.JK   MYOR.JK     PHJMF\n",
              "0  0.000179  0.000603  0.000651  0.001039"
            ]
          },
          "metadata": {
            "tags": []
          },
          "execution_count": 838
        }
      ]
    },
    {
      "cell_type": "markdown",
      "metadata": {
        "id": "0OKx_5ia6Ij4",
        "colab_type": "text"
      },
      "source": [
        "\n",
        "# Multi sekuritas\n"
      ]
    },
    {
      "cell_type": "code",
      "metadata": {
        "id": "_IjEA--Wo34f",
        "colab_type": "code",
        "outputId": "ad94b163-ab9a-4c0d-dc68-3d0c231233fa",
        "colab": {
          "base_uri": "https://localhost:8080/",
          "height": 55
        }
      },
      "source": [
        "import numpy as np\n",
        "\n",
        "std_dev = []\n",
        "for i in var :\n",
        "  std_dev.append(np.sqrt(i))\n",
        "n = len(std_dev)\n",
        "\n",
        "u = np.ones(n)\n",
        "\"\"\"#print(u)\n",
        "#rho = np.zeros((n,n))\n",
        "#rho[0][1] = 0.1\n",
        "\n",
        "#rho[0][2] = 0.2\n",
        "#rho[0][3] = 0.2\n",
        "#rho[0][4] = 0.2\n",
        "#rho[1][2] = 0.2\n",
        "#rho[1][3] = 0.2\n",
        "#rho[1][4] = 0.2\n",
        "#rho[2][3] = 0.2\n",
        "#rho[2][4] = 0.2\n",
        "#rho[3][4] = 0.2\n",
        "\n",
        "for i in range(n) :\n",
        "  for j in range(n) :\n",
        "    if j == i :\n",
        "      rho[i][j] = 1\n",
        "    elif j < i :\n",
        "      rho[i][j] = rho[j][i]\n",
        "print(rho)\"\"\""
      ],
      "execution_count": 839,
      "outputs": [
        {
          "output_type": "execute_result",
          "data": {
            "text/plain": [
              "'#print(u)\\n#rho = np.zeros((n,n))\\n#rho[0][1] = 0.1\\n\\n#rho[0][2] = 0.2\\n#rho[0][3] = 0.2\\n#rho[0][4] = 0.2\\n#rho[1][2] = 0.2\\n#rho[1][3] = 0.2\\n#rho[1][4] = 0.2\\n#rho[2][3] = 0.2\\n#rho[2][4] = 0.2\\n#rho[3][4] = 0.2\\n\\nfor i in range(n) :\\n  for j in range(n) :\\n    if j == i :\\n      rho[i][j] = 1\\n    elif j < i :\\n      rho[i][j] = rho[j][i]\\nprint(rho)'"
            ]
          },
          "metadata": {
            "tags": []
          },
          "execution_count": 839
        }
      ]
    },
    {
      "cell_type": "code",
      "metadata": {
        "id": "tjfy_FW2FPW8",
        "colab_type": "code",
        "outputId": "d6ba0e42-a1e7-4044-983e-df9b1563600b",
        "colab": {
          "base_uri": "https://localhost:8080/",
          "height": 72
        }
      },
      "source": [
        "\n",
        "\n",
        "def is_short_selling(rho,std_dev):\n",
        "  n = len(rho)\n",
        "  print(n)\n",
        "  check = False\n",
        "  #rho = rho.sort()\n",
        "  #std_Dev =std_dev.sort()\n",
        "  sahamnya = []\n",
        "  for i in range(n):\n",
        "    for j in range(n):\n",
        "      if i < j :\n",
        "        x = std_dev[i]/std_dev[j]\n",
        "        #print(rho[i][j])\n",
        "        if rho[i][j] > x :\n",
        "          check =True\n",
        "          sahamnya.append([kode_saham[i],kode_saham[j]])\n",
        "    \n",
        "  return [check,sahamnya]\n",
        "\n",
        "if(is_short_selling(rho,std_dev)[0]) :\n",
        "  short = {}\n",
        "  list_short = is_short_selling(rho,std_dev)[1]\n",
        "  print(list_short)\n",
        "  for i in list_short :\n",
        "    x = i[0]\n",
        "    y = i[1]\n",
        "    if x not in short.keys():\n",
        "      short[x] =1\n",
        "    else :\n",
        "      short[x] += 1\n",
        "    \n",
        "    if y not in short.keys():\n",
        "      short[y] = 1\n",
        "    else :\n",
        "      short[y] += 1\n",
        "  print(short)\n",
        "else :\n",
        "  print(\"aman\")\n",
        "  print(kode_saham)"
      ],
      "execution_count": 840,
      "outputs": [
        {
          "output_type": "stream",
          "text": [
            "4\n",
            "aman\n",
            "['SGRO.JK', 'TLKM.JK', 'MYOR.JK', 'PHJMF']\n"
          ],
          "name": "stdout"
        }
      ]
    },
    {
      "cell_type": "code",
      "metadata": {
        "id": "0vEXEjumtGQF",
        "colab_type": "code",
        "outputId": "0a46d427-ee8c-4947-804b-3f837bd835f6",
        "colab": {
          "base_uri": "https://localhost:8080/",
          "height": 90
        }
      },
      "source": [
        "C = (np.zeros((n,n)))\n",
        "\n",
        "for i in range(n):\n",
        "  for j in range(n) :\n",
        "    C[i][j] = std_dev[i]*rho[i][j]*std_dev[j]\n",
        "print(C)"
      ],
      "execution_count": 841,
      "outputs": [
        {
          "output_type": "stream",
          "text": [
            "[[ 0.00017878 -0.00010986  0.00016706  0.00014357]\n",
            " [-0.00010986  0.00060295 -0.00045606  0.00012908]\n",
            " [ 0.00016706 -0.00045606  0.00065112 -0.0001886 ]\n",
            " [ 0.00014357  0.00012908 -0.0001886   0.00103883]]\n"
          ],
          "name": "stdout"
        }
      ]
    },
    {
      "cell_type": "code",
      "metadata": {
        "id": "3hwGZW6iwQNH",
        "colab_type": "code",
        "outputId": "2996f8f6-0dce-4a58-e05e-ff817b9a2904",
        "colab": {
          "base_uri": "https://localhost:8080/",
          "height": 35
        }
      },
      "source": [
        "from numpy.linalg import inv\n",
        "from numpy.linalg import det\n",
        "u = np.ones(n)\n",
        "uT = np.transpose(u)\n",
        "\n",
        "CInv = inv(C)\n",
        "\n",
        "w = np.dot(u,CInv)/(u.dot(CInv).dot(uT))\n",
        "print(w)"
      ],
      "execution_count": 842,
      "outputs": [
        {
          "output_type": "stream",
          "text": [
            "[0.29257272 0.38010811 0.298626   0.02869317]\n"
          ],
          "name": "stdout"
        }
      ]
    },
    {
      "cell_type": "code",
      "metadata": {
        "id": "DdcSSGjLwYzR",
        "colab_type": "code",
        "outputId": "74e4bc1b-af16-4d76-8766-c372572454a5",
        "colab": {
          "base_uri": "https://localhost:8080/",
          "height": 35
        }
      },
      "source": [
        "#w = np.array([0.3,0.4])\n",
        "wT = np.transpose(w)\n",
        "x = np.dot(u,wT)\n",
        "print(\"jumlah w = \",x)"
      ],
      "execution_count": 816,
      "outputs": [
        {
          "output_type": "stream",
          "text": [
            "jumlah w =  1.0\n"
          ],
          "name": "stdout"
        }
      ]
    },
    {
      "cell_type": "code",
      "metadata": {
        "id": "uF0PiR3x5IyE",
        "colab_type": "code",
        "outputId": "0fa1de31-caf4-41b4-8291-e1ae9984db97",
        "colab": {
          "base_uri": "https://localhost:8080/",
          "height": 35
        }
      },
      "source": [
        "risk = w.dot(C).dot(wT)\n",
        "print(round(risk,4))"
      ],
      "execution_count": 817,
      "outputs": [
        {
          "output_type": "stream",
          "text": [
            "0.0002\n"
          ],
          "name": "stdout"
        }
      ]
    },
    {
      "cell_type": "markdown",
      "metadata": {
        "id": "2lPrbuwozieS",
        "colab_type": "text"
      },
      "source": [
        "Expected return saham\n"
      ]
    },
    {
      "cell_type": "code",
      "metadata": {
        "id": "oNcz2cigzlnm",
        "colab_type": "code",
        "colab": {}
      },
      "source": [
        "import math\n",
        "def find_ud(saham) :\n",
        "  K = []\n",
        "  \n",
        "  \n",
        "  for i in range(len(saham)-1) :\n",
        "    x = (saham[i+1]-saham[i])/saham[i]\n",
        "    K.append(x)\n",
        "  up = []\n",
        "  down = []\n",
        "\n",
        "  for i in K :\n",
        "    if i > 0 :\n",
        "      x = 1\n",
        "      y = 0\n",
        "    else :\n",
        "      x = 0\n",
        "      y = 1\n",
        "    up.append(x)\n",
        "    down.append(y)\n",
        "  \n",
        "  x_up = 1\n",
        "  x_down = 1\n",
        "\n",
        "  sum_u = 0\n",
        "  sum_d = 0\n",
        "\n",
        "  for i in range(len(K)) :\n",
        "    x_up += K[i]*up[i]\n",
        "    sum_u += up[i]\n",
        "    x_down += K[i]*down[i]\n",
        "    sum_d += down[i]\n",
        "  \n",
        "  u = x_up/sum_u\n",
        "  d = x_up/sum_d\n",
        "\n",
        "  p = sum_u/(sum_u+sum_d)\n",
        "  q = 1-p\n",
        "\n",
        "  result = {\"u\" : u, \"d\" : d,\"p\":p,\"q\":q}\n",
        "  \n",
        "  return result"
      ],
      "execution_count": 0,
      "outputs": []
    },
    {
      "cell_type": "code",
      "metadata": {
        "id": "X3FpZ9MCFsy0",
        "colab_type": "code",
        "colab": {}
      },
      "source": [
        "def return_saham(df_saham) :\n",
        "  result = {}\n",
        "  for saham in df_saham :\n",
        "    x = find_ud(df_saham[saham])\n",
        "    exp = (x[\"u\"]*x[\"p\"])+(x[\"d\"]*x[\"q\"])\n",
        "    result[saham] = exp\n",
        "  return result"
      ],
      "execution_count": 0,
      "outputs": []
    },
    {
      "cell_type": "code",
      "metadata": {
        "id": "tL_NXG_aIZSq",
        "colab_type": "code",
        "colab": {}
      },
      "source": [
        "return_ = return_saham(dataset)\n",
        "m = []\n",
        "for saham in return_ :\n",
        "  m.append(return_[saham])"
      ],
      "execution_count": 0,
      "outputs": []
    },
    {
      "cell_type": "code",
      "metadata": {
        "id": "UIsKSW8z4Gac",
        "colab_type": "code",
        "outputId": "f414c34a-099b-4f78-824c-5fd47443b0c2",
        "colab": {
          "base_uri": "https://localhost:8080/",
          "height": 168
        }
      },
      "source": [
        "\n",
        "import pandas as pd\n",
        "\n",
        "m = np.array(m)\n",
        "print(m)\n",
        "EK = m.dot(wT)\n",
        "print(\"ekspektasi return = \", EK)\n",
        "risk = w.dot(C).dot(wT)\n",
        "print(\"risk = \",risk)\n",
        "\n",
        "portfolio=[round(x,4) for x in w]\n",
        "portfolio.append(EK)\n",
        "portfolio.append(risk)\n",
        "print(portfolio)\n",
        "\n",
        "df_port = pd.DataFrame([portfolio])\n",
        "column = kode_saham\n",
        "print(kode_saham)\n",
        "column.append(\"Expected Return\")\n",
        "column.append(\"Risiko\")\n",
        "df_port.columns = column\n",
        "df_port"
      ],
      "execution_count": 805,
      "outputs": [
        {
          "output_type": "stream",
          "text": [
            "[0.0321097  0.03328877]\n",
            "ekspektasi return =  0.0321543168663123\n",
            "risk =  0.0001774499825507187\n",
            "[0.9622, 0.0378, 0.0321543168663123, 0.0001774499825507187]\n",
            "['PHJMF', 'SGRO.JK']\n"
          ],
          "name": "stdout"
        },
        {
          "output_type": "execute_result",
          "data": {
            "text/html": [
              "<div>\n",
              "<style scoped>\n",
              "    .dataframe tbody tr th:only-of-type {\n",
              "        vertical-align: middle;\n",
              "    }\n",
              "\n",
              "    .dataframe tbody tr th {\n",
              "        vertical-align: top;\n",
              "    }\n",
              "\n",
              "    .dataframe thead th {\n",
              "        text-align: right;\n",
              "    }\n",
              "</style>\n",
              "<table border=\"1\" class=\"dataframe\">\n",
              "  <thead>\n",
              "    <tr style=\"text-align: right;\">\n",
              "      <th></th>\n",
              "      <th>PHJMF</th>\n",
              "      <th>SGRO.JK</th>\n",
              "      <th>Expected Return</th>\n",
              "      <th>Risiko</th>\n",
              "    </tr>\n",
              "  </thead>\n",
              "  <tbody>\n",
              "    <tr>\n",
              "      <th>0</th>\n",
              "      <td>0.9622</td>\n",
              "      <td>0.0378</td>\n",
              "      <td>0.032154</td>\n",
              "      <td>0.000177</td>\n",
              "    </tr>\n",
              "  </tbody>\n",
              "</table>\n",
              "</div>"
            ],
            "text/plain": [
              "    PHJMF  SGRO.JK  Expected Return    Risiko\n",
              "0  0.9622   0.0378         0.032154  0.000177"
            ]
          },
          "metadata": {
            "tags": []
          },
          "execution_count": 805
        }
      ]
    },
    {
      "cell_type": "code",
      "metadata": {
        "id": "To2paLsJ5Eny",
        "colab_type": "code",
        "outputId": "3c5c5eb0-ee79-4ece-f652-442d9df5e7b7",
        "colab": {
          "base_uri": "https://localhost:8080/",
          "height": 53
        }
      },
      "source": [
        "mT = np.transpose(m)\n",
        "e_r = EK\n",
        "w_new = []\n",
        "list_EK = []\n",
        "for i in range(4) :\n",
        "  e_r *= 1.02\n",
        "  list_EK.append(e_r)\n",
        "  \n",
        "  matA = np.dot(u,(CInv))\n",
        "  matB = np.dot(m,(CInv))\n",
        "  mat1 = u.dot(CInv).dot(mT)\n",
        "  mat2 = m.dot(CInv).dot(mT)\n",
        "  mat3 = u.dot(CInv).dot(uT)\n",
        "  mat4 = m.dot(CInv).dot(uT)\n",
        "\n",
        "  A1 = np.array([[1,mat1],[e_r,mat2]]) \n",
        "  A2 = np.array([[mat3,1],[mat4,e_r]])\n",
        "  A3 = np.array([[mat3,mat1],[mat4,mat2]])\n",
        "\n",
        "  det1 = det([[1,mat1],[e_r,mat2]])\n",
        "  det2 = det([[mat3,1],[mat4,e_r]])\n",
        "  det3 = det([[mat3,mat1],[mat4,mat2]])\n",
        "  w = ((det1*matA)+(det2*matB))/det3\n",
        "  w_new.append(w)\n",
        "print(w_new)\n",
        "print(list_EK)"
      ],
      "execution_count": 806,
      "outputs": [
        {
          "output_type": "stream",
          "text": [
            "[array([0.41673928, 0.58326072]), array([-0.13959004,  1.13959004]), array([-0.70704594,  1.70704594]), array([-1.28585096,  2.28585096])]\n",
            "[0.032797403203638546, 0.03345335126771132, 0.034122418293065546, 0.034804866658926854]\n"
          ],
          "name": "stdout"
        }
      ]
    },
    {
      "cell_type": "code",
      "metadata": {
        "id": "jxCVYqtkwC-K",
        "colab_type": "code",
        "outputId": "cec2e9dc-b392-4a87-fcd8-f063db3bb453",
        "colab": {
          "base_uri": "https://localhost:8080/",
          "height": 236
        }
      },
      "source": [
        "list_bobot = []\n",
        "i = 0\n",
        "for bobot in w_new :\n",
        "  tmp = []\n",
        "  wT = np.transpose(bobot)\n",
        "  risk = bobot.dot(C).dot(wT)\n",
        "  for x in bobot :\n",
        "    tmp.append(x)\n",
        "  tmp.append(list_EK[i])\n",
        "  tmp.append(risk)\n",
        "  list_bobot.append(tmp)\n",
        "  i+=1\n",
        "print(list_bobot)\n",
        "\n",
        "df = pd.DataFrame(list_bobot)\n",
        "df.columns = column\n",
        "df_tmp =df_port\n",
        "new_df = df_tmp.append(df,ignore_index=True)\n",
        "new_df"
      ],
      "execution_count": 807,
      "outputs": [
        {
          "output_type": "stream",
          "text": [
            "[[0.41673927741725064, 0.5832607225828373, 0.032797403203638546, 0.00045424698088082616], [-0.13959003847697488, 1.1395900384767532, 0.03345335126771132, 0.001306892454536699], [-0.7070459406882814, 1.7070459406885805, 0.034122418293065546, 0.002769943999453812], [-1.2858509609447204, 2.2858509609446043, 0.034804866658926854, 0.004879581204792964]]\n"
          ],
          "name": "stdout"
        },
        {
          "output_type": "execute_result",
          "data": {
            "text/html": [
              "<div>\n",
              "<style scoped>\n",
              "    .dataframe tbody tr th:only-of-type {\n",
              "        vertical-align: middle;\n",
              "    }\n",
              "\n",
              "    .dataframe tbody tr th {\n",
              "        vertical-align: top;\n",
              "    }\n",
              "\n",
              "    .dataframe thead th {\n",
              "        text-align: right;\n",
              "    }\n",
              "</style>\n",
              "<table border=\"1\" class=\"dataframe\">\n",
              "  <thead>\n",
              "    <tr style=\"text-align: right;\">\n",
              "      <th></th>\n",
              "      <th>PHJMF</th>\n",
              "      <th>SGRO.JK</th>\n",
              "      <th>Expected Return</th>\n",
              "      <th>Risiko</th>\n",
              "    </tr>\n",
              "  </thead>\n",
              "  <tbody>\n",
              "    <tr>\n",
              "      <th>0</th>\n",
              "      <td>0.962200</td>\n",
              "      <td>0.037800</td>\n",
              "      <td>0.032154</td>\n",
              "      <td>0.000177</td>\n",
              "    </tr>\n",
              "    <tr>\n",
              "      <th>1</th>\n",
              "      <td>0.416739</td>\n",
              "      <td>0.583261</td>\n",
              "      <td>0.032797</td>\n",
              "      <td>0.000454</td>\n",
              "    </tr>\n",
              "    <tr>\n",
              "      <th>2</th>\n",
              "      <td>-0.139590</td>\n",
              "      <td>1.139590</td>\n",
              "      <td>0.033453</td>\n",
              "      <td>0.001307</td>\n",
              "    </tr>\n",
              "    <tr>\n",
              "      <th>3</th>\n",
              "      <td>-0.707046</td>\n",
              "      <td>1.707046</td>\n",
              "      <td>0.034122</td>\n",
              "      <td>0.002770</td>\n",
              "    </tr>\n",
              "    <tr>\n",
              "      <th>4</th>\n",
              "      <td>-1.285851</td>\n",
              "      <td>2.285851</td>\n",
              "      <td>0.034805</td>\n",
              "      <td>0.004880</td>\n",
              "    </tr>\n",
              "  </tbody>\n",
              "</table>\n",
              "</div>"
            ],
            "text/plain": [
              "      PHJMF   SGRO.JK  Expected Return    Risiko\n",
              "0  0.962200  0.037800         0.032154  0.000177\n",
              "1  0.416739  0.583261         0.032797  0.000454\n",
              "2 -0.139590  1.139590         0.033453  0.001307\n",
              "3 -0.707046  1.707046         0.034122  0.002770\n",
              "4 -1.285851  2.285851         0.034805  0.004880"
            ]
          },
          "metadata": {
            "tags": []
          },
          "execution_count": 807
        }
      ]
    },
    {
      "cell_type": "code",
      "metadata": {
        "id": "YnqVeJBFzjft",
        "colab_type": "code",
        "outputId": "63c24ed5-7386-45fe-a915-1f4e4e13110a",
        "colab": {
          "base_uri": "https://localhost:8080/",
          "height": 279
        }
      },
      "source": [
        "import matplotlib.pyplot as plt\n",
        "\n",
        "y = new_df[\"Expected Return\"]\n",
        "x = new_df[\"Risiko\"]\n",
        "\n",
        "plt.plot(x,y)\n",
        "plt.scatter(x,y)\n",
        "plt.xlabel(\"Expected Return\")\n",
        "plt.ylabel(\"Risiko\")\n",
        "plt.show()"
      ],
      "execution_count": 708,
      "outputs": [
        {
          "output_type": "display_data",
          "data": {
            "image/png": "[encoded data removed]",
            "text/plain": [
              "<Figure size 432x288 with 1 Axes>"
            ]
          },
          "metadata": {
            "tags": [],
            "needs_background": "light"
          }
        }
      ]
    },
    {
      "cell_type": "code",
      "metadata": {
        "id": "AmDqZ4n6rSwT",
        "colab_type": "code",
        "colab": {}
      },
      "source": [
        ""
      ],
      "execution_count": 0,
      "outputs": []
    }
  ]
}