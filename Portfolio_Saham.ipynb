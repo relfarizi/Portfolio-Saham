{
  "nbformat": 4,
  "nbformat_minor": 0,
  "metadata": {
    "colab": {
      "name": "Portfolio Saham.ipynb",
      "provenance": [],
      "collapsed_sections": [],
      "include_colab_link": true
    },
    "kernelspec": {
      "name": "python3",
      "display_name": "Python 3"
    }
  },
  "cells": [
    {
      "cell_type": "markdown",
      "metadata": {
        "id": "view-in-github",
        "colab_type": "text"
      },
      "source": [
        "<a href=\"https://colab.research.google.com/github/relfarizi/Portfolio-Saham/blob/master/Portfolio_Saham.ipynb\" target=\"_parent\"><img src=\"https://colab.research.google.com/assets/colab-badge.svg\" alt=\"Open In Colab\"/></a>"
      ]
    },
    {
      "cell_type": "markdown",
      "metadata": {
        "id": "WHvsDaqQBWz2",
        "colab_type": "text"
      },
      "source": [
        "# Portofolio Saham\n",
        "Buat portofolio minimal terdiri dari 5 buah saham. Portofolio dibangun berdasarjan data historis saham mingguan (weekly). Minimal data yang digunakan adalah 2 tahun (2017 sampai 2018)"
      ]
    },
    {
      "cell_type": "markdown",
      "metadata": {
        "id": "IyP4QRhtch0F",
        "colab_type": "text"
      },
      "source": [
        "## Load Data"
      ]
    },
    {
      "cell_type": "markdown",
      "metadata": {
        "id": "FlHyIcX-B8QB",
        "colab_type": "text"
      },
      "source": [
        "### Data Saham"
      ]
    },
    {
      "cell_type": "code",
      "metadata": {
        "id": "UekvxCwzchSo",
        "colab_type": "code",
        "outputId": "1a9f9b82-9e4c-4814-b016-876b540ebcc6",
        "colab": {
          "base_uri": "https://localhost:8080/",
          "height": 406
        }
      },
      "source": [
        "import pandas as pd\n",
        "import regex as re\n",
        "\"\"\"\n",
        "kode_saham = [\"AAPL\",\"BA\",\"BATA.JK\",\"BKRKF\",\"CSCO\",\"IBM\",\n",
        "              \"TLKMF\",\"AKPI.JK\",\"INTC\",\"MSFT\",\"NVDA\",\n",
        "              \"ORCL\",\"PBCRF\",\"PHJMF\",\"PTAIF\",\"SPR\"]\n",
        "\"\"\"\n",
        "\n",
        "#fix \n",
        "\"\"\"\n",
        "kode_saham = [\"BKRKF\",\n",
        "              \"TLKMF\",\n",
        "              \"PHJMF\"]\n",
        "\n",
        "\"\"\"\n",
        "# variansi besar\n",
        "#kode_saham = [\"AAPL\",\"BA\",\"BATA.JK\",\"AKPI.JK\",\"INTC\",\"MSFT\",\"NVDA\",\"ORCL\",\"CSCO\",\"IBM\",\"SPR\"]\n",
        "\n",
        "#kode_saham = [\"BATA.JK\",\"AKPI.JK\"]\n",
        "\n",
        "kode_saham =[\"SGRO.JK\",\"TLKM.JK\",\"INDR.JK\",\"PRDA.JK\",\"AKPI.JK\"]\n",
        "#kode_saham =[\"SGRO.JK\",\"PHJMF\"]\n",
        "kode_tmp = []\n",
        "sama = False\n",
        "for i in kode_saham :\n",
        "  if i in kode_tmp :\n",
        "    sama =  True\n",
        "    kodenya = i\n",
        "    break\n",
        "  else :\n",
        "      kode_tmp.append(i)\n",
        "\n",
        "if sama :\n",
        "  dataset = []\n",
        "  print(\"ada yang sama\", kodenya)\n",
        "else :\n",
        "  n = len(kode_saham)\n",
        "  github = \"https://raw.githubusercontent.com/relfarizi/Portfolio-Saham/master/Data/\"\n",
        "\n",
        "  df = []\n",
        "  for i in range(n) :\n",
        "    datas = pd.read_csv(github+kode_saham[i]+\".csv\")\n",
        "\n",
        "    if re.findall(\"adsad\",kode_saham[i]):\n",
        "      tmp = datas[\"Close\"].tolist()\n",
        "      data_tmp = convert_to_dollar(tmp)\n",
        "    else :\n",
        "      data_tmp =datas[\"Close\"]\n",
        "    df.append(pd.DataFrame(data_tmp))\n",
        "    #print(data_tmp.shape)\n",
        "  dataset = pd.concat(df, axis=1, sort=False)\n",
        "  dataset = dataset.dropna()\n",
        "  dataset.columns = kode_saham\n",
        "dataset"
      ],
      "execution_count": 58,
      "outputs": [
        {
          "output_type": "execute_result",
          "data": {
            "text/html": [
              "<div>\n",
              "<style scoped>\n",
              "    .dataframe tbody tr th:only-of-type {\n",
              "        vertical-align: middle;\n",
              "    }\n",
              "\n",
              "    .dataframe tbody tr th {\n",
              "        vertical-align: top;\n",
              "    }\n",
              "\n",
              "    .dataframe thead th {\n",
              "        text-align: right;\n",
              "    }\n",
              "</style>\n",
              "<table border=\"1\" class=\"dataframe\">\n",
              "  <thead>\n",
              "    <tr style=\"text-align: right;\">\n",
              "      <th></th>\n",
              "      <th>SGRO.JK</th>\n",
              "      <th>TLKM.JK</th>\n",
              "      <th>INDR.JK</th>\n",
              "      <th>PRDA.JK</th>\n",
              "      <th>AKPI.JK</th>\n",
              "    </tr>\n",
              "  </thead>\n",
              "  <tbody>\n",
              "    <tr>\n",
              "      <th>0</th>\n",
              "      <td>1900.0</td>\n",
              "      <td>4000.0</td>\n",
              "      <td>755.0</td>\n",
              "      <td>5725.0</td>\n",
              "      <td>885.0</td>\n",
              "    </tr>\n",
              "    <tr>\n",
              "      <th>1</th>\n",
              "      <td>1900.0</td>\n",
              "      <td>3950.0</td>\n",
              "      <td>755.0</td>\n",
              "      <td>5725.0</td>\n",
              "      <td>900.0</td>\n",
              "    </tr>\n",
              "    <tr>\n",
              "      <th>2</th>\n",
              "      <td>1925.0</td>\n",
              "      <td>3830.0</td>\n",
              "      <td>755.0</td>\n",
              "      <td>5500.0</td>\n",
              "      <td>990.0</td>\n",
              "    </tr>\n",
              "    <tr>\n",
              "      <th>3</th>\n",
              "      <td>1990.0</td>\n",
              "      <td>3890.0</td>\n",
              "      <td>730.0</td>\n",
              "      <td>5650.0</td>\n",
              "      <td>835.0</td>\n",
              "    </tr>\n",
              "    <tr>\n",
              "      <th>4</th>\n",
              "      <td>2000.0</td>\n",
              "      <td>3950.0</td>\n",
              "      <td>810.0</td>\n",
              "      <td>5525.0</td>\n",
              "      <td>800.0</td>\n",
              "    </tr>\n",
              "    <tr>\n",
              "      <th>...</th>\n",
              "      <td>...</td>\n",
              "      <td>...</td>\n",
              "      <td>...</td>\n",
              "      <td>...</td>\n",
              "      <td>...</td>\n",
              "    </tr>\n",
              "    <tr>\n",
              "      <th>100</th>\n",
              "      <td>2340.0</td>\n",
              "      <td>3670.0</td>\n",
              "      <td>6500.0</td>\n",
              "      <td>2060.0</td>\n",
              "      <td>720.0</td>\n",
              "    </tr>\n",
              "    <tr>\n",
              "      <th>101</th>\n",
              "      <td>2390.0</td>\n",
              "      <td>3730.0</td>\n",
              "      <td>6500.0</td>\n",
              "      <td>2240.0</td>\n",
              "      <td>750.0</td>\n",
              "    </tr>\n",
              "    <tr>\n",
              "      <th>102</th>\n",
              "      <td>2430.0</td>\n",
              "      <td>3760.0</td>\n",
              "      <td>6275.0</td>\n",
              "      <td>2300.0</td>\n",
              "      <td>700.0</td>\n",
              "    </tr>\n",
              "    <tr>\n",
              "      <th>103</th>\n",
              "      <td>2370.0</td>\n",
              "      <td>3750.0</td>\n",
              "      <td>5925.0</td>\n",
              "      <td>2280.0</td>\n",
              "      <td>700.0</td>\n",
              "    </tr>\n",
              "    <tr>\n",
              "      <th>104</th>\n",
              "      <td>2370.0</td>\n",
              "      <td>3750.0</td>\n",
              "      <td>5925.0</td>\n",
              "      <td>2280.0</td>\n",
              "      <td>700.0</td>\n",
              "    </tr>\n",
              "  </tbody>\n",
              "</table>\n",
              "<p>105 rows × 5 columns</p>\n",
              "</div>"
            ],
            "text/plain": [
              "     SGRO.JK  TLKM.JK  INDR.JK  PRDA.JK  AKPI.JK\n",
              "0     1900.0   4000.0    755.0   5725.0    885.0\n",
              "1     1900.0   3950.0    755.0   5725.0    900.0\n",
              "2     1925.0   3830.0    755.0   5500.0    990.0\n",
              "3     1990.0   3890.0    730.0   5650.0    835.0\n",
              "4     2000.0   3950.0    810.0   5525.0    800.0\n",
              "..       ...      ...      ...      ...      ...\n",
              "100   2340.0   3670.0   6500.0   2060.0    720.0\n",
              "101   2390.0   3730.0   6500.0   2240.0    750.0\n",
              "102   2430.0   3760.0   6275.0   2300.0    700.0\n",
              "103   2370.0   3750.0   5925.0   2280.0    700.0\n",
              "104   2370.0   3750.0   5925.0   2280.0    700.0\n",
              "\n",
              "[105 rows x 5 columns]"
            ]
          },
          "metadata": {
            "tags": []
          },
          "execution_count": 58
        }
      ]
    },
    {
      "cell_type": "markdown",
      "metadata": {
        "id": "-juBDgfnCMl2",
        "colab_type": "text"
      },
      "source": [
        "### Korelasi Saham"
      ]
    },
    {
      "cell_type": "code",
      "metadata": {
        "id": "HhgvIYlivXjL",
        "colab_type": "code",
        "outputId": "cffe579c-8d6d-4c74-fabe-c2fb270d4027",
        "colab": {
          "base_uri": "https://localhost:8080/",
          "height": 197
        }
      },
      "source": [
        "rho = dataset.corr().values\n",
        "dataset.corr()"
      ],
      "execution_count": 59,
      "outputs": [
        {
          "output_type": "execute_result",
          "data": {
            "text/html": [
              "<div>\n",
              "<style scoped>\n",
              "    .dataframe tbody tr th:only-of-type {\n",
              "        vertical-align: middle;\n",
              "    }\n",
              "\n",
              "    .dataframe tbody tr th {\n",
              "        vertical-align: top;\n",
              "    }\n",
              "\n",
              "    .dataframe thead th {\n",
              "        text-align: right;\n",
              "    }\n",
              "</style>\n",
              "<table border=\"1\" class=\"dataframe\">\n",
              "  <thead>\n",
              "    <tr style=\"text-align: right;\">\n",
              "      <th></th>\n",
              "      <th>SGRO.JK</th>\n",
              "      <th>TLKM.JK</th>\n",
              "      <th>INDR.JK</th>\n",
              "      <th>PRDA.JK</th>\n",
              "      <th>AKPI.JK</th>\n",
              "    </tr>\n",
              "  </thead>\n",
              "  <tbody>\n",
              "    <tr>\n",
              "      <th>SGRO.JK</th>\n",
              "      <td>1.000000</td>\n",
              "      <td>-0.336531</td>\n",
              "      <td>0.282667</td>\n",
              "      <td>-0.599204</td>\n",
              "      <td>-0.559313</td>\n",
              "    </tr>\n",
              "    <tr>\n",
              "      <th>TLKM.JK</th>\n",
              "      <td>-0.336531</td>\n",
              "      <td>1.000000</td>\n",
              "      <td>-0.647548</td>\n",
              "      <td>0.348964</td>\n",
              "      <td>0.244041</td>\n",
              "    </tr>\n",
              "    <tr>\n",
              "      <th>INDR.JK</th>\n",
              "      <td>0.282667</td>\n",
              "      <td>-0.647548</td>\n",
              "      <td>1.000000</td>\n",
              "      <td>-0.715454</td>\n",
              "      <td>-0.019710</td>\n",
              "    </tr>\n",
              "    <tr>\n",
              "      <th>PRDA.JK</th>\n",
              "      <td>-0.599204</td>\n",
              "      <td>0.348964</td>\n",
              "      <td>-0.715454</td>\n",
              "      <td>1.000000</td>\n",
              "      <td>0.189698</td>\n",
              "    </tr>\n",
              "    <tr>\n",
              "      <th>AKPI.JK</th>\n",
              "      <td>-0.559313</td>\n",
              "      <td>0.244041</td>\n",
              "      <td>-0.019710</td>\n",
              "      <td>0.189698</td>\n",
              "      <td>1.000000</td>\n",
              "    </tr>\n",
              "  </tbody>\n",
              "</table>\n",
              "</div>"
            ],
            "text/plain": [
              "          SGRO.JK   TLKM.JK   INDR.JK   PRDA.JK   AKPI.JK\n",
              "SGRO.JK  1.000000 -0.336531  0.282667 -0.599204 -0.559313\n",
              "TLKM.JK -0.336531  1.000000 -0.647548  0.348964  0.244041\n",
              "INDR.JK  0.282667 -0.647548  1.000000 -0.715454 -0.019710\n",
              "PRDA.JK -0.599204  0.348964 -0.715454  1.000000  0.189698\n",
              "AKPI.JK -0.559313  0.244041 -0.019710  0.189698  1.000000"
            ]
          },
          "metadata": {
            "tags": []
          },
          "execution_count": 59
        }
      ]
    },
    {
      "cell_type": "markdown",
      "metadata": {
        "id": "9b7BkVqBCSSp",
        "colab_type": "text"
      },
      "source": [
        "### Return Saham"
      ]
    },
    {
      "cell_type": "code",
      "metadata": {
        "id": "oNcz2cigzlnm",
        "colab_type": "code",
        "colab": {}
      },
      "source": [
        "import math\n",
        "def find_ud(saham) :\n",
        "  K = []\n",
        "  \n",
        "  \n",
        "  for i in range(len(saham)-1) :\n",
        "    x = (saham[i+1]-saham[i])/saham[i]\n",
        "    K.append(x)\n",
        "  up = []\n",
        "  down = []\n",
        "\n",
        "  for i in K :\n",
        "    if i > 0 :\n",
        "      x = 1\n",
        "      y = 0\n",
        "    else :\n",
        "      x = 0\n",
        "      y = 1\n",
        "    up.append(x)\n",
        "    down.append(y)\n",
        "  \n",
        "  x_up = 1\n",
        "  x_down = 1\n",
        "\n",
        "  sum_u = 0\n",
        "  sum_d = 0\n",
        "\n",
        "  for i in range(len(K)) :\n",
        "    x_up += K[i]*up[i]\n",
        "    sum_u += up[i]\n",
        "    x_down += K[i]*down[i]\n",
        "    sum_d += down[i]\n",
        "  \n",
        "  u = x_up/sum_u\n",
        "  d = x_up/sum_d\n",
        "\n",
        "  p = sum_u/(sum_u+sum_d)\n",
        "  q = 1-p\n",
        "\n",
        "  result = {\"u\" : u, \"d\" : d,\"p\":p,\"q\":q}\n",
        "  \n",
        "  return result"
      ],
      "execution_count": 0,
      "outputs": []
    },
    {
      "cell_type": "markdown",
      "metadata": {
        "id": "Oe3TNhJPCbQ9",
        "colab_type": "text"
      },
      "source": [
        "#### Ekspektasi Return Saham"
      ]
    },
    {
      "cell_type": "code",
      "metadata": {
        "id": "X3FpZ9MCFsy0",
        "colab_type": "code",
        "colab": {}
      },
      "source": [
        "def EK(df_saham) :\n",
        "  result = {}\n",
        "  for saham in df_saham :\n",
        "    x = find_ud(df_saham[saham])\n",
        "    exp = (x[\"u\"]*x[\"p\"])+(x[\"d\"]*x[\"q\"])\n",
        "    result[saham] = exp\n",
        "  return result"
      ],
      "execution_count": 0,
      "outputs": []
    },
    {
      "cell_type": "code",
      "metadata": {
        "id": "Z0TzJmy5KOcF",
        "colab_type": "code",
        "colab": {}
      },
      "source": [
        "def EK2(df_saham):\n",
        "  result = {}\n",
        "  for saham in df_saham :\n",
        "    x = find_ud(df_saham[saham])\n",
        "    exp = (pow(x[\"u\"],2)*x[\"p\"])+(pow(x[\"d\"],2)*x[\"q\"])\n",
        "    result[saham] = exp\n",
        "  return result"
      ],
      "execution_count": 0,
      "outputs": []
    },
    {
      "cell_type": "code",
      "metadata": {
        "id": "tL_NXG_aIZSq",
        "colab_type": "code",
        "outputId": "1332921f-7bfa-4a72-f13f-674a74a10a45",
        "colab": {
          "base_uri": "https://localhost:8080/",
          "height": 108
        }
      },
      "source": [
        "return_ = EK(dataset)\n",
        "m = []\n",
        "for saham in return_ :\n",
        "  m.append(return_[saham])\n",
        "m"
      ],
      "execution_count": 63,
      "outputs": [
        {
          "output_type": "execute_result",
          "data": {
            "text/plain": [
              "[0.03296868134461746,\n",
              " 0.04091493697375856,\n",
              " 0.12227147663783494,\n",
              " 0.039590996618599605,\n",
              " 0.07927717244725418]"
            ]
          },
          "metadata": {
            "tags": []
          },
          "execution_count": 63
        }
      ]
    },
    {
      "cell_type": "markdown",
      "metadata": {
        "id": "toe5rQetCoWI",
        "colab_type": "text"
      },
      "source": [
        "### Variansi Return Saham"
      ]
    },
    {
      "cell_type": "code",
      "metadata": {
        "id": "4hKxTuqTJayI",
        "colab_type": "code",
        "outputId": "4b184f3f-6780-4cc8-930b-4558d008ce27",
        "colab": {
          "base_uri": "https://localhost:8080/",
          "height": 78
        }
      },
      "source": [
        "def var(df_saham):\n",
        "  var = []\n",
        "  x = EK2(df_saham)\n",
        "  y = EK(df_saham)\n",
        "  result = []\n",
        "  for saham in df_saham :\n",
        "    tmp = x[saham] - pow(y[saham],2)\n",
        "    result.append(tmp) \n",
        "\n",
        "  return result\n",
        "\n",
        "var =var(dataset)\n",
        "df_var = pd.DataFrame([var])\n",
        "df_var.columns = kode_saham\n",
        "df_var"
      ],
      "execution_count": 64,
      "outputs": [
        {
          "output_type": "execute_result",
          "data": {
            "text/html": [
              "<div>\n",
              "<style scoped>\n",
              "    .dataframe tbody tr th:only-of-type {\n",
              "        vertical-align: middle;\n",
              "    }\n",
              "\n",
              "    .dataframe tbody tr th {\n",
              "        vertical-align: top;\n",
              "    }\n",
              "\n",
              "    .dataframe thead th {\n",
              "        text-align: right;\n",
              "    }\n",
              "</style>\n",
              "<table border=\"1\" class=\"dataframe\">\n",
              "  <thead>\n",
              "    <tr style=\"text-align: right;\">\n",
              "      <th></th>\n",
              "      <th>SGRO.JK</th>\n",
              "      <th>TLKM.JK</th>\n",
              "      <th>INDR.JK</th>\n",
              "      <th>PRDA.JK</th>\n",
              "      <th>AKPI.JK</th>\n",
              "    </tr>\n",
              "  </thead>\n",
              "  <tbody>\n",
              "    <tr>\n",
              "      <th>0</th>\n",
              "      <td>0.00001</td>\n",
              "      <td>0.00001</td>\n",
              "      <td>0.0007</td>\n",
              "      <td>0.000213</td>\n",
              "      <td>0.001529</td>\n",
              "    </tr>\n",
              "  </tbody>\n",
              "</table>\n",
              "</div>"
            ],
            "text/plain": [
              "   SGRO.JK  TLKM.JK  INDR.JK   PRDA.JK   AKPI.JK\n",
              "0  0.00001  0.00001   0.0007  0.000213  0.001529"
            ]
          },
          "metadata": {
            "tags": []
          },
          "execution_count": 64
        }
      ]
    },
    {
      "cell_type": "markdown",
      "metadata": {
        "id": "0OKx_5ia6Ij4",
        "colab_type": "text"
      },
      "source": [
        "\n",
        "## Multi sekuritas\n"
      ]
    },
    {
      "cell_type": "code",
      "metadata": {
        "id": "_IjEA--Wo34f",
        "colab_type": "code",
        "colab": {}
      },
      "source": [
        "import numpy as np\n",
        "\n",
        "std_dev = []\n",
        "for i in var :\n",
        "  std_dev.append(np.sqrt(i))\n",
        "n = len(std_dev)\n",
        "u = np.ones(n)"
      ],
      "execution_count": 0,
      "outputs": []
    },
    {
      "cell_type": "markdown",
      "metadata": {
        "id": "LW08CEuwC9ME",
        "colab_type": "text"
      },
      "source": [
        "#### Matrix C"
      ]
    },
    {
      "cell_type": "code",
      "metadata": {
        "id": "0vEXEjumtGQF",
        "colab_type": "code",
        "colab": {}
      },
      "source": [
        "C = (np.zeros((n,n)))\n",
        "\n",
        "for i in range(n):\n",
        "  for j in range(n) :\n",
        "    C[i][j] = std_dev[i]*rho[i][j]*std_dev[j]\n",
        "#print(C)"
      ],
      "execution_count": 0,
      "outputs": []
    },
    {
      "cell_type": "markdown",
      "metadata": {
        "id": "nBmBs7AKDA4i",
        "colab_type": "text"
      },
      "source": [
        "#### Mencari nilai Bobot (w)"
      ]
    },
    {
      "cell_type": "code",
      "metadata": {
        "id": "3hwGZW6iwQNH",
        "colab_type": "code",
        "outputId": "42f7ed87-58ae-4d77-a890-fb8ee34b032d",
        "colab": {
          "base_uri": "https://localhost:8080/",
          "height": 53
        }
      },
      "source": [
        "from numpy.linalg import inv\n",
        "from numpy.linalg import det\n",
        "u = np.ones(n)\n",
        "uT = np.transpose(u)\n",
        "\n",
        "CInv = inv(C)\n",
        "\n",
        "w = np.dot(u,CInv)/(u.dot(CInv).dot(uT))\n",
        "print(w)\n",
        "\n",
        "wT = np.transpose(w)\n",
        "x = np.dot(u,wT)\n",
        "print(\"jumlah w = \",x)"
      ],
      "execution_count": 67,
      "outputs": [
        {
          "output_type": "stream",
          "text": [
            "[0.4367525  0.3915877  0.05916053 0.10632968 0.00616958]\n",
            "jumlah w =  1.0\n"
          ],
          "name": "stdout"
        }
      ]
    },
    {
      "cell_type": "markdown",
      "metadata": {
        "id": "-CIJQcABDM5C",
        "colab_type": "text"
      },
      "source": [
        "#### Risiko Minimum Portfolio"
      ]
    },
    {
      "cell_type": "code",
      "metadata": {
        "id": "uF0PiR3x5IyE",
        "colab_type": "code",
        "outputId": "ab5778e8-0f50-4552-f665-ecc238c9eb7e",
        "colab": {
          "base_uri": "https://localhost:8080/",
          "height": 35
        }
      },
      "source": [
        "risk = w.dot(C).dot(wT)\n",
        "print(round(risk,6))"
      ],
      "execution_count": 68,
      "outputs": [
        {
          "output_type": "stream",
          "text": [
            "1e-06\n"
          ],
          "name": "stdout"
        }
      ]
    },
    {
      "cell_type": "markdown",
      "metadata": {
        "id": "2lPrbuwozieS",
        "colab_type": "text"
      },
      "source": [
        "Expected return saham\n"
      ]
    },
    {
      "cell_type": "code",
      "metadata": {
        "id": "UIsKSW8z4Gac",
        "colab_type": "code",
        "outputId": "369c3ab0-b7b7-4eab-a870-b8087f5d3537",
        "colab": {
          "base_uri": "https://localhost:8080/",
          "height": 96
        }
      },
      "source": [
        "\n",
        "import pandas as pd\n",
        "\n",
        "m = np.array(m)\n",
        "#print(m)\n",
        "EK = m.dot(wT)\n",
        "print(\"ekspektasi return = \", EK)\n",
        "\n",
        "portfolio=[round(x,4) for x in w]\n",
        "portfolio.append(EK)\n",
        "portfolio.append(risk)\n",
        "#print(portfolio)\n",
        "\n",
        "df_port = pd.DataFrame([portfolio])\n",
        "column = kode_saham\n",
        "#print(kode_saham)\n",
        "column.append(\"Expected Return\")\n",
        "column.append(\"Risiko\")\n",
        "df_port.columns = column\n",
        "df_port"
      ],
      "execution_count": 69,
      "outputs": [
        {
          "output_type": "stream",
          "text": [
            "ekspektasi return =  0.04235339064167913\n"
          ],
          "name": "stdout"
        },
        {
          "output_type": "execute_result",
          "data": {
            "text/html": [
              "<div>\n",
              "<style scoped>\n",
              "    .dataframe tbody tr th:only-of-type {\n",
              "        vertical-align: middle;\n",
              "    }\n",
              "\n",
              "    .dataframe tbody tr th {\n",
              "        vertical-align: top;\n",
              "    }\n",
              "\n",
              "    .dataframe thead th {\n",
              "        text-align: right;\n",
              "    }\n",
              "</style>\n",
              "<table border=\"1\" class=\"dataframe\">\n",
              "  <thead>\n",
              "    <tr style=\"text-align: right;\">\n",
              "      <th></th>\n",
              "      <th>SGRO.JK</th>\n",
              "      <th>TLKM.JK</th>\n",
              "      <th>INDR.JK</th>\n",
              "      <th>PRDA.JK</th>\n",
              "      <th>AKPI.JK</th>\n",
              "      <th>Expected Return</th>\n",
              "      <th>Risiko</th>\n",
              "    </tr>\n",
              "  </thead>\n",
              "  <tbody>\n",
              "    <tr>\n",
              "      <th>0</th>\n",
              "      <td>0.4368</td>\n",
              "      <td>0.3916</td>\n",
              "      <td>0.0592</td>\n",
              "      <td>0.1063</td>\n",
              "      <td>0.0062</td>\n",
              "      <td>0.042353</td>\n",
              "      <td>0.000001</td>\n",
              "    </tr>\n",
              "  </tbody>\n",
              "</table>\n",
              "</div>"
            ],
            "text/plain": [
              "   SGRO.JK  TLKM.JK  INDR.JK  PRDA.JK  AKPI.JK  Expected Return    Risiko\n",
              "0   0.4368   0.3916   0.0592   0.1063   0.0062         0.042353  0.000001"
            ]
          },
          "metadata": {
            "tags": []
          },
          "execution_count": 69
        }
      ]
    },
    {
      "cell_type": "code",
      "metadata": {
        "id": "To2paLsJ5Eny",
        "colab_type": "code",
        "colab": {}
      },
      "source": [
        "mT = np.transpose(m)\n",
        "e_r = EK\n",
        "w_new = []\n",
        "list_EK = []\n",
        "for i in range(4) :\n",
        "  e_r *= 1.5\n",
        "  list_EK.append(e_r)\n",
        "  \n",
        "  matA = np.dot(u,(CInv))\n",
        "  matB = np.dot(m,(CInv))\n",
        "  mat1 = u.dot(CInv).dot(mT)\n",
        "  mat2 = m.dot(CInv).dot(mT)\n",
        "  mat3 = u.dot(CInv).dot(uT)\n",
        "  mat4 = m.dot(CInv).dot(uT)\n",
        "\n",
        "  A1 = np.array([[1,mat1],[e_r,mat2]]) \n",
        "  A2 = np.array([[mat3,1],[mat4,e_r]])\n",
        "  A3 = np.array([[mat3,mat1],[mat4,mat2]])\n",
        "\n",
        "  det1 = det([[1,mat1],[e_r,mat2]])\n",
        "  det2 = det([[mat3,1],[mat4,e_r]])\n",
        "  det3 = det([[mat3,mat1],[mat4,mat2]])\n",
        "  w = ((det1*matA)+(det2*matB))/det3\n",
        "  w_new.append(w)\n",
        "#print(w_new)\n",
        "#print(list_EK)"
      ],
      "execution_count": 0,
      "outputs": []
    },
    {
      "cell_type": "code",
      "metadata": {
        "id": "jxCVYqtkwC-K",
        "colab_type": "code",
        "outputId": "3afacd47-6de0-47bc-f764-15d3109221cd",
        "colab": {
          "base_uri": "https://localhost:8080/",
          "height": 236
        }
      },
      "source": [
        "list_bobot = []\n",
        "i = 0\n",
        "for bobot in w_new :\n",
        "  tmp = []\n",
        "  wT = np.transpose(bobot)\n",
        "  risk = bobot.dot(C).dot(wT)\n",
        "  for x in bobot :\n",
        "    tmp.append(x)\n",
        "  tmp.append(list_EK[i])\n",
        "  tmp.append(risk)\n",
        "  list_bobot.append(tmp)\n",
        "  i+=1\n",
        "print(list_bobot)\n",
        "\n",
        "df = pd.DataFrame(list_bobot)\n",
        "df.columns = column\n",
        "df_tmp =df_port\n",
        "new_df = df_tmp.append(df,ignore_index=True)\n",
        "new_df"
      ],
      "execution_count": 78,
      "outputs": [
        {
          "output_type": "stream",
          "text": [
            "[[-0.4405408962812911, 1.0103516837733697, 0.25450042263910677, 0.2099116347242398, -0.03422284485539286, 0.06353008596251869, 1.5590775207607807e-05], [-1.756480996578454, 1.9384976523571291, 0.5475102589203346, 0.36528456112802976, -0.09481147582707143, 0.09529512894377803, 9.155801151233651e-05], [-3.7303911470241746, 3.3307166052327966, 0.9870250133421796, 0.5983439507337183, -0.18569442228458913, 0.14294269341566707, 0.0003275990671734581], [-6.691256372692603, 5.419045034546433, 1.64629714497497, 0.9479330351422962, -0.32201884197086333, 0.2144140401235006, 0.0009563636033742077]]\n"
          ],
          "name": "stdout"
        },
        {
          "output_type": "execute_result",
          "data": {
            "text/html": [
              "<div>\n",
              "<style scoped>\n",
              "    .dataframe tbody tr th:only-of-type {\n",
              "        vertical-align: middle;\n",
              "    }\n",
              "\n",
              "    .dataframe tbody tr th {\n",
              "        vertical-align: top;\n",
              "    }\n",
              "\n",
              "    .dataframe thead th {\n",
              "        text-align: right;\n",
              "    }\n",
              "</style>\n",
              "<table border=\"1\" class=\"dataframe\">\n",
              "  <thead>\n",
              "    <tr style=\"text-align: right;\">\n",
              "      <th></th>\n",
              "      <th>SGRO.JK</th>\n",
              "      <th>TLKM.JK</th>\n",
              "      <th>INDR.JK</th>\n",
              "      <th>PRDA.JK</th>\n",
              "      <th>AKPI.JK</th>\n",
              "      <th>Expected Return</th>\n",
              "      <th>Risiko</th>\n",
              "    </tr>\n",
              "  </thead>\n",
              "  <tbody>\n",
              "    <tr>\n",
              "      <th>0</th>\n",
              "      <td>0.436800</td>\n",
              "      <td>0.391600</td>\n",
              "      <td>0.059200</td>\n",
              "      <td>0.106300</td>\n",
              "      <td>0.006200</td>\n",
              "      <td>0.042353</td>\n",
              "      <td>0.000001</td>\n",
              "    </tr>\n",
              "    <tr>\n",
              "      <th>1</th>\n",
              "      <td>-0.440541</td>\n",
              "      <td>1.010352</td>\n",
              "      <td>0.254500</td>\n",
              "      <td>0.209912</td>\n",
              "      <td>-0.034223</td>\n",
              "      <td>0.063530</td>\n",
              "      <td>0.000016</td>\n",
              "    </tr>\n",
              "    <tr>\n",
              "      <th>2</th>\n",
              "      <td>-1.756481</td>\n",
              "      <td>1.938498</td>\n",
              "      <td>0.547510</td>\n",
              "      <td>0.365285</td>\n",
              "      <td>-0.094811</td>\n",
              "      <td>0.095295</td>\n",
              "      <td>0.000092</td>\n",
              "    </tr>\n",
              "    <tr>\n",
              "      <th>3</th>\n",
              "      <td>-3.730391</td>\n",
              "      <td>3.330717</td>\n",
              "      <td>0.987025</td>\n",
              "      <td>0.598344</td>\n",
              "      <td>-0.185694</td>\n",
              "      <td>0.142943</td>\n",
              "      <td>0.000328</td>\n",
              "    </tr>\n",
              "    <tr>\n",
              "      <th>4</th>\n",
              "      <td>-6.691256</td>\n",
              "      <td>5.419045</td>\n",
              "      <td>1.646297</td>\n",
              "      <td>0.947933</td>\n",
              "      <td>-0.322019</td>\n",
              "      <td>0.214414</td>\n",
              "      <td>0.000956</td>\n",
              "    </tr>\n",
              "  </tbody>\n",
              "</table>\n",
              "</div>"
            ],
            "text/plain": [
              "    SGRO.JK   TLKM.JK   INDR.JK   PRDA.JK   AKPI.JK  Expected Return    Risiko\n",
              "0  0.436800  0.391600  0.059200  0.106300  0.006200         0.042353  0.000001\n",
              "1 -0.440541  1.010352  0.254500  0.209912 -0.034223         0.063530  0.000016\n",
              "2 -1.756481  1.938498  0.547510  0.365285 -0.094811         0.095295  0.000092\n",
              "3 -3.730391  3.330717  0.987025  0.598344 -0.185694         0.142943  0.000328\n",
              "4 -6.691256  5.419045  1.646297  0.947933 -0.322019         0.214414  0.000956"
            ]
          },
          "metadata": {
            "tags": []
          },
          "execution_count": 78
        }
      ]
    },
    {
      "cell_type": "code",
      "metadata": {
        "id": "YnqVeJBFzjft",
        "colab_type": "code",
        "outputId": "821d62b6-c2b0-4d28-dab9-ea2ec03c8bdd",
        "colab": {
          "base_uri": "https://localhost:8080/",
          "height": 279
        }
      },
      "source": [
        "import matplotlib.pyplot as plt\n",
        "\n",
        "y = new_df[\"Expected Return\"]\n",
        "x = new_df[\"Risiko\"]\n",
        "\n",
        "plt.plot(x,y)\n",
        "plt.scatter(x,y)\n",
        "plt.xlabel(\"Expected Return\")\n",
        "plt.ylabel(\"Risiko\")\n",
        "plt.show()"
      ],
      "execution_count": 79,
      "outputs": [
        {
          "output_type": "display_data",
          "data": {
            "image/png": "[encoded data removed]",
            "text/plain": [
              "<Figure size 432x288 with 1 Axes>"
            ]
          },
          "metadata": {
            "tags": [],
            "needs_background": "light"
          }
        }
      ]
    },
    {
      "cell_type": "markdown",
      "metadata": {
        "id": "dGqP74gF_zAh",
        "colab_type": "text"
      },
      "source": [
        "## Salah\n"
      ]
    },
    {
      "cell_type": "code",
      "metadata": {
        "id": "BfnZHz8vxkW6",
        "colab_type": "code",
        "outputId": "06e0a66d-4f00-4821-80b2-b7b579516dcd",
        "colab": {
          "base_uri": "https://localhost:8080/",
          "height": 55
        }
      },
      "source": [
        "\"\"\"import numpy as np\n",
        "#print(type(dataset.corr()))\n",
        "list_corr = []\n",
        "for x in dataset:\n",
        "  print(type(dataset.corr()[x]))\n",
        "  #print(dataset[x].corr())\n",
        "  #list_corr.append(dataset[x].corr().tolist())\n",
        "  #print(dataset.corr()[x].tolist())\n",
        "#rho = np.array(list_corr)\n",
        "#print(rho)\"\"\""
      ],
      "execution_count": 73,
      "outputs": [
        {
          "output_type": "execute_result",
          "data": {
            "text/plain": [
              "'import numpy as np\\n#print(type(dataset.corr()))\\nlist_corr = []\\nfor x in dataset:\\n  print(type(dataset.corr()[x]))\\n  #print(dataset[x].corr())\\n  #list_corr.append(dataset[x].corr().tolist())\\n  #print(dataset.corr()[x].tolist())\\n#rho = np.array(list_corr)\\n#print(rho)'"
            ]
          },
          "metadata": {
            "tags": []
          },
          "execution_count": 73
        }
      ]
    },
    {
      "cell_type": "code",
      "metadata": {
        "id": "X0zv2wL_14cF",
        "colab_type": "code",
        "outputId": "eb3250d4-9e98-4ae3-a112-ac9eda403849",
        "colab": {
          "base_uri": "https://localhost:8080/",
          "height": 55
        }
      },
      "source": [
        "\"\"\"import statistics as st\n",
        "var = []\n",
        "for x in kode_saham :\n",
        "  tmp = dataset[x].tolist()\n",
        "  #print(tmp)\n",
        "  var.append(st.variance(tmp))\n",
        "#print(var)\n",
        "df_var = pd.DataFrame([var])\n",
        "df_var.columns = kode_saham\n",
        "df_var\"\"\""
      ],
      "execution_count": 74,
      "outputs": [
        {
          "output_type": "execute_result",
          "data": {
            "text/plain": [
              "'import statistics as st\\nvar = []\\nfor x in kode_saham :\\n  tmp = dataset[x].tolist()\\n  #print(tmp)\\n  var.append(st.variance(tmp))\\n#print(var)\\ndf_var = pd.DataFrame([var])\\ndf_var.columns = kode_saham\\ndf_var'"
            ]
          },
          "metadata": {
            "tags": []
          },
          "execution_count": 74
        }
      ]
    },
    {
      "cell_type": "code",
      "metadata": {
        "id": "C2fA6gq9nhkp",
        "colab_type": "code",
        "colab": {}
      },
      "source": [
        "def convert_to_dollar(saham) :\n",
        "  usd = 15589\n",
        "  dollar = []\n",
        "  for x in saham :\n",
        "    dollar.append(x/usd)\n",
        "  return dollar\n"
      ],
      "execution_count": 0,
      "outputs": []
    },
    {
      "cell_type": "code",
      "metadata": {
        "id": "tjfy_FW2FPW8",
        "colab_type": "code",
        "outputId": "16bb80f4-d74f-4ce0-a45f-5e40c1784e62",
        "colab": {
          "base_uri": "https://localhost:8080/",
          "height": 90
        }
      },
      "source": [
        "\n",
        "\n",
        "def is_short_selling(rho,std_dev):\n",
        "  n = len(rho)\n",
        "  print(n)\n",
        "  check = False\n",
        "  #rho = rho.sort()\n",
        "  #std_Dev =std_dev.sort()\n",
        "  sahamnya = []\n",
        "  for i in range(n):\n",
        "    for j in range(n):\n",
        "      if i < j :\n",
        "        x = std_dev[i]/std_dev[j]\n",
        "        #print(rho[i][j])\n",
        "        if rho[i][j] > x :\n",
        "          check =True\n",
        "          sahamnya.append([kode_saham[i],kode_saham[j]])\n",
        "    \n",
        "  return [check,sahamnya]\n",
        "\n",
        "if(is_short_selling(rho,std_dev)[0]) :\n",
        "  short = {}\n",
        "  list_short = is_short_selling(rho,std_dev)[1]\n",
        "  print(list_short)\n",
        "  for i in list_short :\n",
        "    x = i[0]\n",
        "    y = i[1]\n",
        "    if x not in short.keys():\n",
        "      short[x] =1\n",
        "    else :\n",
        "      short[x] += 1\n",
        "    \n",
        "    if y not in short.keys():\n",
        "      short[y] = 1\n",
        "    else :\n",
        "      short[y] += 1\n",
        "  print(short)\n",
        "else :\n",
        "  print(\"aman\")\n",
        "  print(kode_saham)"
      ],
      "execution_count": 76,
      "outputs": [
        {
          "output_type": "stream",
          "text": [
            "5\n",
            "5\n",
            "[['SGRO.JK', 'INDR.JK'], ['TLKM.JK', 'PRDA.JK'], ['TLKM.JK', 'AKPI.JK']]\n",
            "{'SGRO.JK': 1, 'INDR.JK': 1, 'TLKM.JK': 2, 'PRDA.JK': 1, 'AKPI.JK': 1}\n"
          ],
          "name": "stdout"
        }
      ]
    },
    {
      "cell_type": "code",
      "metadata": {
        "id": "5cF4uoPLEKB1",
        "colab_type": "code",
        "colab": {}
      },
      "source": [
        ""
      ],
      "execution_count": 0,
      "outputs": []
    }
  ]
}