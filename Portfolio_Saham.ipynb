{
  "nbformat": 4,
  "nbformat_minor": 0,
  "metadata": {
    "colab": {
      "name": "Portfolio Saham.ipynb",
      "provenance": [],
      "collapsed_sections": []
    },
    "kernelspec": {
      "name": "python3",
      "display_name": "Python 3"
    }
  },
  "cells": [
    {
      "cell_type": "markdown",
      "metadata": {
        "id": "IyP4QRhtch0F",
        "colab_type": "text"
      },
      "source": [
        "Load Data"
      ]
    },
    {
      "cell_type": "code",
      "metadata": {
        "id": "UekvxCwzchSo",
        "colab_type": "code",
        "outputId": "147957ce-6176-4528-a31d-1498d77b24ca",
        "colab": {
          "base_uri": "https://localhost:8080/",
          "height": 406
        }
      },
      "source": [
        "import pandas as pd\n",
        "\"\"\"\n",
        "kode_saham = [\"AAPL\",\"BA\",\"BATA.JK\",\"BKRKF\",\"CSCO\",\"IBM\",\n",
        "              \"TLKMF\",\"AKPI.JK\",\"INTC\",\"MSFT\",\"NVDA\",\n",
        "              \"ORCL\",\"PBCRF\",\"PHJMF\",\"PTAIF\",\"SPR\"]\n",
        "\"\"\"\n",
        "\n",
        "#fix \n",
        "\"\"\"\n",
        "kode_saham = [\"BKRKF\",\n",
        "              \"TLKMF\",\n",
        "              \"PHJMF\"]\n",
        "\n",
        "\"\"\"\n",
        "# variansi besar\n",
        "kode_saham = [\"AAPL\",\"BA\",\"BATA.JK\",\"AKPI.JK\",\"INTC\",\"MSFT\",\"NVDA\",\"ORCL\",\"CSCO\",\"IBM\",\"SPR\"]\n",
        "\n",
        "#kode_saham = [\"TLKMF\",\"PHJMF\",\"BKRKF\"]\n",
        "kode_tmp = []\n",
        "sama = False\n",
        "for i in kode_saham :\n",
        "  if i in kode_tmp :\n",
        "    sama =  True\n",
        "    kodenya = i\n",
        "    break\n",
        "  else :\n",
        "      kode_tmp.append(i)\n",
        "\n",
        "if sama :\n",
        "  dataset = []\n",
        "  print(\"ada yang sama\", kodenya)\n",
        "else :\n",
        "  n = len(kode_saham)\n",
        "  github = \"https://raw.githubusercontent.com/relfarizi/Portfolio-Saham/master/Data/\"\n",
        "\n",
        "  df = []\n",
        "  for i in range(n) :\n",
        "    datas = pd.read_csv(github+kode_saham[i]+\".csv\")\n",
        "    data_tmp = datas[\"Close\"]\n",
        "    df.append(data_tmp)\n",
        "    #print(data_tmp.shape)\n",
        "  dataset = pd.concat(df, axis=1, sort=False)\n",
        "  dataset = dataset.dropna()\n",
        "  dataset.columns = kode_saham\n",
        "dataset"
      ],
      "execution_count": 464,
      "outputs": [
        {
          "output_type": "execute_result",
          "data": {
            "text/html": [
              "<div>\n",
              "<style scoped>\n",
              "    .dataframe tbody tr th:only-of-type {\n",
              "        vertical-align: middle;\n",
              "    }\n",
              "\n",
              "    .dataframe tbody tr th {\n",
              "        vertical-align: top;\n",
              "    }\n",
              "\n",
              "    .dataframe thead th {\n",
              "        text-align: right;\n",
              "    }\n",
              "</style>\n",
              "<table border=\"1\" class=\"dataframe\">\n",
              "  <thead>\n",
              "    <tr style=\"text-align: right;\">\n",
              "      <th></th>\n",
              "      <th>AAPL</th>\n",
              "      <th>BA</th>\n",
              "      <th>BATA.JK</th>\n",
              "      <th>AKPI.JK</th>\n",
              "      <th>INTC</th>\n",
              "      <th>MSFT</th>\n",
              "      <th>NVDA</th>\n",
              "      <th>ORCL</th>\n",
              "      <th>CSCO</th>\n",
              "      <th>IBM</th>\n",
              "      <th>SPR</th>\n",
              "    </tr>\n",
              "  </thead>\n",
              "  <tbody>\n",
              "    <tr>\n",
              "      <th>0</th>\n",
              "      <td>117.910004</td>\n",
              "      <td>159.100006</td>\n",
              "      <td>780.0</td>\n",
              "      <td>885.0</td>\n",
              "      <td>36.480000</td>\n",
              "      <td>62.840000</td>\n",
              "      <td>103.099998</td>\n",
              "      <td>38.450001</td>\n",
              "      <td>30.230000</td>\n",
              "      <td>169.529999</td>\n",
              "      <td>59.779999</td>\n",
              "    </tr>\n",
              "    <tr>\n",
              "      <th>1</th>\n",
              "      <td>119.040001</td>\n",
              "      <td>158.830002</td>\n",
              "      <td>765.0</td>\n",
              "      <td>900.0</td>\n",
              "      <td>36.790001</td>\n",
              "      <td>62.700001</td>\n",
              "      <td>103.430000</td>\n",
              "      <td>39.259998</td>\n",
              "      <td>30.070000</td>\n",
              "      <td>167.339996</td>\n",
              "      <td>58.110001</td>\n",
              "    </tr>\n",
              "    <tr>\n",
              "      <th>2</th>\n",
              "      <td>120.000000</td>\n",
              "      <td>159.529999</td>\n",
              "      <td>790.0</td>\n",
              "      <td>990.0</td>\n",
              "      <td>36.939999</td>\n",
              "      <td>62.740002</td>\n",
              "      <td>104.010002</td>\n",
              "      <td>39.869999</td>\n",
              "      <td>30.100000</td>\n",
              "      <td>170.550003</td>\n",
              "      <td>56.639999</td>\n",
              "    </tr>\n",
              "    <tr>\n",
              "      <th>3</th>\n",
              "      <td>121.949997</td>\n",
              "      <td>167.699997</td>\n",
              "      <td>765.0</td>\n",
              "      <td>835.0</td>\n",
              "      <td>37.980000</td>\n",
              "      <td>65.779999</td>\n",
              "      <td>111.769997</td>\n",
              "      <td>40.230000</td>\n",
              "      <td>30.980000</td>\n",
              "      <td>177.300003</td>\n",
              "      <td>59.410000</td>\n",
              "    </tr>\n",
              "    <tr>\n",
              "      <th>4</th>\n",
              "      <td>129.080002</td>\n",
              "      <td>162.399994</td>\n",
              "      <td>790.0</td>\n",
              "      <td>800.0</td>\n",
              "      <td>36.520000</td>\n",
              "      <td>63.680000</td>\n",
              "      <td>114.379997</td>\n",
              "      <td>40.430000</td>\n",
              "      <td>31.320000</td>\n",
              "      <td>175.820007</td>\n",
              "      <td>56.049999</td>\n",
              "    </tr>\n",
              "    <tr>\n",
              "      <th>...</th>\n",
              "      <td>...</td>\n",
              "      <td>...</td>\n",
              "      <td>...</td>\n",
              "      <td>...</td>\n",
              "      <td>...</td>\n",
              "      <td>...</td>\n",
              "      <td>...</td>\n",
              "      <td>...</td>\n",
              "      <td>...</td>\n",
              "      <td>...</td>\n",
              "      <td>...</td>\n",
              "    </tr>\n",
              "    <tr>\n",
              "      <th>99</th>\n",
              "      <td>178.580002</td>\n",
              "      <td>346.760010</td>\n",
              "      <td>595.0</td>\n",
              "      <td>900.0</td>\n",
              "      <td>49.310001</td>\n",
              "      <td>110.889999</td>\n",
              "      <td>163.429993</td>\n",
              "      <td>48.759998</td>\n",
              "      <td>47.869999</td>\n",
              "      <td>124.269997</td>\n",
              "      <td>81.879997</td>\n",
              "    </tr>\n",
              "    <tr>\n",
              "      <th>100</th>\n",
              "      <td>168.490005</td>\n",
              "      <td>323.220001</td>\n",
              "      <td>595.0</td>\n",
              "      <td>720.0</td>\n",
              "      <td>46.240002</td>\n",
              "      <td>104.820000</td>\n",
              "      <td>147.610001</td>\n",
              "      <td>46.000000</td>\n",
              "      <td>46.439999</td>\n",
              "      <td>119.339996</td>\n",
              "      <td>75.419998</td>\n",
              "    </tr>\n",
              "    <tr>\n",
              "      <th>101</th>\n",
              "      <td>165.479996</td>\n",
              "      <td>318.750000</td>\n",
              "      <td>590.0</td>\n",
              "      <td>750.0</td>\n",
              "      <td>47.860001</td>\n",
              "      <td>106.029999</td>\n",
              "      <td>146.449997</td>\n",
              "      <td>46.599998</td>\n",
              "      <td>45.820000</td>\n",
              "      <td>119.900002</td>\n",
              "      <td>73.180000</td>\n",
              "    </tr>\n",
              "    <tr>\n",
              "      <th>102</th>\n",
              "      <td>150.729996</td>\n",
              "      <td>304.549988</td>\n",
              "      <td>590.0</td>\n",
              "      <td>700.0</td>\n",
              "      <td>44.840000</td>\n",
              "      <td>98.230003</td>\n",
              "      <td>129.570007</td>\n",
              "      <td>44.000000</td>\n",
              "      <td>41.849998</td>\n",
              "      <td>110.940002</td>\n",
              "      <td>67.500000</td>\n",
              "    </tr>\n",
              "    <tr>\n",
              "      <th>103</th>\n",
              "      <td>156.229996</td>\n",
              "      <td>316.380005</td>\n",
              "      <td>600.0</td>\n",
              "      <td>700.0</td>\n",
              "      <td>46.750000</td>\n",
              "      <td>100.389999</td>\n",
              "      <td>133.649994</td>\n",
              "      <td>44.820000</td>\n",
              "      <td>42.770000</td>\n",
              "      <td>113.029999</td>\n",
              "      <td>70.760002</td>\n",
              "    </tr>\n",
              "  </tbody>\n",
              "</table>\n",
              "<p>104 rows × 11 columns</p>\n",
              "</div>"
            ],
            "text/plain": [
              "           AAPL          BA  BATA.JK  ...       CSCO         IBM        SPR\n",
              "0    117.910004  159.100006    780.0  ...  30.230000  169.529999  59.779999\n",
              "1    119.040001  158.830002    765.0  ...  30.070000  167.339996  58.110001\n",
              "2    120.000000  159.529999    790.0  ...  30.100000  170.550003  56.639999\n",
              "3    121.949997  167.699997    765.0  ...  30.980000  177.300003  59.410000\n",
              "4    129.080002  162.399994    790.0  ...  31.320000  175.820007  56.049999\n",
              "..          ...         ...      ...  ...        ...         ...        ...\n",
              "99   178.580002  346.760010    595.0  ...  47.869999  124.269997  81.879997\n",
              "100  168.490005  323.220001    595.0  ...  46.439999  119.339996  75.419998\n",
              "101  165.479996  318.750000    590.0  ...  45.820000  119.900002  73.180000\n",
              "102  150.729996  304.549988    590.0  ...  41.849998  110.940002  67.500000\n",
              "103  156.229996  316.380005    600.0  ...  42.770000  113.029999  70.760002\n",
              "\n",
              "[104 rows x 11 columns]"
            ]
          },
          "metadata": {
            "tags": []
          },
          "execution_count": 464
        }
      ]
    },
    {
      "cell_type": "code",
      "metadata": {
        "id": "HhgvIYlivXjL",
        "colab_type": "code",
        "colab": {
          "base_uri": "https://localhost:8080/",
          "height": 377
        },
        "outputId": "64ab3115-a272-441e-a5e4-e62501b291fa"
      },
      "source": [
        "rho = dataset.corr().values\n",
        "dataset.corr()"
      ],
      "execution_count": 465,
      "outputs": [
        {
          "output_type": "execute_result",
          "data": {
            "text/html": [
              "<div>\n",
              "<style scoped>\n",
              "    .dataframe tbody tr th:only-of-type {\n",
              "        vertical-align: middle;\n",
              "    }\n",
              "\n",
              "    .dataframe tbody tr th {\n",
              "        vertical-align: top;\n",
              "    }\n",
              "\n",
              "    .dataframe thead th {\n",
              "        text-align: right;\n",
              "    }\n",
              "</style>\n",
              "<table border=\"1\" class=\"dataframe\">\n",
              "  <thead>\n",
              "    <tr style=\"text-align: right;\">\n",
              "      <th></th>\n",
              "      <th>AAPL</th>\n",
              "      <th>BA</th>\n",
              "      <th>BATA.JK</th>\n",
              "      <th>AKPI.JK</th>\n",
              "      <th>INTC</th>\n",
              "      <th>MSFT</th>\n",
              "      <th>NVDA</th>\n",
              "      <th>ORCL</th>\n",
              "      <th>CSCO</th>\n",
              "      <th>IBM</th>\n",
              "      <th>SPR</th>\n",
              "    </tr>\n",
              "  </thead>\n",
              "  <tbody>\n",
              "    <tr>\n",
              "      <th>AAPL</th>\n",
              "      <td>1.000000</td>\n",
              "      <td>0.853268</td>\n",
              "      <td>-0.708620</td>\n",
              "      <td>-0.091851</td>\n",
              "      <td>0.686819</td>\n",
              "      <td>0.903343</td>\n",
              "      <td>0.838120</td>\n",
              "      <td>0.519899</td>\n",
              "      <td>0.828927</td>\n",
              "      <td>-0.505566</td>\n",
              "      <td>0.760132</td>\n",
              "    </tr>\n",
              "    <tr>\n",
              "      <th>BA</th>\n",
              "      <td>0.853268</td>\n",
              "      <td>1.000000</td>\n",
              "      <td>-0.852282</td>\n",
              "      <td>-0.287815</td>\n",
              "      <td>0.882155</td>\n",
              "      <td>0.945831</td>\n",
              "      <td>0.888830</td>\n",
              "      <td>0.518030</td>\n",
              "      <td>0.918723</td>\n",
              "      <td>-0.565734</td>\n",
              "      <td>0.916393</td>\n",
              "    </tr>\n",
              "    <tr>\n",
              "      <th>BATA.JK</th>\n",
              "      <td>-0.708620</td>\n",
              "      <td>-0.852282</td>\n",
              "      <td>1.000000</td>\n",
              "      <td>0.499747</td>\n",
              "      <td>-0.900178</td>\n",
              "      <td>-0.837196</td>\n",
              "      <td>-0.726400</td>\n",
              "      <td>-0.273828</td>\n",
              "      <td>-0.850982</td>\n",
              "      <td>0.426679</td>\n",
              "      <td>-0.811522</td>\n",
              "    </tr>\n",
              "    <tr>\n",
              "      <th>AKPI.JK</th>\n",
              "      <td>-0.091851</td>\n",
              "      <td>-0.287815</td>\n",
              "      <td>0.499747</td>\n",
              "      <td>1.000000</td>\n",
              "      <td>-0.344661</td>\n",
              "      <td>-0.214254</td>\n",
              "      <td>-0.165179</td>\n",
              "      <td>-0.068171</td>\n",
              "      <td>-0.319890</td>\n",
              "      <td>0.060201</td>\n",
              "      <td>-0.358565</td>\n",
              "    </tr>\n",
              "    <tr>\n",
              "      <th>INTC</th>\n",
              "      <td>0.686819</td>\n",
              "      <td>0.882155</td>\n",
              "      <td>-0.900178</td>\n",
              "      <td>-0.344661</td>\n",
              "      <td>1.000000</td>\n",
              "      <td>0.835756</td>\n",
              "      <td>0.799493</td>\n",
              "      <td>0.258299</td>\n",
              "      <td>0.860192</td>\n",
              "      <td>-0.413556</td>\n",
              "      <td>0.803222</td>\n",
              "    </tr>\n",
              "    <tr>\n",
              "      <th>MSFT</th>\n",
              "      <td>0.903343</td>\n",
              "      <td>0.945831</td>\n",
              "      <td>-0.837196</td>\n",
              "      <td>-0.214254</td>\n",
              "      <td>0.835756</td>\n",
              "      <td>1.000000</td>\n",
              "      <td>0.805764</td>\n",
              "      <td>0.439164</td>\n",
              "      <td>0.944768</td>\n",
              "      <td>-0.635266</td>\n",
              "      <td>0.802690</td>\n",
              "    </tr>\n",
              "    <tr>\n",
              "      <th>NVDA</th>\n",
              "      <td>0.838120</td>\n",
              "      <td>0.888830</td>\n",
              "      <td>-0.726400</td>\n",
              "      <td>-0.165179</td>\n",
              "      <td>0.799493</td>\n",
              "      <td>0.805764</td>\n",
              "      <td>1.000000</td>\n",
              "      <td>0.561060</td>\n",
              "      <td>0.747939</td>\n",
              "      <td>-0.329654</td>\n",
              "      <td>0.886398</td>\n",
              "    </tr>\n",
              "    <tr>\n",
              "      <th>ORCL</th>\n",
              "      <td>0.519899</td>\n",
              "      <td>0.518030</td>\n",
              "      <td>-0.273828</td>\n",
              "      <td>-0.068171</td>\n",
              "      <td>0.258299</td>\n",
              "      <td>0.439164</td>\n",
              "      <td>0.561060</td>\n",
              "      <td>1.000000</td>\n",
              "      <td>0.329897</td>\n",
              "      <td>-0.355348</td>\n",
              "      <td>0.588918</td>\n",
              "    </tr>\n",
              "    <tr>\n",
              "      <th>CSCO</th>\n",
              "      <td>0.828927</td>\n",
              "      <td>0.918723</td>\n",
              "      <td>-0.850982</td>\n",
              "      <td>-0.319890</td>\n",
              "      <td>0.860192</td>\n",
              "      <td>0.944768</td>\n",
              "      <td>0.747939</td>\n",
              "      <td>0.329897</td>\n",
              "      <td>1.000000</td>\n",
              "      <td>-0.494468</td>\n",
              "      <td>0.767852</td>\n",
              "    </tr>\n",
              "    <tr>\n",
              "      <th>IBM</th>\n",
              "      <td>-0.505566</td>\n",
              "      <td>-0.565734</td>\n",
              "      <td>0.426679</td>\n",
              "      <td>0.060201</td>\n",
              "      <td>-0.413556</td>\n",
              "      <td>-0.635266</td>\n",
              "      <td>-0.329654</td>\n",
              "      <td>-0.355348</td>\n",
              "      <td>-0.494468</td>\n",
              "      <td>1.000000</td>\n",
              "      <td>-0.360684</td>\n",
              "    </tr>\n",
              "    <tr>\n",
              "      <th>SPR</th>\n",
              "      <td>0.760132</td>\n",
              "      <td>0.916393</td>\n",
              "      <td>-0.811522</td>\n",
              "      <td>-0.358565</td>\n",
              "      <td>0.803222</td>\n",
              "      <td>0.802690</td>\n",
              "      <td>0.886398</td>\n",
              "      <td>0.588918</td>\n",
              "      <td>0.767852</td>\n",
              "      <td>-0.360684</td>\n",
              "      <td>1.000000</td>\n",
              "    </tr>\n",
              "  </tbody>\n",
              "</table>\n",
              "</div>"
            ],
            "text/plain": [
              "             AAPL        BA   BATA.JK  ...      CSCO       IBM       SPR\n",
              "AAPL     1.000000  0.853268 -0.708620  ...  0.828927 -0.505566  0.760132\n",
              "BA       0.853268  1.000000 -0.852282  ...  0.918723 -0.565734  0.916393\n",
              "BATA.JK -0.708620 -0.852282  1.000000  ... -0.850982  0.426679 -0.811522\n",
              "AKPI.JK -0.091851 -0.287815  0.499747  ... -0.319890  0.060201 -0.358565\n",
              "INTC     0.686819  0.882155 -0.900178  ...  0.860192 -0.413556  0.803222\n",
              "MSFT     0.903343  0.945831 -0.837196  ...  0.944768 -0.635266  0.802690\n",
              "NVDA     0.838120  0.888830 -0.726400  ...  0.747939 -0.329654  0.886398\n",
              "ORCL     0.519899  0.518030 -0.273828  ...  0.329897 -0.355348  0.588918\n",
              "CSCO     0.828927  0.918723 -0.850982  ...  1.000000 -0.494468  0.767852\n",
              "IBM     -0.505566 -0.565734  0.426679  ... -0.494468  1.000000 -0.360684\n",
              "SPR      0.760132  0.916393 -0.811522  ...  0.767852 -0.360684  1.000000\n",
              "\n",
              "[11 rows x 11 columns]"
            ]
          },
          "metadata": {
            "tags": []
          },
          "execution_count": 465
        }
      ]
    },
    {
      "cell_type": "code",
      "metadata": {
        "id": "BfnZHz8vxkW6",
        "colab_type": "code",
        "outputId": "b566a5e7-a1b9-4126-c158-370fee848725",
        "colab": {
          "base_uri": "https://localhost:8080/",
          "height": 55
        }
      },
      "source": [
        "\"\"\"import numpy as np\n",
        "#print(type(dataset.corr()))\n",
        "list_corr = []\n",
        "for x in dataset:\n",
        "  print(type(dataset.corr()[x]))\n",
        "  #print(dataset[x].corr())\n",
        "  #list_corr.append(dataset[x].corr().tolist())\n",
        "  #print(dataset.corr()[x].tolist())\n",
        "#rho = np.array(list_corr)\n",
        "#print(rho)\"\"\""
      ],
      "execution_count": 466,
      "outputs": [
        {
          "output_type": "execute_result",
          "data": {
            "text/plain": [
              "'import numpy as np\\n#print(type(dataset.corr()))\\nlist_corr = []\\nfor x in dataset:\\n  print(type(dataset.corr()[x]))\\n  #print(dataset[x].corr())\\n  #list_corr.append(dataset[x].corr().tolist())\\n  #print(dataset.corr()[x].tolist())\\n#rho = np.array(list_corr)\\n#print(rho)'"
            ]
          },
          "metadata": {
            "tags": []
          },
          "execution_count": 466
        }
      ]
    },
    {
      "cell_type": "code",
      "metadata": {
        "id": "X0zv2wL_14cF",
        "colab_type": "code",
        "outputId": "59fc8211-4e45-4851-ba88-7b2baf387463",
        "colab": {
          "base_uri": "https://localhost:8080/",
          "height": 78
        }
      },
      "source": [
        "import statistics as st\n",
        "var = []\n",
        "for x in kode_saham :\n",
        "  tmp = dataset[x].tolist()\n",
        "  #print(tmp)\n",
        "  var.append(st.variance(tmp))\n",
        "#print(var)\n",
        "df_var = pd.DataFrame([var])\n",
        "df_var.columns = kode_saham\n",
        "df_var"
      ],
      "execution_count": 467,
      "outputs": [
        {
          "output_type": "execute_result",
          "data": {
            "text/html": [
              "<div>\n",
              "<style scoped>\n",
              "    .dataframe tbody tr th:only-of-type {\n",
              "        vertical-align: middle;\n",
              "    }\n",
              "\n",
              "    .dataframe tbody tr th {\n",
              "        vertical-align: top;\n",
              "    }\n",
              "\n",
              "    .dataframe thead th {\n",
              "        text-align: right;\n",
              "    }\n",
              "</style>\n",
              "<table border=\"1\" class=\"dataframe\">\n",
              "  <thead>\n",
              "    <tr style=\"text-align: right;\">\n",
              "      <th></th>\n",
              "      <th>AAPL</th>\n",
              "      <th>BA</th>\n",
              "      <th>BATA.JK</th>\n",
              "      <th>AKPI.JK</th>\n",
              "      <th>INTC</th>\n",
              "      <th>MSFT</th>\n",
              "      <th>NVDA</th>\n",
              "      <th>ORCL</th>\n",
              "      <th>CSCO</th>\n",
              "      <th>IBM</th>\n",
              "      <th>SPR</th>\n",
              "    </tr>\n",
              "  </thead>\n",
              "  <tbody>\n",
              "    <tr>\n",
              "      <th>0</th>\n",
              "      <td>695.047818</td>\n",
              "      <td>5185.98435</td>\n",
              "      <td>11805.225448</td>\n",
              "      <td>6846.338219</td>\n",
              "      <td>44.439431</td>\n",
              "      <td>266.068466</td>\n",
              "      <td>3128.124722</td>\n",
              "      <td>9.324483</td>\n",
              "      <td>35.732544</td>\n",
              "      <td>221.966104</td>\n",
              "      <td>175.478222</td>\n",
              "    </tr>\n",
              "  </tbody>\n",
              "</table>\n",
              "</div>"
            ],
            "text/plain": [
              "         AAPL          BA       BATA.JK  ...       CSCO         IBM         SPR\n",
              "0  695.047818  5185.98435  11805.225448  ...  35.732544  221.966104  175.478222\n",
              "\n",
              "[1 rows x 11 columns]"
            ]
          },
          "metadata": {
            "tags": []
          },
          "execution_count": 467
        }
      ]
    },
    {
      "cell_type": "markdown",
      "metadata": {
        "id": "0OKx_5ia6Ij4",
        "colab_type": "text"
      },
      "source": [
        "\n",
        "# Multi sekuritas\n"
      ]
    },
    {
      "cell_type": "code",
      "metadata": {
        "id": "_IjEA--Wo34f",
        "colab_type": "code",
        "outputId": "bb519d8f-4b89-4730-a0cf-4da2e143b307",
        "colab": {
          "base_uri": "https://localhost:8080/",
          "height": 55
        }
      },
      "source": [
        "import numpy as np\n",
        "\n",
        "std_dev = []\n",
        "for i in var :\n",
        "  std_dev.append(np.sqrt(i))\n",
        "n = len(std_dev)\n",
        "\n",
        "u = np.ones(n)\n",
        "\"\"\"#print(u)\n",
        "#rho = np.zeros((n,n))\n",
        "#rho[0][1] = 0.1\n",
        "\n",
        "#rho[0][2] = 0.2\n",
        "#rho[0][3] = 0.2\n",
        "#rho[0][4] = 0.2\n",
        "#rho[1][2] = 0.2\n",
        "#rho[1][3] = 0.2\n",
        "#rho[1][4] = 0.2\n",
        "#rho[2][3] = 0.2\n",
        "#rho[2][4] = 0.2\n",
        "#rho[3][4] = 0.2\n",
        "\n",
        "for i in range(n) :\n",
        "  for j in range(n) :\n",
        "    if j == i :\n",
        "      rho[i][j] = 1\n",
        "    elif j < i :\n",
        "      rho[i][j] = rho[j][i]\n",
        "print(rho)\"\"\""
      ],
      "execution_count": 468,
      "outputs": [
        {
          "output_type": "execute_result",
          "data": {
            "text/plain": [
              "'#print(u)\\n#rho = np.zeros((n,n))\\n#rho[0][1] = 0.1\\n\\n#rho[0][2] = 0.2\\n#rho[0][3] = 0.2\\n#rho[0][4] = 0.2\\n#rho[1][2] = 0.2\\n#rho[1][3] = 0.2\\n#rho[1][4] = 0.2\\n#rho[2][3] = 0.2\\n#rho[2][4] = 0.2\\n#rho[3][4] = 0.2\\n\\nfor i in range(n) :\\n  for j in range(n) :\\n    if j == i :\\n      rho[i][j] = 1\\n    elif j < i :\\n      rho[i][j] = rho[j][i]\\nprint(rho)'"
            ]
          },
          "metadata": {
            "tags": []
          },
          "execution_count": 468
        }
      ]
    },
    {
      "cell_type": "code",
      "metadata": {
        "id": "tjfy_FW2FPW8",
        "colab_type": "code",
        "colab": {
          "base_uri": "https://localhost:8080/",
          "height": 110
        },
        "outputId": "7f0a89d7-1954-45b2-c118-86920d4498f3"
      },
      "source": [
        "\n",
        "\n",
        "def is_short_selling(rho,std_dev):\n",
        "  n = len(rho)\n",
        "  print(n)\n",
        "  check = False\n",
        "  #rho = rho.sort()\n",
        "  std_Dev =std_dev.sort()\n",
        "  sahamnya = []\n",
        "  for i in range(n):\n",
        "    for j in range(n):\n",
        "      if i < j :\n",
        "        x = std_dev[i]/std_dev[j]\n",
        "        #print(rho[i][j])\n",
        "        if rho[i][j] > x :\n",
        "          check =True\n",
        "          sahamnya.append([kode_saham[i],kode_saham[j]])\n",
        "    \n",
        "  return [check,sahamnya]\n",
        "\n",
        "if(is_short_selling(rho,std_dev)[0]) :\n",
        "  short = {}\n",
        "  list_short = is_short_selling(rho,std_dev)[1]\n",
        "  print(list_short)\n",
        "  for i in list_short :\n",
        "    x = i[0]\n",
        "    y = i[1]\n",
        "    if x not in short.keys():\n",
        "      short[x] =1\n",
        "    else :\n",
        "      short[x] += 1\n",
        "    \n",
        "    if y not in short.keys():\n",
        "      short[y] = 1\n",
        "    else :\n",
        "      short[y] += 1\n",
        "  print(short)\n",
        "else :\n",
        "  print(\"aman\")\n",
        "  print(kode_saham)"
      ],
      "execution_count": 469,
      "outputs": [
        {
          "output_type": "stream",
          "text": [
            "11\n",
            "11\n",
            "[['AAPL', 'BA'], ['AAPL', 'INTC'], ['AAPL', 'MSFT'], ['AAPL', 'NVDA'], ['AAPL', 'ORCL'], ['AAPL', 'CSCO'], ['AAPL', 'SPR'], ['BA', 'INTC'], ['BA', 'MSFT'], ['BA', 'NVDA'], ['BA', 'ORCL'], ['BA', 'CSCO'], ['BA', 'SPR'], ['BATA.JK', 'IBM'], ['INTC', 'NVDA'], ['INTC', 'CSCO'], ['INTC', 'SPR'], ['MSFT', 'NVDA'], ['MSFT', 'ORCL'], ['MSFT', 'CSCO'], ['MSFT', 'SPR'], ['NVDA', 'ORCL'], ['NVDA', 'CSCO'], ['NVDA', 'SPR'], ['ORCL', 'SPR'], ['CSCO', 'SPR']]\n",
            "{'AAPL': 7, 'BA': 7, 'INTC': 5, 'MSFT': 6, 'NVDA': 7, 'ORCL': 5, 'CSCO': 6, 'SPR': 7, 'BATA.JK': 1, 'IBM': 1}\n"
          ],
          "name": "stdout"
        }
      ]
    },
    {
      "cell_type": "code",
      "metadata": {
        "id": "0vEXEjumtGQF",
        "colab_type": "code",
        "outputId": "195c4c7a-6b4f-4469-9bb2-55a7c719e469",
        "colab": {
          "base_uri": "https://localhost:8080/",
          "height": 72
        }
      },
      "source": [
        "C = (np.zeros((n,n)))\n",
        "\n",
        "for i in range(n):\n",
        "  for j in range(n) :\n",
        "    C[i][j] = std_dev[i]*rho[i][j]*std_dev[j]\n",
        "print(C)"
      ],
      "execution_count": 434,
      "outputs": [
        {
          "output_type": "stream",
          "text": [
            "[[ 7.98213592e-04 -9.36865495e-05  6.41055832e-04]\n",
            " [-9.36865495e-05  1.03882562e-03 -1.33980583e-04]\n",
            " [ 6.41055832e-04 -1.33980583e-04  1.92621359e-03]]\n"
          ],
          "name": "stdout"
        }
      ]
    },
    {
      "cell_type": "code",
      "metadata": {
        "id": "3hwGZW6iwQNH",
        "colab_type": "code",
        "outputId": "5584e075-5d42-4571-a371-2b6b91a7750c",
        "colab": {
          "base_uri": "https://localhost:8080/",
          "height": 35
        }
      },
      "source": [
        "from numpy.linalg import inv\n",
        "from numpy.linalg import det\n",
        "u = np.ones(n)\n",
        "uT = np.transpose(u)\n",
        "\n",
        "CInv = inv(C)\n",
        "\n",
        "w = np.dot(u,CInv)/(u.dot(CInv).dot(uT))\n",
        "print(w)"
      ],
      "execution_count": 435,
      "outputs": [
        {
          "output_type": "stream",
          "text": [
            "[0.49006786 0.43632313 0.07360901]\n"
          ],
          "name": "stdout"
        }
      ]
    },
    {
      "cell_type": "code",
      "metadata": {
        "id": "DdcSSGjLwYzR",
        "colab_type": "code",
        "outputId": "d31ee01f-a7a0-4f41-8167-2360093c0072",
        "colab": {
          "base_uri": "https://localhost:8080/",
          "height": 35
        }
      },
      "source": [
        "#w = np.array([0.3,0.4])\n",
        "wT = np.transpose(w)\n",
        "x = np.dot(u,wT)\n",
        "print(\"jumlah w = \",x)"
      ],
      "execution_count": 378,
      "outputs": [
        {
          "output_type": "stream",
          "text": [
            "jumlah w =  1.0\n"
          ],
          "name": "stdout"
        }
      ]
    },
    {
      "cell_type": "code",
      "metadata": {
        "id": "uF0PiR3x5IyE",
        "colab_type": "code",
        "outputId": "b573993a-401c-4163-9eb0-951e58569832",
        "colab": {
          "base_uri": "https://localhost:8080/",
          "height": 35
        }
      },
      "source": [
        "risk = w.dot(C).dot(wT)\n",
        "print(risk)"
      ],
      "execution_count": 144,
      "outputs": [
        {
          "output_type": "stream",
          "text": [
            "0.000355186302008042\n"
          ],
          "name": "stdout"
        }
      ]
    },
    {
      "cell_type": "markdown",
      "metadata": {
        "id": "2lPrbuwozieS",
        "colab_type": "text"
      },
      "source": [
        "Expected return saham\n"
      ]
    },
    {
      "cell_type": "code",
      "metadata": {
        "id": "oNcz2cigzlnm",
        "colab_type": "code",
        "colab": {}
      },
      "source": [
        "import math\n",
        "def find_ud(saham) :\n",
        "  K = []\n",
        "  \n",
        "  \n",
        "  for i in range(len(saham)-1) :\n",
        "    x = (saham[i+1]-saham[i])/saham[i]\n",
        "    K.append(x)\n",
        "  up = []\n",
        "  down = []\n",
        "\n",
        "  for i in K :\n",
        "    if i > 0 :\n",
        "      x = 1\n",
        "      y = 0\n",
        "    else :\n",
        "      x = 0\n",
        "      y = 1\n",
        "    up.append(x)\n",
        "    down.append(y)\n",
        "  \n",
        "  x_up = 1\n",
        "  x_down = 1\n",
        "\n",
        "  sum_u = 0\n",
        "  sum_d = 0\n",
        "\n",
        "  for i in range(len(K)) :\n",
        "    x_up += K[i]*up[i]\n",
        "    sum_u += up[i]\n",
        "    x_down += K[i]*down[i]\n",
        "    sum_d += down[i]\n",
        "  \n",
        "  u = x_up/sum_u\n",
        "  d = x_up/sum_d\n",
        "\n",
        "  p = sum_u/(sum_u+sum_d)\n",
        "  q = 1-p\n",
        "\n",
        "  result = {\"u\" : u, \"d\" : d,\"p\":p,\"q\":q}\n",
        "  \n",
        "  return result"
      ],
      "execution_count": 0,
      "outputs": []
    },
    {
      "cell_type": "code",
      "metadata": {
        "id": "X3FpZ9MCFsy0",
        "colab_type": "code",
        "colab": {}
      },
      "source": [
        "def return_saham(df_saham) :\n",
        "  result = {}\n",
        "  for saham in df_saham :\n",
        "    x = find_ud(df_saham[saham])\n",
        "    exp = (x[\"u\"]*x[\"p\"])+(x[\"d\"]*x[\"q\"])\n",
        "    result[saham] = exp\n",
        "  return result"
      ],
      "execution_count": 0,
      "outputs": []
    },
    {
      "cell_type": "code",
      "metadata": {
        "id": "tL_NXG_aIZSq",
        "colab_type": "code",
        "colab": {}
      },
      "source": [
        "return_ = return_saham(dataset)\n",
        "m = []\n",
        "for saham in return_ :\n",
        "  m.append(return_[saham])"
      ],
      "execution_count": 0,
      "outputs": []
    },
    {
      "cell_type": "code",
      "metadata": {
        "id": "UIsKSW8z4Gac",
        "colab_type": "code",
        "outputId": "ac35ad36-bb4a-4c1f-a25a-23d752088e5f",
        "colab": {
          "base_uri": "https://localhost:8080/",
          "height": 168
        }
      },
      "source": [
        "\n",
        "import pandas as pd\n",
        "\n",
        "m = np.array(m)\n",
        "print(m)\n",
        "EK = m.dot(wT)\n",
        "print(\"ekspektasi return = \", EK)\n",
        "risk = w.dot(C).dot(wT)\n",
        "print(\"risk = \",risk)\n",
        "\n",
        "portfolio=[round(x,4) for x in w]\n",
        "portfolio.append(EK)\n",
        "portfolio.append(risk)\n",
        "print(portfolio)\n",
        "\n",
        "df_port = pd.DataFrame([portfolio])\n",
        "column = kode_saham\n",
        "print(kode_saham)\n",
        "column.append(\"Expected Return\")\n",
        "column.append(\"Risiko\")\n",
        "df_port.columns = column\n",
        "df_port"
      ],
      "execution_count": 148,
      "outputs": [
        {
          "output_type": "stream",
          "text": [
            "[0.04988471 0.0321097  0.03255372 0.08004685 0.08804206]\n",
            "ekspektasi return =  0.04578660145237723\n",
            "risk =  0.000355186302008042\n",
            "[0.6501, 0.013, 0.2954, 0.0416, -0.0001, 0.04578660145237723, 0.000355186302008042]\n",
            "['PBCRF', 'PHJMF', 'PTAIF', 'AKPI.JK', 'TLKMF']\n"
          ],
          "name": "stdout"
        },
        {
          "output_type": "execute_result",
          "data": {
            "text/html": [
              "<div>\n",
              "<style scoped>\n",
              "    .dataframe tbody tr th:only-of-type {\n",
              "        vertical-align: middle;\n",
              "    }\n",
              "\n",
              "    .dataframe tbody tr th {\n",
              "        vertical-align: top;\n",
              "    }\n",
              "\n",
              "    .dataframe thead th {\n",
              "        text-align: right;\n",
              "    }\n",
              "</style>\n",
              "<table border=\"1\" class=\"dataframe\">\n",
              "  <thead>\n",
              "    <tr style=\"text-align: right;\">\n",
              "      <th></th>\n",
              "      <th>PBCRF</th>\n",
              "      <th>PHJMF</th>\n",
              "      <th>PTAIF</th>\n",
              "      <th>AKPI.JK</th>\n",
              "      <th>TLKMF</th>\n",
              "      <th>Expected Return</th>\n",
              "      <th>Risiko</th>\n",
              "    </tr>\n",
              "  </thead>\n",
              "  <tbody>\n",
              "    <tr>\n",
              "      <th>0</th>\n",
              "      <td>0.6501</td>\n",
              "      <td>0.013</td>\n",
              "      <td>0.2954</td>\n",
              "      <td>0.0416</td>\n",
              "      <td>-0.0001</td>\n",
              "      <td>0.045787</td>\n",
              "      <td>0.000355</td>\n",
              "    </tr>\n",
              "  </tbody>\n",
              "</table>\n",
              "</div>"
            ],
            "text/plain": [
              "    PBCRF  PHJMF   PTAIF  AKPI.JK   TLKMF  Expected Return    Risiko\n",
              "0  0.6501  0.013  0.2954   0.0416 -0.0001         0.045787  0.000355"
            ]
          },
          "metadata": {
            "tags": []
          },
          "execution_count": 148
        }
      ]
    },
    {
      "cell_type": "code",
      "metadata": {
        "id": "To2paLsJ5Eny",
        "colab_type": "code",
        "outputId": "b1acf930-e3ed-4f33-c40e-2f78ed6f2e45",
        "colab": {
          "base_uri": "https://localhost:8080/",
          "height": 126
        }
      },
      "source": [
        "mT = np.transpose(m)\n",
        "e_r = EK\n",
        "w_new = []\n",
        "list_EK = []\n",
        "for i in range(4) :\n",
        "  e_r *= 1.02\n",
        "  list_EK.append(e_r)\n",
        "  \n",
        "  matA = np.dot(u,(CInv))\n",
        "  matB = np.dot(m,(CInv))\n",
        "  mat1 = u.dot(CInv).dot(mT)\n",
        "  mat2 = m.dot(CInv).dot(mT)\n",
        "  mat3 = u.dot(CInv).dot(uT)\n",
        "  mat4 = m.dot(CInv).dot(uT)\n",
        "\n",
        "  A1 = np.array([[1,mat1],[e_r,mat2]]) \n",
        "  A2 = np.array([[mat3,1],[mat4,e_r]])\n",
        "  A3 = np.array([[mat3,mat1],[mat4,mat2]])\n",
        "\n",
        "  det1 = det([[1,mat1],[e_r,mat2]])\n",
        "  det2 = det([[mat3,1],[mat4,e_r]])\n",
        "  det3 = det([[mat3,mat1],[mat4,mat2]])\n",
        "  w = ((det1*matA)+(det2*matB))/det3\n",
        "  w_new.append(w)\n",
        "print(w_new)\n",
        "print(list_EK)"
      ],
      "execution_count": 149,
      "outputs": [
        {
          "output_type": "stream",
          "text": [
            "[array([ 6.86218080e-01, -1.86322459e-02,  2.85083013e-01,  4.73810890e-02,\n",
            "       -4.99355574e-05]), array([ 7.23009356e-01, -5.08719716e-02,  2.74592268e-01,  5.33163356e-02,\n",
            "       -4.59880773e-05]), array([ 7.60536457e-01, -8.37564918e-02,  2.63891709e-01,  5.93702873e-02,\n",
            "       -4.19616477e-05]), array([ 7.98814101e-01, -1.17298702e-01,  2.52977138e-01,  6.55453179e-02,\n",
            "       -3.78546894e-05])]\n",
            "[0.046702333481424774, 0.04763638015105327, 0.04858910775407434, 0.049560889909155824]\n"
          ],
          "name": "stdout"
        }
      ]
    },
    {
      "cell_type": "code",
      "metadata": {
        "id": "jxCVYqtkwC-K",
        "colab_type": "code",
        "outputId": "c4de0a88-af3c-4444-bf56-df2de3466465",
        "colab": {
          "base_uri": "https://localhost:8080/",
          "height": 236
        }
      },
      "source": [
        "list_bobot = []\n",
        "i = 0\n",
        "for bobot in w_new :\n",
        "  tmp = []\n",
        "  wT = np.transpose(bobot)\n",
        "  risk = bobot.dot(C).dot(wT)\n",
        "  for x in bobot :\n",
        "    tmp.append(x)\n",
        "  tmp.append(list_EK[i])\n",
        "  tmp.append(risk)\n",
        "  list_bobot.append(tmp)\n",
        "  i+=1\n",
        "print(list_bobot)\n",
        "\n",
        "df = pd.DataFrame(list_bobot)\n",
        "df.columns = column\n",
        "df_tmp =df_port\n",
        "new_df = df_tmp.append(df,ignore_index=True)\n",
        "new_df"
      ],
      "execution_count": 150,
      "outputs": [
        {
          "output_type": "stream",
          "text": [
            "[[0.6862180795600831, -0.018632245893077617, 0.2850830129232634, 0.047381088967139814, -4.993555740822758e-05, 0.046702333481424774, 0.00036022370596452405], [0.7230093556280021, -0.050871971571042084, 0.2745922683767675, 0.0533163356436089, -4.598807733715966e-05, 0.04763638015105327, 0.0003757409251120695], [0.7605364572172816, -0.08375649176256568, 0.2638917089393425, 0.05937028725360749, -4.196164766467055e-05, 0.04858910775407434, 0.0004023668700658253], [0.7988141008383438, -0.1172987023579198, 0.252977138313168, 0.0655453178958059, -3.7854689398731455e-05, 0.049560889909155824, 0.00044075996995140976]]\n"
          ],
          "name": "stdout"
        },
        {
          "output_type": "execute_result",
          "data": {
            "text/html": [
              "<div>\n",
              "<style scoped>\n",
              "    .dataframe tbody tr th:only-of-type {\n",
              "        vertical-align: middle;\n",
              "    }\n",
              "\n",
              "    .dataframe tbody tr th {\n",
              "        vertical-align: top;\n",
              "    }\n",
              "\n",
              "    .dataframe thead th {\n",
              "        text-align: right;\n",
              "    }\n",
              "</style>\n",
              "<table border=\"1\" class=\"dataframe\">\n",
              "  <thead>\n",
              "    <tr style=\"text-align: right;\">\n",
              "      <th></th>\n",
              "      <th>PBCRF</th>\n",
              "      <th>PHJMF</th>\n",
              "      <th>PTAIF</th>\n",
              "      <th>AKPI.JK</th>\n",
              "      <th>TLKMF</th>\n",
              "      <th>Expected Return</th>\n",
              "      <th>Risiko</th>\n",
              "    </tr>\n",
              "  </thead>\n",
              "  <tbody>\n",
              "    <tr>\n",
              "      <th>0</th>\n",
              "      <td>0.650100</td>\n",
              "      <td>0.013000</td>\n",
              "      <td>0.295400</td>\n",
              "      <td>0.041600</td>\n",
              "      <td>-0.000100</td>\n",
              "      <td>0.045787</td>\n",
              "      <td>0.000355</td>\n",
              "    </tr>\n",
              "    <tr>\n",
              "      <th>1</th>\n",
              "      <td>0.686218</td>\n",
              "      <td>-0.018632</td>\n",
              "      <td>0.285083</td>\n",
              "      <td>0.047381</td>\n",
              "      <td>-0.000050</td>\n",
              "      <td>0.046702</td>\n",
              "      <td>0.000360</td>\n",
              "    </tr>\n",
              "    <tr>\n",
              "      <th>2</th>\n",
              "      <td>0.723009</td>\n",
              "      <td>-0.050872</td>\n",
              "      <td>0.274592</td>\n",
              "      <td>0.053316</td>\n",
              "      <td>-0.000046</td>\n",
              "      <td>0.047636</td>\n",
              "      <td>0.000376</td>\n",
              "    </tr>\n",
              "    <tr>\n",
              "      <th>3</th>\n",
              "      <td>0.760536</td>\n",
              "      <td>-0.083756</td>\n",
              "      <td>0.263892</td>\n",
              "      <td>0.059370</td>\n",
              "      <td>-0.000042</td>\n",
              "      <td>0.048589</td>\n",
              "      <td>0.000402</td>\n",
              "    </tr>\n",
              "    <tr>\n",
              "      <th>4</th>\n",
              "      <td>0.798814</td>\n",
              "      <td>-0.117299</td>\n",
              "      <td>0.252977</td>\n",
              "      <td>0.065545</td>\n",
              "      <td>-0.000038</td>\n",
              "      <td>0.049561</td>\n",
              "      <td>0.000441</td>\n",
              "    </tr>\n",
              "  </tbody>\n",
              "</table>\n",
              "</div>"
            ],
            "text/plain": [
              "      PBCRF     PHJMF     PTAIF   AKPI.JK     TLKMF  Expected Return    Risiko\n",
              "0  0.650100  0.013000  0.295400  0.041600 -0.000100         0.045787  0.000355\n",
              "1  0.686218 -0.018632  0.285083  0.047381 -0.000050         0.046702  0.000360\n",
              "2  0.723009 -0.050872  0.274592  0.053316 -0.000046         0.047636  0.000376\n",
              "3  0.760536 -0.083756  0.263892  0.059370 -0.000042         0.048589  0.000402\n",
              "4  0.798814 -0.117299  0.252977  0.065545 -0.000038         0.049561  0.000441"
            ]
          },
          "metadata": {
            "tags": []
          },
          "execution_count": 150
        }
      ]
    },
    {
      "cell_type": "code",
      "metadata": {
        "id": "YnqVeJBFzjft",
        "colab_type": "code",
        "outputId": "97428a3c-44e9-462f-88fe-05441fbb41dc",
        "colab": {
          "base_uri": "https://localhost:8080/",
          "height": 279
        }
      },
      "source": [
        "import matplotlib.pyplot as plt\n",
        "\n",
        "y = new_df[\"Expected Return\"]\n",
        "x = new_df[\"Risiko\"]\n",
        "\n",
        "plt.plot(x,y)\n",
        "plt.scatter(x,y)\n",
        "plt.xlabel(\"Expected Return\")\n",
        "plt.ylabel(\"Risiko\")\n",
        "plt.show()"
      ],
      "execution_count": 151,
      "outputs": [
        {
          "output_type": "display_data",
          "data": {
            "image/png": "[encoded data removed]",
            "text/plain": [
              "<Figure size 432x288 with 1 Axes>"
            ]
          },
          "metadata": {
            "tags": [],
            "needs_background": "light"
          }
        }
      ]
    },
    {
      "cell_type": "code",
      "metadata": {
        "id": "AmDqZ4n6rSwT",
        "colab_type": "code",
        "colab": {}
      },
      "source": [
        ""
      ],
      "execution_count": 0,
      "outputs": []
    }
  ]
}