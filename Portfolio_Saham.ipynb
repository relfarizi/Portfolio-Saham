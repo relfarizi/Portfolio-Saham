{
  "nbformat": 4,
  "nbformat_minor": 0,
  "metadata": {
    "colab": {
      "name": "Portfolio Saham.ipynb",
      "provenance": [],
      "collapsed_sections": []
    },
    "kernelspec": {
      "name": "python3",
      "display_name": "Python 3"
    }
  },
  "cells": [
    {
      "cell_type": "markdown",
      "metadata": {
        "id": "IyP4QRhtch0F",
        "colab_type": "text"
      },
      "source": [
        "Load Data"
      ]
    },
    {
      "cell_type": "code",
      "metadata": {
        "id": "C2fA6gq9nhkp",
        "colab_type": "code",
        "colab": {}
      },
      "source": [
        "def convert_to_dollar(saham) :\n",
        "  usd = 15589\n",
        "  dollar = []\n",
        "  for x in saham :\n",
        "    dollar.append(x/usd)\n",
        "  return dollar\n"
      ],
      "execution_count": 0,
      "outputs": []
    },
    {
      "cell_type": "code",
      "metadata": {
        "id": "UekvxCwzchSo",
        "colab_type": "code",
        "outputId": "6328afe3-f7f0-45e9-c21d-7ef57b51f45e",
        "colab": {
          "base_uri": "https://localhost:8080/",
          "height": 406
        }
      },
      "source": [
        "import pandas as pd\n",
        "import regex as re\n",
        "\"\"\"\n",
        "kode_saham = [\"AAPL\",\"BA\",\"BATA.JK\",\"BKRKF\",\"CSCO\",\"IBM\",\n",
        "              \"TLKMF\",\"AKPI.JK\",\"INTC\",\"MSFT\",\"NVDA\",\n",
        "              \"ORCL\",\"PBCRF\",\"PHJMF\",\"PTAIF\",\"SPR\"]\n",
        "\"\"\"\n",
        "\n",
        "#fix \n",
        "\"\"\"\n",
        "kode_saham = [\"BKRKF\",\n",
        "              \"TLKMF\",\n",
        "              \"PHJMF\"]\n",
        "\n",
        "\"\"\"\n",
        "# variansi besar\n",
        "#kode_saham = [\"AAPL\",\"BA\",\"BATA.JK\",\"AKPI.JK\",\"INTC\",\"MSFT\",\"NVDA\",\"ORCL\",\"CSCO\",\"IBM\",\"SPR\"]\n",
        "\n",
        "#kode_saham = [\"BATA.JK\",\"AKPI.JK\"]\n",
        "\n",
        "kode_saham =[\"SGRO.JK\",\"TLKM.JK\",\"INDR.JK\",\"PRDA.JK\",\"AKPI.JK\"]\n",
        "#kode_saham =[\"SGRO.JK\",\"PHJMF\"]\n",
        "kode_tmp = []\n",
        "sama = False\n",
        "for i in kode_saham :\n",
        "  if i in kode_tmp :\n",
        "    sama =  True\n",
        "    kodenya = i\n",
        "    break\n",
        "  else :\n",
        "      kode_tmp.append(i)\n",
        "\n",
        "if sama :\n",
        "  dataset = []\n",
        "  print(\"ada yang sama\", kodenya)\n",
        "else :\n",
        "  n = len(kode_saham)\n",
        "  github = \"https://raw.githubusercontent.com/relfarizi/Portfolio-Saham/master/Data/\"\n",
        "\n",
        "  df = []\n",
        "  for i in range(n) :\n",
        "    datas = pd.read_csv(github+kode_saham[i]+\".csv\")\n",
        "\n",
        "    if re.findall(\".JK\",kode_saham[i]):\n",
        "      tmp = datas[\"Close\"].tolist()\n",
        "      data_tmp = convert_to_dollar(tmp)\n",
        "    else :\n",
        "      data_tmp =datas[\"Close\"]\n",
        "    df.append(pd.DataFrame(data_tmp))\n",
        "    #print(data_tmp.shape)\n",
        "  dataset = pd.concat(df, axis=1, sort=False)\n",
        "  dataset = dataset.dropna()\n",
        "  dataset.columns = kode_saham\n",
        "dataset"
      ],
      "execution_count": 985,
      "outputs": [
        {
          "output_type": "execute_result",
          "data": {
            "text/html": [
              "<div>\n",
              "<style scoped>\n",
              "    .dataframe tbody tr th:only-of-type {\n",
              "        vertical-align: middle;\n",
              "    }\n",
              "\n",
              "    .dataframe tbody tr th {\n",
              "        vertical-align: top;\n",
              "    }\n",
              "\n",
              "    .dataframe thead th {\n",
              "        text-align: right;\n",
              "    }\n",
              "</style>\n",
              "<table border=\"1\" class=\"dataframe\">\n",
              "  <thead>\n",
              "    <tr style=\"text-align: right;\">\n",
              "      <th></th>\n",
              "      <th>SGRO.JK</th>\n",
              "      <th>TLKM.JK</th>\n",
              "      <th>INDR.JK</th>\n",
              "      <th>PRDA.JK</th>\n",
              "      <th>AKPI.JK</th>\n",
              "    </tr>\n",
              "  </thead>\n",
              "  <tbody>\n",
              "    <tr>\n",
              "      <th>0</th>\n",
              "      <td>0.121881</td>\n",
              "      <td>0.256591</td>\n",
              "      <td>0.048432</td>\n",
              "      <td>0.367246</td>\n",
              "      <td>0.056771</td>\n",
              "    </tr>\n",
              "    <tr>\n",
              "      <th>1</th>\n",
              "      <td>0.121881</td>\n",
              "      <td>0.253384</td>\n",
              "      <td>0.048432</td>\n",
              "      <td>0.367246</td>\n",
              "      <td>0.057733</td>\n",
              "    </tr>\n",
              "    <tr>\n",
              "      <th>2</th>\n",
              "      <td>0.123485</td>\n",
              "      <td>0.245686</td>\n",
              "      <td>0.048432</td>\n",
              "      <td>0.352813</td>\n",
              "      <td>0.063506</td>\n",
              "    </tr>\n",
              "    <tr>\n",
              "      <th>3</th>\n",
              "      <td>0.127654</td>\n",
              "      <td>0.249535</td>\n",
              "      <td>0.046828</td>\n",
              "      <td>0.362435</td>\n",
              "      <td>0.053563</td>\n",
              "    </tr>\n",
              "    <tr>\n",
              "      <th>4</th>\n",
              "      <td>0.128296</td>\n",
              "      <td>0.253384</td>\n",
              "      <td>0.051960</td>\n",
              "      <td>0.354417</td>\n",
              "      <td>0.051318</td>\n",
              "    </tr>\n",
              "    <tr>\n",
              "      <th>...</th>\n",
              "      <td>...</td>\n",
              "      <td>...</td>\n",
              "      <td>...</td>\n",
              "      <td>...</td>\n",
              "      <td>...</td>\n",
              "    </tr>\n",
              "    <tr>\n",
              "      <th>100</th>\n",
              "      <td>0.150106</td>\n",
              "      <td>0.235422</td>\n",
              "      <td>0.416961</td>\n",
              "      <td>0.132144</td>\n",
              "      <td>0.046186</td>\n",
              "    </tr>\n",
              "    <tr>\n",
              "      <th>101</th>\n",
              "      <td>0.153313</td>\n",
              "      <td>0.239271</td>\n",
              "      <td>0.416961</td>\n",
              "      <td>0.143691</td>\n",
              "      <td>0.048111</td>\n",
              "    </tr>\n",
              "    <tr>\n",
              "      <th>102</th>\n",
              "      <td>0.155879</td>\n",
              "      <td>0.241196</td>\n",
              "      <td>0.402527</td>\n",
              "      <td>0.147540</td>\n",
              "      <td>0.044903</td>\n",
              "    </tr>\n",
              "    <tr>\n",
              "      <th>103</th>\n",
              "      <td>0.152030</td>\n",
              "      <td>0.240554</td>\n",
              "      <td>0.380076</td>\n",
              "      <td>0.146257</td>\n",
              "      <td>0.044903</td>\n",
              "    </tr>\n",
              "    <tr>\n",
              "      <th>104</th>\n",
              "      <td>0.152030</td>\n",
              "      <td>0.240554</td>\n",
              "      <td>0.380076</td>\n",
              "      <td>0.146257</td>\n",
              "      <td>0.044903</td>\n",
              "    </tr>\n",
              "  </tbody>\n",
              "</table>\n",
              "<p>105 rows × 5 columns</p>\n",
              "</div>"
            ],
            "text/plain": [
              "      SGRO.JK   TLKM.JK   INDR.JK   PRDA.JK   AKPI.JK\n",
              "0    0.121881  0.256591  0.048432  0.367246  0.056771\n",
              "1    0.121881  0.253384  0.048432  0.367246  0.057733\n",
              "2    0.123485  0.245686  0.048432  0.352813  0.063506\n",
              "3    0.127654  0.249535  0.046828  0.362435  0.053563\n",
              "4    0.128296  0.253384  0.051960  0.354417  0.051318\n",
              "..        ...       ...       ...       ...       ...\n",
              "100  0.150106  0.235422  0.416961  0.132144  0.046186\n",
              "101  0.153313  0.239271  0.416961  0.143691  0.048111\n",
              "102  0.155879  0.241196  0.402527  0.147540  0.044903\n",
              "103  0.152030  0.240554  0.380076  0.146257  0.044903\n",
              "104  0.152030  0.240554  0.380076  0.146257  0.044903\n",
              "\n",
              "[105 rows x 5 columns]"
            ]
          },
          "metadata": {
            "tags": []
          },
          "execution_count": 985
        }
      ]
    },
    {
      "cell_type": "code",
      "metadata": {
        "id": "HhgvIYlivXjL",
        "colab_type": "code",
        "outputId": "cf3557e2-2506-4433-f809-52d8ce55042b",
        "colab": {
          "base_uri": "https://localhost:8080/",
          "height": 197
        }
      },
      "source": [
        "rho = dataset.corr().values\n",
        "dataset.corr()"
      ],
      "execution_count": 986,
      "outputs": [
        {
          "output_type": "execute_result",
          "data": {
            "text/html": [
              "<div>\n",
              "<style scoped>\n",
              "    .dataframe tbody tr th:only-of-type {\n",
              "        vertical-align: middle;\n",
              "    }\n",
              "\n",
              "    .dataframe tbody tr th {\n",
              "        vertical-align: top;\n",
              "    }\n",
              "\n",
              "    .dataframe thead th {\n",
              "        text-align: right;\n",
              "    }\n",
              "</style>\n",
              "<table border=\"1\" class=\"dataframe\">\n",
              "  <thead>\n",
              "    <tr style=\"text-align: right;\">\n",
              "      <th></th>\n",
              "      <th>SGRO.JK</th>\n",
              "      <th>TLKM.JK</th>\n",
              "      <th>INDR.JK</th>\n",
              "      <th>PRDA.JK</th>\n",
              "      <th>AKPI.JK</th>\n",
              "    </tr>\n",
              "  </thead>\n",
              "  <tbody>\n",
              "    <tr>\n",
              "      <th>SGRO.JK</th>\n",
              "      <td>1.000000</td>\n",
              "      <td>-0.336531</td>\n",
              "      <td>0.282667</td>\n",
              "      <td>-0.599204</td>\n",
              "      <td>-0.559313</td>\n",
              "    </tr>\n",
              "    <tr>\n",
              "      <th>TLKM.JK</th>\n",
              "      <td>-0.336531</td>\n",
              "      <td>1.000000</td>\n",
              "      <td>-0.647548</td>\n",
              "      <td>0.348964</td>\n",
              "      <td>0.244041</td>\n",
              "    </tr>\n",
              "    <tr>\n",
              "      <th>INDR.JK</th>\n",
              "      <td>0.282667</td>\n",
              "      <td>-0.647548</td>\n",
              "      <td>1.000000</td>\n",
              "      <td>-0.715454</td>\n",
              "      <td>-0.019710</td>\n",
              "    </tr>\n",
              "    <tr>\n",
              "      <th>PRDA.JK</th>\n",
              "      <td>-0.599204</td>\n",
              "      <td>0.348964</td>\n",
              "      <td>-0.715454</td>\n",
              "      <td>1.000000</td>\n",
              "      <td>0.189698</td>\n",
              "    </tr>\n",
              "    <tr>\n",
              "      <th>AKPI.JK</th>\n",
              "      <td>-0.559313</td>\n",
              "      <td>0.244041</td>\n",
              "      <td>-0.019710</td>\n",
              "      <td>0.189698</td>\n",
              "      <td>1.000000</td>\n",
              "    </tr>\n",
              "  </tbody>\n",
              "</table>\n",
              "</div>"
            ],
            "text/plain": [
              "          SGRO.JK   TLKM.JK   INDR.JK   PRDA.JK   AKPI.JK\n",
              "SGRO.JK  1.000000 -0.336531  0.282667 -0.599204 -0.559313\n",
              "TLKM.JK -0.336531  1.000000 -0.647548  0.348964  0.244041\n",
              "INDR.JK  0.282667 -0.647548  1.000000 -0.715454 -0.019710\n",
              "PRDA.JK -0.599204  0.348964 -0.715454  1.000000  0.189698\n",
              "AKPI.JK -0.559313  0.244041 -0.019710  0.189698  1.000000"
            ]
          },
          "metadata": {
            "tags": []
          },
          "execution_count": 986
        }
      ]
    },
    {
      "cell_type": "code",
      "metadata": {
        "id": "BfnZHz8vxkW6",
        "colab_type": "code",
        "outputId": "0ba4b7d7-c885-447e-ae3f-4d4d452c0371",
        "colab": {
          "base_uri": "https://localhost:8080/",
          "height": 55
        }
      },
      "source": [
        "\"\"\"import numpy as np\n",
        "#print(type(dataset.corr()))\n",
        "list_corr = []\n",
        "for x in dataset:\n",
        "  print(type(dataset.corr()[x]))\n",
        "  #print(dataset[x].corr())\n",
        "  #list_corr.append(dataset[x].corr().tolist())\n",
        "  #print(dataset.corr()[x].tolist())\n",
        "#rho = np.array(list_corr)\n",
        "#print(rho)\"\"\""
      ],
      "execution_count": 987,
      "outputs": [
        {
          "output_type": "execute_result",
          "data": {
            "text/plain": [
              "'import numpy as np\\n#print(type(dataset.corr()))\\nlist_corr = []\\nfor x in dataset:\\n  print(type(dataset.corr()[x]))\\n  #print(dataset[x].corr())\\n  #list_corr.append(dataset[x].corr().tolist())\\n  #print(dataset.corr()[x].tolist())\\n#rho = np.array(list_corr)\\n#print(rho)'"
            ]
          },
          "metadata": {
            "tags": []
          },
          "execution_count": 987
        }
      ]
    },
    {
      "cell_type": "code",
      "metadata": {
        "id": "X0zv2wL_14cF",
        "colab_type": "code",
        "outputId": "b5dc49ab-0378-4379-f317-0d13832350d7",
        "colab": {
          "base_uri": "https://localhost:8080/",
          "height": 78
        }
      },
      "source": [
        "import statistics as st\n",
        "var = []\n",
        "for x in kode_saham :\n",
        "  tmp = dataset[x].tolist()\n",
        "  #print(tmp)\n",
        "  var.append(st.variance(tmp))\n",
        "#print(var)\n",
        "df_var = pd.DataFrame([var])\n",
        "df_var.columns = kode_saham\n",
        "df_var"
      ],
      "execution_count": 988,
      "outputs": [
        {
          "output_type": "execute_result",
          "data": {
            "text/html": [
              "<div>\n",
              "<style scoped>\n",
              "    .dataframe tbody tr th:only-of-type {\n",
              "        vertical-align: middle;\n",
              "    }\n",
              "\n",
              "    .dataframe tbody tr th {\n",
              "        vertical-align: top;\n",
              "    }\n",
              "\n",
              "    .dataframe thead th {\n",
              "        text-align: right;\n",
              "    }\n",
              "</style>\n",
              "<table border=\"1\" class=\"dataframe\">\n",
              "  <thead>\n",
              "    <tr style=\"text-align: right;\">\n",
              "      <th></th>\n",
              "      <th>SGRO.JK</th>\n",
              "      <th>TLKM.JK</th>\n",
              "      <th>INDR.JK</th>\n",
              "      <th>PRDA.JK</th>\n",
              "      <th>AKPI.JK</th>\n",
              "    </tr>\n",
              "  </thead>\n",
              "  <tbody>\n",
              "    <tr>\n",
              "      <th>0</th>\n",
              "      <td>0.000177</td>\n",
              "      <td>0.0006</td>\n",
              "      <td>0.020704</td>\n",
              "      <td>0.003107</td>\n",
              "      <td>0.000029</td>\n",
              "    </tr>\n",
              "  </tbody>\n",
              "</table>\n",
              "</div>"
            ],
            "text/plain": [
              "    SGRO.JK  TLKM.JK   INDR.JK   PRDA.JK   AKPI.JK\n",
              "0  0.000177   0.0006  0.020704  0.003107  0.000029"
            ]
          },
          "metadata": {
            "tags": []
          },
          "execution_count": 988
        }
      ]
    },
    {
      "cell_type": "markdown",
      "metadata": {
        "id": "0OKx_5ia6Ij4",
        "colab_type": "text"
      },
      "source": [
        "\n",
        "# Multi sekuritas\n"
      ]
    },
    {
      "cell_type": "code",
      "metadata": {
        "id": "_IjEA--Wo34f",
        "colab_type": "code",
        "outputId": "a2f610de-3bb6-41aa-c9e4-7e5ffec5b834",
        "colab": {
          "base_uri": "https://localhost:8080/",
          "height": 55
        }
      },
      "source": [
        "import numpy as np\n",
        "\n",
        "std_dev = []\n",
        "for i in var :\n",
        "  std_dev.append(np.sqrt(i))\n",
        "n = len(std_dev)\n",
        "\n",
        "u = np.ones(n)\n",
        "\"\"\"#print(u)\n",
        "#rho = np.zeros((n,n))\n",
        "#rho[0][1] = 0.1\n",
        "\n",
        "#rho[0][2] = 0.2\n",
        "#rho[0][3] = 0.2\n",
        "#rho[0][4] = 0.2\n",
        "#rho[1][2] = 0.2\n",
        "#rho[1][3] = 0.2\n",
        "#rho[1][4] = 0.2\n",
        "#rho[2][3] = 0.2\n",
        "#rho[2][4] = 0.2\n",
        "#rho[3][4] = 0.2\n",
        "\n",
        "for i in range(n) :\n",
        "  for j in range(n) :\n",
        "    if j == i :\n",
        "      rho[i][j] = 1\n",
        "    elif j < i :\n",
        "      rho[i][j] = rho[j][i]\n",
        "print(rho)\"\"\""
      ],
      "execution_count": 989,
      "outputs": [
        {
          "output_type": "execute_result",
          "data": {
            "text/plain": [
              "'#print(u)\\n#rho = np.zeros((n,n))\\n#rho[0][1] = 0.1\\n\\n#rho[0][2] = 0.2\\n#rho[0][3] = 0.2\\n#rho[0][4] = 0.2\\n#rho[1][2] = 0.2\\n#rho[1][3] = 0.2\\n#rho[1][4] = 0.2\\n#rho[2][3] = 0.2\\n#rho[2][4] = 0.2\\n#rho[3][4] = 0.2\\n\\nfor i in range(n) :\\n  for j in range(n) :\\n    if j == i :\\n      rho[i][j] = 1\\n    elif j < i :\\n      rho[i][j] = rho[j][i]\\nprint(rho)'"
            ]
          },
          "metadata": {
            "tags": []
          },
          "execution_count": 989
        }
      ]
    },
    {
      "cell_type": "code",
      "metadata": {
        "id": "tjfy_FW2FPW8",
        "colab_type": "code",
        "outputId": "db72efae-7774-482f-8cdd-c025ade8a3de",
        "colab": {
          "base_uri": "https://localhost:8080/",
          "height": 90
        }
      },
      "source": [
        "\n",
        "\n",
        "def is_short_selling(rho,std_dev):\n",
        "  n = len(rho)\n",
        "  print(n)\n",
        "  check = False\n",
        "  #rho = rho.sort()\n",
        "  #std_Dev =std_dev.sort()\n",
        "  sahamnya = []\n",
        "  for i in range(n):\n",
        "    for j in range(n):\n",
        "      if i < j :\n",
        "        x = std_dev[i]/std_dev[j]\n",
        "        #print(rho[i][j])\n",
        "        if rho[i][j] > x :\n",
        "          check =True\n",
        "          sahamnya.append([kode_saham[i],kode_saham[j]])\n",
        "    \n",
        "  return [check,sahamnya]\n",
        "\n",
        "if(is_short_selling(rho,std_dev)[0]) :\n",
        "  short = {}\n",
        "  list_short = is_short_selling(rho,std_dev)[1]\n",
        "  print(list_short)\n",
        "  for i in list_short :\n",
        "    x = i[0]\n",
        "    y = i[1]\n",
        "    if x not in short.keys():\n",
        "      short[x] =1\n",
        "    else :\n",
        "      short[x] += 1\n",
        "    \n",
        "    if y not in short.keys():\n",
        "      short[y] = 1\n",
        "    else :\n",
        "      short[y] += 1\n",
        "  print(short)\n",
        "else :\n",
        "  print(\"aman\")\n",
        "  print(kode_saham)"
      ],
      "execution_count": 990,
      "outputs": [
        {
          "output_type": "stream",
          "text": [
            "5\n",
            "5\n",
            "[['SGRO.JK', 'INDR.JK']]\n",
            "{'SGRO.JK': 1, 'INDR.JK': 1}\n"
          ],
          "name": "stdout"
        }
      ]
    },
    {
      "cell_type": "code",
      "metadata": {
        "id": "0vEXEjumtGQF",
        "colab_type": "code",
        "colab": {}
      },
      "source": [
        "C = (np.zeros((n,n)))\n",
        "\n",
        "for i in range(n):\n",
        "  for j in range(n) :\n",
        "    C[i][j] = std_dev[i]*rho[i][j]*std_dev[j]\n",
        "#print(C)"
      ],
      "execution_count": 0,
      "outputs": []
    },
    {
      "cell_type": "code",
      "metadata": {
        "id": "3hwGZW6iwQNH",
        "colab_type": "code",
        "outputId": "964e63b3-8b43-4f22-a77e-6f8555ad8a1b",
        "colab": {
          "base_uri": "https://localhost:8080/",
          "height": 35
        }
      },
      "source": [
        "from numpy.linalg import inv\n",
        "from numpy.linalg import det\n",
        "u = np.ones(n)\n",
        "uT = np.transpose(u)\n",
        "\n",
        "CInv = inv(C)\n",
        "\n",
        "w = np.dot(u,CInv)/(u.dot(CInv).dot(uT))\n",
        "print(w)"
      ],
      "execution_count": 992,
      "outputs": [
        {
          "output_type": "stream",
          "text": [
            "[0.30097929 0.04269055 0.01155221 0.04996324 0.59481471]\n"
          ],
          "name": "stdout"
        }
      ]
    },
    {
      "cell_type": "code",
      "metadata": {
        "id": "DdcSSGjLwYzR",
        "colab_type": "code",
        "outputId": "4711fe75-1526-448d-b4d9-71f0bd0234a6",
        "colab": {
          "base_uri": "https://localhost:8080/",
          "height": 35
        }
      },
      "source": [
        "#w = np.array([0.3,0.4])\n",
        "wT = np.transpose(w)\n",
        "x = np.dot(u,wT)\n",
        "print(\"jumlah w = \",x)"
      ],
      "execution_count": 993,
      "outputs": [
        {
          "output_type": "stream",
          "text": [
            "jumlah w =  1.0\n"
          ],
          "name": "stdout"
        }
      ]
    },
    {
      "cell_type": "code",
      "metadata": {
        "id": "uF0PiR3x5IyE",
        "colab_type": "code",
        "outputId": "df52f90a-8dc4-4faa-ba6e-5c5211df70dd",
        "colab": {
          "base_uri": "https://localhost:8080/",
          "height": 35
        }
      },
      "source": [
        "risk = w.dot(C).dot(wT)\n",
        "print(round(risk,4))"
      ],
      "execution_count": 994,
      "outputs": [
        {
          "output_type": "stream",
          "text": [
            "0.0\n"
          ],
          "name": "stdout"
        }
      ]
    },
    {
      "cell_type": "markdown",
      "metadata": {
        "id": "2lPrbuwozieS",
        "colab_type": "text"
      },
      "source": [
        "Expected return saham\n"
      ]
    },
    {
      "cell_type": "code",
      "metadata": {
        "id": "oNcz2cigzlnm",
        "colab_type": "code",
        "colab": {}
      },
      "source": [
        "import math\n",
        "def find_ud(saham) :\n",
        "  K = []\n",
        "  \n",
        "  \n",
        "  for i in range(len(saham)-1) :\n",
        "    x = (saham[i+1]-saham[i])/saham[i]\n",
        "    K.append(x)\n",
        "  up = []\n",
        "  down = []\n",
        "\n",
        "  for i in K :\n",
        "    if i > 0 :\n",
        "      x = 1\n",
        "      y = 0\n",
        "    else :\n",
        "      x = 0\n",
        "      y = 1\n",
        "    up.append(x)\n",
        "    down.append(y)\n",
        "  \n",
        "  x_up = 1\n",
        "  x_down = 1\n",
        "\n",
        "  sum_u = 0\n",
        "  sum_d = 0\n",
        "\n",
        "  for i in range(len(K)) :\n",
        "    x_up += K[i]*up[i]\n",
        "    sum_u += up[i]\n",
        "    x_down += K[i]*down[i]\n",
        "    sum_d += down[i]\n",
        "  \n",
        "  u = x_up/sum_u\n",
        "  d = x_up/sum_d\n",
        "\n",
        "  p = sum_u/(sum_u+sum_d)\n",
        "  q = 1-p\n",
        "\n",
        "  result = {\"u\" : u, \"d\" : d,\"p\":p,\"q\":q}\n",
        "  \n",
        "  return result"
      ],
      "execution_count": 0,
      "outputs": []
    },
    {
      "cell_type": "code",
      "metadata": {
        "id": "X3FpZ9MCFsy0",
        "colab_type": "code",
        "colab": {}
      },
      "source": [
        "def return_saham(df_saham) :\n",
        "  result = {}\n",
        "  for saham in df_saham :\n",
        "    x = find_ud(df_saham[saham])\n",
        "    exp = (x[\"u\"]*x[\"p\"])+(x[\"d\"]*x[\"q\"])\n",
        "    result[saham] = exp\n",
        "  return result"
      ],
      "execution_count": 0,
      "outputs": []
    },
    {
      "cell_type": "code",
      "metadata": {
        "id": "tL_NXG_aIZSq",
        "colab_type": "code",
        "colab": {}
      },
      "source": [
        "return_ = return_saham(dataset)\n",
        "m = []\n",
        "for saham in return_ :\n",
        "  m.append(return_[saham])"
      ],
      "execution_count": 0,
      "outputs": []
    },
    {
      "cell_type": "code",
      "metadata": {
        "id": "UIsKSW8z4Gac",
        "colab_type": "code",
        "outputId": "90e993ca-5d07-48c5-fe29-c566e698858a",
        "colab": {
          "base_uri": "https://localhost:8080/",
          "height": 168
        }
      },
      "source": [
        "\n",
        "import pandas as pd\n",
        "\n",
        "m = np.array(m)\n",
        "print(m)\n",
        "EK = m.dot(wT)\n",
        "print(\"ekspektasi return = \", EK)\n",
        "risk = w.dot(C).dot(wT)\n",
        "print(\"risk = \",risk)\n",
        "\n",
        "portfolio=[round(x,4) for x in w]\n",
        "portfolio.append(EK)\n",
        "portfolio.append(risk)\n",
        "print(portfolio)\n",
        "\n",
        "df_port = pd.DataFrame([portfolio])\n",
        "column = kode_saham\n",
        "print(kode_saham)\n",
        "column.append(\"Expected Return\")\n",
        "column.append(\"Risiko\")\n",
        "df_port.columns = column\n",
        "df_port"
      ],
      "execution_count": 998,
      "outputs": [
        {
          "output_type": "stream",
          "text": [
            "[0.03296868 0.04091494 0.12227148 0.039591   0.07927717]\n",
            "ekspektasi return =  0.062215400064378555\n",
            "risk =  9.036988165767118e-06\n",
            "[0.301, 0.0427, 0.0116, 0.05, 0.5948, 0.062215400064378555, 9.036988165767118e-06]\n",
            "['SGRO.JK', 'TLKM.JK', 'INDR.JK', 'PRDA.JK', 'AKPI.JK']\n"
          ],
          "name": "stdout"
        },
        {
          "output_type": "execute_result",
          "data": {
            "text/html": [
              "<div>\n",
              "<style scoped>\n",
              "    .dataframe tbody tr th:only-of-type {\n",
              "        vertical-align: middle;\n",
              "    }\n",
              "\n",
              "    .dataframe tbody tr th {\n",
              "        vertical-align: top;\n",
              "    }\n",
              "\n",
              "    .dataframe thead th {\n",
              "        text-align: right;\n",
              "    }\n",
              "</style>\n",
              "<table border=\"1\" class=\"dataframe\">\n",
              "  <thead>\n",
              "    <tr style=\"text-align: right;\">\n",
              "      <th></th>\n",
              "      <th>SGRO.JK</th>\n",
              "      <th>TLKM.JK</th>\n",
              "      <th>INDR.JK</th>\n",
              "      <th>PRDA.JK</th>\n",
              "      <th>AKPI.JK</th>\n",
              "      <th>Expected Return</th>\n",
              "      <th>Risiko</th>\n",
              "    </tr>\n",
              "  </thead>\n",
              "  <tbody>\n",
              "    <tr>\n",
              "      <th>0</th>\n",
              "      <td>0.301</td>\n",
              "      <td>0.0427</td>\n",
              "      <td>0.0116</td>\n",
              "      <td>0.05</td>\n",
              "      <td>0.5948</td>\n",
              "      <td>0.062215</td>\n",
              "      <td>0.000009</td>\n",
              "    </tr>\n",
              "  </tbody>\n",
              "</table>\n",
              "</div>"
            ],
            "text/plain": [
              "   SGRO.JK  TLKM.JK  INDR.JK  PRDA.JK  AKPI.JK  Expected Return    Risiko\n",
              "0    0.301   0.0427   0.0116     0.05   0.5948         0.062215  0.000009"
            ]
          },
          "metadata": {
            "tags": []
          },
          "execution_count": 998
        }
      ]
    },
    {
      "cell_type": "code",
      "metadata": {
        "id": "To2paLsJ5Eny",
        "colab_type": "code",
        "outputId": "05a5cbc4-c411-406e-904a-cb11c7e54ed4",
        "colab": {
          "base_uri": "https://localhost:8080/",
          "height": 73
        }
      },
      "source": [
        "mT = np.transpose(m)\n",
        "e_r = EK\n",
        "w_new = []\n",
        "list_EK = []\n",
        "for i in range(4) :\n",
        "  e_r *= 1.02\n",
        "  list_EK.append(e_r)\n",
        "  \n",
        "  matA = np.dot(u,(CInv))\n",
        "  matB = np.dot(m,(CInv))\n",
        "  mat1 = u.dot(CInv).dot(mT)\n",
        "  mat2 = m.dot(CInv).dot(mT)\n",
        "  mat3 = u.dot(CInv).dot(uT)\n",
        "  mat4 = m.dot(CInv).dot(uT)\n",
        "\n",
        "  A1 = np.array([[1,mat1],[e_r,mat2]]) \n",
        "  A2 = np.array([[mat3,1],[mat4,e_r]])\n",
        "  A3 = np.array([[mat3,mat1],[mat4,mat2]])\n",
        "\n",
        "  det1 = det([[1,mat1],[e_r,mat2]])\n",
        "  det2 = det([[mat3,1],[mat4,e_r]])\n",
        "  det3 = det([[mat3,mat1],[mat4,mat2]])\n",
        "  w = ((det1*matA)+(det2*matB))/det3\n",
        "  w_new.append(w)\n",
        "print(w_new)\n",
        "print(list_EK)"
      ],
      "execution_count": 999,
      "outputs": [
        {
          "output_type": "stream",
          "text": [
            "[array([0.28522427, 0.03266899, 0.00953483, 0.04449526, 0.62807665]), array([0.26915414, 0.022447  , 0.0074771 , 0.03891792, 0.66200384]), array([0.25276262, 0.01202058, 0.00537821, 0.03322903, 0.69660957]), array([0.23604326, 0.00138562, 0.00323734, 0.02742636, 0.73190742])]\n",
            "[0.06345970806566613, 0.06472890222697945, 0.06602348027151904, 0.06734394987694942]\n"
          ],
          "name": "stdout"
        }
      ]
    },
    {
      "cell_type": "code",
      "metadata": {
        "id": "jxCVYqtkwC-K",
        "colab_type": "code",
        "outputId": "a62c57e0-3620-456d-9158-1b5e594f5f03",
        "colab": {
          "base_uri": "https://localhost:8080/",
          "height": 236
        }
      },
      "source": [
        "list_bobot = []\n",
        "i = 0\n",
        "for bobot in w_new :\n",
        "  tmp = []\n",
        "  wT = np.transpose(bobot)\n",
        "  risk = bobot.dot(C).dot(wT)\n",
        "  for x in bobot :\n",
        "    tmp.append(x)\n",
        "  tmp.append(list_EK[i])\n",
        "  tmp.append(risk)\n",
        "  list_bobot.append(tmp)\n",
        "  i+=1\n",
        "print(list_bobot)\n",
        "\n",
        "df = pd.DataFrame(list_bobot)\n",
        "df.columns = column\n",
        "df_tmp =df_port\n",
        "new_df = df_tmp.append(df,ignore_index=True)\n",
        "new_df"
      ],
      "execution_count": 1000,
      "outputs": [
        {
          "output_type": "stream",
          "text": [
            "[[0.2852242669822272, 0.03266899240180597, 0.00953482787587406, 0.04449525875987173, 0.6280766539802217, 0.06345970806566613, 9.108450886136002e-06], [0.2691541423214392, 0.022447004503563444, 0.007477095708893093, 0.03891791632791389, 0.6620038411381903, 0.06472890222697945, 9.328584649960261e-06], [0.25276261516743587, 0.012020576847356173, 0.005378208898572535, 0.03322902704731698, 0.6966095720393191, 0.06602348027151904, 9.706311446386593e-06], [0.23604325747035196, 0.001385620638024663, 0.0032373443520455417, 0.027426359981108036, 0.7319074175584696, 0.06734394987694942, 1.0250972026502937e-05]]\n"
          ],
          "name": "stdout"
        },
        {
          "output_type": "execute_result",
          "data": {
            "text/html": [
              "<div>\n",
              "<style scoped>\n",
              "    .dataframe tbody tr th:only-of-type {\n",
              "        vertical-align: middle;\n",
              "    }\n",
              "\n",
              "    .dataframe tbody tr th {\n",
              "        vertical-align: top;\n",
              "    }\n",
              "\n",
              "    .dataframe thead th {\n",
              "        text-align: right;\n",
              "    }\n",
              "</style>\n",
              "<table border=\"1\" class=\"dataframe\">\n",
              "  <thead>\n",
              "    <tr style=\"text-align: right;\">\n",
              "      <th></th>\n",
              "      <th>SGRO.JK</th>\n",
              "      <th>TLKM.JK</th>\n",
              "      <th>INDR.JK</th>\n",
              "      <th>PRDA.JK</th>\n",
              "      <th>AKPI.JK</th>\n",
              "      <th>Expected Return</th>\n",
              "      <th>Risiko</th>\n",
              "    </tr>\n",
              "  </thead>\n",
              "  <tbody>\n",
              "    <tr>\n",
              "      <th>0</th>\n",
              "      <td>0.301000</td>\n",
              "      <td>0.042700</td>\n",
              "      <td>0.011600</td>\n",
              "      <td>0.050000</td>\n",
              "      <td>0.594800</td>\n",
              "      <td>0.062215</td>\n",
              "      <td>0.000009</td>\n",
              "    </tr>\n",
              "    <tr>\n",
              "      <th>1</th>\n",
              "      <td>0.285224</td>\n",
              "      <td>0.032669</td>\n",
              "      <td>0.009535</td>\n",
              "      <td>0.044495</td>\n",
              "      <td>0.628077</td>\n",
              "      <td>0.063460</td>\n",
              "      <td>0.000009</td>\n",
              "    </tr>\n",
              "    <tr>\n",
              "      <th>2</th>\n",
              "      <td>0.269154</td>\n",
              "      <td>0.022447</td>\n",
              "      <td>0.007477</td>\n",
              "      <td>0.038918</td>\n",
              "      <td>0.662004</td>\n",
              "      <td>0.064729</td>\n",
              "      <td>0.000009</td>\n",
              "    </tr>\n",
              "    <tr>\n",
              "      <th>3</th>\n",
              "      <td>0.252763</td>\n",
              "      <td>0.012021</td>\n",
              "      <td>0.005378</td>\n",
              "      <td>0.033229</td>\n",
              "      <td>0.696610</td>\n",
              "      <td>0.066023</td>\n",
              "      <td>0.000010</td>\n",
              "    </tr>\n",
              "    <tr>\n",
              "      <th>4</th>\n",
              "      <td>0.236043</td>\n",
              "      <td>0.001386</td>\n",
              "      <td>0.003237</td>\n",
              "      <td>0.027426</td>\n",
              "      <td>0.731907</td>\n",
              "      <td>0.067344</td>\n",
              "      <td>0.000010</td>\n",
              "    </tr>\n",
              "  </tbody>\n",
              "</table>\n",
              "</div>"
            ],
            "text/plain": [
              "    SGRO.JK   TLKM.JK   INDR.JK   PRDA.JK   AKPI.JK  Expected Return    Risiko\n",
              "0  0.301000  0.042700  0.011600  0.050000  0.594800         0.062215  0.000009\n",
              "1  0.285224  0.032669  0.009535  0.044495  0.628077         0.063460  0.000009\n",
              "2  0.269154  0.022447  0.007477  0.038918  0.662004         0.064729  0.000009\n",
              "3  0.252763  0.012021  0.005378  0.033229  0.696610         0.066023  0.000010\n",
              "4  0.236043  0.001386  0.003237  0.027426  0.731907         0.067344  0.000010"
            ]
          },
          "metadata": {
            "tags": []
          },
          "execution_count": 1000
        }
      ]
    },
    {
      "cell_type": "code",
      "metadata": {
        "id": "YnqVeJBFzjft",
        "colab_type": "code",
        "outputId": "fcce92dd-91be-4fd0-ac27-ff3321ccbb6c",
        "colab": {
          "base_uri": "https://localhost:8080/",
          "height": 279
        }
      },
      "source": [
        "import matplotlib.pyplot as plt\n",
        "\n",
        "y = new_df[\"Expected Return\"]\n",
        "x = new_df[\"Risiko\"]\n",
        "\n",
        "plt.plot(x,y)\n",
        "plt.scatter(x,y)\n",
        "plt.xlabel(\"Expected Return\")\n",
        "plt.ylabel(\"Risiko\")\n",
        "plt.show()"
      ],
      "execution_count": 1001,
      "outputs": [
        {
          "output_type": "display_data",
          "data": {
            "image/png": "[encoded data removed]",
            "text/plain": [
              "<Figure size 432x288 with 1 Axes>"
            ]
          },
          "metadata": {
            "tags": [],
            "needs_background": "light"
          }
        }
      ]
    },
    {
      "cell_type": "code",
      "metadata": {
        "id": "AmDqZ4n6rSwT",
        "colab_type": "code",
        "colab": {}
      },
      "source": [
        ""
      ],
      "execution_count": 0,
      "outputs": []
    }
  ]
}