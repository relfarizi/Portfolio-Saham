{
  "nbformat": 4,
  "nbformat_minor": 0,
  "metadata": {
    "colab": {
      "name": "Portfolio Saham.ipynb",
      "provenance": [],
      "collapsed_sections": []
    },
    "kernelspec": {
      "name": "python3",
      "display_name": "Python 3"
    }
  },
  "cells": [
    {
      "cell_type": "markdown",
      "metadata": {
        "id": "IyP4QRhtch0F",
        "colab_type": "text"
      },
      "source": [
        "Load Data"
      ]
    },
    {
      "cell_type": "code",
      "metadata": {
        "id": "UekvxCwzchSo",
        "colab_type": "code",
        "colab": {
          "base_uri": "https://localhost:8080/",
          "height": 406
        },
        "outputId": "448982f9-9c99-4aac-c719-de040a57ecaa"
      },
      "source": [
        "import pandas as pd\n",
        "\n",
        "data = [\"PBCRF\",\"BKRKF\",\"PHJMF\",\"PTAIF\",\"TLKMF\"]\n",
        "n = len(data)\n",
        "github = \"https://raw.githubusercontent.com/relfarizi/Portfolio-Saham/master/\"\n",
        "#data[0] = \"https://raw.githubusercontent.com/relfarizi/Portfolio-Saham/master/\"+data[0]+\".csv\"\n",
        "#data[1] = \"https://raw.githubusercontent.com/relfarizi/Portfolio-Saham/master/BKRKF.csv\"\n",
        "#data[2] = \"https://raw.githubusercontent.com/relfarizi/Portfolio-Saham/master/PHJMF.csv\"\n",
        "#data[3] = \"https://raw.githubusercontent.com/relfarizi/Portfolio-Saham/master/PTAIF.csv\"\n",
        "#data[4] = \"https://raw.githubusercontent.com/relfarizi/Portfolio-Saham/master/TLKMF.csv\"\n",
        "\n",
        "df = []\n",
        "for i in range(n) :\n",
        "  datas = pd.read_csv(github+data[i]+\".csv\")\n",
        "  data_tmp = datas[\"Close\"]\n",
        "  df.append(data_tmp)\n",
        "  #print(data_tmp.shape)\n",
        "\n",
        "dataset = pd.concat(df, axis=1, sort=False)\n",
        "dataset.columns = data\n",
        "dataset"
      ],
      "execution_count": 37,
      "outputs": [
        {
          "output_type": "execute_result",
          "data": {
            "text/html": [
              "<div>\n",
              "<style scoped>\n",
              "    .dataframe tbody tr th:only-of-type {\n",
              "        vertical-align: middle;\n",
              "    }\n",
              "\n",
              "    .dataframe tbody tr th {\n",
              "        vertical-align: top;\n",
              "    }\n",
              "\n",
              "    .dataframe thead th {\n",
              "        text-align: right;\n",
              "    }\n",
              "</style>\n",
              "<table border=\"1\" class=\"dataframe\">\n",
              "  <thead>\n",
              "    <tr style=\"text-align: right;\">\n",
              "      <th></th>\n",
              "      <th>PBCRF</th>\n",
              "      <th>BKRKF</th>\n",
              "      <th>PHJMF</th>\n",
              "      <th>PTAIF</th>\n",
              "      <th>TLKMF</th>\n",
              "    </tr>\n",
              "  </thead>\n",
              "  <tbody>\n",
              "    <tr>\n",
              "      <th>0</th>\n",
              "      <td>1.13</td>\n",
              "      <td>0.176</td>\n",
              "      <td>0.31</td>\n",
              "      <td>0.593</td>\n",
              "      <td>0.27</td>\n",
              "    </tr>\n",
              "    <tr>\n",
              "      <th>1</th>\n",
              "      <td>1.13</td>\n",
              "      <td>0.186</td>\n",
              "      <td>0.31</td>\n",
              "      <td>0.593</td>\n",
              "      <td>0.29</td>\n",
              "    </tr>\n",
              "    <tr>\n",
              "      <th>2</th>\n",
              "      <td>1.13</td>\n",
              "      <td>0.172</td>\n",
              "      <td>0.31</td>\n",
              "      <td>0.593</td>\n",
              "      <td>0.28</td>\n",
              "    </tr>\n",
              "    <tr>\n",
              "      <th>3</th>\n",
              "      <td>1.05</td>\n",
              "      <td>0.172</td>\n",
              "      <td>0.29</td>\n",
              "      <td>0.593</td>\n",
              "      <td>0.26</td>\n",
              "    </tr>\n",
              "    <tr>\n",
              "      <th>4</th>\n",
              "      <td>1.12</td>\n",
              "      <td>0.178</td>\n",
              "      <td>0.29</td>\n",
              "      <td>0.593</td>\n",
              "      <td>0.28</td>\n",
              "    </tr>\n",
              "    <tr>\n",
              "      <th>...</th>\n",
              "      <td>...</td>\n",
              "      <td>...</td>\n",
              "      <td>...</td>\n",
              "      <td>...</td>\n",
              "      <td>...</td>\n",
              "    </tr>\n",
              "    <tr>\n",
              "      <th>100</th>\n",
              "      <td>1.70</td>\n",
              "      <td>0.250</td>\n",
              "      <td>0.24</td>\n",
              "      <td>0.480</td>\n",
              "      <td>0.25</td>\n",
              "    </tr>\n",
              "    <tr>\n",
              "      <th>101</th>\n",
              "      <td>1.73</td>\n",
              "      <td>0.240</td>\n",
              "      <td>0.25</td>\n",
              "      <td>0.480</td>\n",
              "      <td>0.27</td>\n",
              "    </tr>\n",
              "    <tr>\n",
              "      <th>102</th>\n",
              "      <td>1.70</td>\n",
              "      <td>0.250</td>\n",
              "      <td>0.25</td>\n",
              "      <td>0.480</td>\n",
              "      <td>0.26</td>\n",
              "    </tr>\n",
              "    <tr>\n",
              "      <th>103</th>\n",
              "      <td>1.73</td>\n",
              "      <td>0.260</td>\n",
              "      <td>0.25</td>\n",
              "      <td>0.480</td>\n",
              "      <td>0.26</td>\n",
              "    </tr>\n",
              "    <tr>\n",
              "      <th>104</th>\n",
              "      <td>NaN</td>\n",
              "      <td>NaN</td>\n",
              "      <td>NaN</td>\n",
              "      <td>NaN</td>\n",
              "      <td>NaN</td>\n",
              "    </tr>\n",
              "  </tbody>\n",
              "</table>\n",
              "<p>105 rows × 5 columns</p>\n",
              "</div>"
            ],
            "text/plain": [
              "     PBCRF  BKRKF  PHJMF  PTAIF  TLKMF\n",
              "0     1.13  0.176   0.31  0.593   0.27\n",
              "1     1.13  0.186   0.31  0.593   0.29\n",
              "2     1.13  0.172   0.31  0.593   0.28\n",
              "3     1.05  0.172   0.29  0.593   0.26\n",
              "4     1.12  0.178   0.29  0.593   0.28\n",
              "..     ...    ...    ...    ...    ...\n",
              "100   1.70  0.250   0.24  0.480   0.25\n",
              "101   1.73  0.240   0.25  0.480   0.27\n",
              "102   1.70  0.250   0.25  0.480   0.26\n",
              "103   1.73  0.260   0.25  0.480   0.26\n",
              "104    NaN    NaN    NaN    NaN    NaN\n",
              "\n",
              "[105 rows x 5 columns]"
            ]
          },
          "metadata": {
            "tags": []
          },
          "execution_count": 37
        }
      ]
    },
    {
      "cell_type": "code",
      "metadata": {
        "id": "BfnZHz8vxkW6",
        "colab_type": "code",
        "colab": {
          "base_uri": "https://localhost:8080/",
          "height": 198
        },
        "outputId": "d1f45474-eb56-4ab1-d3b3-9885e8bdee0a"
      },
      "source": [
        "dataset = dataset.dropna()\n",
        "#print(type(dataset.corr()))\n",
        "list_corr = []\n",
        "for x in dataset.corr():\n",
        "  list_corr.append(dataset.corr()[x].tolist())\n",
        "  print(dataset.corr()[x].tolist())\n",
        "rho = np.array(list_corr)\n",
        "print(rho)"
      ],
      "execution_count": 72,
      "outputs": [
        {
          "output_type": "stream",
          "text": [
            "[1.0, 0.7615901719657908, 0.178278889112772, -0.5089427877343716, -0.3853462162916537]\n",
            "[0.7615901719657908, 1.0, 0.5169923000605561, -0.05432480430708324, -0.10288364911157866]\n",
            "[0.178278889112772, 0.5169923000605561, 1.0, 0.3196164202786966, -0.09471490216885914]\n",
            "[-0.5089427877343716, -0.05432480430708324, 0.3196164202786966, 1.0, 0.5777326173034627]\n",
            "[-0.3853462162916537, -0.10288364911157866, -0.09471490216885914, 0.5777326173034627, 1.0]\n",
            "[[ 1.          0.76159017  0.17827889 -0.50894279 -0.38534622]\n",
            " [ 0.76159017  1.          0.5169923  -0.0543248  -0.10288365]\n",
            " [ 0.17827889  0.5169923   1.          0.31961642 -0.0947149 ]\n",
            " [-0.50894279 -0.0543248   0.31961642  1.          0.57773262]\n",
            " [-0.38534622 -0.10288365 -0.0947149   0.57773262  1.        ]]\n"
          ],
          "name": "stdout"
        }
      ]
    },
    {
      "cell_type": "code",
      "metadata": {
        "id": "X0zv2wL_14cF",
        "colab_type": "code",
        "colab": {
          "base_uri": "https://localhost:8080/",
          "height": 35
        },
        "outputId": "b8b17fa2-d1f9-4b1c-b504-a8e26773fe36"
      },
      "source": [
        "import statistics as st\n",
        "var = []\n",
        "for x in dataset :\n",
        "  tmp = dataset[x].tolist()\n",
        "  var.append(st.variance(tmp))\n",
        "print(var)"
      ],
      "execution_count": 73,
      "outputs": [
        {
          "output_type": "stream",
          "text": [
            "[0.034232571228528755, 0.00079821359223301, 0.0010388256161314412, 0.0034914524635922335, 0.0019262135922330098]\n"
          ],
          "name": "stdout"
        }
      ]
    },
    {
      "cell_type": "markdown",
      "metadata": {
        "id": "0OKx_5ia6Ij4",
        "colab_type": "text"
      },
      "source": [
        "# Multi sekuritas\n"
      ]
    },
    {
      "cell_type": "code",
      "metadata": {
        "id": "_IjEA--Wo34f",
        "colab_type": "code",
        "outputId": "ce3189ce-1af6-4fde-e88b-ee6bfbc56480",
        "colab": {
          "base_uri": "https://localhost:8080/",
          "height": 108
        }
      },
      "source": [
        "import numpy as np\n",
        "\n",
        "std_dev = []\n",
        "for i in var :\n",
        "  std_dev.append(np.sqrt(i))\n",
        "n = len(std_dev)\n",
        "\n",
        "u = np.ones(n)\n",
        "#print(u)\n",
        "#rho = np.zeros((n,n))\n",
        "#rho[0][1] = 0.1\n",
        "\n",
        "#rho[0][2] = 0.2\n",
        "#rho[0][3] = 0.2\n",
        "#rho[0][4] = 0.2\n",
        "#rho[1][2] = 0.2\n",
        "#rho[1][3] = 0.2\n",
        "#rho[1][4] = 0.2\n",
        "#rho[2][3] = 0.2\n",
        "#rho[2][4] = 0.2\n",
        "#rho[3][4] = 0.2\n",
        "\n",
        "for i in range(n) :\n",
        "  for j in range(n) :\n",
        "    if j == i :\n",
        "      rho[i][j] = 1\n",
        "    elif j < i :\n",
        "      rho[i][j] = rho[j][i]\n",
        "print(rho)"
      ],
      "execution_count": 74,
      "outputs": [
        {
          "output_type": "stream",
          "text": [
            "[[ 1.          0.76159017  0.17827889 -0.50894279 -0.38534622]\n",
            " [ 0.76159017  1.          0.5169923  -0.0543248  -0.10288365]\n",
            " [ 0.17827889  0.5169923   1.          0.31961642 -0.0947149 ]\n",
            " [-0.50894279 -0.0543248   0.31961642  1.          0.57773262]\n",
            " [-0.38534622 -0.10288365 -0.0947149   0.57773262  1.        ]]\n"
          ],
          "name": "stdout"
        }
      ]
    },
    {
      "cell_type": "code",
      "metadata": {
        "id": "XUdFWwwMHELt",
        "colab_type": "code",
        "outputId": "577be602-def7-4ddc-e8f7-0df63bd8a423",
        "colab": {
          "base_uri": "https://localhost:8080/",
          "height": 35
        }
      },
      "source": [
        "print(rho[0][1])"
      ],
      "execution_count": 75,
      "outputs": [
        {
          "output_type": "stream",
          "text": [
            "0.7615901719657908\n"
          ],
          "name": "stdout"
        }
      ]
    },
    {
      "cell_type": "code",
      "metadata": {
        "id": "tjfy_FW2FPW8",
        "colab_type": "code",
        "colab": {}
      },
      "source": [
        "def is_short_selling(rho,std_dev):\n",
        "  n = len(rho)\n",
        "  print(n)\n",
        "  check = False\n",
        "  #rho = rho.sort()\n",
        "  std_Dev =std_dev.sort()\n",
        "\n",
        "  for i in range(n):\n",
        "    for j in range(n):\n",
        "      if i < j :\n",
        "        x = std_dev[i]/std_dev[j]\n",
        "        #print(rho[i][j])\n",
        "        if rho[i][j] > x :\n",
        "          check =True\n",
        "          break\n",
        "  return check"
      ],
      "execution_count": 0,
      "outputs": []
    },
    {
      "cell_type": "code",
      "metadata": {
        "id": "4j99HxrP3_Wm",
        "colab_type": "code",
        "colab": {
          "base_uri": "https://localhost:8080/",
          "height": 108
        },
        "outputId": "a84c3cab-05c0-4777-b0c7-ef96bd44a65a"
      },
      "source": [
        "print(rho)"
      ],
      "execution_count": 80,
      "outputs": [
        {
          "output_type": "stream",
          "text": [
            "[[ 1.          0.76159017  0.17827889 -0.50894279 -0.38534622]\n",
            " [ 0.76159017  1.          0.5169923  -0.0543248  -0.10288365]\n",
            " [ 0.17827889  0.5169923   1.          0.31961642 -0.0947149 ]\n",
            " [-0.50894279 -0.0543248   0.31961642  1.          0.57773262]\n",
            " [-0.38534622 -0.10288365 -0.0947149   0.57773262  1.        ]]\n"
          ],
          "name": "stdout"
        }
      ]
    },
    {
      "cell_type": "code",
      "metadata": {
        "id": "6xxB2i8_GwK3",
        "colab_type": "code",
        "outputId": "aec96dbb-48b3-4802-f284-d65f3b8aad59",
        "colab": {
          "base_uri": "https://localhost:8080/",
          "height": 53
        }
      },
      "source": [
        "is_short_selling(rho,std_dev)"
      ],
      "execution_count": 81,
      "outputs": [
        {
          "output_type": "stream",
          "text": [
            "5\n"
          ],
          "name": "stdout"
        },
        {
          "output_type": "execute_result",
          "data": {
            "text/plain": [
              "True"
            ]
          },
          "metadata": {
            "tags": []
          },
          "execution_count": 81
        }
      ]
    },
    {
      "cell_type": "code",
      "metadata": {
        "id": "0vEXEjumtGQF",
        "colab_type": "code",
        "outputId": "575aeb7d-4c2c-44e5-84e7-862d58f7d460",
        "colab": {
          "base_uri": "https://localhost:8080/",
          "height": 108
        }
      },
      "source": [
        "C = (np.zeros((n,n)))\n",
        "\n",
        "for i in range(n):\n",
        "  for j in range(n) :\n",
        "    C[i][j] = std_dev[i]*rho[i][j]*std_dev[j]\n",
        "print(C)"
      ],
      "execution_count": 82,
      "outputs": [
        {
          "output_type": "stream",
          "text": [
            "[[ 0.00079821  0.00069351  0.00022106 -0.00084963 -0.00201433]\n",
            " [ 0.00069351  0.00103883  0.00073132 -0.00010346 -0.00061353]\n",
            " [ 0.00022106  0.00073132  0.00192621  0.00082887 -0.00076911]\n",
            " [-0.00084963 -0.00010346  0.00082887  0.00349145  0.00631611]\n",
            " [-0.00201433 -0.00061353 -0.00076911  0.00631611  0.03423257]]\n"
          ],
          "name": "stdout"
        }
      ]
    },
    {
      "cell_type": "code",
      "metadata": {
        "id": "3hwGZW6iwQNH",
        "colab_type": "code",
        "outputId": "8ccc8f67-850e-41a6-8dd8-ff0e781855fe",
        "colab": {
          "base_uri": "https://localhost:8080/",
          "height": 35
        }
      },
      "source": [
        "from numpy.linalg import inv\n",
        "from numpy.linalg import det\n",
        "u = np.ones(n)\n",
        "uT = np.transpose(u)\n",
        "\n",
        "CInv = inv(C)\n",
        "\n",
        "w = np.dot(u,CInv)/(u.dot(CInv).dot(uT))\n",
        "print(w)"
      ],
      "execution_count": 83,
      "outputs": [
        {
          "output_type": "stream",
          "text": [
            "[ 1.0847596  -0.47011831  0.08240948  0.29100983  0.0119394 ]\n"
          ],
          "name": "stdout"
        }
      ]
    },
    {
      "cell_type": "code",
      "metadata": {
        "id": "DdcSSGjLwYzR",
        "colab_type": "code",
        "outputId": "722a8808-c12a-4325-a2f6-5fccf104056d",
        "colab": {
          "base_uri": "https://localhost:8080/",
          "height": 35
        }
      },
      "source": [
        "#w = np.array([0.3,0.4])\n",
        "wT = np.transpose(w)\n",
        "x = np.dot(u,wT)\n",
        "print(\"jumlah w = \",x)"
      ],
      "execution_count": 84,
      "outputs": [
        {
          "output_type": "stream",
          "text": [
            "jumlah w =  1.0\n"
          ],
          "name": "stdout"
        }
      ]
    },
    {
      "cell_type": "code",
      "metadata": {
        "id": "uF0PiR3x5IyE",
        "colab_type": "code",
        "outputId": "f9e975f7-a663-4f12-d92b-bab0592ad0bb",
        "colab": {
          "base_uri": "https://localhost:8080/",
          "height": 35
        }
      },
      "source": [
        "risk = w.dot(C).dot(wT)\n",
        "print(risk)"
      ],
      "execution_count": 85,
      "outputs": [
        {
          "output_type": "stream",
          "text": [
            "0.0002867544304543157\n"
          ],
          "name": "stdout"
        }
      ]
    },
    {
      "cell_type": "code",
      "metadata": {
        "id": "UIsKSW8z4Gac",
        "colab_type": "code",
        "outputId": "bfcfde53-03c7-484d-c915-570d71f3dce0",
        "colab": {
          "base_uri": "https://localhost:8080/",
          "height": 225
        }
      },
      "source": [
        "m = [0.02,0.04]\n",
        "m = np.array(m)\n",
        "EK = m.dot(wT)\n",
        "print(\"ekspektasi return = \", EK)"
      ],
      "execution_count": 86,
      "outputs": [
        {
          "output_type": "error",
          "ename": "ValueError",
          "evalue": "ignored",
          "traceback": [
            "\u001b[0;31m---------------------------------------------------------------------------\u001b[0m",
            "\u001b[0;31mValueError\u001b[0m                                Traceback (most recent call last)",
            "\u001b[0;32m<ipython-input-86-c6128d5a669a>\u001b[0m in \u001b[0;36m<module>\u001b[0;34m()\u001b[0m\n\u001b[1;32m      1\u001b[0m \u001b[0mm\u001b[0m \u001b[0;34m=\u001b[0m \u001b[0;34m[\u001b[0m\u001b[0;36m0.02\u001b[0m\u001b[0;34m,\u001b[0m\u001b[0;36m0.04\u001b[0m\u001b[0;34m]\u001b[0m\u001b[0;34m\u001b[0m\u001b[0;34m\u001b[0m\u001b[0m\n\u001b[1;32m      2\u001b[0m \u001b[0mm\u001b[0m \u001b[0;34m=\u001b[0m \u001b[0mnp\u001b[0m\u001b[0;34m.\u001b[0m\u001b[0marray\u001b[0m\u001b[0;34m(\u001b[0m\u001b[0mm\u001b[0m\u001b[0;34m)\u001b[0m\u001b[0;34m\u001b[0m\u001b[0;34m\u001b[0m\u001b[0m\n\u001b[0;32m----> 3\u001b[0;31m \u001b[0mEK\u001b[0m \u001b[0;34m=\u001b[0m \u001b[0mm\u001b[0m\u001b[0;34m.\u001b[0m\u001b[0mdot\u001b[0m\u001b[0;34m(\u001b[0m\u001b[0mwT\u001b[0m\u001b[0;34m)\u001b[0m\u001b[0;34m\u001b[0m\u001b[0;34m\u001b[0m\u001b[0m\n\u001b[0m\u001b[1;32m      4\u001b[0m \u001b[0mprint\u001b[0m\u001b[0;34m(\u001b[0m\u001b[0;34m\"ekspektasi return = \"\u001b[0m\u001b[0;34m,\u001b[0m \u001b[0mEK\u001b[0m\u001b[0;34m)\u001b[0m\u001b[0;34m\u001b[0m\u001b[0;34m\u001b[0m\u001b[0m\n",
            "\u001b[0;31mValueError\u001b[0m: shapes (2,) and (5,) not aligned: 2 (dim 0) != 5 (dim 0)"
          ]
        }
      ]
    },
    {
      "cell_type": "code",
      "metadata": {
        "id": "6oGZHYqgxm12",
        "colab_type": "code",
        "outputId": "80b1a3fb-6f8d-4f5a-fad7-8c4381b284cd",
        "colab": {
          "base_uri": "https://localhost:8080/",
          "height": 53
        }
      },
      "source": [
        "import math\n",
        "\n",
        "\n",
        "\n",
        "sigma1_2 = 0.04\n",
        "sigma1 = math.sqrt(sigma1_2) \n",
        "\n",
        "#sigma1 = \n",
        "#sigma1_2 = pow(sigma1,2)\n",
        "\n",
        "sigma2_2 = 0.09 \n",
        "sigma2 = math.sqrt(sigma2_2)\n",
        "\n",
        "#sigma2 =\n",
        "#sigma2_2 = pow(sigma2,2)\n",
        "rho = 0.1\n",
        "\n",
        "x = (2*rho*sigma1*sigma2)\n",
        "w2 = (sigma1_2 - x)/(sigma1_2+sigma2_2-x)\n",
        "w1 = 1-w2\n",
        "\n",
        "w2 = round(w2,4) \n",
        "w1 = round(w1,4)\n",
        "\n",
        "sigmav_2 = (pow(w1,2)*sigma1_2) + (pow(w2,2)*sigma2_2) + (2*w1*w1*rho*sigma1*sigma2)\n",
        "sigmav_2 = round(sigmav_2,4)\n",
        "\n",
        "\n",
        "#short selling\n",
        "# asumsi diberikan sigma1 > sigma2\n",
        "\n",
        "if rho >= (sigma1/sigma2) :\n",
        "  print(\"short selling\")\n",
        "else :\n",
        "  print(\"tidak shoort selling\")\n",
        "print(w1,w2,sigmav_2)"
      ],
      "execution_count": 68,
      "outputs": [
        {
          "output_type": "stream",
          "text": [
            "tidak shoort selling\n",
            "0.7627 0.2373 0.0353\n"
          ],
          "name": "stdout"
        }
      ]
    },
    {
      "cell_type": "code",
      "metadata": {
        "id": "NCqE067ABbxc",
        "colab_type": "code",
        "outputId": "2f1b0328-c3cc-4b91-9f8d-6e715bd870fb",
        "colab": {
          "base_uri": "https://localhost:8080/",
          "height": 53
        }
      },
      "source": [
        "# risiko portfolio\n",
        "risk = w.dot(C).dot(wT)\n",
        "print(\"risk = \",risk)\n",
        "\n",
        "#Expetasi return\n",
        "ex_return = np.dot(m,wT)\n",
        "print(\"expektasi return = \", ex_return)"
      ],
      "execution_count": 0,
      "outputs": [
        {
          "output_type": "stream",
          "text": [
            "risk =  0.030203389830508482\n",
            "expektasi return =  0.025762711864406783\n"
          ],
          "name": "stdout"
        }
      ]
    },
    {
      "cell_type": "code",
      "metadata": {
        "id": "To2paLsJ5Eny",
        "colab_type": "code",
        "outputId": "07a1890c-4e69-4dca-b2e5-a4139368d0bb",
        "colab": {
          "base_uri": "https://localhost:8080/",
          "height": 35
        }
      },
      "source": [
        "#mT = np.transpose(m)\n",
        "e_r = 0.03\n",
        "matA = np.dot(u,(CInv))\n",
        "matB = np.dot(m,(CInv))\n",
        "mat1 = u.dot(CInv).dot(mT)\n",
        "mat2 = m.dot(CInv).dot(mT)\n",
        "mat3 = u.dot(CInv).dot(uT)\n",
        "mat4 = m.dot(CInv).dot(uT)\n",
        "\n",
        "A1 = np.array([[1,mat1],[e_r,mat2]]) \n",
        "A2 = np.array([[mat3,1],[mat4,e_r]])\n",
        "A3 = np.array([[mat3,mat1],[mat4,mat2]])\n",
        "\n",
        "det1 = det([[1,mat1],[e_r,mat2]])\n",
        "det2 = det([[mat3,1],[mat4,e_r]])\n",
        "det3 = det([[mat3,mat1],[mat4,mat2]])\n",
        "w_new = ((det1*matA)+(det2*matB))/det3\n",
        "print(w_new)"
      ],
      "execution_count": 0,
      "outputs": [
        {
          "output_type": "stream",
          "text": [
            "[0.5 0.5]\n"
          ],
          "name": "stdout"
        }
      ]
    },
    {
      "cell_type": "code",
      "metadata": {
        "id": "ekOPwZASCN68",
        "colab_type": "code",
        "outputId": "a78b3718-2525-43c7-e2b4-458552845b4e",
        "colab": {
          "base_uri": "https://localhost:8080/",
          "height": 243
        }
      },
      "source": [
        "std_dev = [1.5,0.5,1.2]\n",
        "m = np.array([0.08,0.1,0.06])\n",
        "n = len(std_deviasi)\n",
        "rho12 = 0.3\n",
        "rho23 = 0\n",
        "rho13 = -0.2"
      ],
      "execution_count": 0,
      "outputs": [
        {
          "output_type": "error",
          "ename": "NameError",
          "evalue": "ignored",
          "traceback": [
            "\u001b[0;31m---------------------------------------------------------------------------\u001b[0m",
            "\u001b[0;31mNameError\u001b[0m                                 Traceback (most recent call last)",
            "\u001b[0;32m<ipython-input-5-5ad2b1f5009f>\u001b[0m in \u001b[0;36m<module>\u001b[0;34m()\u001b[0m\n\u001b[1;32m      1\u001b[0m \u001b[0mstd_dev\u001b[0m \u001b[0;34m=\u001b[0m \u001b[0;34m[\u001b[0m\u001b[0;36m1.5\u001b[0m\u001b[0;34m,\u001b[0m\u001b[0;36m0.5\u001b[0m\u001b[0;34m,\u001b[0m\u001b[0;36m1.2\u001b[0m\u001b[0;34m]\u001b[0m\u001b[0;34m\u001b[0m\u001b[0;34m\u001b[0m\u001b[0m\n\u001b[1;32m      2\u001b[0m \u001b[0mm\u001b[0m \u001b[0;34m=\u001b[0m \u001b[0mnp\u001b[0m\u001b[0;34m.\u001b[0m\u001b[0marray\u001b[0m\u001b[0;34m(\u001b[0m\u001b[0;34m[\u001b[0m\u001b[0;36m0.08\u001b[0m\u001b[0;34m,\u001b[0m\u001b[0;36m0.1\u001b[0m\u001b[0;34m,\u001b[0m\u001b[0;36m0.06\u001b[0m\u001b[0;34m]\u001b[0m\u001b[0;34m)\u001b[0m\u001b[0;34m\u001b[0m\u001b[0;34m\u001b[0m\u001b[0m\n\u001b[0;32m----> 3\u001b[0;31m \u001b[0mn\u001b[0m \u001b[0;34m=\u001b[0m \u001b[0mlen\u001b[0m\u001b[0;34m(\u001b[0m\u001b[0mstd_deviasi\u001b[0m\u001b[0;34m)\u001b[0m\u001b[0;34m\u001b[0m\u001b[0;34m\u001b[0m\u001b[0m\n\u001b[0m\u001b[1;32m      4\u001b[0m \u001b[0mrho12\u001b[0m \u001b[0;34m=\u001b[0m \u001b[0;36m0.3\u001b[0m\u001b[0;34m\u001b[0m\u001b[0;34m\u001b[0m\u001b[0m\n\u001b[1;32m      5\u001b[0m \u001b[0mrho23\u001b[0m \u001b[0;34m=\u001b[0m \u001b[0;36m0\u001b[0m\u001b[0;34m\u001b[0m\u001b[0;34m\u001b[0m\u001b[0m\n",
            "\u001b[0;31mNameError\u001b[0m: name 'std_deviasi' is not defined"
          ]
        }
      ]
    },
    {
      "cell_type": "code",
      "metadata": {
        "id": "KXmvc8eIyp0O",
        "colab_type": "code",
        "colab": {}
      },
      "source": [
        "c11 = std_deviasi[0]**2\n",
        "c22 = std_deviasi[1]**2\n",
        "c33 = std_deviasi[2]**2\n",
        "\n",
        "c12 = rho12*std_dev[0]*std_dev[1]\n",
        "c21 = c12\n",
        "\n",
        "c23 = rho23*std_dev[1]*std_dev[2]\n",
        "c32 = c23\n",
        "\n",
        "c13 = rho13*std_dev[0]*std_dev[2]\n",
        "c31 = c13\n",
        "\n",
        "C_matrix = np.array([[c11,c12,c13],[c21,c22,c23],[c31,c32,c33]])\n",
        "print(C_matrix)"
      ],
      "execution_count": 0,
      "outputs": []
    },
    {
      "cell_type": "code",
      "metadata": {
        "id": "SRLaFi-vyw40",
        "colab_type": "code",
        "colab": {}
      },
      "source": [
        "from numpy.linalg import inv\n",
        "from numpy.linalg import det\n",
        "u = np.ones(n)\n",
        "uT = np.transpose(u)\n",
        "\n",
        "CInv = inv(C_matrix)\n",
        "\n",
        "w = np.dot(u,CInv)/(u.dot(CInv).dot(uT))\n",
        "#print(w)\n",
        "\n",
        "for i in range(len(w)) :\n",
        "  print(\"w\",i+1,\"=\",w[i])"
      ],
      "execution_count": 0,
      "outputs": []
    },
    {
      "cell_type": "code",
      "metadata": {
        "id": "pvxVxiYQ4xNL",
        "colab_type": "code",
        "colab": {}
      },
      "source": [
        "wT = np.transpose(w)\n",
        "eksp_return = m.dot(wT)\n",
        "min_risk = w.dot(C_matrix).dot(wT)\n",
        "print(\"ekspektasi return = \",eksp_return)\n",
        "print(\"risiko minimum = \", min_risk)"
      ],
      "execution_count": 0,
      "outputs": []
    },
    {
      "cell_type": "code",
      "metadata": {
        "id": "-SsTcx0BFf-N",
        "colab_type": "code",
        "colab": {}
      },
      "source": [
        "print(A1)\n",
        "print(A2)\n",
        "print(A3)"
      ],
      "execution_count": 0,
      "outputs": []
    },
    {
      "cell_type": "code",
      "metadata": {
        "id": "7gV1be93CVlY",
        "colab_type": "code",
        "colab": {}
      },
      "source": [
        "print(w_new)"
      ],
      "execution_count": 0,
      "outputs": []
    },
    {
      "cell_type": "code",
      "metadata": {
        "id": "J8f73DshEvaC",
        "colab_type": "code",
        "colab": {}
      },
      "source": [
        "for i in range(len(w_new)) :\n",
        "  print(\"w\",i+1,\"=\",w_new[i])"
      ],
      "execution_count": 0,
      "outputs": []
    },
    {
      "cell_type": "code",
      "metadata": {
        "id": "YZ_8hRS8Ez-e",
        "colab_type": "code",
        "colab": {}
      },
      "source": [
        ""
      ],
      "execution_count": 0,
      "outputs": []
    }
  ]
}