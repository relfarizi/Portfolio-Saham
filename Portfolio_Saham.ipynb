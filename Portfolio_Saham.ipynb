{
  "nbformat": 4,
  "nbformat_minor": 0,
  "metadata": {
    "colab": {
      "name": "Portfolio Saham.ipynb",
      "provenance": [],
      "collapsed_sections": []
    },
    "kernelspec": {
      "name": "python3",
      "display_name": "Python 3"
    }
  },
  "cells": [
    {
      "cell_type": "markdown",
      "metadata": {
        "id": "IyP4QRhtch0F",
        "colab_type": "text"
      },
      "source": [
        "Load Data"
      ]
    },
    {
      "cell_type": "code",
      "metadata": {
        "id": "UekvxCwzchSo",
        "colab_type": "code",
        "outputId": "3d489fd8-f009-4ee8-f548-99d1374d2d36",
        "colab": {
          "base_uri": "https://localhost:8080/",
          "height": 406
        }
      },
      "source": [
        "import pandas as pd\n",
        "\n",
        "kode_saham = [\"PBCRF\",\"BKRKF\",\"PHJMF\",\"PTAIF\",\"TLKMF\"]\n",
        "n = len(kode_saham)\n",
        "github = \"https://raw.githubusercontent.com/relfarizi/Portfolio-Saham/master/\"\n",
        "#data[0] = \"https://raw.githubusercontent.com/relfarizi/Portfolio-Saham/master/\"+data[0]+\".csv\"\n",
        "#data[1] = \"https://raw.githubusercontent.com/relfarizi/Portfolio-Saham/master/BKRKF.csv\"\n",
        "#data[2] = \"https://raw.githubusercontent.com/relfarizi/Portfolio-Saham/master/PHJMF.csv\"\n",
        "#data[3] = \"https://raw.githubusercontent.com/relfarizi/Portfolio-Saham/master/PTAIF.csv\"\n",
        "#data[4] = \"https://raw.githubusercontent.com/relfarizi/Portfolio-Saham/master/TLKMF.csv\"\n",
        "\n",
        "df = []\n",
        "for i in range(n) :\n",
        "  datas = pd.read_csv(github+kode_saham[i]+\".csv\")\n",
        "  data_tmp = datas[\"Close\"]\n",
        "  df.append(data_tmp)\n",
        "  #print(data_tmp.shape)\n",
        "\n",
        "dataset = pd.concat(df, axis=1, sort=False)\n",
        "dataset.columns = data\n",
        "dataset"
      ],
      "execution_count": 123,
      "outputs": [
        {
          "output_type": "execute_result",
          "data": {
            "text/html": [
              "<div>\n",
              "<style scoped>\n",
              "    .dataframe tbody tr th:only-of-type {\n",
              "        vertical-align: middle;\n",
              "    }\n",
              "\n",
              "    .dataframe tbody tr th {\n",
              "        vertical-align: top;\n",
              "    }\n",
              "\n",
              "    .dataframe thead th {\n",
              "        text-align: right;\n",
              "    }\n",
              "</style>\n",
              "<table border=\"1\" class=\"dataframe\">\n",
              "  <thead>\n",
              "    <tr style=\"text-align: right;\">\n",
              "      <th></th>\n",
              "      <th>PBCRF</th>\n",
              "      <th>BKRKF</th>\n",
              "      <th>PHJMF</th>\n",
              "      <th>PTAIF</th>\n",
              "      <th>TLKMF</th>\n",
              "    </tr>\n",
              "  </thead>\n",
              "  <tbody>\n",
              "    <tr>\n",
              "      <th>0</th>\n",
              "      <td>1.13</td>\n",
              "      <td>0.176</td>\n",
              "      <td>0.31</td>\n",
              "      <td>0.593</td>\n",
              "      <td>0.27</td>\n",
              "    </tr>\n",
              "    <tr>\n",
              "      <th>1</th>\n",
              "      <td>1.13</td>\n",
              "      <td>0.186</td>\n",
              "      <td>0.31</td>\n",
              "      <td>0.593</td>\n",
              "      <td>0.29</td>\n",
              "    </tr>\n",
              "    <tr>\n",
              "      <th>2</th>\n",
              "      <td>1.13</td>\n",
              "      <td>0.172</td>\n",
              "      <td>0.31</td>\n",
              "      <td>0.593</td>\n",
              "      <td>0.28</td>\n",
              "    </tr>\n",
              "    <tr>\n",
              "      <th>3</th>\n",
              "      <td>1.05</td>\n",
              "      <td>0.172</td>\n",
              "      <td>0.29</td>\n",
              "      <td>0.593</td>\n",
              "      <td>0.26</td>\n",
              "    </tr>\n",
              "    <tr>\n",
              "      <th>4</th>\n",
              "      <td>1.12</td>\n",
              "      <td>0.178</td>\n",
              "      <td>0.29</td>\n",
              "      <td>0.593</td>\n",
              "      <td>0.28</td>\n",
              "    </tr>\n",
              "    <tr>\n",
              "      <th>...</th>\n",
              "      <td>...</td>\n",
              "      <td>...</td>\n",
              "      <td>...</td>\n",
              "      <td>...</td>\n",
              "      <td>...</td>\n",
              "    </tr>\n",
              "    <tr>\n",
              "      <th>100</th>\n",
              "      <td>1.70</td>\n",
              "      <td>0.250</td>\n",
              "      <td>0.24</td>\n",
              "      <td>0.480</td>\n",
              "      <td>0.25</td>\n",
              "    </tr>\n",
              "    <tr>\n",
              "      <th>101</th>\n",
              "      <td>1.73</td>\n",
              "      <td>0.240</td>\n",
              "      <td>0.25</td>\n",
              "      <td>0.480</td>\n",
              "      <td>0.27</td>\n",
              "    </tr>\n",
              "    <tr>\n",
              "      <th>102</th>\n",
              "      <td>1.70</td>\n",
              "      <td>0.250</td>\n",
              "      <td>0.25</td>\n",
              "      <td>0.480</td>\n",
              "      <td>0.26</td>\n",
              "    </tr>\n",
              "    <tr>\n",
              "      <th>103</th>\n",
              "      <td>1.73</td>\n",
              "      <td>0.260</td>\n",
              "      <td>0.25</td>\n",
              "      <td>0.480</td>\n",
              "      <td>0.26</td>\n",
              "    </tr>\n",
              "    <tr>\n",
              "      <th>104</th>\n",
              "      <td>NaN</td>\n",
              "      <td>NaN</td>\n",
              "      <td>NaN</td>\n",
              "      <td>NaN</td>\n",
              "      <td>NaN</td>\n",
              "    </tr>\n",
              "  </tbody>\n",
              "</table>\n",
              "<p>105 rows × 5 columns</p>\n",
              "</div>"
            ],
            "text/plain": [
              "     PBCRF  BKRKF  PHJMF  PTAIF  TLKMF\n",
              "0     1.13  0.176   0.31  0.593   0.27\n",
              "1     1.13  0.186   0.31  0.593   0.29\n",
              "2     1.13  0.172   0.31  0.593   0.28\n",
              "3     1.05  0.172   0.29  0.593   0.26\n",
              "4     1.12  0.178   0.29  0.593   0.28\n",
              "..     ...    ...    ...    ...    ...\n",
              "100   1.70  0.250   0.24  0.480   0.25\n",
              "101   1.73  0.240   0.25  0.480   0.27\n",
              "102   1.70  0.250   0.25  0.480   0.26\n",
              "103   1.73  0.260   0.25  0.480   0.26\n",
              "104    NaN    NaN    NaN    NaN    NaN\n",
              "\n",
              "[105 rows x 5 columns]"
            ]
          },
          "metadata": {
            "tags": []
          },
          "execution_count": 123
        }
      ]
    },
    {
      "cell_type": "code",
      "metadata": {
        "id": "BfnZHz8vxkW6",
        "colab_type": "code",
        "outputId": "61528ba3-84cf-4f82-9e2f-d572e62d06d4",
        "colab": {
          "base_uri": "https://localhost:8080/",
          "height": 198
        }
      },
      "source": [
        "dataset = dataset.dropna()\n",
        "#print(type(dataset.corr()))\n",
        "list_corr = []\n",
        "for x in dataset.corr():\n",
        "  list_corr.append(dataset.corr()[x].tolist())\n",
        "  print(dataset.corr()[x].tolist())\n",
        "rho = np.array(list_corr)\n",
        "print(rho)"
      ],
      "execution_count": 124,
      "outputs": [
        {
          "output_type": "stream",
          "text": [
            "[1.0, 0.7615901719657908, 0.178278889112772, -0.5089427877343716, -0.3853462162916537]\n",
            "[0.7615901719657908, 1.0, 0.5169923000605561, -0.05432480430708324, -0.10288364911157866]\n",
            "[0.178278889112772, 0.5169923000605561, 1.0, 0.3196164202786966, -0.09471490216885914]\n",
            "[-0.5089427877343716, -0.05432480430708324, 0.3196164202786966, 1.0, 0.5777326173034627]\n",
            "[-0.3853462162916537, -0.10288364911157866, -0.09471490216885914, 0.5777326173034627, 1.0]\n",
            "[[ 1.          0.76159017  0.17827889 -0.50894279 -0.38534622]\n",
            " [ 0.76159017  1.          0.5169923  -0.0543248  -0.10288365]\n",
            " [ 0.17827889  0.5169923   1.          0.31961642 -0.0947149 ]\n",
            " [-0.50894279 -0.0543248   0.31961642  1.          0.57773262]\n",
            " [-0.38534622 -0.10288365 -0.0947149   0.57773262  1.        ]]\n"
          ],
          "name": "stdout"
        }
      ]
    },
    {
      "cell_type": "code",
      "metadata": {
        "id": "X0zv2wL_14cF",
        "colab_type": "code",
        "outputId": "11520f59-5567-46dc-80d1-d65e7ed2b673",
        "colab": {
          "base_uri": "https://localhost:8080/",
          "height": 35
        }
      },
      "source": [
        "import statistics as st\n",
        "var = []\n",
        "for x in dataset :\n",
        "  tmp = dataset[x].tolist()\n",
        "  var.append(st.variance(tmp))\n",
        "print(var)"
      ],
      "execution_count": 125,
      "outputs": [
        {
          "output_type": "stream",
          "text": [
            "[0.034232571228528755, 0.00079821359223301, 0.0010388256161314412, 0.0034914524635922335, 0.0019262135922330098]\n"
          ],
          "name": "stdout"
        }
      ]
    },
    {
      "cell_type": "markdown",
      "metadata": {
        "id": "0OKx_5ia6Ij4",
        "colab_type": "text"
      },
      "source": [
        "# Multi sekuritas\n"
      ]
    },
    {
      "cell_type": "code",
      "metadata": {
        "id": "_IjEA--Wo34f",
        "colab_type": "code",
        "outputId": "8b5f3ff3-f536-4cb1-e277-4471e154c5b7",
        "colab": {
          "base_uri": "https://localhost:8080/",
          "height": 108
        }
      },
      "source": [
        "import numpy as np\n",
        "\n",
        "std_dev = []\n",
        "for i in var :\n",
        "  std_dev.append(np.sqrt(i))\n",
        "n = len(std_dev)\n",
        "\n",
        "u = np.ones(n)\n",
        "#print(u)\n",
        "#rho = np.zeros((n,n))\n",
        "#rho[0][1] = 0.1\n",
        "\n",
        "#rho[0][2] = 0.2\n",
        "#rho[0][3] = 0.2\n",
        "#rho[0][4] = 0.2\n",
        "#rho[1][2] = 0.2\n",
        "#rho[1][3] = 0.2\n",
        "#rho[1][4] = 0.2\n",
        "#rho[2][3] = 0.2\n",
        "#rho[2][4] = 0.2\n",
        "#rho[3][4] = 0.2\n",
        "\n",
        "for i in range(n) :\n",
        "  for j in range(n) :\n",
        "    if j == i :\n",
        "      rho[i][j] = 1\n",
        "    elif j < i :\n",
        "      rho[i][j] = rho[j][i]\n",
        "print(rho)"
      ],
      "execution_count": 126,
      "outputs": [
        {
          "output_type": "stream",
          "text": [
            "[[ 1.          0.76159017  0.17827889 -0.50894279 -0.38534622]\n",
            " [ 0.76159017  1.          0.5169923  -0.0543248  -0.10288365]\n",
            " [ 0.17827889  0.5169923   1.          0.31961642 -0.0947149 ]\n",
            " [-0.50894279 -0.0543248   0.31961642  1.          0.57773262]\n",
            " [-0.38534622 -0.10288365 -0.0947149   0.57773262  1.        ]]\n"
          ],
          "name": "stdout"
        }
      ]
    },
    {
      "cell_type": "code",
      "metadata": {
        "id": "XUdFWwwMHELt",
        "colab_type": "code",
        "outputId": "2024c885-d3bd-4740-c409-82ffe078cd5a",
        "colab": {
          "base_uri": "https://localhost:8080/",
          "height": 35
        }
      },
      "source": [
        "print(rho[0][1])"
      ],
      "execution_count": 127,
      "outputs": [
        {
          "output_type": "stream",
          "text": [
            "0.7615901719657908\n"
          ],
          "name": "stdout"
        }
      ]
    },
    {
      "cell_type": "code",
      "metadata": {
        "id": "tjfy_FW2FPW8",
        "colab_type": "code",
        "colab": {}
      },
      "source": [
        "def is_short_selling(rho,std_dev):\n",
        "  n = len(rho)\n",
        "  print(n)\n",
        "  check = False\n",
        "  #rho = rho.sort()\n",
        "  std_Dev =std_dev.sort()\n",
        "\n",
        "  for i in range(n):\n",
        "    for j in range(n):\n",
        "      if i < j :\n",
        "        x = std_dev[i]/std_dev[j]\n",
        "        #print(rho[i][j])\n",
        "        if rho[i][j] > x :\n",
        "          check =True\n",
        "          break\n",
        "  return check"
      ],
      "execution_count": 0,
      "outputs": []
    },
    {
      "cell_type": "code",
      "metadata": {
        "id": "4j99HxrP3_Wm",
        "colab_type": "code",
        "outputId": "f0f0cb7f-078f-4b87-9bf3-77f4b3c2e65f",
        "colab": {
          "base_uri": "https://localhost:8080/",
          "height": 108
        }
      },
      "source": [
        "print(rho)"
      ],
      "execution_count": 129,
      "outputs": [
        {
          "output_type": "stream",
          "text": [
            "[[ 1.          0.76159017  0.17827889 -0.50894279 -0.38534622]\n",
            " [ 0.76159017  1.          0.5169923  -0.0543248  -0.10288365]\n",
            " [ 0.17827889  0.5169923   1.          0.31961642 -0.0947149 ]\n",
            " [-0.50894279 -0.0543248   0.31961642  1.          0.57773262]\n",
            " [-0.38534622 -0.10288365 -0.0947149   0.57773262  1.        ]]\n"
          ],
          "name": "stdout"
        }
      ]
    },
    {
      "cell_type": "code",
      "metadata": {
        "id": "6xxB2i8_GwK3",
        "colab_type": "code",
        "outputId": "3183e612-4fbf-48ad-d88d-d1ea2cf6fec8",
        "colab": {
          "base_uri": "https://localhost:8080/",
          "height": 53
        }
      },
      "source": [
        "is_short_selling(rho,std_dev)"
      ],
      "execution_count": 130,
      "outputs": [
        {
          "output_type": "stream",
          "text": [
            "5\n"
          ],
          "name": "stdout"
        },
        {
          "output_type": "execute_result",
          "data": {
            "text/plain": [
              "True"
            ]
          },
          "metadata": {
            "tags": []
          },
          "execution_count": 130
        }
      ]
    },
    {
      "cell_type": "code",
      "metadata": {
        "id": "0vEXEjumtGQF",
        "colab_type": "code",
        "outputId": "07a0a6ca-210e-4a34-b62f-a2a1430cff94",
        "colab": {
          "base_uri": "https://localhost:8080/",
          "height": 108
        }
      },
      "source": [
        "C = (np.zeros((n,n)))\n",
        "\n",
        "for i in range(n):\n",
        "  for j in range(n) :\n",
        "    C[i][j] = std_dev[i]*rho[i][j]*std_dev[j]\n",
        "print(C)"
      ],
      "execution_count": 131,
      "outputs": [
        {
          "output_type": "stream",
          "text": [
            "[[ 0.00079821  0.00069351  0.00022106 -0.00084963 -0.00201433]\n",
            " [ 0.00069351  0.00103883  0.00073132 -0.00010346 -0.00061353]\n",
            " [ 0.00022106  0.00073132  0.00192621  0.00082887 -0.00076911]\n",
            " [-0.00084963 -0.00010346  0.00082887  0.00349145  0.00631611]\n",
            " [-0.00201433 -0.00061353 -0.00076911  0.00631611  0.03423257]]\n"
          ],
          "name": "stdout"
        }
      ]
    },
    {
      "cell_type": "code",
      "metadata": {
        "id": "3hwGZW6iwQNH",
        "colab_type": "code",
        "outputId": "0f0547d3-7415-40f1-bd3a-1c84277e18f5",
        "colab": {
          "base_uri": "https://localhost:8080/",
          "height": 35
        }
      },
      "source": [
        "from numpy.linalg import inv\n",
        "from numpy.linalg import det\n",
        "u = np.ones(n)\n",
        "uT = np.transpose(u)\n",
        "\n",
        "CInv = inv(C)\n",
        "\n",
        "w = np.dot(u,CInv)/(u.dot(CInv).dot(uT))\n",
        "print(w)"
      ],
      "execution_count": 132,
      "outputs": [
        {
          "output_type": "stream",
          "text": [
            "[ 1.0847596  -0.47011831  0.08240948  0.29100983  0.0119394 ]\n"
          ],
          "name": "stdout"
        }
      ]
    },
    {
      "cell_type": "code",
      "metadata": {
        "id": "DdcSSGjLwYzR",
        "colab_type": "code",
        "outputId": "5a9bad36-e371-40eb-ad00-68c55282b244",
        "colab": {
          "base_uri": "https://localhost:8080/",
          "height": 35
        }
      },
      "source": [
        "#w = np.array([0.3,0.4])\n",
        "wT = np.transpose(w)\n",
        "x = np.dot(u,wT)\n",
        "print(\"jumlah w = \",x)"
      ],
      "execution_count": 133,
      "outputs": [
        {
          "output_type": "stream",
          "text": [
            "jumlah w =  1.0\n"
          ],
          "name": "stdout"
        }
      ]
    },
    {
      "cell_type": "code",
      "metadata": {
        "id": "uF0PiR3x5IyE",
        "colab_type": "code",
        "outputId": "8884f64d-7e95-4d8a-f234-9cdf3367aa3e",
        "colab": {
          "base_uri": "https://localhost:8080/",
          "height": 35
        }
      },
      "source": [
        "risk = w.dot(C).dot(wT)\n",
        "print(risk)"
      ],
      "execution_count": 134,
      "outputs": [
        {
          "output_type": "stream",
          "text": [
            "0.0002867544304543157\n"
          ],
          "name": "stdout"
        }
      ]
    },
    {
      "cell_type": "markdown",
      "metadata": {
        "id": "2lPrbuwozieS",
        "colab_type": "text"
      },
      "source": [
        "Expected return saham"
      ]
    },
    {
      "cell_type": "code",
      "metadata": {
        "id": "oNcz2cigzlnm",
        "colab_type": "code",
        "colab": {}
      },
      "source": [
        "import math\n",
        "def find_ud(saham) :\n",
        "  K = []\n",
        "  \n",
        "  \n",
        "  for i in range(len(saham)-1) :\n",
        "    x = (saham[i+1]-saham[i])/saham[i]\n",
        "    K.append(x)\n",
        "  up = []\n",
        "  down = []\n",
        "\n",
        "  for i in K :\n",
        "    if i > 0 :\n",
        "      x = 1\n",
        "      y = 0\n",
        "    else :\n",
        "      x = 0\n",
        "      y = 1\n",
        "    up.append(x)\n",
        "    down.append(y)\n",
        "  \n",
        "  x_up = 1\n",
        "  x_down = 1\n",
        "\n",
        "  sum_u = 0\n",
        "  sum_d = 0\n",
        "\n",
        "  for i in range(len(K)) :\n",
        "    x_up += K[i]*up[i]\n",
        "    sum_u += up[i]\n",
        "    x_down += K[i]*down[i]\n",
        "    sum_d += down[i]\n",
        "  \n",
        "  u = x_up/sum_u\n",
        "  d = x_up/sum_d\n",
        "\n",
        "  p = sum_u/(sum_u+sum_d)\n",
        "  q = 1-p\n",
        "\n",
        "  result = {\"u\" : u, \"d\" : d,\"p\":p,\"q\":q}\n",
        "  \n",
        "  return result"
      ],
      "execution_count": 0,
      "outputs": []
    },
    {
      "cell_type": "code",
      "metadata": {
        "id": "RQLQF8LY2RGa",
        "colab_type": "code",
        "colab": {
          "base_uri": "https://localhost:8080/",
          "height": 90
        },
        "outputId": "493a4137-aeb4-4bb2-9259-213e201e2281"
      },
      "source": [
        "list_saham = dataset[\"BKRKF\"]\n",
        "find_ud(list_saham)"
      ],
      "execution_count": 136,
      "outputs": [
        {
          "output_type": "execute_result",
          "data": {
            "text/plain": [
              "{'d': 0.057387452271193726,\n",
              " 'p': 0.4174757281553398,\n",
              " 'q': 0.5825242718446602,\n",
              " 'u': 0.08007551479701451}"
            ]
          },
          "metadata": {
            "tags": []
          },
          "execution_count": 136
        }
      ]
    },
    {
      "cell_type": "code",
      "metadata": {
        "id": "X3FpZ9MCFsy0",
        "colab_type": "code",
        "colab": {}
      },
      "source": [
        "def return_saham(df_saham) :\n",
        "  result = {}\n",
        "  for saham in df_saham :\n",
        "    x = find_ud(df_saham[saham])\n",
        "    exp = (x[\"u\"]*x[\"p\"])+(x[\"d\"]*x[\"q\"])\n",
        "    result[saham] = exp\n",
        "  return result"
      ],
      "execution_count": 0,
      "outputs": []
    },
    {
      "cell_type": "code",
      "metadata": {
        "id": "tL_NXG_aIZSq",
        "colab_type": "code",
        "colab": {}
      },
      "source": [
        "return_ = return_saham(dataset)\n",
        "m = []\n",
        "for saham in return_ :\n",
        "  m.append(return_[saham])"
      ],
      "execution_count": 0,
      "outputs": []
    },
    {
      "cell_type": "code",
      "metadata": {
        "id": "UIsKSW8z4Gac",
        "colab_type": "code",
        "outputId": "9edb94be-f6da-45d7-ce63-f81329777ab3",
        "colab": {
          "base_uri": "https://localhost:8080/",
          "height": 168
        }
      },
      "source": [
        "\n",
        "import pandas as pd\n",
        "\n",
        "m = np.array(m)\n",
        "print(m)\n",
        "EK = m.dot(wT)\n",
        "print(\"ekspektasi return = \", EK)\n",
        "risk = w.dot(C).dot(wT)\n",
        "print(\"risk = \",risk)\n",
        "\n",
        "portfolio=[round(x,4) for x in w]\n",
        "portfolio.append(EK)\n",
        "portfolio.append(risk)\n",
        "print(portfolio)\n",
        "\n",
        "df_port = pd.DataFrame([portfolio])\n",
        "column = kode_saham\n",
        "print(kode_saham)\n",
        "column.append(\"Expected Return\")\n",
        "column.append(\"Risiko\")\n",
        "df_port.columns = column\n",
        "df_port"
      ],
      "execution_count": 140,
      "outputs": [
        {
          "output_type": "stream",
          "text": [
            "[0.04988471 0.06685917 0.0321097  0.03255372 0.08804206]\n",
            "ekspektasi return =  0.03585195944661085\n",
            "risk =  0.0002867544304543157\n",
            "[1.0848, -0.4701, 0.0824, 0.291, 0.0119, 0.03585195944661085, 0.0002867544304543157]\n",
            "['PBCRF', 'BKRKF', 'PHJMF', 'PTAIF', 'TLKMF']\n"
          ],
          "name": "stdout"
        },
        {
          "output_type": "execute_result",
          "data": {
            "text/html": [
              "<div>\n",
              "<style scoped>\n",
              "    .dataframe tbody tr th:only-of-type {\n",
              "        vertical-align: middle;\n",
              "    }\n",
              "\n",
              "    .dataframe tbody tr th {\n",
              "        vertical-align: top;\n",
              "    }\n",
              "\n",
              "    .dataframe thead th {\n",
              "        text-align: right;\n",
              "    }\n",
              "</style>\n",
              "<table border=\"1\" class=\"dataframe\">\n",
              "  <thead>\n",
              "    <tr style=\"text-align: right;\">\n",
              "      <th></th>\n",
              "      <th>PBCRF</th>\n",
              "      <th>BKRKF</th>\n",
              "      <th>PHJMF</th>\n",
              "      <th>PTAIF</th>\n",
              "      <th>TLKMF</th>\n",
              "      <th>Expected Return</th>\n",
              "      <th>Risiko</th>\n",
              "    </tr>\n",
              "  </thead>\n",
              "  <tbody>\n",
              "    <tr>\n",
              "      <th>0</th>\n",
              "      <td>1.0848</td>\n",
              "      <td>-0.4701</td>\n",
              "      <td>0.0824</td>\n",
              "      <td>0.291</td>\n",
              "      <td>0.0119</td>\n",
              "      <td>0.035852</td>\n",
              "      <td>0.000287</td>\n",
              "    </tr>\n",
              "  </tbody>\n",
              "</table>\n",
              "</div>"
            ],
            "text/plain": [
              "    PBCRF   BKRKF   PHJMF  PTAIF   TLKMF  Expected Return    Risiko\n",
              "0  1.0848 -0.4701  0.0824  0.291  0.0119         0.035852  0.000287"
            ]
          },
          "metadata": {
            "tags": []
          },
          "execution_count": 140
        }
      ]
    },
    {
      "cell_type": "code",
      "metadata": {
        "id": "To2paLsJ5Eny",
        "colab_type": "code",
        "outputId": "c4aaefe5-3e71-40d1-cfe6-d21f44d611cc",
        "colab": {
          "base_uri": "https://localhost:8080/",
          "height": 243
        }
      },
      "source": [
        "#mT = np.transpose(m)\n",
        "e_r = 0.03\n",
        "matA = np.dot(u,(CInv))\n",
        "matB = np.dot(m,(CInv))\n",
        "mat1 = u.dot(CInv).dot(mT)\n",
        "mat2 = m.dot(CInv).dot(mT)\n",
        "mat3 = u.dot(CInv).dot(uT)\n",
        "mat4 = m.dot(CInv).dot(uT)\n",
        "\n",
        "A1 = np.array([[1,mat1],[e_r,mat2]]) \n",
        "A2 = np.array([[mat3,1],[mat4,e_r]])\n",
        "A3 = np.array([[mat3,mat1],[mat4,mat2]])\n",
        "\n",
        "det1 = det([[1,mat1],[e_r,mat2]])\n",
        "det2 = det([[mat3,1],[mat4,e_r]])\n",
        "det3 = det([[mat3,mat1],[mat4,mat2]])\n",
        "w_new = ((det1*matA)+(det2*matB))/det3\n",
        "print(w_new)"
      ],
      "execution_count": 90,
      "outputs": [
        {
          "output_type": "error",
          "ename": "NameError",
          "evalue": "ignored",
          "traceback": [
            "\u001b[0;31m---------------------------------------------------------------------------\u001b[0m",
            "\u001b[0;31mNameError\u001b[0m                                 Traceback (most recent call last)",
            "\u001b[0;32m<ipython-input-90-8d48aad38ef0>\u001b[0m in \u001b[0;36m<module>\u001b[0;34m()\u001b[0m\n\u001b[1;32m      2\u001b[0m \u001b[0mmatA\u001b[0m \u001b[0;34m=\u001b[0m \u001b[0mnp\u001b[0m\u001b[0;34m.\u001b[0m\u001b[0mdot\u001b[0m\u001b[0;34m(\u001b[0m\u001b[0mu\u001b[0m\u001b[0;34m,\u001b[0m\u001b[0;34m(\u001b[0m\u001b[0mCInv\u001b[0m\u001b[0;34m)\u001b[0m\u001b[0;34m)\u001b[0m\u001b[0;34m\u001b[0m\u001b[0;34m\u001b[0m\u001b[0m\n\u001b[1;32m      3\u001b[0m \u001b[0mmatB\u001b[0m \u001b[0;34m=\u001b[0m \u001b[0mnp\u001b[0m\u001b[0;34m.\u001b[0m\u001b[0mdot\u001b[0m\u001b[0;34m(\u001b[0m\u001b[0mm\u001b[0m\u001b[0;34m,\u001b[0m\u001b[0;34m(\u001b[0m\u001b[0mCInv\u001b[0m\u001b[0;34m)\u001b[0m\u001b[0;34m)\u001b[0m\u001b[0;34m\u001b[0m\u001b[0;34m\u001b[0m\u001b[0m\n\u001b[0;32m----> 4\u001b[0;31m \u001b[0mmat1\u001b[0m \u001b[0;34m=\u001b[0m \u001b[0mu\u001b[0m\u001b[0;34m.\u001b[0m\u001b[0mdot\u001b[0m\u001b[0;34m(\u001b[0m\u001b[0mCInv\u001b[0m\u001b[0;34m)\u001b[0m\u001b[0;34m.\u001b[0m\u001b[0mdot\u001b[0m\u001b[0;34m(\u001b[0m\u001b[0mmT\u001b[0m\u001b[0;34m)\u001b[0m\u001b[0;34m\u001b[0m\u001b[0;34m\u001b[0m\u001b[0m\n\u001b[0m\u001b[1;32m      5\u001b[0m \u001b[0mmat2\u001b[0m \u001b[0;34m=\u001b[0m \u001b[0mm\u001b[0m\u001b[0;34m.\u001b[0m\u001b[0mdot\u001b[0m\u001b[0;34m(\u001b[0m\u001b[0mCInv\u001b[0m\u001b[0;34m)\u001b[0m\u001b[0;34m.\u001b[0m\u001b[0mdot\u001b[0m\u001b[0;34m(\u001b[0m\u001b[0mmT\u001b[0m\u001b[0;34m)\u001b[0m\u001b[0;34m\u001b[0m\u001b[0;34m\u001b[0m\u001b[0m\n\u001b[1;32m      6\u001b[0m \u001b[0mmat3\u001b[0m \u001b[0;34m=\u001b[0m \u001b[0mu\u001b[0m\u001b[0;34m.\u001b[0m\u001b[0mdot\u001b[0m\u001b[0;34m(\u001b[0m\u001b[0mCInv\u001b[0m\u001b[0;34m)\u001b[0m\u001b[0;34m.\u001b[0m\u001b[0mdot\u001b[0m\u001b[0;34m(\u001b[0m\u001b[0muT\u001b[0m\u001b[0;34m)\u001b[0m\u001b[0;34m\u001b[0m\u001b[0;34m\u001b[0m\u001b[0m\n",
            "\u001b[0;31mNameError\u001b[0m: name 'mT' is not defined"
          ]
        }
      ]
    },
    {
      "cell_type": "code",
      "metadata": {
        "id": "6oGZHYqgxm12",
        "colab_type": "code",
        "outputId": "80b1a3fb-6f8d-4f5a-fad7-8c4381b284cd",
        "colab": {
          "base_uri": "https://localhost:8080/",
          "height": 53
        }
      },
      "source": [
        "import math\n",
        "\n",
        "\n",
        "\n",
        "sigma1_2 = 0.04\n",
        "sigma1 = math.sqrt(sigma1_2) \n",
        "\n",
        "#sigma1 = \n",
        "#sigma1_2 = pow(sigma1,2)\n",
        "\n",
        "sigma2_2 = 0.09 \n",
        "sigma2 = math.sqrt(sigma2_2)\n",
        "\n",
        "#sigma2 =\n",
        "#sigma2_2 = pow(sigma2,2)\n",
        "rho = 0.1\n",
        "\n",
        "x = (2*rho*sigma1*sigma2)\n",
        "w2 = (sigma1_2 - x)/(sigma1_2+sigma2_2-x)\n",
        "w1 = 1-w2\n",
        "\n",
        "w2 = round(w2,4) \n",
        "w1 = round(w1,4)\n",
        "\n",
        "sigmav_2 = (pow(w1,2)*sigma1_2) + (pow(w2,2)*sigma2_2) + (2*w1*w1*rho*sigma1*sigma2)\n",
        "sigmav_2 = round(sigmav_2,4)\n",
        "\n",
        "\n",
        "#short selling\n",
        "# asumsi diberikan sigma1 > sigma2\n",
        "\n",
        "if rho >= (sigma1/sigma2) :\n",
        "  print(\"short selling\")\n",
        "else :\n",
        "  print(\"tidak shoort selling\")\n",
        "print(w1,w2,sigmav_2)"
      ],
      "execution_count": 0,
      "outputs": [
        {
          "output_type": "stream",
          "text": [
            "tidak shoort selling\n",
            "0.7627 0.2373 0.0353\n"
          ],
          "name": "stdout"
        }
      ]
    },
    {
      "cell_type": "code",
      "metadata": {
        "id": "NCqE067ABbxc",
        "colab_type": "code",
        "outputId": "2f1b0328-c3cc-4b91-9f8d-6e715bd870fb",
        "colab": {
          "base_uri": "https://localhost:8080/",
          "height": 53
        }
      },
      "source": [
        "# risiko portfolio\n",
        "risk = w.dot(C).dot(wT)\n",
        "print(\"risk = \",risk)\n",
        "\n",
        "#Expetasi return\n",
        "ex_return = np.dot(m,wT)\n",
        "print(\"expektasi return = \", ex_return)"
      ],
      "execution_count": 0,
      "outputs": [
        {
          "output_type": "stream",
          "text": [
            "risk =  0.030203389830508482\n",
            "expektasi return =  0.025762711864406783\n"
          ],
          "name": "stdout"
        }
      ]
    },
    {
      "cell_type": "code",
      "metadata": {
        "id": "ekOPwZASCN68",
        "colab_type": "code",
        "outputId": "a78b3718-2525-43c7-e2b4-458552845b4e",
        "colab": {
          "base_uri": "https://localhost:8080/",
          "height": 243
        }
      },
      "source": [
        "std_dev = [1.5,0.5,1.2]\n",
        "m = np.array([0.08,0.1,0.06])\n",
        "n = len(std_deviasi)\n",
        "rho12 = 0.3\n",
        "rho23 = 0\n",
        "rho13 = -0.2"
      ],
      "execution_count": 0,
      "outputs": [
        {
          "output_type": "error",
          "ename": "NameError",
          "evalue": "ignored",
          "traceback": [
            "\u001b[0;31m---------------------------------------------------------------------------\u001b[0m",
            "\u001b[0;31mNameError\u001b[0m                                 Traceback (most recent call last)",
            "\u001b[0;32m<ipython-input-5-5ad2b1f5009f>\u001b[0m in \u001b[0;36m<module>\u001b[0;34m()\u001b[0m\n\u001b[1;32m      1\u001b[0m \u001b[0mstd_dev\u001b[0m \u001b[0;34m=\u001b[0m \u001b[0;34m[\u001b[0m\u001b[0;36m1.5\u001b[0m\u001b[0;34m,\u001b[0m\u001b[0;36m0.5\u001b[0m\u001b[0;34m,\u001b[0m\u001b[0;36m1.2\u001b[0m\u001b[0;34m]\u001b[0m\u001b[0;34m\u001b[0m\u001b[0;34m\u001b[0m\u001b[0m\n\u001b[1;32m      2\u001b[0m \u001b[0mm\u001b[0m \u001b[0;34m=\u001b[0m \u001b[0mnp\u001b[0m\u001b[0;34m.\u001b[0m\u001b[0marray\u001b[0m\u001b[0;34m(\u001b[0m\u001b[0;34m[\u001b[0m\u001b[0;36m0.08\u001b[0m\u001b[0;34m,\u001b[0m\u001b[0;36m0.1\u001b[0m\u001b[0;34m,\u001b[0m\u001b[0;36m0.06\u001b[0m\u001b[0;34m]\u001b[0m\u001b[0;34m)\u001b[0m\u001b[0;34m\u001b[0m\u001b[0;34m\u001b[0m\u001b[0m\n\u001b[0;32m----> 3\u001b[0;31m \u001b[0mn\u001b[0m \u001b[0;34m=\u001b[0m \u001b[0mlen\u001b[0m\u001b[0;34m(\u001b[0m\u001b[0mstd_deviasi\u001b[0m\u001b[0;34m)\u001b[0m\u001b[0;34m\u001b[0m\u001b[0;34m\u001b[0m\u001b[0m\n\u001b[0m\u001b[1;32m      4\u001b[0m \u001b[0mrho12\u001b[0m \u001b[0;34m=\u001b[0m \u001b[0;36m0.3\u001b[0m\u001b[0;34m\u001b[0m\u001b[0;34m\u001b[0m\u001b[0m\n\u001b[1;32m      5\u001b[0m \u001b[0mrho23\u001b[0m \u001b[0;34m=\u001b[0m \u001b[0;36m0\u001b[0m\u001b[0;34m\u001b[0m\u001b[0;34m\u001b[0m\u001b[0m\n",
            "\u001b[0;31mNameError\u001b[0m: name 'std_deviasi' is not defined"
          ]
        }
      ]
    },
    {
      "cell_type": "code",
      "metadata": {
        "id": "KXmvc8eIyp0O",
        "colab_type": "code",
        "colab": {}
      },
      "source": [
        "c11 = std_deviasi[0]**2\n",
        "c22 = std_deviasi[1]**2\n",
        "c33 = std_deviasi[2]**2\n",
        "\n",
        "c12 = rho12*std_dev[0]*std_dev[1]\n",
        "c21 = c12\n",
        "\n",
        "c23 = rho23*std_dev[1]*std_dev[2]\n",
        "c32 = c23\n",
        "\n",
        "c13 = rho13*std_dev[0]*std_dev[2]\n",
        "c31 = c13\n",
        "\n",
        "C_matrix = np.array([[c11,c12,c13],[c21,c22,c23],[c31,c32,c33]])\n",
        "print(C_matrix)"
      ],
      "execution_count": 0,
      "outputs": []
    },
    {
      "cell_type": "code",
      "metadata": {
        "id": "SRLaFi-vyw40",
        "colab_type": "code",
        "colab": {}
      },
      "source": [
        "from numpy.linalg import inv\n",
        "from numpy.linalg import det\n",
        "u = np.ones(n)\n",
        "uT = np.transpose(u)\n",
        "\n",
        "CInv = inv(C_matrix)\n",
        "\n",
        "w = np.dot(u,CInv)/(u.dot(CInv).dot(uT))\n",
        "#print(w)\n",
        "\n",
        "for i in range(len(w)) :\n",
        "  print(\"w\",i+1,\"=\",w[i])"
      ],
      "execution_count": 0,
      "outputs": []
    },
    {
      "cell_type": "code",
      "metadata": {
        "id": "pvxVxiYQ4xNL",
        "colab_type": "code",
        "colab": {}
      },
      "source": [
        "wT = np.transpose(w)\n",
        "eksp_return = m.dot(wT)\n",
        "min_risk = w.dot(C_matrix).dot(wT)\n",
        "print(\"ekspektasi return = \",eksp_return)\n",
        "print(\"risiko minimum = \", min_risk)"
      ],
      "execution_count": 0,
      "outputs": []
    },
    {
      "cell_type": "code",
      "metadata": {
        "id": "-SsTcx0BFf-N",
        "colab_type": "code",
        "colab": {}
      },
      "source": [
        "print(A1)\n",
        "print(A2)\n",
        "print(A3)"
      ],
      "execution_count": 0,
      "outputs": []
    },
    {
      "cell_type": "code",
      "metadata": {
        "id": "7gV1be93CVlY",
        "colab_type": "code",
        "colab": {}
      },
      "source": [
        "print(w_new)"
      ],
      "execution_count": 0,
      "outputs": []
    },
    {
      "cell_type": "code",
      "metadata": {
        "id": "J8f73DshEvaC",
        "colab_type": "code",
        "colab": {}
      },
      "source": [
        "for i in range(len(w_new)) :\n",
        "  print(\"w\",i+1,\"=\",w_new[i])"
      ],
      "execution_count": 0,
      "outputs": []
    },
    {
      "cell_type": "code",
      "metadata": {
        "id": "YZ_8hRS8Ez-e",
        "colab_type": "code",
        "colab": {}
      },
      "source": [
        ""
      ],
      "execution_count": 0,
      "outputs": []
    }
  ]
}